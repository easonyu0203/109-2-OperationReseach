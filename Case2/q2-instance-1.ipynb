{
 "cells": [
  {
   "cell_type": "markdown",
   "metadata": {},
   "source": [
    "# question 2"
   ]
  },
  {
   "cell_type": "code",
   "execution_count": 1,
   "metadata": {
    "tags": []
   },
   "outputs": [],
   "source": [
    "from os import path\n",
    "import os\n",
    "import pandas as pd\n",
    "import numpy as np\n",
    "import gurobipy as gb\n",
    "from gurobipy import GRB\n",
    "from gurobipy import quicksum\n",
    "import math\n",
    "from check_valid import check_feasibility_and_calculate_objective_value"
   ]
  },
  {
   "cell_type": "code",
   "execution_count": 2,
   "metadata": {
    "tags": []
   },
   "outputs": [],
   "source": [
    "work_dir = os.getcwd()\n",
    "instance_name = 's1'\n",
    "data_path = path.join(work_dir, 'data')\n",
    "data_file = path.join(data_path, f'{instance_name}.xlsx')"
   ]
  },
  {
   "cell_type": "code",
   "execution_count": 3,
   "metadata": {},
   "outputs": [],
   "source": [
    "from q2_ulti import *"
   ]
  },
  {
   "cell_type": "code",
   "execution_count": 4,
   "metadata": {},
   "outputs": [],
   "source": [
    "from time import time"
   ]
  },
  {
   "cell_type": "code",
   "execution_count": 5,
   "metadata": {
    "tags": []
   },
   "outputs": [
    {
     "output_type": "stream",
     "name": "stdout",
     "text": [
      "use: 0.3502328395843506\n"
     ]
    }
   ],
   "source": [
    "start = time()\n",
    "#get parameters\n",
    "(\n",
    "    N, M, K, V,\n",
    "    ContainerCap, ContainerCost,\n",
    "    Demand_ij,\n",
    "    Init_i,\n",
    "    BuyCost_i,\n",
    "    HoldCost_i,\n",
    "    Transit_ij,\n",
    "    ShipFixedCost_k,\n",
    "    ShipVarCost_ik,\n",
    "    CBM_i,\n",
    "    LostSaleCost_i,\n",
    "    BackOrderCost_i,\n",
    "    BackOrderProb_i,\n",
    "    VendorFixedCost_v,\n",
    "    MinOrder_i,\n",
    "    ConflictPair_alpha,\n",
    "    ProductVendor_i,\n",
    "    M_big,\n",
    ") = get_data(data_file)\n",
    "end = time()\n",
    "print(f'use: {end - start}')"
   ]
  },
  {
   "cell_type": "code",
   "execution_count": 6,
   "metadata": {},
   "outputs": [
    {
     "output_type": "stream",
     "name": "stdout",
     "text": [
      "Academic license - for non-commercial use only - expires 2021-05-20\n",
      "Using license file /Users/eason/gurobi.lic\n",
      "use: 0.1359422206878662\n"
     ]
    }
   ],
   "source": [
    "start = time()\n",
    "#model\n",
    "model = gb.Model(name=instance_name)\n",
    "#decision variable\n",
    "x = model.addVars(N, M, K, vtype=GRB.INTEGER,name='x')\n",
    "# Abin = model.addVars(M, K, vtype=GRB.BINARY, name='Abin')\n",
    "ContainerCnt = model.addVars(M, vtype=GRB.INTEGER, name='ContainerCnt')\n",
    "StockLevel = model.addVars(N, M, vtype=GRB.CONTINUOUS, name='StockLevel')\n",
    "Shortage = model.addVars(N, M, vtype=GRB.CONTINUOUS, name='Shortage')\n",
    "Bbin = model.addVars(N, M, vtype=GRB.BINARY, name='Bbin')\n",
    "# Cbin = model.addVars(N, M, vtype=GRB.BINARY, name='Cbin')\n",
    "# Dbin = model.addVars(V, M, vtype=GRB.BINARY, name='Dbin')\n",
    "end = time()\n",
    "print(f'use: {end - start}')"
   ]
  },
  {
   "cell_type": "code",
   "execution_count": 7,
   "metadata": {},
   "outputs": [
    {
     "output_type": "stream",
     "name": "stdout",
     "text": [
      "use: 0.0823371410369873\n"
     ]
    }
   ],
   "source": [
    "start = time()\n",
    "#Expr\n",
    "VolumeInOceanExpr_j = [\n",
    "gb.LinExpr(\n",
    "    quicksum(x[i,j,2] * CBM_i[i] for i in range(N))\n",
    ")    \n",
    "for j in range(M)]\n",
    "\n",
    "BackOrderCntExpr_ij = [\n",
    "    [\n",
    "        gb.LinExpr( Shortage[i,j] * BackOrderProb_i[i] )\n",
    "    for j in range(M)]\n",
    "for i in range(N)]\n",
    "\n",
    "LostSaleCntExpr_ij = [\n",
    "    [\n",
    "        gb.LinExpr( Shortage[i,j] * (1 - BackOrderProb_i[i]) )\n",
    "    for j in range(M)]\n",
    "for i in range(N)]\n",
    "\n",
    "#obj function\n",
    "TotalPurchaseCost = gb.LinExpr(\n",
    "    quicksum(\n",
    "        quicksum(\n",
    "            quicksum(\n",
    "                x[i,j,k] * BuyCost_i[i]\n",
    "            for i in range(N))\n",
    "        for j in range(M))\n",
    "    for k in range(K))\n",
    ")\n",
    "\n",
    "# TotalShipFixedCost = gb.LinExpr(\n",
    "#     quicksum(\n",
    "#         quicksum(\n",
    "#             Abin[j,k] * ShipFixedCost_k[k]\n",
    "#         for k in range(K))\n",
    "#     for j in range(M))\n",
    "# )\n",
    "\n",
    "TotalShipVarCost = gb.LinExpr(\n",
    "    quicksum(\n",
    "        quicksum(\n",
    "            quicksum(\n",
    "                x[i,j,k] * ShipVarCost_ik[i,k]\n",
    "            for k in range(K))\n",
    "        for j in range(M))\n",
    "    for i in range(N))\n",
    ")\n",
    "\n",
    "TotalHoldingCost = gb.LinExpr(\n",
    "    quicksum(\n",
    "        quicksum(\n",
    "            StockLevel[i,j] * HoldCost_i[i]\n",
    "        for i in range(N))\n",
    "    for j in range(M))\n",
    ")\n",
    "\n",
    "TotalContainerCost = gb.LinExpr(\n",
    "    quicksum(ContainerCnt[j] for j in range(M)) * ContainerCost\n",
    ")\n",
    "\n",
    "TotalBackOrderCost = gb.LinExpr(\n",
    "    quicksum(\n",
    "        quicksum(\n",
    "            BackOrderCntExpr_ij[i][j] * BackOrderCost_i[i]\n",
    "        for i in range(N))\n",
    "    for j in range(M))\n",
    ")\n",
    "\n",
    "TotalLostSaleCost = gb.LinExpr(\n",
    "    quicksum(\n",
    "        quicksum(\n",
    "            LostSaleCntExpr_ij[i][j] * LostSaleCost_i[i]\n",
    "        for i in range(N))\n",
    "    for j in range(M))\n",
    ")\n",
    "\n",
    "# TotalVendorFixedCost = gb.LinExpr(\n",
    "#     quicksum(\n",
    "#         quicksum(\n",
    "#             Dbin[v,j] * VendorFixedCost_v[v]\n",
    "#         for v in range(V))\n",
    "#     for j in range(M))\n",
    "# )\n",
    "\n",
    "end = time()\n",
    "print(f'use: {end - start}')"
   ]
  },
  {
   "cell_type": "code",
   "execution_count": 8,
   "metadata": {},
   "outputs": [
    {
     "output_type": "stream",
     "name": "stdout",
     "text": [
      "use: 0.02208399772644043\n"
     ]
    }
   ],
   "source": [
    "start = time()\n",
    "#set obj function\n",
    "model.setObjective(\n",
    "    TotalPurchaseCost +\n",
    "    # TotalShipFixedCost + \n",
    "    TotalShipVarCost + \n",
    "    TotalHoldingCost + \n",
    "    TotalContainerCost + \n",
    "    TotalBackOrderCost + \n",
    "    TotalLostSaleCost #+\n",
    "    # TotalVendorFixedCost\n",
    ")\n",
    "end = time()\n",
    "print(f'use: {end - start}')"
   ]
  },
  {
   "cell_type": "code",
   "execution_count": 9,
   "metadata": {},
   "outputs": [
    {
     "output_type": "stream",
     "name": "stdout",
     "text": [
      "use: 0.34853601455688477\n"
     ]
    }
   ],
   "source": [
    "start = time()\n",
    "#Contrain\n",
    "\n",
    "#let Abin to behave correctly\n",
    "# _ = model.addConstrs(\n",
    "#     quicksum(x[i,j,k] for i in range(N)) / M_big <= Abin[j,k]\n",
    "# for j in range(M)\n",
    "# for k in range(K))\n",
    "\n",
    "#let ContainerCnt to behave correctly\n",
    "_ = model.addConstrs(\n",
    "    VolumeInOceanExpr_j[j] / ContainerCap <= ContainerCnt[j]\n",
    "for j in range(M))\n",
    "\n",
    "#let Stocklevle & Shortage behave correctly\n",
    "_ = model.addConstrs(StockLevel[i,0] - Shortage[i,0] == Init_i[i] - Demand_ij[i][0] for i in range(N))\n",
    "_ = model.addConstrs(StockLevel[i,1] - Shortage[i,1] == StockLevel[i,0] + x[i,0,0] + Transit_ij[i][1] - Demand_ij[i][1] - Shortage[i,0] * BackOrderProb_i[i] for i in range(N))\n",
    "_ = model.addConstrs(StockLevel[i,2] - Shortage[i,2] == StockLevel[i,1] + x[i,1,0] + x[i,0,1] + Transit_ij[i][2] - Demand_ij[i][2] - Shortage[i,1] * BackOrderProb_i[i] for i in range(N))\n",
    "_ = model.addConstrs(StockLevel[i,j] - Shortage[i,j] == StockLevel[i,j-1] + x[i,j-1,0] + x[i,j-2,1] + x[i,j-3,2] - Demand_ij[i][j] - Shortage[i,j-1] * BackOrderProb_i[i] for i in range(N) for j in range(3,M))\n",
    "\n",
    "_ = model.addConstrs(StockLevel[i,j] <= M_big * (1-Bbin[i,j]) for i in range(N) for j in range(M))\n",
    "_ = model.addConstrs(Shortage[i,j] <= M_big * Bbin[i,j] for i in range(N) for j in range(M))\n",
    "\n",
    "#let Cbin behave correctly\n",
    "# _ = model.addConstrs(\n",
    "#     quicksum(x[i,j,k] for k in range(K)) / M_big <= Cbin[i,j]\n",
    "# for i in range(N)\n",
    "# for j in range(M))\n",
    "\n",
    "#let Dbin behave correctly\n",
    "# _ = model.addConstrs(\n",
    "#     quicksum(\n",
    "#         quicksum(x[i,j,k] for k in range(K))\n",
    "#     for i in range(N) if ProductVendor_i[i] == v) / M_big <= Dbin[v,j]\n",
    "# for v in range(V)\n",
    "# for j in range(M))\n",
    "\n",
    "#Minumin order Bound\n",
    "# _ = model.addConstrs(\n",
    "#     Cbin[i,j] * MinOrder_i[i] <= quicksum(x[i,j,k] for k in range(K))\n",
    "# for i in range(N)\n",
    "# for j in range(M))\n",
    "\n",
    "#conflict\n",
    "# _ = model.addConstrs(\n",
    "#     Cbin[a,j] + Cbin[b,j] <= 1\n",
    "# for j in range(M)\n",
    "# for a, b in ConflictPair_alpha)\n",
    "\n",
    "p1, p2 = zip(*ConflictPair_alpha)\n",
    "_ = model.addConstrs(\n",
    "    x[i,j,k] == 0\n",
    "    for i in p1\n",
    "    for j in range(0, M, 2) #even\n",
    "    for k in range(K)\n",
    ")\n",
    "\n",
    "_ = model.addConstrs(\n",
    "    x[i,j,k] == 0\n",
    "    for i in p2\n",
    "    for j in range(1, M, 2) #even\n",
    "    for k in range(K)\n",
    ")\n",
    "end = time()\n",
    "print(f'use: {end - start}')"
   ]
  },
  {
   "cell_type": "code",
   "execution_count": 10,
   "metadata": {},
   "outputs": [
    {
     "output_type": "stream",
     "name": "stdout",
     "text": [
      "Changed value of parameter MIPGap to 0.01\n",
      "   Prev: 0.0001  Min: 0.0  Max: inf  Default: 0.0001\n",
      "use: 0.0017898082733154297\n"
     ]
    }
   ],
   "source": [
    "start = time()\n",
    "#set gurobi param\n",
    "# model.Params.LogToConsole = 0\n",
    "model.Params.MIPGap = (1)/100\n",
    "end = time()\n",
    "print(f'use: {end - start}')"
   ]
  },
  {
   "cell_type": "code",
   "execution_count": 11,
   "metadata": {},
   "outputs": [
    {
     "output_type": "stream",
     "name": "stdout",
     "text": [
      "Gurobi Optimizer version 9.1.1 build v9.1.1rc0 (mac64)\n",
      "Thread count: 4 physical cores, 8 logical processors, using up to 8 threads\n",
      "Optimize a model with 8528 rows, 15626 columns and 31003 nonzeros\n",
      "Model fingerprint: 0xcde43b7b\n",
      "Variable types: 5200 continuous, 10426 integer (2600 binary)\n",
      "Coefficient statistics:\n",
      "  Matrix range     [1e-02, 4e+05]\n",
      "  Objective range  [1e+01, 2e+04]\n",
      "  Bounds range     [1e+00, 1e+00]\n",
      "  RHS range        [1e+00, 4e+05]\n",
      "Presolve removed 2164 rows and 5177 columns\n",
      "Presolve time: 0.14s\n",
      "Presolved: 6364 rows, 10449 columns, 22681 nonzeros\n",
      "Variable types: 4184 continuous, 6265 integer (2088 binary)\n",
      "Found heuristic solution: objective 1.383702e+11\n",
      "Found heuristic solution: objective 1.324920e+09\n",
      "\n",
      "Root relaxation: objective 1.308566e+09, 5080 iterations, 0.04 seconds\n",
      "\n",
      "    Nodes    |    Current Node    |     Objective Bounds      |     Work\n",
      " Expl Unexpl |  Obj  Depth IntInf | Incumbent    BestBd   Gap | It/Node Time\n",
      "\n",
      "     0     0 1.3086e+09    0   33 1.3249e+09 1.3086e+09  1.23%     -    0s\n",
      "H    0     0                    1.324835e+09 1.3086e+09  1.23%     -    0s\n",
      "H    0     0                    1.308611e+09 1.3086e+09  0.00%     -    0s\n",
      "\n",
      "Cutting planes:\n",
      "  Gomory: 31\n",
      "  MIR: 73\n",
      "\n",
      "Explored 1 nodes (5080 simplex iterations) in 0.41 seconds\n",
      "Thread count was 8 (of 8 available processors)\n",
      "\n",
      "Solution count 4: 1.30861e+09 1.32483e+09 1.32492e+09 1.3837e+11 \n",
      "\n",
      "Optimal solution found (tolerance 1.00e-02)\n",
      "Best objective 1.308610714242e+09, best bound 1.308566148161e+09, gap 0.0034%\n",
      "use: 0.42800307273864746\n"
     ]
    }
   ],
   "source": [
    "start = time()\n",
    "model.optimize()\n",
    "end = time()\n",
    "print(f'use: {end - start}')\n",
    "#Optimize a model with 48566 rows, 93626 columns and 182816 nonzeros"
   ]
  },
  {
   "cell_type": "code",
   "execution_count": 12,
   "metadata": {},
   "outputs": [
    {
     "output_type": "stream",
     "name": "stdout",
     "text": [
      "use: 0.02532815933227539\n"
     ]
    }
   ],
   "source": [
    "start = time()\n",
    "order = np.zeros((N,K,M), dtype=np.float32)\n",
    "for i in range(N):\n",
    "    for j in range(K):\n",
    "        for t in range(M):\n",
    "            order[i,j,t] = x[i,t,j].x\n",
    "end = time()\n",
    "print(f'use: {end - start}')"
   ]
  },
  {
   "source": [
    "Ocean_ship_var = (ContainerCost / (ContainerCap / CBM_i))\n"
   ],
   "cell_type": "code",
   "metadata": {},
   "execution_count": 18,
   "outputs": []
  },
  {
   "cell_type": "code",
   "execution_count": 14,
   "metadata": {},
   "outputs": [
    {
     "output_type": "stream",
     "name": "stdout",
     "text": [
      "use: 0.009691715240478516\n"
     ]
    }
   ],
   "source": [
    "start = time()\n",
    "#post order\n",
    "month_order = np.sum(order, axis=1)\n",
    "surpus_min = ((month_order.transpose() - MinOrder_i).transpose() >= 0)\n",
    "is_zero = (month_order == 0)\n",
    "not_valid_min_bound = np.logical_not(surpus_min | is_zero)\n",
    "not_valid_min_bound_indices =  not_valid_min_bound.nonzero()\n",
    "for i, t in zip(*not_valid_min_bound_indices):\n",
    "    if sum(order[i,j,t] for j in range(K)) >= MinOrder_i[i]:\n",
    "        continue\n",
    "    post = False\n",
    "    if i in ConflictPair_alpha[0] or i in ConflictPair_alpha[1]:\n",
    "        if order[i,0,t] != 0 and order[i,1,t] != 0:\n",
    "            if month_order[i,t+2] != 0:\n",
    "                order[i,0,t+2] += order[i,2,t]\n",
    "                order[i,2,t] = 0\n",
    "                post = True\n",
    "    else:\n",
    "        if order[i,0,t] != 0: #can't post\n",
    "            continue\n",
    "        if month_order[i,t+1] != 0: #under min bound or over min bound\n",
    "            order[i,0,t+1] += order[i,1,t]\n",
    "            order[i,1,t+1] += order[i,2,t]\n",
    "            order[i,1,t], order[i,2,t] = 0, 0\n",
    "            post = True\n",
    "        else:\n",
    "            if order[i,1,t] != 0: #can't post\n",
    "                continue\n",
    "            if month_order[i,t+2] != 0:\n",
    "                order[i,0,t+2] += order[i,2,t]\n",
    "                order[i,2,t] = 0\n",
    "                post = True\n",
    "\n",
    "#pre order\n",
    "month_order = np.sum(order, axis=1)\n",
    "surpus_min = ((month_order.transpose() - MinOrder_i).transpose() >= 0)\n",
    "is_zero = (month_order == 0)\n",
    "not_valid_min_bound = np.logical_not(surpus_min | is_zero)\n",
    "not_valid_min_bound_indices = (np.flip(p, axis=0) for p in not_valid_min_bound.nonzero())\n",
    "for i, t in zip(*not_valid_min_bound_indices): #from back to begin\n",
    "    if sum(order[i,j,t] for j in range(K)) >= MinOrder_i[i]:\n",
    "        continue\n",
    "    if i in ConflictPair_alpha[0] or i in ConflictPair_alpha[1]:\n",
    "        if t - 2 >= 0 and month_order[i,t-2] != 0:\n",
    "            order[i,2,t-2] += order[i,0,t] + order[i,1,t] + order[i,2,t]\n",
    "            order[i,0,t], order[i,1,t], order[i,2,t] = 0,0,0\n",
    "    else:\n",
    "        if t - 1 >= 0 and month_order[i,t-1] != 0:\n",
    "            order[i,1,t-1] += order[i,0,t]\n",
    "            if Ocean_ship_var[i] > ShipVarCost_ik[i,1] + HoldCost_i[i]:\n",
    "                order[i,1,t-1] += (order[i,1,t] + order[i,2,t])\n",
    "            else:\n",
    "                order[i,2,t-1] += (order[i,1,t] + order[i,2,t])\n",
    "            order[i,0,t], order[i,1,t], order[i,2,t] = 0,0,0\n",
    "        elif t - 2 >= 0 and month_order[i,t-2] != 0:\n",
    "            if Ocean_ship_var[i] > ShipVarCost_ik[i,1] + HoldCost_i[i]:\n",
    "                order[i,1,t-2] += (order[i,0,t] + order[i,1,t] + order[i,2,t])\n",
    "            else:\n",
    "                order[i,2,t-2] += (order[i,0,t] + order[i,1,t] + order[i,2,t])\n",
    "            order[i,0,t], order[i,1,t], order[i,2,t] = 0,0,0\n",
    "\n",
    "#move some order to front\n",
    "month_order = np.sum(order, axis=1)\n",
    "surpus_min = ((month_order.transpose() - MinOrder_i).transpose() >= 0)\n",
    "is_zero = (month_order == 0)\n",
    "not_valid_min_bound = np.logical_not(surpus_min | is_zero)\n",
    "not_valid_min_bound_indices =  not_valid_min_bound.nonzero()\n",
    "for i, t in zip(*not_valid_min_bound_indices):\n",
    "    need = MinOrder_i[i] - sum(order[i,j,t] for j in range(K))\n",
    "    target_t = t\n",
    "    while need > 0:\n",
    "        target_t += 1\n",
    "        if target_t < M:\n",
    "            can_offer = sum(order[i,j,target_t] for j in range(K)) - MinOrder_i[i]\n",
    "            if can_offer > 0:\n",
    "                if target_t == t + 1:\n",
    "                    #use 0,1,2 delivery\n",
    "                    if need >= can_offer: #take all\n",
    "                        if order[i,0,target_t] >= can_offer:\n",
    "                            order[i,0,target_t], order[i,1,t], can_offer = order[i,0,target_t] - can_offer, order[i,1,t] + can_offer, 0\n",
    "                        elif order[i,0,target_t] + order[i,1,target_t] >= can_offer:\n",
    "                            order[i,0,target_t], order[i,1,t], can_offer = 0, order[i,1,t] + order[i,0,target_t], can_offer - order[i,0,target_t]\n",
    "                            order[i,1,target_t], order[i,2,t], can_offer = order[i,1,target_t] - can_offer, order[i,2,t] + can_offer, 0\n",
    "                        else:\n",
    "                            order[i,0,target_t], order[i,1,t], can_offer = 0, order[i,1,t] + order[i,0,target_t], can_offer - order[i,0,target_t]\n",
    "                            order[i,1,target_t], order[i,2,t], can_offer = 0, order[i,2,t] + order[i,1,target_t], can_offer - order[i,1,target_t]\n",
    "                            order[i,2,target_t], order[i,2,t], can_offer = order[i,2,target_t] - can_offer, order[i,2,t] + can_offer, 0\n",
    "\n",
    "                    else:\n",
    "                        if order[i,0,target_t] >= need:\n",
    "                            order[i,0,target_t], order[i,1,t], need = order[i,0,target_t] - need, order[i,1,t] + need, 0\n",
    "                        elif order[i,0,target_t] + order[i,1,target_t] >= need:\n",
    "                            order[i,0,target_t], order[i,1,t], need = 0, order[i,1,t] + order[i,0,target_t], need - order[i,0,target_t]\n",
    "                            order[i,1,target_t], order[i,2,t], need = order[i,1,target_t] - need, order[i,2,t] + need, 0\n",
    "                        else: \n",
    "                            order[i,0,target_t], order[i,1,t], need = 0, order[i,1,t] + order[i,0,target_t], need - order[i,0,target_t]\n",
    "                            order[i,1,target_t], order[i,2,t], need = 0, order[i,2,t] + order[i,1,target_t], need - order[i,1,target_t]\n",
    "                            order[i,2,target_t], order[i,2,t], need = order[i,2,target_t] - need, order[i,2,t] + need, 0\n",
    "                else:\n",
    "                    if need >= can_offer: #take all\n",
    "                        if order[i,0,target_t] >= can_offer:\n",
    "                            order[i,0,target_t], order[i,2,t], can_offer = order[i,0,target_t] - can_offer, order[i,2,t] + can_offer, 0\n",
    "                        elif order[i,0,target_t] + order[i,1,target_t] >= can_offer:\n",
    "                            order[i,0,target_t], order[i,2,t], can_offer = 0, order[i,2,t] + order[i,0,target_t], can_offer - order[i,0,target_t]\n",
    "                            order[i,1,target_t], order[i,2,t], can_offer = order[i,1,target_t] - can_offer, order[i,2,t] + can_offer, 0\n",
    "                        else:\n",
    "                            order[i,0,target_t], order[i,2,t], can_offer = 0, order[i,2,t] + order[i,0,target_t], can_offer - order[i,0,target_t]\n",
    "                            order[i,1,target_t], order[i,2,t], can_offer = 0, order[i,2,t] + order[i,1,target_t], can_offer - order[i,1,target_t]\n",
    "                            order[i,2,target_t], order[i,2,t], can_offer = order[i,2,target_t] - can_offer, order[i,2,t] + can_offer, 0\n",
    "\n",
    "                    else:\n",
    "                        if order[i,0,target_t] >= need:\n",
    "                            order[i,0,target_t], order[i,2,t], need = order[i,0,target_t] - need, order[i,2,t] + need, 0\n",
    "                        elif order[i,0,target_t] + order[i,1,target_t] >= need:\n",
    "                            order[i,0,target_t], order[i,2,t], need = 0, order[i,2,t] + order[i,0,target_t], need - order[i,0,target_t]\n",
    "                            order[i,1,target_t], order[i,2,t], need = order[i,1,target_t] - need, order[i,2,t] + need, 0\n",
    "                        else: \n",
    "                            order[i,0,target_t], order[i,2,t], need = 0, order[i,2,t] + order[i,0,target_t], need - order[i,0,target_t]\n",
    "                            order[i,1,target_t], order[i,2,t], need = 0, order[i,2,t] + order[i,1,target_t], need - order[i,1,target_t]\n",
    "                            order[i,2,target_t], order[i,2,t], need = order[i,2,target_t] - need, order[i,2,t] + need, 0\n",
    "        else:\n",
    "            order[i,2,t] += need\n",
    "            need = 0\n",
    "end = time()\n",
    "print(f'use: {end - start}')"
   ]
  },
  {
   "cell_type": "code",
   "execution_count": 15,
   "metadata": {},
   "outputs": [
    {
     "output_type": "stream",
     "name": "stdout",
     "text": [
      "TotalPurchaseCost    :1222896500.00\nTotalShipVarCost     :12953748.00\nTotalHoldingCost     :12581830.60\nTotalContainerCost   :210000.00\nTotalBackOrderCost   :17323408.03\nTotalLostSaleCost    :42645227.62\nobjective-value      :1308610714.24\n"
     ]
    }
   ],
   "source": [
    "#even odd to avoid conflict\n",
    "print(f'TotalPurchaseCost    :{TotalPurchaseCost.getValue():.2f}')\n",
    "# print(f'TotalShipFixedCost   :{TotalShipFixedCost.getValue():.2f}')\n",
    "print(f'TotalShipVarCost     :{TotalShipVarCost.getValue():.2f}')\n",
    "print(f'TotalHoldingCost     :{TotalHoldingCost.getValue():.2f}')\n",
    "print(f'TotalContainerCost   :{TotalContainerCost.getValue():.2f}')\n",
    "print(f'TotalBackOrderCost   :{TotalBackOrderCost.getValue():.2f}')\n",
    "print(f'TotalLostSaleCost    :{TotalLostSaleCost.getValue():.2f}')\n",
    "# print(f'TotalVendorFixedCost :{TotalVendorFixedCost.getValue():.2f}')\n",
    "print(f'objective-value      :{model.ObjVal:.2f}')"
   ]
  },
  {
   "cell_type": "code",
   "execution_count": 16,
   "metadata": {},
   "outputs": [
    {
     "output_type": "stream",
     "name": "stdout",
     "text": [
      "[valid]\n"
     ]
    },
    {
     "output_type": "execute_result",
     "data": {
      "text/plain": [
       "(True, 1308750057.242312)"
      ]
     },
     "metadata": {},
     "execution_count": 16
    }
   ],
   "source": [
    "out = np.zeros((N+1,K+1,M+1), dtype=np.float32)\n",
    "out[1:,1:,1:] = order\n",
    "check_feasibility_and_calculate_objective_value(f'./data/{instance_name}.xlsx', out)"
   ]
  },
  {
   "cell_type": "code",
   "execution_count": 17,
   "metadata": {},
   "outputs": [],
   "source": [
    "#s1\n",
    "optimal = [1292779280.02, 172151187.52, 580454537.13, 922516036.11, 1153432873.11]\n",
    "heuristic = [1308750057.242312, 177023302.44902322, 583411445.5491903, 990347203.3452796, 1166177383.1972764]"
   ]
  },
  {
   "cell_type": "code",
   "execution_count": 18,
   "metadata": {},
   "outputs": [
    {
     "output_type": "stream",
     "name": "stdout",
     "text": [
      "Gap\ns1: 1.220%\ns2: 2.752%\ns3: 0.507%\ns4: 6.849%\ns5: 1.093%\n"
     ]
    }
   ],
   "source": [
    "print('Gap')\n",
    "for i, (o, h) in enumerate(zip(optimal, heuristic), start=1):\n",
    "    print(f's{i}: {(1-o/h)*100:.3f}%')"
   ]
  },
  {
   "cell_type": "code",
   "execution_count": 113,
   "metadata": {},
   "outputs": [],
   "source": [
    "os.makedirs('solution', exist_ok=True)\n",
    "\n",
    "solution_file_path = path.join(work_dir, 'solution', 'q1.xlsx')"
   ]
  },
  {
   "cell_type": "code",
   "execution_count": 114,
   "metadata": {},
   "outputs": [
    {
     "output_type": "stream",
     "name": "stdout",
     "text": [
      "Express delivery\n"
     ]
    },
    {
     "output_type": "display_data",
     "data": {
      "text/plain": "     0   1   2   3   4   5   6   7    8   9   ...  16  17  18  19   20   21  \\\n0     0   0   0   0   0   0   0   0    0   0  ...   0   0   0   0    0    0   \n1     0   0   0   0   0   0   0   0    0   0  ...   0   0   0   0    0    0   \n2     0   0   0   0   0   0   0   0    0   0  ...   0   0   0   0    0    0   \n3     0   0   0   0   0   0   0   0    0   0  ...   0   0   0   0    0    0   \n4     0   0   0   7   0   0   0   4    0   0  ...   0   0   0   0    0    0   \n..  ...  ..  ..  ..  ..  ..  ..  ..  ...  ..  ...  ..  ..  ..  ..  ...  ...   \n95    0   0   0   8   0  44   0  70  163   0  ...   0   0   0  70  108  102   \n96    0   0   0   0   0   0   0   0    0   0  ...   0   0   0   0    0    0   \n97    0   0   0   0   0   0   0   0    0   0  ...   0   0   0   0    0    0   \n98    0   0   0   0   0   0   0   0    0   0  ...   0   0   0   0    0    0   \n99  198   0   0   0   0   0   0   0    0   0  ...   0   0   0   0    0    0   \n\n    22  23  24  25  \n0    0   0   0   0  \n1    0   0   0   0  \n2    0   0   0   0  \n3    0   0   0   0  \n4    0   0   0   0  \n..  ..  ..  ..  ..  \n95   0   0   0   0  \n96   0   0   0   0  \n97   0   0   0   0  \n98   0   0   0   0  \n99   0   0   0   0  \n\n[100 rows x 26 columns]",
      "text/html": "<div>\n<style scoped>\n    .dataframe tbody tr th:only-of-type {\n        vertical-align: middle;\n    }\n\n    .dataframe tbody tr th {\n        vertical-align: top;\n    }\n\n    .dataframe thead th {\n        text-align: right;\n    }\n</style>\n<table border=\"1\" class=\"dataframe\">\n  <thead>\n    <tr style=\"text-align: right;\">\n      <th></th>\n      <th>0</th>\n      <th>1</th>\n      <th>2</th>\n      <th>3</th>\n      <th>4</th>\n      <th>5</th>\n      <th>6</th>\n      <th>7</th>\n      <th>8</th>\n      <th>9</th>\n      <th>...</th>\n      <th>16</th>\n      <th>17</th>\n      <th>18</th>\n      <th>19</th>\n      <th>20</th>\n      <th>21</th>\n      <th>22</th>\n      <th>23</th>\n      <th>24</th>\n      <th>25</th>\n    </tr>\n  </thead>\n  <tbody>\n    <tr>\n      <th>0</th>\n      <td>0</td>\n      <td>0</td>\n      <td>0</td>\n      <td>0</td>\n      <td>0</td>\n      <td>0</td>\n      <td>0</td>\n      <td>0</td>\n      <td>0</td>\n      <td>0</td>\n      <td>...</td>\n      <td>0</td>\n      <td>0</td>\n      <td>0</td>\n      <td>0</td>\n      <td>0</td>\n      <td>0</td>\n      <td>0</td>\n      <td>0</td>\n      <td>0</td>\n      <td>0</td>\n    </tr>\n    <tr>\n      <th>1</th>\n      <td>0</td>\n      <td>0</td>\n      <td>0</td>\n      <td>0</td>\n      <td>0</td>\n      <td>0</td>\n      <td>0</td>\n      <td>0</td>\n      <td>0</td>\n      <td>0</td>\n      <td>...</td>\n      <td>0</td>\n      <td>0</td>\n      <td>0</td>\n      <td>0</td>\n      <td>0</td>\n      <td>0</td>\n      <td>0</td>\n      <td>0</td>\n      <td>0</td>\n      <td>0</td>\n    </tr>\n    <tr>\n      <th>2</th>\n      <td>0</td>\n      <td>0</td>\n      <td>0</td>\n      <td>0</td>\n      <td>0</td>\n      <td>0</td>\n      <td>0</td>\n      <td>0</td>\n      <td>0</td>\n      <td>0</td>\n      <td>...</td>\n      <td>0</td>\n      <td>0</td>\n      <td>0</td>\n      <td>0</td>\n      <td>0</td>\n      <td>0</td>\n      <td>0</td>\n      <td>0</td>\n      <td>0</td>\n      <td>0</td>\n    </tr>\n    <tr>\n      <th>3</th>\n      <td>0</td>\n      <td>0</td>\n      <td>0</td>\n      <td>0</td>\n      <td>0</td>\n      <td>0</td>\n      <td>0</td>\n      <td>0</td>\n      <td>0</td>\n      <td>0</td>\n      <td>...</td>\n      <td>0</td>\n      <td>0</td>\n      <td>0</td>\n      <td>0</td>\n      <td>0</td>\n      <td>0</td>\n      <td>0</td>\n      <td>0</td>\n      <td>0</td>\n      <td>0</td>\n    </tr>\n    <tr>\n      <th>4</th>\n      <td>0</td>\n      <td>0</td>\n      <td>0</td>\n      <td>7</td>\n      <td>0</td>\n      <td>0</td>\n      <td>0</td>\n      <td>4</td>\n      <td>0</td>\n      <td>0</td>\n      <td>...</td>\n      <td>0</td>\n      <td>0</td>\n      <td>0</td>\n      <td>0</td>\n      <td>0</td>\n      <td>0</td>\n      <td>0</td>\n      <td>0</td>\n      <td>0</td>\n      <td>0</td>\n    </tr>\n    <tr>\n      <th>...</th>\n      <td>...</td>\n      <td>...</td>\n      <td>...</td>\n      <td>...</td>\n      <td>...</td>\n      <td>...</td>\n      <td>...</td>\n      <td>...</td>\n      <td>...</td>\n      <td>...</td>\n      <td>...</td>\n      <td>...</td>\n      <td>...</td>\n      <td>...</td>\n      <td>...</td>\n      <td>...</td>\n      <td>...</td>\n      <td>...</td>\n      <td>...</td>\n      <td>...</td>\n      <td>...</td>\n    </tr>\n    <tr>\n      <th>95</th>\n      <td>0</td>\n      <td>0</td>\n      <td>0</td>\n      <td>8</td>\n      <td>0</td>\n      <td>44</td>\n      <td>0</td>\n      <td>70</td>\n      <td>163</td>\n      <td>0</td>\n      <td>...</td>\n      <td>0</td>\n      <td>0</td>\n      <td>0</td>\n      <td>70</td>\n      <td>108</td>\n      <td>102</td>\n      <td>0</td>\n      <td>0</td>\n      <td>0</td>\n      <td>0</td>\n    </tr>\n    <tr>\n      <th>96</th>\n      <td>0</td>\n      <td>0</td>\n      <td>0</td>\n      <td>0</td>\n      <td>0</td>\n      <td>0</td>\n      <td>0</td>\n      <td>0</td>\n      <td>0</td>\n      <td>0</td>\n      <td>...</td>\n      <td>0</td>\n      <td>0</td>\n      <td>0</td>\n      <td>0</td>\n      <td>0</td>\n      <td>0</td>\n      <td>0</td>\n      <td>0</td>\n      <td>0</td>\n      <td>0</td>\n    </tr>\n    <tr>\n      <th>97</th>\n      <td>0</td>\n      <td>0</td>\n      <td>0</td>\n      <td>0</td>\n      <td>0</td>\n      <td>0</td>\n      <td>0</td>\n      <td>0</td>\n      <td>0</td>\n      <td>0</td>\n      <td>...</td>\n      <td>0</td>\n      <td>0</td>\n      <td>0</td>\n      <td>0</td>\n      <td>0</td>\n      <td>0</td>\n      <td>0</td>\n      <td>0</td>\n      <td>0</td>\n      <td>0</td>\n    </tr>\n    <tr>\n      <th>98</th>\n      <td>0</td>\n      <td>0</td>\n      <td>0</td>\n      <td>0</td>\n      <td>0</td>\n      <td>0</td>\n      <td>0</td>\n      <td>0</td>\n      <td>0</td>\n      <td>0</td>\n      <td>...</td>\n      <td>0</td>\n      <td>0</td>\n      <td>0</td>\n      <td>0</td>\n      <td>0</td>\n      <td>0</td>\n      <td>0</td>\n      <td>0</td>\n      <td>0</td>\n      <td>0</td>\n    </tr>\n    <tr>\n      <th>99</th>\n      <td>198</td>\n      <td>0</td>\n      <td>0</td>\n      <td>0</td>\n      <td>0</td>\n      <td>0</td>\n      <td>0</td>\n      <td>0</td>\n      <td>0</td>\n      <td>0</td>\n      <td>...</td>\n      <td>0</td>\n      <td>0</td>\n      <td>0</td>\n      <td>0</td>\n      <td>0</td>\n      <td>0</td>\n      <td>0</td>\n      <td>0</td>\n      <td>0</td>\n      <td>0</td>\n    </tr>\n  </tbody>\n</table>\n<p>100 rows × 26 columns</p>\n</div>"
     },
     "metadata": {}
    },
    {
     "output_type": "stream",
     "name": "stdout",
     "text": [
      "Air frieght\n"
     ]
    },
    {
     "output_type": "display_data",
     "data": {
      "text/plain": "     0    1    2    3    4    5    6    7    8    9   ...   16   17   18   19  \\\n0     0    0    0   38   79   12  151  165  142  163  ...   49    0   67  148   \n1     0    0    0    0    0    0   23    0   13    0  ...    0    4    0    0   \n2     0    0   82  200   66  199  101    0  270  220  ...    0  196   61    0   \n3     0    0   97  155  153   75  108  139   97  182  ...    0    0    0    0   \n4     0    0   60   53   67   71  158   56  203    0  ...    0    0  193    0   \n..  ...  ...  ...  ...  ...  ...  ...  ...  ...  ...  ...  ...  ...  ...  ...   \n95    0    0    0  113   70  156  143    0  125  138  ...  197  251  132    0   \n96    0    0    0    0    0  190   55    0  100  264  ...  136  144   52  101   \n97    0    0    0    0    0    0    0    0    0    0  ...    0  292   30    0   \n98    0    0   52  143   62  129   67  137   10  192  ...   28   38   63  115   \n99  154  194  122  149   52  282  116  159   99  196  ...   19  322  120  277   \n\n     20   21   22   23  24  25  \n0   118  166   66    0   0   0  \n1     0    0    0    0   0   0  \n2   174  332    0  187   0   0  \n3     0    0    0    0   0   0  \n4     0    0    0    0   0   0  \n..  ...  ...  ...  ...  ..  ..  \n95    0  136  255  283   0   0  \n96  145  317   66  217   0   0  \n97  147  178    0    0   0   0  \n98  151   74    0   10   0   0  \n99  116  259    0  255   0   0  \n\n[100 rows x 26 columns]",
      "text/html": "<div>\n<style scoped>\n    .dataframe tbody tr th:only-of-type {\n        vertical-align: middle;\n    }\n\n    .dataframe tbody tr th {\n        vertical-align: top;\n    }\n\n    .dataframe thead th {\n        text-align: right;\n    }\n</style>\n<table border=\"1\" class=\"dataframe\">\n  <thead>\n    <tr style=\"text-align: right;\">\n      <th></th>\n      <th>0</th>\n      <th>1</th>\n      <th>2</th>\n      <th>3</th>\n      <th>4</th>\n      <th>5</th>\n      <th>6</th>\n      <th>7</th>\n      <th>8</th>\n      <th>9</th>\n      <th>...</th>\n      <th>16</th>\n      <th>17</th>\n      <th>18</th>\n      <th>19</th>\n      <th>20</th>\n      <th>21</th>\n      <th>22</th>\n      <th>23</th>\n      <th>24</th>\n      <th>25</th>\n    </tr>\n  </thead>\n  <tbody>\n    <tr>\n      <th>0</th>\n      <td>0</td>\n      <td>0</td>\n      <td>0</td>\n      <td>38</td>\n      <td>79</td>\n      <td>12</td>\n      <td>151</td>\n      <td>165</td>\n      <td>142</td>\n      <td>163</td>\n      <td>...</td>\n      <td>49</td>\n      <td>0</td>\n      <td>67</td>\n      <td>148</td>\n      <td>118</td>\n      <td>166</td>\n      <td>66</td>\n      <td>0</td>\n      <td>0</td>\n      <td>0</td>\n    </tr>\n    <tr>\n      <th>1</th>\n      <td>0</td>\n      <td>0</td>\n      <td>0</td>\n      <td>0</td>\n      <td>0</td>\n      <td>0</td>\n      <td>23</td>\n      <td>0</td>\n      <td>13</td>\n      <td>0</td>\n      <td>...</td>\n      <td>0</td>\n      <td>4</td>\n      <td>0</td>\n      <td>0</td>\n      <td>0</td>\n      <td>0</td>\n      <td>0</td>\n      <td>0</td>\n      <td>0</td>\n      <td>0</td>\n    </tr>\n    <tr>\n      <th>2</th>\n      <td>0</td>\n      <td>0</td>\n      <td>82</td>\n      <td>200</td>\n      <td>66</td>\n      <td>199</td>\n      <td>101</td>\n      <td>0</td>\n      <td>270</td>\n      <td>220</td>\n      <td>...</td>\n      <td>0</td>\n      <td>196</td>\n      <td>61</td>\n      <td>0</td>\n      <td>174</td>\n      <td>332</td>\n      <td>0</td>\n      <td>187</td>\n      <td>0</td>\n      <td>0</td>\n    </tr>\n    <tr>\n      <th>3</th>\n      <td>0</td>\n      <td>0</td>\n      <td>97</td>\n      <td>155</td>\n      <td>153</td>\n      <td>75</td>\n      <td>108</td>\n      <td>139</td>\n      <td>97</td>\n      <td>182</td>\n      <td>...</td>\n      <td>0</td>\n      <td>0</td>\n      <td>0</td>\n      <td>0</td>\n      <td>0</td>\n      <td>0</td>\n      <td>0</td>\n      <td>0</td>\n      <td>0</td>\n      <td>0</td>\n    </tr>\n    <tr>\n      <th>4</th>\n      <td>0</td>\n      <td>0</td>\n      <td>60</td>\n      <td>53</td>\n      <td>67</td>\n      <td>71</td>\n      <td>158</td>\n      <td>56</td>\n      <td>203</td>\n      <td>0</td>\n      <td>...</td>\n      <td>0</td>\n      <td>0</td>\n      <td>193</td>\n      <td>0</td>\n      <td>0</td>\n      <td>0</td>\n      <td>0</td>\n      <td>0</td>\n      <td>0</td>\n      <td>0</td>\n    </tr>\n    <tr>\n      <th>...</th>\n      <td>...</td>\n      <td>...</td>\n      <td>...</td>\n      <td>...</td>\n      <td>...</td>\n      <td>...</td>\n      <td>...</td>\n      <td>...</td>\n      <td>...</td>\n      <td>...</td>\n      <td>...</td>\n      <td>...</td>\n      <td>...</td>\n      <td>...</td>\n      <td>...</td>\n      <td>...</td>\n      <td>...</td>\n      <td>...</td>\n      <td>...</td>\n      <td>...</td>\n      <td>...</td>\n    </tr>\n    <tr>\n      <th>95</th>\n      <td>0</td>\n      <td>0</td>\n      <td>0</td>\n      <td>113</td>\n      <td>70</td>\n      <td>156</td>\n      <td>143</td>\n      <td>0</td>\n      <td>125</td>\n      <td>138</td>\n      <td>...</td>\n      <td>197</td>\n      <td>251</td>\n      <td>132</td>\n      <td>0</td>\n      <td>0</td>\n      <td>136</td>\n      <td>255</td>\n      <td>283</td>\n      <td>0</td>\n      <td>0</td>\n    </tr>\n    <tr>\n      <th>96</th>\n      <td>0</td>\n      <td>0</td>\n      <td>0</td>\n      <td>0</td>\n      <td>0</td>\n      <td>190</td>\n      <td>55</td>\n      <td>0</td>\n      <td>100</td>\n      <td>264</td>\n      <td>...</td>\n      <td>136</td>\n      <td>144</td>\n      <td>52</td>\n      <td>101</td>\n      <td>145</td>\n      <td>317</td>\n      <td>66</td>\n      <td>217</td>\n      <td>0</td>\n      <td>0</td>\n    </tr>\n    <tr>\n      <th>97</th>\n      <td>0</td>\n      <td>0</td>\n      <td>0</td>\n      <td>0</td>\n      <td>0</td>\n      <td>0</td>\n      <td>0</td>\n      <td>0</td>\n      <td>0</td>\n      <td>0</td>\n      <td>...</td>\n      <td>0</td>\n      <td>292</td>\n      <td>30</td>\n      <td>0</td>\n      <td>147</td>\n      <td>178</td>\n      <td>0</td>\n      <td>0</td>\n      <td>0</td>\n      <td>0</td>\n    </tr>\n    <tr>\n      <th>98</th>\n      <td>0</td>\n      <td>0</td>\n      <td>52</td>\n      <td>143</td>\n      <td>62</td>\n      <td>129</td>\n      <td>67</td>\n      <td>137</td>\n      <td>10</td>\n      <td>192</td>\n      <td>...</td>\n      <td>28</td>\n      <td>38</td>\n      <td>63</td>\n      <td>115</td>\n      <td>151</td>\n      <td>74</td>\n      <td>0</td>\n      <td>10</td>\n      <td>0</td>\n      <td>0</td>\n    </tr>\n    <tr>\n      <th>99</th>\n      <td>154</td>\n      <td>194</td>\n      <td>122</td>\n      <td>149</td>\n      <td>52</td>\n      <td>282</td>\n      <td>116</td>\n      <td>159</td>\n      <td>99</td>\n      <td>196</td>\n      <td>...</td>\n      <td>19</td>\n      <td>322</td>\n      <td>120</td>\n      <td>277</td>\n      <td>116</td>\n      <td>259</td>\n      <td>0</td>\n      <td>255</td>\n      <td>0</td>\n      <td>0</td>\n    </tr>\n  </tbody>\n</table>\n<p>100 rows × 26 columns</p>\n</div>"
     },
     "metadata": {}
    },
    {
     "output_type": "stream",
     "name": "stdout",
     "text": [
      "Ocean frieght\n"
     ]
    },
    {
     "output_type": "display_data",
     "data": {
      "text/plain": "    0   1   2    3    4   5    6   7    8    9   ...   16  17   18  19   20  \\\n0    0   0   0    0    0   0    0   0    0    0  ...    0   0    0   0    0   \n1    0   0  60  241  145   0  185   0  157  197  ...  152  57  242   0  227   \n2    0   0   0    0    0   0    0   0    0    0  ...    0   0    0   0    0   \n3    0   0   0    0    0   0    0   0    0    0  ...    0   0    0   0    0   \n4    0   0   0    0    0   0    0   0    0    0  ...    0   0    0   0    0   \n..  ..  ..  ..  ...  ...  ..  ...  ..  ...  ...  ...  ...  ..  ...  ..  ...   \n95   0   0   0    0    0   0    0   0    0    0  ...    0   0    0   0    0   \n96   0   0   0    0    0   0    0   0    0    0  ...    0   0    0   0    0   \n97   0   0   0    0    0   0    0   0    0    0  ...    0   0    0   0    0   \n98   0   0   0    0    0   0    0   0    0    0  ...    0   0    0   0    0   \n99   0   0   0    0    0   0    0   0    0    0  ...    0   0    0   0    0   \n\n    21  22  23  24  25  \n0    0   0   0   0   0  \n1    0   0   0   0   0  \n2    0   0   0   0   0  \n3    0   0   0   0   0  \n4    0   0   0   0   0  \n..  ..  ..  ..  ..  ..  \n95   0   0   0   0   0  \n96   0   0   0   0   0  \n97   0   0   0   0   0  \n98   0   0   0   0   0  \n99   0   0   0   0   0  \n\n[100 rows x 26 columns]",
      "text/html": "<div>\n<style scoped>\n    .dataframe tbody tr th:only-of-type {\n        vertical-align: middle;\n    }\n\n    .dataframe tbody tr th {\n        vertical-align: top;\n    }\n\n    .dataframe thead th {\n        text-align: right;\n    }\n</style>\n<table border=\"1\" class=\"dataframe\">\n  <thead>\n    <tr style=\"text-align: right;\">\n      <th></th>\n      <th>0</th>\n      <th>1</th>\n      <th>2</th>\n      <th>3</th>\n      <th>4</th>\n      <th>5</th>\n      <th>6</th>\n      <th>7</th>\n      <th>8</th>\n      <th>9</th>\n      <th>...</th>\n      <th>16</th>\n      <th>17</th>\n      <th>18</th>\n      <th>19</th>\n      <th>20</th>\n      <th>21</th>\n      <th>22</th>\n      <th>23</th>\n      <th>24</th>\n      <th>25</th>\n    </tr>\n  </thead>\n  <tbody>\n    <tr>\n      <th>0</th>\n      <td>0</td>\n      <td>0</td>\n      <td>0</td>\n      <td>0</td>\n      <td>0</td>\n      <td>0</td>\n      <td>0</td>\n      <td>0</td>\n      <td>0</td>\n      <td>0</td>\n      <td>...</td>\n      <td>0</td>\n      <td>0</td>\n      <td>0</td>\n      <td>0</td>\n      <td>0</td>\n      <td>0</td>\n      <td>0</td>\n      <td>0</td>\n      <td>0</td>\n      <td>0</td>\n    </tr>\n    <tr>\n      <th>1</th>\n      <td>0</td>\n      <td>0</td>\n      <td>60</td>\n      <td>241</td>\n      <td>145</td>\n      <td>0</td>\n      <td>185</td>\n      <td>0</td>\n      <td>157</td>\n      <td>197</td>\n      <td>...</td>\n      <td>152</td>\n      <td>57</td>\n      <td>242</td>\n      <td>0</td>\n      <td>227</td>\n      <td>0</td>\n      <td>0</td>\n      <td>0</td>\n      <td>0</td>\n      <td>0</td>\n    </tr>\n    <tr>\n      <th>2</th>\n      <td>0</td>\n      <td>0</td>\n      <td>0</td>\n      <td>0</td>\n      <td>0</td>\n      <td>0</td>\n      <td>0</td>\n      <td>0</td>\n      <td>0</td>\n      <td>0</td>\n      <td>...</td>\n      <td>0</td>\n      <td>0</td>\n      <td>0</td>\n      <td>0</td>\n      <td>0</td>\n      <td>0</td>\n      <td>0</td>\n      <td>0</td>\n      <td>0</td>\n      <td>0</td>\n    </tr>\n    <tr>\n      <th>3</th>\n      <td>0</td>\n      <td>0</td>\n      <td>0</td>\n      <td>0</td>\n      <td>0</td>\n      <td>0</td>\n      <td>0</td>\n      <td>0</td>\n      <td>0</td>\n      <td>0</td>\n      <td>...</td>\n      <td>0</td>\n      <td>0</td>\n      <td>0</td>\n      <td>0</td>\n      <td>0</td>\n      <td>0</td>\n      <td>0</td>\n      <td>0</td>\n      <td>0</td>\n      <td>0</td>\n    </tr>\n    <tr>\n      <th>4</th>\n      <td>0</td>\n      <td>0</td>\n      <td>0</td>\n      <td>0</td>\n      <td>0</td>\n      <td>0</td>\n      <td>0</td>\n      <td>0</td>\n      <td>0</td>\n      <td>0</td>\n      <td>...</td>\n      <td>0</td>\n      <td>0</td>\n      <td>0</td>\n      <td>0</td>\n      <td>0</td>\n      <td>0</td>\n      <td>0</td>\n      <td>0</td>\n      <td>0</td>\n      <td>0</td>\n    </tr>\n    <tr>\n      <th>...</th>\n      <td>...</td>\n      <td>...</td>\n      <td>...</td>\n      <td>...</td>\n      <td>...</td>\n      <td>...</td>\n      <td>...</td>\n      <td>...</td>\n      <td>...</td>\n      <td>...</td>\n      <td>...</td>\n      <td>...</td>\n      <td>...</td>\n      <td>...</td>\n      <td>...</td>\n      <td>...</td>\n      <td>...</td>\n      <td>...</td>\n      <td>...</td>\n      <td>...</td>\n      <td>...</td>\n    </tr>\n    <tr>\n      <th>95</th>\n      <td>0</td>\n      <td>0</td>\n      <td>0</td>\n      <td>0</td>\n      <td>0</td>\n      <td>0</td>\n      <td>0</td>\n      <td>0</td>\n      <td>0</td>\n      <td>0</td>\n      <td>...</td>\n      <td>0</td>\n      <td>0</td>\n      <td>0</td>\n      <td>0</td>\n      <td>0</td>\n      <td>0</td>\n      <td>0</td>\n      <td>0</td>\n      <td>0</td>\n      <td>0</td>\n    </tr>\n    <tr>\n      <th>96</th>\n      <td>0</td>\n      <td>0</td>\n      <td>0</td>\n      <td>0</td>\n      <td>0</td>\n      <td>0</td>\n      <td>0</td>\n      <td>0</td>\n      <td>0</td>\n      <td>0</td>\n      <td>...</td>\n      <td>0</td>\n      <td>0</td>\n      <td>0</td>\n      <td>0</td>\n      <td>0</td>\n      <td>0</td>\n      <td>0</td>\n      <td>0</td>\n      <td>0</td>\n      <td>0</td>\n    </tr>\n    <tr>\n      <th>97</th>\n      <td>0</td>\n      <td>0</td>\n      <td>0</td>\n      <td>0</td>\n      <td>0</td>\n      <td>0</td>\n      <td>0</td>\n      <td>0</td>\n      <td>0</td>\n      <td>0</td>\n      <td>...</td>\n      <td>0</td>\n      <td>0</td>\n      <td>0</td>\n      <td>0</td>\n      <td>0</td>\n      <td>0</td>\n      <td>0</td>\n      <td>0</td>\n      <td>0</td>\n      <td>0</td>\n    </tr>\n    <tr>\n      <th>98</th>\n      <td>0</td>\n      <td>0</td>\n      <td>0</td>\n      <td>0</td>\n      <td>0</td>\n      <td>0</td>\n      <td>0</td>\n      <td>0</td>\n      <td>0</td>\n      <td>0</td>\n      <td>...</td>\n      <td>0</td>\n      <td>0</td>\n      <td>0</td>\n      <td>0</td>\n      <td>0</td>\n      <td>0</td>\n      <td>0</td>\n      <td>0</td>\n      <td>0</td>\n      <td>0</td>\n    </tr>\n    <tr>\n      <th>99</th>\n      <td>0</td>\n      <td>0</td>\n      <td>0</td>\n      <td>0</td>\n      <td>0</td>\n      <td>0</td>\n      <td>0</td>\n      <td>0</td>\n      <td>0</td>\n      <td>0</td>\n      <td>...</td>\n      <td>0</td>\n      <td>0</td>\n      <td>0</td>\n      <td>0</td>\n      <td>0</td>\n      <td>0</td>\n      <td>0</td>\n      <td>0</td>\n      <td>0</td>\n      <td>0</td>\n    </tr>\n  </tbody>\n</table>\n<p>100 rows × 26 columns</p>\n</div>"
     },
     "metadata": {}
    },
    {
     "output_type": "stream",
     "name": "stdout",
     "text": [
      "order\n"
     ]
    },
    {
     "output_type": "display_data",
     "data": {
      "text/plain": "     0    1    2    3    4    5    6    7    8    9   ...   16   17   18   19  \\\n0     0    0    0   38   79   12  151  165  142  163  ...   49    0   67  148   \n1     0    0   60  241  145    0  208    0  170  197  ...  152   61  242    0   \n2     0    0   82  200   66  199  101    0  270  220  ...    0  196   61    0   \n3     0    0   97  155  153   75  108  139   97  182  ...    0    0    0    0   \n4     0    0   60   60   67   71  158   60  203    0  ...    0    0  193    0   \n..  ...  ...  ...  ...  ...  ...  ...  ...  ...  ...  ...  ...  ...  ...  ...   \n95    0    0    0  121   70  200  143   70  288  138  ...  197  251  132   70   \n96    0    0    0    0    0  190   55    0  100  264  ...  136  144   52  101   \n97    0    0    0    0    0    0    0    0    0    0  ...    0  292   30    0   \n98    0    0   52  143   62  129   67  137   10  192  ...   28   38   63  115   \n99  352  194  122  149   52  282  116  159   99  196  ...   19  322  120  277   \n\n     20   21   22   23  24  25  \n0   118  166   66    0   0   0  \n1   227    0    0    0   0   0  \n2   174  332    0  187   0   0  \n3     0    0    0    0   0   0  \n4     0    0    0    0   0   0  \n..  ...  ...  ...  ...  ..  ..  \n95  108  238  255  283   0   0  \n96  145  317   66  217   0   0  \n97  147  178    0    0   0   0  \n98  151   74    0   10   0   0  \n99  116  259    0  255   0   0  \n\n[100 rows x 26 columns]",
      "text/html": "<div>\n<style scoped>\n    .dataframe tbody tr th:only-of-type {\n        vertical-align: middle;\n    }\n\n    .dataframe tbody tr th {\n        vertical-align: top;\n    }\n\n    .dataframe thead th {\n        text-align: right;\n    }\n</style>\n<table border=\"1\" class=\"dataframe\">\n  <thead>\n    <tr style=\"text-align: right;\">\n      <th></th>\n      <th>0</th>\n      <th>1</th>\n      <th>2</th>\n      <th>3</th>\n      <th>4</th>\n      <th>5</th>\n      <th>6</th>\n      <th>7</th>\n      <th>8</th>\n      <th>9</th>\n      <th>...</th>\n      <th>16</th>\n      <th>17</th>\n      <th>18</th>\n      <th>19</th>\n      <th>20</th>\n      <th>21</th>\n      <th>22</th>\n      <th>23</th>\n      <th>24</th>\n      <th>25</th>\n    </tr>\n  </thead>\n  <tbody>\n    <tr>\n      <th>0</th>\n      <td>0</td>\n      <td>0</td>\n      <td>0</td>\n      <td>38</td>\n      <td>79</td>\n      <td>12</td>\n      <td>151</td>\n      <td>165</td>\n      <td>142</td>\n      <td>163</td>\n      <td>...</td>\n      <td>49</td>\n      <td>0</td>\n      <td>67</td>\n      <td>148</td>\n      <td>118</td>\n      <td>166</td>\n      <td>66</td>\n      <td>0</td>\n      <td>0</td>\n      <td>0</td>\n    </tr>\n    <tr>\n      <th>1</th>\n      <td>0</td>\n      <td>0</td>\n      <td>60</td>\n      <td>241</td>\n      <td>145</td>\n      <td>0</td>\n      <td>208</td>\n      <td>0</td>\n      <td>170</td>\n      <td>197</td>\n      <td>...</td>\n      <td>152</td>\n      <td>61</td>\n      <td>242</td>\n      <td>0</td>\n      <td>227</td>\n      <td>0</td>\n      <td>0</td>\n      <td>0</td>\n      <td>0</td>\n      <td>0</td>\n    </tr>\n    <tr>\n      <th>2</th>\n      <td>0</td>\n      <td>0</td>\n      <td>82</td>\n      <td>200</td>\n      <td>66</td>\n      <td>199</td>\n      <td>101</td>\n      <td>0</td>\n      <td>270</td>\n      <td>220</td>\n      <td>...</td>\n      <td>0</td>\n      <td>196</td>\n      <td>61</td>\n      <td>0</td>\n      <td>174</td>\n      <td>332</td>\n      <td>0</td>\n      <td>187</td>\n      <td>0</td>\n      <td>0</td>\n    </tr>\n    <tr>\n      <th>3</th>\n      <td>0</td>\n      <td>0</td>\n      <td>97</td>\n      <td>155</td>\n      <td>153</td>\n      <td>75</td>\n      <td>108</td>\n      <td>139</td>\n      <td>97</td>\n      <td>182</td>\n      <td>...</td>\n      <td>0</td>\n      <td>0</td>\n      <td>0</td>\n      <td>0</td>\n      <td>0</td>\n      <td>0</td>\n      <td>0</td>\n      <td>0</td>\n      <td>0</td>\n      <td>0</td>\n    </tr>\n    <tr>\n      <th>4</th>\n      <td>0</td>\n      <td>0</td>\n      <td>60</td>\n      <td>60</td>\n      <td>67</td>\n      <td>71</td>\n      <td>158</td>\n      <td>60</td>\n      <td>203</td>\n      <td>0</td>\n      <td>...</td>\n      <td>0</td>\n      <td>0</td>\n      <td>193</td>\n      <td>0</td>\n      <td>0</td>\n      <td>0</td>\n      <td>0</td>\n      <td>0</td>\n      <td>0</td>\n      <td>0</td>\n    </tr>\n    <tr>\n      <th>...</th>\n      <td>...</td>\n      <td>...</td>\n      <td>...</td>\n      <td>...</td>\n      <td>...</td>\n      <td>...</td>\n      <td>...</td>\n      <td>...</td>\n      <td>...</td>\n      <td>...</td>\n      <td>...</td>\n      <td>...</td>\n      <td>...</td>\n      <td>...</td>\n      <td>...</td>\n      <td>...</td>\n      <td>...</td>\n      <td>...</td>\n      <td>...</td>\n      <td>...</td>\n      <td>...</td>\n    </tr>\n    <tr>\n      <th>95</th>\n      <td>0</td>\n      <td>0</td>\n      <td>0</td>\n      <td>121</td>\n      <td>70</td>\n      <td>200</td>\n      <td>143</td>\n      <td>70</td>\n      <td>288</td>\n      <td>138</td>\n      <td>...</td>\n      <td>197</td>\n      <td>251</td>\n      <td>132</td>\n      <td>70</td>\n      <td>108</td>\n      <td>238</td>\n      <td>255</td>\n      <td>283</td>\n      <td>0</td>\n      <td>0</td>\n    </tr>\n    <tr>\n      <th>96</th>\n      <td>0</td>\n      <td>0</td>\n      <td>0</td>\n      <td>0</td>\n      <td>0</td>\n      <td>190</td>\n      <td>55</td>\n      <td>0</td>\n      <td>100</td>\n      <td>264</td>\n      <td>...</td>\n      <td>136</td>\n      <td>144</td>\n      <td>52</td>\n      <td>101</td>\n      <td>145</td>\n      <td>317</td>\n      <td>66</td>\n      <td>217</td>\n      <td>0</td>\n      <td>0</td>\n    </tr>\n    <tr>\n      <th>97</th>\n      <td>0</td>\n      <td>0</td>\n      <td>0</td>\n      <td>0</td>\n      <td>0</td>\n      <td>0</td>\n      <td>0</td>\n      <td>0</td>\n      <td>0</td>\n      <td>0</td>\n      <td>...</td>\n      <td>0</td>\n      <td>292</td>\n      <td>30</td>\n      <td>0</td>\n      <td>147</td>\n      <td>178</td>\n      <td>0</td>\n      <td>0</td>\n      <td>0</td>\n      <td>0</td>\n    </tr>\n    <tr>\n      <th>98</th>\n      <td>0</td>\n      <td>0</td>\n      <td>52</td>\n      <td>143</td>\n      <td>62</td>\n      <td>129</td>\n      <td>67</td>\n      <td>137</td>\n      <td>10</td>\n      <td>192</td>\n      <td>...</td>\n      <td>28</td>\n      <td>38</td>\n      <td>63</td>\n      <td>115</td>\n      <td>151</td>\n      <td>74</td>\n      <td>0</td>\n      <td>10</td>\n      <td>0</td>\n      <td>0</td>\n    </tr>\n    <tr>\n      <th>99</th>\n      <td>352</td>\n      <td>194</td>\n      <td>122</td>\n      <td>149</td>\n      <td>52</td>\n      <td>282</td>\n      <td>116</td>\n      <td>159</td>\n      <td>99</td>\n      <td>196</td>\n      <td>...</td>\n      <td>19</td>\n      <td>322</td>\n      <td>120</td>\n      <td>277</td>\n      <td>116</td>\n      <td>259</td>\n      <td>0</td>\n      <td>255</td>\n      <td>0</td>\n      <td>0</td>\n    </tr>\n  </tbody>\n</table>\n<p>100 rows × 26 columns</p>\n</div>"
     },
     "metadata": {}
    },
    {
     "output_type": "stream",
     "name": "stdout",
     "text": [
      "StockLevel\n"
     ]
    },
    {
     "output_type": "display_data",
     "data": {
      "text/plain": "       0      1             2             3             4      5      6   \\\n0   662.0  607.0  4.350000e+02  2.410000e+02  1.470000e+02    0.0    0.0   \n1   410.0  357.0  2.890000e+02  1.040000e+02  9.100000e+01   15.0    0.0   \n2   346.0  167.0  1.660000e+02  1.170000e+02  0.000000e+00    0.0    0.0   \n3   208.0  258.0  1.800000e+02  4.900000e+01  0.000000e+00    0.0   -0.0   \n4   365.0  303.0  2.200000e+02  1.300000e+02  0.000000e+00    4.0    0.0   \n..    ...    ...           ...           ...           ...    ...    ...   \n95  481.0  322.0  2.560000e+02  8.400000e+01  0.000000e+00    0.0    0.0   \n96  761.0  582.0  5.600000e+02  5.080000e+02  3.960000e+02  101.0    9.0   \n97  709.0  638.0  7.370000e+02  6.830000e+02  5.700000e+02  461.0  449.0   \n98  213.0  253.0  1.840000e+02  0.000000e+00  0.000000e+00    0.0    0.0   \n99    4.0    0.0  2.842171e-14  2.842171e-14  2.842171e-14    0.0    0.0   \n\n       7      8      9   ...            16   17   18   19   20   21   22   23  \\\n0     0.0   -0.0    0.0  ...  0.000000e+00  0.0  0.0  0.0  0.0 -0.0 -0.0  0.0   \n1     0.0    0.0    0.0  ...  4.547474e-14  0.0  0.0  0.0  1.0  0.0  0.0  0.0   \n2     0.0    0.0    0.0  ...  0.000000e+00  0.0  0.0 -0.0  0.0  0.0  0.0  0.0   \n3     0.0    0.0   -0.0  ...  0.000000e+00  0.0  0.0  0.0  0.0  0.0  0.0  0.0   \n4     0.0    0.0    0.0  ...  1.000000e+00  1.0  0.0  0.0  0.0  0.0  0.0  0.0   \n..    ...    ...    ...  ...           ...  ...  ...  ...  ...  ...  ...  ...   \n95    0.0    0.0    0.0  ...  1.421085e-14  0.0  0.0  0.0  0.0  0.0  0.0  0.0   \n96    0.0    0.0    0.0  ...  0.000000e+00  0.0  0.0  0.0  0.0  0.0  0.0  0.0   \n97  194.0  194.0  170.0  ...  0.000000e+00  0.0  0.0  0.0  0.0  0.0  0.0  0.0   \n98    0.0    0.0    0.0  ... -0.000000e+00  0.0  0.0  0.0  0.0  0.0  0.0  0.0   \n99    0.0    0.0    0.0  ...  5.684342e-14  0.0  0.0  0.0  0.0  0.0  0.0  0.0   \n\n     24   25  \n0  -0.0  0.0  \n1   0.0  0.0  \n2   0.0 -0.0  \n3   0.0  0.0  \n4   0.0  0.0  \n..  ...  ...  \n95  0.0  0.0  \n96  0.0  0.0  \n97  0.0  0.0  \n98  0.0 -0.0  \n99  0.0  0.0  \n\n[100 rows x 26 columns]",
      "text/html": "<div>\n<style scoped>\n    .dataframe tbody tr th:only-of-type {\n        vertical-align: middle;\n    }\n\n    .dataframe tbody tr th {\n        vertical-align: top;\n    }\n\n    .dataframe thead th {\n        text-align: right;\n    }\n</style>\n<table border=\"1\" class=\"dataframe\">\n  <thead>\n    <tr style=\"text-align: right;\">\n      <th></th>\n      <th>0</th>\n      <th>1</th>\n      <th>2</th>\n      <th>3</th>\n      <th>4</th>\n      <th>5</th>\n      <th>6</th>\n      <th>7</th>\n      <th>8</th>\n      <th>9</th>\n      <th>...</th>\n      <th>16</th>\n      <th>17</th>\n      <th>18</th>\n      <th>19</th>\n      <th>20</th>\n      <th>21</th>\n      <th>22</th>\n      <th>23</th>\n      <th>24</th>\n      <th>25</th>\n    </tr>\n  </thead>\n  <tbody>\n    <tr>\n      <th>0</th>\n      <td>662.0</td>\n      <td>607.0</td>\n      <td>4.350000e+02</td>\n      <td>2.410000e+02</td>\n      <td>1.470000e+02</td>\n      <td>0.0</td>\n      <td>0.0</td>\n      <td>0.0</td>\n      <td>-0.0</td>\n      <td>0.0</td>\n      <td>...</td>\n      <td>0.000000e+00</td>\n      <td>0.0</td>\n      <td>0.0</td>\n      <td>0.0</td>\n      <td>0.0</td>\n      <td>-0.0</td>\n      <td>-0.0</td>\n      <td>0.0</td>\n      <td>-0.0</td>\n      <td>0.0</td>\n    </tr>\n    <tr>\n      <th>1</th>\n      <td>410.0</td>\n      <td>357.0</td>\n      <td>2.890000e+02</td>\n      <td>1.040000e+02</td>\n      <td>9.100000e+01</td>\n      <td>15.0</td>\n      <td>0.0</td>\n      <td>0.0</td>\n      <td>0.0</td>\n      <td>0.0</td>\n      <td>...</td>\n      <td>4.547474e-14</td>\n      <td>0.0</td>\n      <td>0.0</td>\n      <td>0.0</td>\n      <td>1.0</td>\n      <td>0.0</td>\n      <td>0.0</td>\n      <td>0.0</td>\n      <td>0.0</td>\n      <td>0.0</td>\n    </tr>\n    <tr>\n      <th>2</th>\n      <td>346.0</td>\n      <td>167.0</td>\n      <td>1.660000e+02</td>\n      <td>1.170000e+02</td>\n      <td>0.000000e+00</td>\n      <td>0.0</td>\n      <td>0.0</td>\n      <td>0.0</td>\n      <td>0.0</td>\n      <td>0.0</td>\n      <td>...</td>\n      <td>0.000000e+00</td>\n      <td>0.0</td>\n      <td>0.0</td>\n      <td>-0.0</td>\n      <td>0.0</td>\n      <td>0.0</td>\n      <td>0.0</td>\n      <td>0.0</td>\n      <td>0.0</td>\n      <td>-0.0</td>\n    </tr>\n    <tr>\n      <th>3</th>\n      <td>208.0</td>\n      <td>258.0</td>\n      <td>1.800000e+02</td>\n      <td>4.900000e+01</td>\n      <td>0.000000e+00</td>\n      <td>0.0</td>\n      <td>-0.0</td>\n      <td>0.0</td>\n      <td>0.0</td>\n      <td>-0.0</td>\n      <td>...</td>\n      <td>0.000000e+00</td>\n      <td>0.0</td>\n      <td>0.0</td>\n      <td>0.0</td>\n      <td>0.0</td>\n      <td>0.0</td>\n      <td>0.0</td>\n      <td>0.0</td>\n      <td>0.0</td>\n      <td>0.0</td>\n    </tr>\n    <tr>\n      <th>4</th>\n      <td>365.0</td>\n      <td>303.0</td>\n      <td>2.200000e+02</td>\n      <td>1.300000e+02</td>\n      <td>0.000000e+00</td>\n      <td>4.0</td>\n      <td>0.0</td>\n      <td>0.0</td>\n      <td>0.0</td>\n      <td>0.0</td>\n      <td>...</td>\n      <td>1.000000e+00</td>\n      <td>1.0</td>\n      <td>0.0</td>\n      <td>0.0</td>\n      <td>0.0</td>\n      <td>0.0</td>\n      <td>0.0</td>\n      <td>0.0</td>\n      <td>0.0</td>\n      <td>0.0</td>\n    </tr>\n    <tr>\n      <th>...</th>\n      <td>...</td>\n      <td>...</td>\n      <td>...</td>\n      <td>...</td>\n      <td>...</td>\n      <td>...</td>\n      <td>...</td>\n      <td>...</td>\n      <td>...</td>\n      <td>...</td>\n      <td>...</td>\n      <td>...</td>\n      <td>...</td>\n      <td>...</td>\n      <td>...</td>\n      <td>...</td>\n      <td>...</td>\n      <td>...</td>\n      <td>...</td>\n      <td>...</td>\n      <td>...</td>\n    </tr>\n    <tr>\n      <th>95</th>\n      <td>481.0</td>\n      <td>322.0</td>\n      <td>2.560000e+02</td>\n      <td>8.400000e+01</td>\n      <td>0.000000e+00</td>\n      <td>0.0</td>\n      <td>0.0</td>\n      <td>0.0</td>\n      <td>0.0</td>\n      <td>0.0</td>\n      <td>...</td>\n      <td>1.421085e-14</td>\n      <td>0.0</td>\n      <td>0.0</td>\n      <td>0.0</td>\n      <td>0.0</td>\n      <td>0.0</td>\n      <td>0.0</td>\n      <td>0.0</td>\n      <td>0.0</td>\n      <td>0.0</td>\n    </tr>\n    <tr>\n      <th>96</th>\n      <td>761.0</td>\n      <td>582.0</td>\n      <td>5.600000e+02</td>\n      <td>5.080000e+02</td>\n      <td>3.960000e+02</td>\n      <td>101.0</td>\n      <td>9.0</td>\n      <td>0.0</td>\n      <td>0.0</td>\n      <td>0.0</td>\n      <td>...</td>\n      <td>0.000000e+00</td>\n      <td>0.0</td>\n      <td>0.0</td>\n      <td>0.0</td>\n      <td>0.0</td>\n      <td>0.0</td>\n      <td>0.0</td>\n      <td>0.0</td>\n      <td>0.0</td>\n      <td>0.0</td>\n    </tr>\n    <tr>\n      <th>97</th>\n      <td>709.0</td>\n      <td>638.0</td>\n      <td>7.370000e+02</td>\n      <td>6.830000e+02</td>\n      <td>5.700000e+02</td>\n      <td>461.0</td>\n      <td>449.0</td>\n      <td>194.0</td>\n      <td>194.0</td>\n      <td>170.0</td>\n      <td>...</td>\n      <td>0.000000e+00</td>\n      <td>0.0</td>\n      <td>0.0</td>\n      <td>0.0</td>\n      <td>0.0</td>\n      <td>0.0</td>\n      <td>0.0</td>\n      <td>0.0</td>\n      <td>0.0</td>\n      <td>0.0</td>\n    </tr>\n    <tr>\n      <th>98</th>\n      <td>213.0</td>\n      <td>253.0</td>\n      <td>1.840000e+02</td>\n      <td>0.000000e+00</td>\n      <td>0.000000e+00</td>\n      <td>0.0</td>\n      <td>0.0</td>\n      <td>0.0</td>\n      <td>0.0</td>\n      <td>0.0</td>\n      <td>...</td>\n      <td>-0.000000e+00</td>\n      <td>0.0</td>\n      <td>0.0</td>\n      <td>0.0</td>\n      <td>0.0</td>\n      <td>0.0</td>\n      <td>0.0</td>\n      <td>0.0</td>\n      <td>0.0</td>\n      <td>-0.0</td>\n    </tr>\n    <tr>\n      <th>99</th>\n      <td>4.0</td>\n      <td>0.0</td>\n      <td>2.842171e-14</td>\n      <td>2.842171e-14</td>\n      <td>2.842171e-14</td>\n      <td>0.0</td>\n      <td>0.0</td>\n      <td>0.0</td>\n      <td>0.0</td>\n      <td>0.0</td>\n      <td>...</td>\n      <td>5.684342e-14</td>\n      <td>0.0</td>\n      <td>0.0</td>\n      <td>0.0</td>\n      <td>0.0</td>\n      <td>0.0</td>\n      <td>0.0</td>\n      <td>0.0</td>\n      <td>0.0</td>\n      <td>0.0</td>\n    </tr>\n  </tbody>\n</table>\n<p>100 rows × 26 columns</p>\n</div>"
     },
     "metadata": {}
    },
    {
     "output_type": "stream",
     "name": "stdout",
     "text": [
      "Shortage\n"
     ]
    },
    {
     "output_type": "display_data",
     "data": {
      "text/plain": "     0    1    2    3    4    5    6    7    8    9   ...   16     17     18  \\\n0   0.0  0.0  0.0  0.0  0.0  0.0  0.0  0.0  0.0  0.0  ...  0.0    0.0    0.0   \n1   0.0  0.0  0.0  0.0  0.0  0.0  0.0  0.0  0.0  0.0  ...  0.0    0.0    0.0   \n2   0.0  0.0  0.0  0.0  0.0  0.0  0.0  0.0  0.0  0.0  ...  0.0    0.0    0.0   \n3   0.0  0.0  0.0  0.0  0.0  0.0  0.0  0.0  0.0  0.0  ...  0.0  249.0  290.0   \n4   0.0  0.0  0.0  0.0  0.0  0.0  0.0  0.0  0.0  0.0  ...  0.0    0.0    0.0   \n..  ...  ...  ...  ...  ...  ...  ...  ...  ...  ...  ...  ...    ...    ...   \n95  0.0  0.0  0.0  0.0  0.0  0.0  0.0  0.0  0.0  0.0  ...  0.0    0.0    0.0   \n96  0.0  0.0  0.0  0.0  0.0  0.0  0.0  0.0  0.0  0.0  ...  0.0    0.0    0.0   \n97  0.0  0.0  0.0  0.0  0.0  0.0  0.0  0.0  0.0  0.0  ...  0.0    0.0    0.0   \n98  0.0  0.0  0.0  0.0  0.0  0.0  0.0  0.0  0.0  0.0  ...  0.0    0.0    0.0   \n99  0.0  0.0  0.0  0.0  0.0  0.0  0.0  0.0  0.0  0.0  ...  0.0    0.0    0.0   \n\n       19     20     21     22      23      24      25  \n0     0.0    0.0    0.0    0.0     0.0     0.0     0.0  \n1     0.0    0.0    0.0    0.0     0.0   154.0   269.8  \n2     0.0    0.0    0.0    0.0     0.0     0.0     0.0  \n3   290.0  477.0  706.0  803.0  1029.0  1089.0  1089.0  \n4     0.0    0.0   13.0  350.0   363.0   363.0   398.0  \n..    ...    ...    ...    ...     ...     ...     ...  \n95    0.0    0.0    0.0    0.0     0.0     0.0     0.0  \n96    0.0    0.0    0.0    0.0     0.0     0.0     0.0  \n97    0.0    0.0    0.0    0.0     0.0     0.0   258.0  \n98    0.0    0.0    0.0    0.0     0.0     0.0     0.0  \n99    0.0    0.0    0.0    0.0     0.0     0.0     0.0  \n\n[100 rows x 26 columns]",
      "text/html": "<div>\n<style scoped>\n    .dataframe tbody tr th:only-of-type {\n        vertical-align: middle;\n    }\n\n    .dataframe tbody tr th {\n        vertical-align: top;\n    }\n\n    .dataframe thead th {\n        text-align: right;\n    }\n</style>\n<table border=\"1\" class=\"dataframe\">\n  <thead>\n    <tr style=\"text-align: right;\">\n      <th></th>\n      <th>0</th>\n      <th>1</th>\n      <th>2</th>\n      <th>3</th>\n      <th>4</th>\n      <th>5</th>\n      <th>6</th>\n      <th>7</th>\n      <th>8</th>\n      <th>9</th>\n      <th>...</th>\n      <th>16</th>\n      <th>17</th>\n      <th>18</th>\n      <th>19</th>\n      <th>20</th>\n      <th>21</th>\n      <th>22</th>\n      <th>23</th>\n      <th>24</th>\n      <th>25</th>\n    </tr>\n  </thead>\n  <tbody>\n    <tr>\n      <th>0</th>\n      <td>0.0</td>\n      <td>0.0</td>\n      <td>0.0</td>\n      <td>0.0</td>\n      <td>0.0</td>\n      <td>0.0</td>\n      <td>0.0</td>\n      <td>0.0</td>\n      <td>0.0</td>\n      <td>0.0</td>\n      <td>...</td>\n      <td>0.0</td>\n      <td>0.0</td>\n      <td>0.0</td>\n      <td>0.0</td>\n      <td>0.0</td>\n      <td>0.0</td>\n      <td>0.0</td>\n      <td>0.0</td>\n      <td>0.0</td>\n      <td>0.0</td>\n    </tr>\n    <tr>\n      <th>1</th>\n      <td>0.0</td>\n      <td>0.0</td>\n      <td>0.0</td>\n      <td>0.0</td>\n      <td>0.0</td>\n      <td>0.0</td>\n      <td>0.0</td>\n      <td>0.0</td>\n      <td>0.0</td>\n      <td>0.0</td>\n      <td>...</td>\n      <td>0.0</td>\n      <td>0.0</td>\n      <td>0.0</td>\n      <td>0.0</td>\n      <td>0.0</td>\n      <td>0.0</td>\n      <td>0.0</td>\n      <td>0.0</td>\n      <td>154.0</td>\n      <td>269.8</td>\n    </tr>\n    <tr>\n      <th>2</th>\n      <td>0.0</td>\n      <td>0.0</td>\n      <td>0.0</td>\n      <td>0.0</td>\n      <td>0.0</td>\n      <td>0.0</td>\n      <td>0.0</td>\n      <td>0.0</td>\n      <td>0.0</td>\n      <td>0.0</td>\n      <td>...</td>\n      <td>0.0</td>\n      <td>0.0</td>\n      <td>0.0</td>\n      <td>0.0</td>\n      <td>0.0</td>\n      <td>0.0</td>\n      <td>0.0</td>\n      <td>0.0</td>\n      <td>0.0</td>\n      <td>0.0</td>\n    </tr>\n    <tr>\n      <th>3</th>\n      <td>0.0</td>\n      <td>0.0</td>\n      <td>0.0</td>\n      <td>0.0</td>\n      <td>0.0</td>\n      <td>0.0</td>\n      <td>0.0</td>\n      <td>0.0</td>\n      <td>0.0</td>\n      <td>0.0</td>\n      <td>...</td>\n      <td>0.0</td>\n      <td>249.0</td>\n      <td>290.0</td>\n      <td>290.0</td>\n      <td>477.0</td>\n      <td>706.0</td>\n      <td>803.0</td>\n      <td>1029.0</td>\n      <td>1089.0</td>\n      <td>1089.0</td>\n    </tr>\n    <tr>\n      <th>4</th>\n      <td>0.0</td>\n      <td>0.0</td>\n      <td>0.0</td>\n      <td>0.0</td>\n      <td>0.0</td>\n      <td>0.0</td>\n      <td>0.0</td>\n      <td>0.0</td>\n      <td>0.0</td>\n      <td>0.0</td>\n      <td>...</td>\n      <td>0.0</td>\n      <td>0.0</td>\n      <td>0.0</td>\n      <td>0.0</td>\n      <td>0.0</td>\n      <td>13.0</td>\n      <td>350.0</td>\n      <td>363.0</td>\n      <td>363.0</td>\n      <td>398.0</td>\n    </tr>\n    <tr>\n      <th>...</th>\n      <td>...</td>\n      <td>...</td>\n      <td>...</td>\n      <td>...</td>\n      <td>...</td>\n      <td>...</td>\n      <td>...</td>\n      <td>...</td>\n      <td>...</td>\n      <td>...</td>\n      <td>...</td>\n      <td>...</td>\n      <td>...</td>\n      <td>...</td>\n      <td>...</td>\n      <td>...</td>\n      <td>...</td>\n      <td>...</td>\n      <td>...</td>\n      <td>...</td>\n      <td>...</td>\n    </tr>\n    <tr>\n      <th>95</th>\n      <td>0.0</td>\n      <td>0.0</td>\n      <td>0.0</td>\n      <td>0.0</td>\n      <td>0.0</td>\n      <td>0.0</td>\n      <td>0.0</td>\n      <td>0.0</td>\n      <td>0.0</td>\n      <td>0.0</td>\n      <td>...</td>\n      <td>0.0</td>\n      <td>0.0</td>\n      <td>0.0</td>\n      <td>0.0</td>\n      <td>0.0</td>\n      <td>0.0</td>\n      <td>0.0</td>\n      <td>0.0</td>\n      <td>0.0</td>\n      <td>0.0</td>\n    </tr>\n    <tr>\n      <th>96</th>\n      <td>0.0</td>\n      <td>0.0</td>\n      <td>0.0</td>\n      <td>0.0</td>\n      <td>0.0</td>\n      <td>0.0</td>\n      <td>0.0</td>\n      <td>0.0</td>\n      <td>0.0</td>\n      <td>0.0</td>\n      <td>...</td>\n      <td>0.0</td>\n      <td>0.0</td>\n      <td>0.0</td>\n      <td>0.0</td>\n      <td>0.0</td>\n      <td>0.0</td>\n      <td>0.0</td>\n      <td>0.0</td>\n      <td>0.0</td>\n      <td>0.0</td>\n    </tr>\n    <tr>\n      <th>97</th>\n      <td>0.0</td>\n      <td>0.0</td>\n      <td>0.0</td>\n      <td>0.0</td>\n      <td>0.0</td>\n      <td>0.0</td>\n      <td>0.0</td>\n      <td>0.0</td>\n      <td>0.0</td>\n      <td>0.0</td>\n      <td>...</td>\n      <td>0.0</td>\n      <td>0.0</td>\n      <td>0.0</td>\n      <td>0.0</td>\n      <td>0.0</td>\n      <td>0.0</td>\n      <td>0.0</td>\n      <td>0.0</td>\n      <td>0.0</td>\n      <td>258.0</td>\n    </tr>\n    <tr>\n      <th>98</th>\n      <td>0.0</td>\n      <td>0.0</td>\n      <td>0.0</td>\n      <td>0.0</td>\n      <td>0.0</td>\n      <td>0.0</td>\n      <td>0.0</td>\n      <td>0.0</td>\n      <td>0.0</td>\n      <td>0.0</td>\n      <td>...</td>\n      <td>0.0</td>\n      <td>0.0</td>\n      <td>0.0</td>\n      <td>0.0</td>\n      <td>0.0</td>\n      <td>0.0</td>\n      <td>0.0</td>\n      <td>0.0</td>\n      <td>0.0</td>\n      <td>0.0</td>\n    </tr>\n    <tr>\n      <th>99</th>\n      <td>0.0</td>\n      <td>0.0</td>\n      <td>0.0</td>\n      <td>0.0</td>\n      <td>0.0</td>\n      <td>0.0</td>\n      <td>0.0</td>\n      <td>0.0</td>\n      <td>0.0</td>\n      <td>0.0</td>\n      <td>...</td>\n      <td>0.0</td>\n      <td>0.0</td>\n      <td>0.0</td>\n      <td>0.0</td>\n      <td>0.0</td>\n      <td>0.0</td>\n      <td>0.0</td>\n      <td>0.0</td>\n      <td>0.0</td>\n      <td>0.0</td>\n    </tr>\n  </tbody>\n</table>\n<p>100 rows × 26 columns</p>\n</div>"
     },
     "metadata": {}
    }
   ],
   "source": [
    "with pd.ExcelWriter(solution_file_path, engine='xlsxwriter') as writer:\n",
    "    print('Express delivery')\n",
    "    df1 = pd.DataFrame([[int(x[i,j,0].x) for j in range(M)] for i in range(N)], columns=range(M))\n",
    "    display(df1)\n",
    "    df1.to_excel(writer, sheet_name='Express delivery')\n",
    "    print('Air frieght')\n",
    "    df2 = pd.DataFrame([[int(x[i,j,1].x) for j in range(M)] for i in range(N)], columns=range(M))\n",
    "    display(df2)\n",
    "    df2.to_excel(writer, sheet_name='Air frieght')\n",
    "    print('Ocean frieght')\n",
    "    df3 = pd.DataFrame([[int(x[i,j,2].x) for j in range(M)] for i in range(N)], columns=range(M))\n",
    "    display(df3)\n",
    "    df3.to_excel(writer, sheet_name='Ocean frieght')\n",
    "    print('order')\n",
    "    df3 = pd.DataFrame([[int(sum([x[i,j,k].x for k in range(K)])) for j in range(M)] for i in range(N)], columns=range(M))\n",
    "    display(df3)\n",
    "    df3.to_excel(writer, sheet_name='Order')\n",
    "    print('StockLevel')\n",
    "    df = pd.DataFrame([[StockLevel[i,j].x for j in range(M)] for i in range(N)], columns=range(M))\n",
    "    display(df)\n",
    "    df.to_excel(writer, sheet_name='StockLevel')\n",
    "    print('Shortage')\n",
    "    df = pd.DataFrame([[Shortage[i,j].x for j in range(M)] for i in range(N)], columns=range(M))\n",
    "    display(df)\n",
    "    df.to_excel(writer, sheet_name='Shortage')"
   ]
  },
  {
   "cell_type": "code",
   "execution_count": 18,
   "metadata": {
    "tags": []
   },
   "outputs": [
    {
     "output_type": "stream",
     "name": "stdout",
     "text": [
      "TotalPurchaseCost    :1230662600.00\nTotalShipFixedCost   :5420.00\nTotalShipVarCost     :13019025.00\nTotalHoldingCost     :12664881.12\nTotalContainerCost   :202500.00\nTotalBackOrderCost   :16816197.12\nTotalLostSaleCost    :19315474.00\nTotalVendorFixedCost :37500.00\nobjective-value      :1292723597.23\n"
     ]
    }
   ],
   "source": [
    "print(f'TotalPurchaseCost    :{TotalPurchaseCost.getValue():.2f}')\n",
    "print(f'TotalShipFixedCost   :{TotalShipFixedCost.getValue():.2f}')\n",
    "print(f'TotalShipVarCost     :{TotalShipVarCost.getValue():.2f}')\n",
    "print(f'TotalHoldingCost     :{TotalHoldingCost.getValue():.2f}')\n",
    "print(f'TotalContainerCost   :{TotalContainerCost.getValue():.2f}')\n",
    "print(f'TotalBackOrderCost   :{TotalBackOrderCost.getValue():.2f}')\n",
    "print(f'TotalLostSaleCost    :{TotalLostSaleCost.getValue():.2f}')\n",
    "print(f'TotalVendorFixedCost :{TotalVendorFixedCost.getValue():.2f}')\n",
    "print(f'objective-value      :{model.ObjVal:.2f}')"
   ]
  },
  {
   "cell_type": "code",
   "execution_count": 28,
   "metadata": {},
   "outputs": [
    {
     "output_type": "execute_result",
     "data": {
      "text/plain": [
       "  TotalPurchaseCost TotalShipFixedCost TotalShipVarCost TotalHoldingCost  \\\n",
       "0      1230662600.0             5420.0       13019025.0      12664881.12   \n",
       "\n",
       "  TotalContainerCost TotalBackOrderCost TotalLostSaleCost  \\\n",
       "0           202500.0        16816197.12        19315474.0   \n",
       "\n",
       "  TotalVendorFixedCost objective-value  \n",
       "0              37500.0   1292723597.23  "
      ],
      "text/html": "<div>\n<style scoped>\n    .dataframe tbody tr th:only-of-type {\n        vertical-align: middle;\n    }\n\n    .dataframe tbody tr th {\n        vertical-align: top;\n    }\n\n    .dataframe thead th {\n        text-align: right;\n    }\n</style>\n<table border=\"1\" class=\"dataframe\">\n  <thead>\n    <tr style=\"text-align: right;\">\n      <th></th>\n      <th>TotalPurchaseCost</th>\n      <th>TotalShipFixedCost</th>\n      <th>TotalShipVarCost</th>\n      <th>TotalHoldingCost</th>\n      <th>TotalContainerCost</th>\n      <th>TotalBackOrderCost</th>\n      <th>TotalLostSaleCost</th>\n      <th>TotalVendorFixedCost</th>\n      <th>objective-value</th>\n    </tr>\n  </thead>\n  <tbody>\n    <tr>\n      <th>0</th>\n      <td>1230662600.0</td>\n      <td>5420.0</td>\n      <td>13019025.0</td>\n      <td>12664881.12</td>\n      <td>202500.0</td>\n      <td>16816197.12</td>\n      <td>19315474.0</td>\n      <td>37500.0</td>\n      <td>1292723597.23</td>\n    </tr>\n  </tbody>\n</table>\n</div>"
     },
     "metadata": {},
     "execution_count": 28
    }
   ],
   "source": [
    "result_df = pd.DataFrame(columns=[\n",
    "    'TotalPurchaseCost',\n",
    "    'TotalShipFixedCost',\n",
    "    'TotalShipVarCost',\n",
    "    'TotalHoldingCost',\n",
    "    'TotalContainerCost',\n",
    "    'TotalBackOrderCost',\n",
    "    'TotalLostSaleCost',\n",
    "    'TotalVendorFixedCost',\n",
    "    'objective-value',\n",
    "])\n",
    "\n",
    "# result_df.append({\n",
    "#     'TotalPurchaseCost': str(round(TotalPurchaseCost.getValue(), 2)),\n",
    "#     'TotalShipFixedCost': str(round(TotalShipFixedCost.getValue(), 2)),\n",
    "#     'TotalShipVarCost': str(round(TotalShipVarCost.getValue(), 2)),\n",
    "#     'TotalHoldingCost': str(round(TotalHoldingCost.getValue(), 2)),\n",
    "#     'TotalContainerCost': str(round(TotalContainerCost.getValue(), 2)),\n",
    "#     'TotalBackOrderCost': str(round(TotalBackOrderCost.getValue(), 2)),\n",
    "#     'TotalLostSaleCost': str(round(TotalLostSaleCost.getValue(), 2)),\n",
    "#     'TotalVendorFixedCost': str(round(TotalVendorFixedCost.getValue(), 2)),\n",
    "#     'objective-value': model.ObjVal,\n",
    "# }, ignore_index=True)\n",
    "\n",
    "result_df.loc[0] = [\n",
    "    str(round(TotalPurchaseCost.getValue(), 2)),\n",
    "    str(round(TotalShipFixedCost.getValue(), 2)),\n",
    "    str(round(TotalShipVarCost.getValue(), 2)),\n",
    "    str(round(TotalHoldingCost.getValue(), 2)),\n",
    "    str(round(TotalContainerCost.getValue(), 2)),\n",
    "    str(round(TotalBackOrderCost.getValue(), 2)),\n",
    "    str(round(TotalLostSaleCost.getValue(), 2)),\n",
    "    str(round(TotalVendorFixedCost.getValue(), 2)),\n",
    "    str(round(model.ObjVal, 2)),\n",
    "]\n",
    "result_df\n"
   ]
  }
 ],
 "metadata": {
  "kernelspec": {
   "name": "python392jvsc74a57bd0b8bdd4e700647ba2b08c59e5df8b7da1dcf50a218bcd4c1bcd9b3dc92e8788e5",
   "display_name": "Python 3.9.2 64-bit ('3.9')"
  },
  "language_info": {
   "codemirror_mode": {
    "name": "ipython",
    "version": 3
   },
   "file_extension": ".py",
   "mimetype": "text/x-python",
   "name": "python",
   "nbconvert_exporter": "python",
   "pygments_lexer": "ipython3",
   "version": "3.9.2"
  },
  "metadata": {
   "interpreter": {
    "hash": "b8bdd4e700647ba2b08c59e5df8b7da1dcf50a218bcd4c1bcd9b3dc92e8788e5"
   }
  }
 },
 "nbformat": 4,
 "nbformat_minor": 4
}