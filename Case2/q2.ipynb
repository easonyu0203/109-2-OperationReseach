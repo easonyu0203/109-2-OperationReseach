{
 "metadata": {
  "language_info": {
   "codemirror_mode": {
    "name": "ipython",
    "version": 3
   },
   "file_extension": ".py",
   "mimetype": "text/x-python",
   "name": "python",
   "nbconvert_exporter": "python",
   "pygments_lexer": "ipython3",
   "version": "3.9.2"
  },
  "orig_nbformat": 2,
  "kernelspec": {
   "name": "python392jvsc74a57bd0b8bdd4e700647ba2b08c59e5df8b7da1dcf50a218bcd4c1bcd9b3dc92e8788e5",
   "display_name": "Python 3.9.2 64-bit ('3.9')"
  },
  "metadata": {
   "interpreter": {
    "hash": "b8bdd4e700647ba2b08c59e5df8b7da1dcf50a218bcd4c1bcd9b3dc92e8788e5"
   }
  }
 },
 "nbformat": 4,
 "nbformat_minor": 2,
 "cells": [
  {
   "source": [
    "# question 2"
   ],
   "cell_type": "markdown",
   "metadata": {}
  },
  {
   "cell_type": "code",
   "execution_count": 1,
   "metadata": {},
   "outputs": [],
   "source": [
    "from os import path\n",
    "import os\n",
    "import pandas as pd\n",
    "import numpy as np\n",
    "import gurobipy as gb\n",
    "from gurobipy import GRB\n",
    "from gurobipy import quicksum\n",
    "import math"
   ]
  },
  {
   "cell_type": "code",
   "execution_count": 2,
   "metadata": {},
   "outputs": [
    {
     "output_type": "execute_result",
     "data": {
      "text/plain": [
       "'/Users/eason/Desktop/OperationReseach/Case2'"
      ]
     },
     "metadata": {},
     "execution_count": 2
    }
   ],
   "source": [
    "os.getcwd()"
   ]
  },
  {
   "cell_type": "code",
   "execution_count": 3,
   "metadata": {},
   "outputs": [
    {
     "output_type": "stream",
     "name": "stdout",
     "text": [
      "/Users/eason/Desktop/OperationReseach/Case2\n"
     ]
    }
   ],
   "source": [
    "%cd /Users/eason/Desktop/OperationReseach/Case2\n",
    "\n",
    "work_dir = '/Users/eason/Desktop/OperationReseach/Case2'\n",
    "data_path = path.join(work_dir, 'data')\n",
    "data_file = path.join(data_path, 's1.xlsx')"
   ]
  },
  {
   "source": [
    "Demand_df = pd.read_excel(data_file, sheet_name='Demand', index_col='Product')\n",
    "Init_df = pd.read_excel(data_file, sheet_name='Initial inventory', index_col='Product')\n",
    "ShippingCost_df = pd.read_excel(data_file, sheet_name='Shipping cost', index_col='Product')\n",
    "InTransit_df = pd.read_excel(data_file, sheet_name='In-transit', index_col='Product')\n",
    "CBM_df = pd.read_excel(data_file, sheet_name='Size', index_col='Product')\n",
    "PriceAndCost_df = pd.read_excel(data_file, sheet_name='Price and cost', index_col='Product')\n",
    "Shortage_df = pd.read_excel(data_file, sheet_name='Shortage', index_col='Product')\n",
    "VendorProduct_df = pd.read_excel(data_file, sheet_name='Vendor-Product', index_col='Product')\n",
    "VendorCost_df = pd.read_excel(data_file, sheet_name='Vendor cost', index_col='Vendor')\n",
    "Bound_df = pd.read_excel(data_file, sheet_name='Bounds', index_col='Product')\n",
    "Conflict_df = pd.read_excel(data_file, sheet_name='Conflict', index_col='Conflict') - 1\n",
    "\n",
    "N, M = Demand_df.shape\n",
    "K = 3 #(express delivery, air freight, Ocean freight)\n",
    "V = VendorCost_df.shape[0]\n",
    "ContainerCap = 30 #Case 1 data\n",
    "ContainerCost = 2750 #Case 1 data\n",
    "\n",
    "Demand_ij = Demand_df.to_numpy()\n",
    "Init_i = Init_df.to_numpy().squeeze()\n",
    "BuyCost_i = PriceAndCost_df['Purchasing cost'].to_numpy()\n",
    "HoldCost_i = PriceAndCost_df['Holding cost'].to_numpy()\n",
    "Transit_ij = InTransit_df.to_numpy()\n",
    "ShipFixedCost_k = np.array([100, 80, 50]) #Case 1 data\n",
    "ShipVarCost_ik = np.concatenate(( ShippingCost_df.to_numpy(), np.zeros((N,1)) ), axis=1)\n",
    "CBM_i = CBM_df.to_numpy().squeeze()\n",
    "LostSaleCost_i = Shortage_df['Lost sales'].to_numpy()\n",
    "BackOrderCost_i = Shortage_df['Backorder'].to_numpy()\n",
    "BackOrderProb_i = Shortage_df['Backorder percentage'].to_numpy()\n",
    "VendorFixedCost_v = VendorCost_df.to_numpy().squeeze()\n",
    "MinOrder_i = Bound_df.to_numpy().squeeze()\n",
    "ConflictPair_alpha = Conflict_df.to_numpy()\n",
    "ProductVendor_i = VendorProduct_df.to_numpy().squeeze()\n",
    "M_big = np.sum(Demand_ij) + sum(Init_i)"
   ],
   "cell_type": "code",
   "metadata": {},
   "execution_count": 4,
   "outputs": []
  },
  {
   "cell_type": "code",
   "execution_count": 5,
   "metadata": {},
   "outputs": [
    {
     "output_type": "stream",
     "name": "stdout",
     "text": [
      "Academic license - for non-commercial use only - expires 2021-05-20\n",
      "Using license file /Users/eason/gurobi.lic\n"
     ]
    }
   ],
   "source": [
    "#model\n",
    "instance_name = 's1'\n",
    "model = gb.Model(name=instance_name)"
   ]
  },
  {
   "cell_type": "code",
   "execution_count": 6,
   "metadata": {},
   "outputs": [],
   "source": [
    "#decision variable\n",
    "x = model.addVars(N, M, K, vtype=GRB.INTEGER,name='x')\n",
    "Abin = model.addVars(M, K, vtype=GRB.BINARY, name='Abin')\n",
    "ContainerCnt = model.addVars(M, vtype=GRB.INTEGER, name='ContainerCnt')\n",
    "StockLevel = model.addVars(N, M, vtype=GRB.CONTINUOUS, name='StockLevel')\n",
    "Shortage = model.addVars(N, M, vtype=GRB.CONTINUOUS, name='Shortage')\n",
    "Bbin = model.addVars(N, M, vtype=GRB.BINARY, name='Bbin')\n",
    "Cbin = model.addVars(N, M, vtype=GRB.BINARY, name='Cbin')\n",
    "Dbin = model.addVars(V, M, vtype=GRB.BINARY, name='Dbin')"
   ]
  },
  {
   "cell_type": "code",
   "execution_count": 7,
   "metadata": {},
   "outputs": [],
   "source": [
    "#Expr\n",
    "VolumeInOceanExpr_j = [\n",
    "gb.LinExpr(\n",
    "    quicksum(x[i,j,2] * CBM_i[i] for i in range(N))\n",
    ")    \n",
    "for j in range(M)]\n",
    "\n",
    "BackOrderCntExpr_ij = [\n",
    "    [\n",
    "        gb.LinExpr( Shortage[i,j] * BackOrderProb_i[i] )\n",
    "    for j in range(M)]\n",
    "for i in range(N)]\n",
    "\n",
    "LostSaleCntExpr_ij = [\n",
    "    [\n",
    "        gb.LinExpr( Shortage[i,j] * (1 - BackOrderProb_i[i]) )\n",
    "    for j in range(M)]\n",
    "for i in range(N)]"
   ]
  },
  {
   "cell_type": "code",
   "execution_count": 8,
   "metadata": {},
   "outputs": [],
   "source": [
    "#obj function\n",
    "TotalPurchaseCost = gb.LinExpr(\n",
    "    quicksum(\n",
    "        quicksum(\n",
    "            quicksum(\n",
    "                x[i,j,k] * BuyCost_i[i]\n",
    "            for i in range(N))\n",
    "        for j in range(M))\n",
    "    for k in range(K))\n",
    ")\n",
    "\n",
    "TotalShipFixedCost = gb.LinExpr(\n",
    "    quicksum(\n",
    "        quicksum(\n",
    "            Abin[j,k] * ShipFixedCost_k[k]\n",
    "        for k in range(K))\n",
    "    for j in range(M))\n",
    ")\n",
    "\n",
    "TotalShipVarCost = gb.LinExpr(\n",
    "    quicksum(\n",
    "        quicksum(\n",
    "            quicksum(\n",
    "                x[i,j,k] * ShipVarCost_ik[i,k]\n",
    "            for k in range(K))\n",
    "        for j in range(M))\n",
    "    for i in range(N))\n",
    ")\n",
    "\n",
    "TotalHoldingCost = gb.LinExpr(\n",
    "    quicksum(\n",
    "        quicksum(\n",
    "            StockLevel[i,j] * HoldCost_i[i]\n",
    "        for i in range(N))\n",
    "    for j in range(M))\n",
    ")\n",
    "\n",
    "TotalContainerCost = gb.LinExpr(\n",
    "    quicksum(ContainerCnt[j] for j in range(M)) * ContainerCost\n",
    ")\n",
    "\n",
    "TotalBackOrderCost = gb.LinExpr(\n",
    "    quicksum(\n",
    "        quicksum(\n",
    "            BackOrderCntExpr_ij[i][j] * BackOrderCost_i[i]\n",
    "        for i in range(N))\n",
    "    for j in range(M))\n",
    ")\n",
    "\n",
    "TotalLostSaleCost = gb.LinExpr(\n",
    "    quicksum(\n",
    "        quicksum(\n",
    "            LostSaleCntExpr_ij[i][j] * LostSaleCost_i[i]\n",
    "        for i in range(N))\n",
    "    for j in range(M))\n",
    ")\n",
    "\n",
    "TotalVendorFixedCost = gb.LinExpr(\n",
    "    quicksum(\n",
    "        quicksum(\n",
    "            Dbin[v,j] * VendorFixedCost_v[v]\n",
    "        for v in range(V))\n",
    "    for j in range(M))\n",
    ")"
   ]
  },
  {
   "cell_type": "code",
   "execution_count": 9,
   "metadata": {},
   "outputs": [],
   "source": [
    "#set obj function\n",
    "model.setObjective(\n",
    "    TotalPurchaseCost +\n",
    "    TotalShipFixedCost + \n",
    "    TotalShipVarCost + \n",
    "    TotalHoldingCost + \n",
    "    TotalContainerCost + \n",
    "    TotalBackOrderCost + \n",
    "    TotalLostSaleCost +\n",
    "    TotalVendorFixedCost\n",
    ")"
   ]
  },
  {
   "cell_type": "code",
   "execution_count": 13,
   "metadata": {},
   "outputs": [],
   "source": [
    "#Contrain\n",
    "\n",
    "#let Abin to behave correctly\n",
    "_ = model.addConstrs(\n",
    "    quicksum(x[i,j,k] for i in range(N)) / M_big <= Abin[j,k]\n",
    "for j in range(M)\n",
    "for k in range(K))\n",
    "\n",
    "#let ContainerCnt to behave correctly\n",
    "_ = model.addConstrs(\n",
    "    VolumeInOceanExpr_j[j] / ContainerCap <= ContainerCnt[j]\n",
    "for j in range(M))\n",
    "\n",
    "#let Stocklevle & Shortage behave correctly\n",
    "_ = model.addConstrs(StockLevel[i,0] - Shortage[i,0] == Init_i[i] - Demand_ij[i][0] for i in range(N))\n",
    "_ = model.addConstrs(StockLevel[i,1] - Shortage[i,1] == StockLevel[i,0] + x[i,0,0] + Transit_ij[i][1] - Demand_ij[i][1] - Shortage[i,0] * BackOrderProb_i[i] for i in range(N))\n",
    "_ = model.addConstrs(StockLevel[i,2] - Shortage[i,2] == StockLevel[i,1] + x[i,1,0] + x[i,0,1] + Transit_ij[i][2] - Demand_ij[i][2] - Shortage[i,1] * BackOrderProb_i[i] for i in range(N))\n",
    "_ = model.addConstrs(StockLevel[i,j] - Shortage[i,j] == StockLevel[i,j-1] + x[i,j-1,0] + x[i,j-2,1] + x[i,j-3,2] - Demand_ij[i][j] - Shortage[i,j-1] * BackOrderProb_i[i] for i in range(N) for j in range(3,M))\n",
    "\n",
    "_ = model.addConstrs(StockLevel[i,j] <= M_big * (1-Bbin[i,j]) for i in range(N) for j in range(M))\n",
    "_ = model.addConstrs(Shortage[i,j] <= M_big * Bbin[i,j] for i in range(N) for j in range(M))\n",
    "\n",
    "#let Cbin behave correctly\n",
    "_ = model.addConstrs(\n",
    "    quicksum(x[i,j,k] for k in range(K)) / M_big <= Cbin[i,j]\n",
    "for i in range(N)\n",
    "for j in range(M))\n",
    "\n",
    "#let Dbin behave correctly\n",
    "_ = model.addConstrs(\n",
    "    quicksum(\n",
    "        quicksum(x[i,j,k] for k in range(K))\n",
    "    for i in range(N) if ProductVendor_i[i] == v) / M_big <= Dbin[v,j]\n",
    "for v in range(V)\n",
    "for j in range(M))\n",
    "\n",
    "#Minumin order Bound\n",
    "_ = model.addConstrs(\n",
    "    Cbin[i,j] * MinOrder_i[i] <= quicksum(x[i,j,k] for k in range(K))\n",
    "for i in range(N)\n",
    "for j in range(M))\n",
    "\n",
    "#conflict\n",
    "_ = model.addConstrs(\n",
    "    Cbin[a,j] + Cbin[b,j] <= 1\n",
    "for j in range(M)\n",
    "for a, b in ConflictPair_alpha)"
   ]
  },
  {
   "cell_type": "code",
   "execution_count": 14,
   "metadata": {},
   "outputs": [
    {
     "output_type": "stream",
     "name": "stdout",
     "text": [
      "Gurobi Optimizer version 9.1.1 build v9.1.1rc0 (mac64)\n",
      "Thread count: 4 physical cores, 8 logical processors, using up to 8 threads\n",
      "Optimize a model with 13802 rows, 18356 columns and 94877 nonzeros\n",
      "Model fingerprint: 0x01fa85a4\n",
      "Variable types: 5200 continuous, 13156 integer (5330 binary)\n",
      "Coefficient statistics:\n",
      "  Matrix range     [3e-06, 4e+05]\n",
      "  Objective range  [1e+01, 2e+04]\n",
      "  Bounds range     [1e+00, 1e+00]\n",
      "  RHS range        [1e+00, 4e+05]\n",
      "Presolve removed 4170 rows and 3082 columns\n",
      "Presolve time: 0.29s\n",
      "Presolved: 9632 rows, 15274 columns, 50430 nonzeros\n",
      "Variable types: 4274 continuous, 11000 integer (3382 binary)\n",
      "Found heuristic solution: objective 2.568030e+09\n",
      "\n",
      "Root relaxation: objective 1.281651e+09, 5304 iterations, 0.06 seconds\n",
      "\n",
      "    Nodes    |    Current Node    |     Objective Bounds      |     Work\n",
      " Expl Unexpl |  Obj  Depth IntInf | Incumbent    BestBd   Gap | It/Node Time\n",
      "\n",
      "     0     0 1.2817e+09    0  323 2.5680e+09 1.2817e+09  50.1%     -    0s\n",
      "     0     0 1.2817e+09    0  625 2.5680e+09 1.2817e+09  50.1%     -    0s\n",
      "H    0     0                    2.568030e+09 1.2817e+09  50.1%     -    0s\n",
      "     0     0 1.2818e+09    0  453 2.5680e+09 1.2818e+09  50.1%     -    1s\n",
      "     0     0 1.2818e+09    0  457 2.5680e+09 1.2818e+09  50.1%     -    1s\n",
      "     0     0 1.2822e+09    0  501 2.5680e+09 1.2822e+09  50.1%     -    1s\n",
      "H    0     0                    2.568030e+09 1.2822e+09  50.1%     -    1s\n",
      "     0     0 1.2822e+09    0  499 2.5680e+09 1.2822e+09  50.1%     -    1s\n",
      "     0     0 1.2823e+09    0  450 2.5680e+09 1.2823e+09  50.1%     -    2s\n",
      "H    0     0                    2.568030e+09 1.2823e+09  50.1%     -    2s\n",
      "     0     0 1.2823e+09    0  475 2.5680e+09 1.2823e+09  50.1%     -    2s\n",
      "     0     0 1.2823e+09    0  465 2.5680e+09 1.2823e+09  50.1%     -    2s\n",
      "     0     0 1.2823e+09    0  465 2.5680e+09 1.2823e+09  50.1%     -    2s\n",
      "     0     0 1.2823e+09    0  427 2.5680e+09 1.2823e+09  50.1%     -    3s\n",
      "H    0     0                    2.568029e+09 1.2823e+09  50.1%     -    3s\n",
      "     0     0 1.2823e+09    0  430 2.5680e+09 1.2823e+09  50.1%     -    3s\n",
      "     0     0 1.2823e+09    0  441 2.5680e+09 1.2823e+09  50.1%     -    3s\n",
      "     0     0 1.2823e+09    0  410 2.5680e+09 1.2823e+09  50.1%     -    3s\n",
      "H    0     0                    2.568029e+09 1.2823e+09  50.1%     -    3s\n",
      "H    0     0                    1.291604e+09 1.2823e+09  0.72%     -    4s\n",
      "     0     0 1.2823e+09    0  411 1.2916e+09 1.2823e+09  0.72%     -    4s\n",
      "     0     0 1.2823e+09    0  357 1.2916e+09 1.2823e+09  0.72%     -    4s\n",
      "H    0     0                    1.291373e+09 1.2823e+09  0.70%     -    4s\n",
      "     0     0 1.2823e+09    0  369 1.2914e+09 1.2823e+09  0.70%     -    4s\n",
      "     0     0 1.2823e+09    0  378 1.2914e+09 1.2823e+09  0.70%     -    5s\n",
      "H    0     0                    1.283803e+09 1.2823e+09  0.11%     -    6s\n",
      "H    0     0                    1.283793e+09 1.2823e+09  0.11%     -    6s\n",
      "H    0     0                    1.283788e+09 1.2823e+09  0.11%     -    6s\n",
      "     0     0 1.2823e+09    0  378 1.2838e+09 1.2823e+09  0.11%     -    6s\n",
      "H    0     0                    1.282914e+09 1.2823e+09  0.05%     -    6s\n",
      "\n",
      "Cutting planes:\n",
      "  Learned: 1\n",
      "  Gomory: 8\n",
      "  Cover: 12\n",
      "  Implied bound: 44\n",
      "  Clique: 418\n",
      "  MIR: 114\n",
      "  Flow cover: 349\n",
      "  Relax-and-lift: 1143\n",
      "\n",
      "Explored 1 nodes (7438 simplex iterations) in 6.89 seconds\n",
      "Thread count was 8 (of 8 available processors)\n",
      "\n",
      "Solution count 10: 1.28291e+09 1.28379e+09 1.28379e+09 ... 2.56803e+09\n",
      "\n",
      "Solve interrupted\n",
      "Best objective 1.282913543495e+09, best bound 1.282332624033e+09, gap 0.0453%\n"
     ]
    }
   ],
   "source": [
    "model.optimize()"
   ]
  },
  {
   "cell_type": "code",
   "execution_count": 215,
   "metadata": {},
   "outputs": [
    {
     "output_type": "stream",
     "name": "stdout",
     "text": [
      "Express delivery\n"
     ]
    },
    {
     "output_type": "display_data",
     "data": {
      "text/plain": "     0   1   2   3    4    5   6    7   8    9   ...   16  17   18  19   20  \\\n0     0   0   0   0    0    0   0    0   0    0  ...    0   0    0   0    0   \n1     0   0   0   0    0    0   0    0   0    0  ...    0   0    0   0    0   \n2     0   0   0   0    0  133   0    0   0    0  ...    0   0    0   0    8   \n3     0   0   0   0    0    0   0    0   0    0  ...    0   0    0   0    0   \n4     0   0   0   0    0    0   0    0   0    0  ...    0   0    1   0    0   \n..  ...  ..  ..  ..  ...  ...  ..  ...  ..  ...  ...  ...  ..  ...  ..  ...   \n95    0   0   0   0    0  270   0  136   0  129  ...    0   0    0   0    0   \n96    0   0   0   0    0    0   0    0   0    0  ...    0   0    0   0    0   \n97    0   0   0   0    0    0   0    0   0    0  ...  377   0    0   0    0   \n98    0   0   0   0    0    0   0    0   0    0  ...    0   0    0   0    0   \n99  198   0   0   0  191    0   0    0   0    0  ...    0   0  325   0  376   \n\n    21   22  23   24  25  \n0    0    0   0    0   0  \n1    0    0   0    0   0  \n2    0    0   0    0   0  \n3    0    0   0    0   0  \n4    0    0   0    0   0  \n..  ..  ...  ..  ...  ..  \n95   0    0   0  283   0  \n96   0    0   0    0   0  \n97   0    0   0    0   0  \n98   0  172   0    0   0  \n99   0  102   0    0   0  \n\n[100 rows x 26 columns]",
      "text/html": "<div>\n<style scoped>\n    .dataframe tbody tr th:only-of-type {\n        vertical-align: middle;\n    }\n\n    .dataframe tbody tr th {\n        vertical-align: top;\n    }\n\n    .dataframe thead th {\n        text-align: right;\n    }\n</style>\n<table border=\"1\" class=\"dataframe\">\n  <thead>\n    <tr style=\"text-align: right;\">\n      <th></th>\n      <th>0</th>\n      <th>1</th>\n      <th>2</th>\n      <th>3</th>\n      <th>4</th>\n      <th>5</th>\n      <th>6</th>\n      <th>7</th>\n      <th>8</th>\n      <th>9</th>\n      <th>...</th>\n      <th>16</th>\n      <th>17</th>\n      <th>18</th>\n      <th>19</th>\n      <th>20</th>\n      <th>21</th>\n      <th>22</th>\n      <th>23</th>\n      <th>24</th>\n      <th>25</th>\n    </tr>\n  </thead>\n  <tbody>\n    <tr>\n      <th>0</th>\n      <td>0</td>\n      <td>0</td>\n      <td>0</td>\n      <td>0</td>\n      <td>0</td>\n      <td>0</td>\n      <td>0</td>\n      <td>0</td>\n      <td>0</td>\n      <td>0</td>\n      <td>...</td>\n      <td>0</td>\n      <td>0</td>\n      <td>0</td>\n      <td>0</td>\n      <td>0</td>\n      <td>0</td>\n      <td>0</td>\n      <td>0</td>\n      <td>0</td>\n      <td>0</td>\n    </tr>\n    <tr>\n      <th>1</th>\n      <td>0</td>\n      <td>0</td>\n      <td>0</td>\n      <td>0</td>\n      <td>0</td>\n      <td>0</td>\n      <td>0</td>\n      <td>0</td>\n      <td>0</td>\n      <td>0</td>\n      <td>...</td>\n      <td>0</td>\n      <td>0</td>\n      <td>0</td>\n      <td>0</td>\n      <td>0</td>\n      <td>0</td>\n      <td>0</td>\n      <td>0</td>\n      <td>0</td>\n      <td>0</td>\n    </tr>\n    <tr>\n      <th>2</th>\n      <td>0</td>\n      <td>0</td>\n      <td>0</td>\n      <td>0</td>\n      <td>0</td>\n      <td>133</td>\n      <td>0</td>\n      <td>0</td>\n      <td>0</td>\n      <td>0</td>\n      <td>...</td>\n      <td>0</td>\n      <td>0</td>\n      <td>0</td>\n      <td>0</td>\n      <td>8</td>\n      <td>0</td>\n      <td>0</td>\n      <td>0</td>\n      <td>0</td>\n      <td>0</td>\n    </tr>\n    <tr>\n      <th>3</th>\n      <td>0</td>\n      <td>0</td>\n      <td>0</td>\n      <td>0</td>\n      <td>0</td>\n      <td>0</td>\n      <td>0</td>\n      <td>0</td>\n      <td>0</td>\n      <td>0</td>\n      <td>...</td>\n      <td>0</td>\n      <td>0</td>\n      <td>0</td>\n      <td>0</td>\n      <td>0</td>\n      <td>0</td>\n      <td>0</td>\n      <td>0</td>\n      <td>0</td>\n      <td>0</td>\n    </tr>\n    <tr>\n      <th>4</th>\n      <td>0</td>\n      <td>0</td>\n      <td>0</td>\n      <td>0</td>\n      <td>0</td>\n      <td>0</td>\n      <td>0</td>\n      <td>0</td>\n      <td>0</td>\n      <td>0</td>\n      <td>...</td>\n      <td>0</td>\n      <td>0</td>\n      <td>1</td>\n      <td>0</td>\n      <td>0</td>\n      <td>0</td>\n      <td>0</td>\n      <td>0</td>\n      <td>0</td>\n      <td>0</td>\n    </tr>\n    <tr>\n      <th>...</th>\n      <td>...</td>\n      <td>...</td>\n      <td>...</td>\n      <td>...</td>\n      <td>...</td>\n      <td>...</td>\n      <td>...</td>\n      <td>...</td>\n      <td>...</td>\n      <td>...</td>\n      <td>...</td>\n      <td>...</td>\n      <td>...</td>\n      <td>...</td>\n      <td>...</td>\n      <td>...</td>\n      <td>...</td>\n      <td>...</td>\n      <td>...</td>\n      <td>...</td>\n      <td>...</td>\n    </tr>\n    <tr>\n      <th>95</th>\n      <td>0</td>\n      <td>0</td>\n      <td>0</td>\n      <td>0</td>\n      <td>0</td>\n      <td>270</td>\n      <td>0</td>\n      <td>136</td>\n      <td>0</td>\n      <td>129</td>\n      <td>...</td>\n      <td>0</td>\n      <td>0</td>\n      <td>0</td>\n      <td>0</td>\n      <td>0</td>\n      <td>0</td>\n      <td>0</td>\n      <td>0</td>\n      <td>283</td>\n      <td>0</td>\n    </tr>\n    <tr>\n      <th>96</th>\n      <td>0</td>\n      <td>0</td>\n      <td>0</td>\n      <td>0</td>\n      <td>0</td>\n      <td>0</td>\n      <td>0</td>\n      <td>0</td>\n      <td>0</td>\n      <td>0</td>\n      <td>...</td>\n      <td>0</td>\n      <td>0</td>\n      <td>0</td>\n      <td>0</td>\n      <td>0</td>\n      <td>0</td>\n      <td>0</td>\n      <td>0</td>\n      <td>0</td>\n      <td>0</td>\n    </tr>\n    <tr>\n      <th>97</th>\n      <td>0</td>\n      <td>0</td>\n      <td>0</td>\n      <td>0</td>\n      <td>0</td>\n      <td>0</td>\n      <td>0</td>\n      <td>0</td>\n      <td>0</td>\n      <td>0</td>\n      <td>...</td>\n      <td>377</td>\n      <td>0</td>\n      <td>0</td>\n      <td>0</td>\n      <td>0</td>\n      <td>0</td>\n      <td>0</td>\n      <td>0</td>\n      <td>0</td>\n      <td>0</td>\n    </tr>\n    <tr>\n      <th>98</th>\n      <td>0</td>\n      <td>0</td>\n      <td>0</td>\n      <td>0</td>\n      <td>0</td>\n      <td>0</td>\n      <td>0</td>\n      <td>0</td>\n      <td>0</td>\n      <td>0</td>\n      <td>...</td>\n      <td>0</td>\n      <td>0</td>\n      <td>0</td>\n      <td>0</td>\n      <td>0</td>\n      <td>0</td>\n      <td>172</td>\n      <td>0</td>\n      <td>0</td>\n      <td>0</td>\n    </tr>\n    <tr>\n      <th>99</th>\n      <td>198</td>\n      <td>0</td>\n      <td>0</td>\n      <td>0</td>\n      <td>191</td>\n      <td>0</td>\n      <td>0</td>\n      <td>0</td>\n      <td>0</td>\n      <td>0</td>\n      <td>...</td>\n      <td>0</td>\n      <td>0</td>\n      <td>325</td>\n      <td>0</td>\n      <td>376</td>\n      <td>0</td>\n      <td>102</td>\n      <td>0</td>\n      <td>0</td>\n      <td>0</td>\n    </tr>\n  </tbody>\n</table>\n<p>100 rows × 26 columns</p>\n</div>"
     },
     "metadata": {}
    },
    {
     "output_type": "stream",
     "name": "stdout",
     "text": [
      "Air frieght\n"
     ]
    },
    {
     "output_type": "display_data",
     "data": {
      "text/plain": "     0   1    2    3   4   5    6    7    8    9   ...  16  17   18  19   20  \\\n0     0   0    0    0   0   0   81  159    0  168  ...   0   0    0   0  108   \n1     0   0    0    0   0   0  203  185    0    0  ...   0   0  496   0    0   \n2     0   0    0  200   0   0    0    0  436    0  ...   0   0    0   0  174   \n3     0   0    0    0   0   0    0  630  253    0  ...   0   0    0   0    0   \n4     0   0    0    0   0   0    0    0    0    0  ...   0   0  193   0    0   \n..  ...  ..  ...  ...  ..  ..  ...  ...  ...  ...  ...  ..  ..  ...  ..  ...   \n95    0   0    8    0   0   0    0    0    0    0  ...   0   0    0   0    0   \n96    0   0    0    0   0   0   13    0   84    0  ...   0   0   28   2    0   \n97    0   0    0    0   0   0    0    0    0    0  ...   0   0    0   0    0   \n98    0   0    0    0   0  86    0    0    0    0  ...   5   0    0   0    0   \n99  184   0  171    0   0   0    0    0    0    0  ...   0  12   81   6    0   \n\n     21  22   23  24  25  \n0     0  56    0   0   0  \n1     0   0    0   0   0  \n2     0   0    0   0   0  \n3     0   0    0   0   0  \n4     0   0    0   0   0  \n..  ...  ..  ...  ..  ..  \n95    0   0    0   0   0  \n96  333   0    0   0   0  \n97  170   0    0   0   0  \n98    4   0    0   0   0  \n99    4   0  241   0   0  \n\n[100 rows x 26 columns]",
      "text/html": "<div>\n<style scoped>\n    .dataframe tbody tr th:only-of-type {\n        vertical-align: middle;\n    }\n\n    .dataframe tbody tr th {\n        vertical-align: top;\n    }\n\n    .dataframe thead th {\n        text-align: right;\n    }\n</style>\n<table border=\"1\" class=\"dataframe\">\n  <thead>\n    <tr style=\"text-align: right;\">\n      <th></th>\n      <th>0</th>\n      <th>1</th>\n      <th>2</th>\n      <th>3</th>\n      <th>4</th>\n      <th>5</th>\n      <th>6</th>\n      <th>7</th>\n      <th>8</th>\n      <th>9</th>\n      <th>...</th>\n      <th>16</th>\n      <th>17</th>\n      <th>18</th>\n      <th>19</th>\n      <th>20</th>\n      <th>21</th>\n      <th>22</th>\n      <th>23</th>\n      <th>24</th>\n      <th>25</th>\n    </tr>\n  </thead>\n  <tbody>\n    <tr>\n      <th>0</th>\n      <td>0</td>\n      <td>0</td>\n      <td>0</td>\n      <td>0</td>\n      <td>0</td>\n      <td>0</td>\n      <td>81</td>\n      <td>159</td>\n      <td>0</td>\n      <td>168</td>\n      <td>...</td>\n      <td>0</td>\n      <td>0</td>\n      <td>0</td>\n      <td>0</td>\n      <td>108</td>\n      <td>0</td>\n      <td>56</td>\n      <td>0</td>\n      <td>0</td>\n      <td>0</td>\n    </tr>\n    <tr>\n      <th>1</th>\n      <td>0</td>\n      <td>0</td>\n      <td>0</td>\n      <td>0</td>\n      <td>0</td>\n      <td>0</td>\n      <td>203</td>\n      <td>185</td>\n      <td>0</td>\n      <td>0</td>\n      <td>...</td>\n      <td>0</td>\n      <td>0</td>\n      <td>496</td>\n      <td>0</td>\n      <td>0</td>\n      <td>0</td>\n      <td>0</td>\n      <td>0</td>\n      <td>0</td>\n      <td>0</td>\n    </tr>\n    <tr>\n      <th>2</th>\n      <td>0</td>\n      <td>0</td>\n      <td>0</td>\n      <td>200</td>\n      <td>0</td>\n      <td>0</td>\n      <td>0</td>\n      <td>0</td>\n      <td>436</td>\n      <td>0</td>\n      <td>...</td>\n      <td>0</td>\n      <td>0</td>\n      <td>0</td>\n      <td>0</td>\n      <td>174</td>\n      <td>0</td>\n      <td>0</td>\n      <td>0</td>\n      <td>0</td>\n      <td>0</td>\n    </tr>\n    <tr>\n      <th>3</th>\n      <td>0</td>\n      <td>0</td>\n      <td>0</td>\n      <td>0</td>\n      <td>0</td>\n      <td>0</td>\n      <td>0</td>\n      <td>630</td>\n      <td>253</td>\n      <td>0</td>\n      <td>...</td>\n      <td>0</td>\n      <td>0</td>\n      <td>0</td>\n      <td>0</td>\n      <td>0</td>\n      <td>0</td>\n      <td>0</td>\n      <td>0</td>\n      <td>0</td>\n      <td>0</td>\n    </tr>\n    <tr>\n      <th>4</th>\n      <td>0</td>\n      <td>0</td>\n      <td>0</td>\n      <td>0</td>\n      <td>0</td>\n      <td>0</td>\n      <td>0</td>\n      <td>0</td>\n      <td>0</td>\n      <td>0</td>\n      <td>...</td>\n      <td>0</td>\n      <td>0</td>\n      <td>193</td>\n      <td>0</td>\n      <td>0</td>\n      <td>0</td>\n      <td>0</td>\n      <td>0</td>\n      <td>0</td>\n      <td>0</td>\n    </tr>\n    <tr>\n      <th>...</th>\n      <td>...</td>\n      <td>...</td>\n      <td>...</td>\n      <td>...</td>\n      <td>...</td>\n      <td>...</td>\n      <td>...</td>\n      <td>...</td>\n      <td>...</td>\n      <td>...</td>\n      <td>...</td>\n      <td>...</td>\n      <td>...</td>\n      <td>...</td>\n      <td>...</td>\n      <td>...</td>\n      <td>...</td>\n      <td>...</td>\n      <td>...</td>\n      <td>...</td>\n      <td>...</td>\n    </tr>\n    <tr>\n      <th>95</th>\n      <td>0</td>\n      <td>0</td>\n      <td>8</td>\n      <td>0</td>\n      <td>0</td>\n      <td>0</td>\n      <td>0</td>\n      <td>0</td>\n      <td>0</td>\n      <td>0</td>\n      <td>...</td>\n      <td>0</td>\n      <td>0</td>\n      <td>0</td>\n      <td>0</td>\n      <td>0</td>\n      <td>0</td>\n      <td>0</td>\n      <td>0</td>\n      <td>0</td>\n      <td>0</td>\n    </tr>\n    <tr>\n      <th>96</th>\n      <td>0</td>\n      <td>0</td>\n      <td>0</td>\n      <td>0</td>\n      <td>0</td>\n      <td>0</td>\n      <td>13</td>\n      <td>0</td>\n      <td>84</td>\n      <td>0</td>\n      <td>...</td>\n      <td>0</td>\n      <td>0</td>\n      <td>28</td>\n      <td>2</td>\n      <td>0</td>\n      <td>333</td>\n      <td>0</td>\n      <td>0</td>\n      <td>0</td>\n      <td>0</td>\n    </tr>\n    <tr>\n      <th>97</th>\n      <td>0</td>\n      <td>0</td>\n      <td>0</td>\n      <td>0</td>\n      <td>0</td>\n      <td>0</td>\n      <td>0</td>\n      <td>0</td>\n      <td>0</td>\n      <td>0</td>\n      <td>...</td>\n      <td>0</td>\n      <td>0</td>\n      <td>0</td>\n      <td>0</td>\n      <td>0</td>\n      <td>170</td>\n      <td>0</td>\n      <td>0</td>\n      <td>0</td>\n      <td>0</td>\n    </tr>\n    <tr>\n      <th>98</th>\n      <td>0</td>\n      <td>0</td>\n      <td>0</td>\n      <td>0</td>\n      <td>0</td>\n      <td>86</td>\n      <td>0</td>\n      <td>0</td>\n      <td>0</td>\n      <td>0</td>\n      <td>...</td>\n      <td>5</td>\n      <td>0</td>\n      <td>0</td>\n      <td>0</td>\n      <td>0</td>\n      <td>4</td>\n      <td>0</td>\n      <td>0</td>\n      <td>0</td>\n      <td>0</td>\n    </tr>\n    <tr>\n      <th>99</th>\n      <td>184</td>\n      <td>0</td>\n      <td>171</td>\n      <td>0</td>\n      <td>0</td>\n      <td>0</td>\n      <td>0</td>\n      <td>0</td>\n      <td>0</td>\n      <td>0</td>\n      <td>...</td>\n      <td>0</td>\n      <td>12</td>\n      <td>81</td>\n      <td>6</td>\n      <td>0</td>\n      <td>4</td>\n      <td>0</td>\n      <td>241</td>\n      <td>0</td>\n      <td>0</td>\n    </tr>\n  </tbody>\n</table>\n<p>100 rows × 26 columns</p>\n</div>"
     },
     "metadata": {}
    },
    {
     "output_type": "stream",
     "name": "stdout",
     "text": [
      "Ocean frieght\n"
     ]
    },
    {
     "output_type": "display_data",
     "data": {
      "text/plain": "    0   1    2    3    4   5   6    7    8   9   ...   16   17   18   19   20  \\\n0    0   0   38   91    0  70   6  225   12   0  ...   67    0  148   10  166   \n1    0   0    0  127    0   0   0    0    0   0  ...    0    0    0    0  227   \n2    0  82    0  102   50   0   0    0   12   0  ...    0    0    0    0  332   \n3    0  97  107    0    0   0   0   26    0   0  ...    0    0    0    0    0   \n4    0  67    0    0    0   0   0  612    0   0  ...    0    0    0    0    0   \n..  ..  ..  ...  ...  ...  ..  ..  ...  ...  ..  ...  ...  ...  ...  ...  ...   \n95   0   0  113    0    0  77   0   21    0   0  ...    0  410    0  156  136   \n96   0   0    0    0  190  42   5   11  216   0  ...  185   23    9    0   32   \n97   0   0    0    0    0   0   0    0    0   0  ...  322    0    0  147    8   \n98   0  52  143   30   21   0   0    0    0   0  ...   38   17    0    0    8   \n99   0   0   12    0  119   0   0    0    0   0  ...    0   24    7    4  187   \n\n     21   22  23  24  25  \n0    10    0   0   0   0  \n1     0    0   0   0   0  \n2     0  187   0   0   0  \n3     0    0   0   0   0  \n4     0    0   0   0   0  \n..  ...  ...  ..  ..  ..  \n95  255    0   0   0   0  \n96    2  236   0   0   0  \n97  237    0   0   0   0  \n98    0   20   0   0   0  \n99   34    1   0   0   0  \n\n[100 rows x 26 columns]",
      "text/html": "<div>\n<style scoped>\n    .dataframe tbody tr th:only-of-type {\n        vertical-align: middle;\n    }\n\n    .dataframe tbody tr th {\n        vertical-align: top;\n    }\n\n    .dataframe thead th {\n        text-align: right;\n    }\n</style>\n<table border=\"1\" class=\"dataframe\">\n  <thead>\n    <tr style=\"text-align: right;\">\n      <th></th>\n      <th>0</th>\n      <th>1</th>\n      <th>2</th>\n      <th>3</th>\n      <th>4</th>\n      <th>5</th>\n      <th>6</th>\n      <th>7</th>\n      <th>8</th>\n      <th>9</th>\n      <th>...</th>\n      <th>16</th>\n      <th>17</th>\n      <th>18</th>\n      <th>19</th>\n      <th>20</th>\n      <th>21</th>\n      <th>22</th>\n      <th>23</th>\n      <th>24</th>\n      <th>25</th>\n    </tr>\n  </thead>\n  <tbody>\n    <tr>\n      <th>0</th>\n      <td>0</td>\n      <td>0</td>\n      <td>38</td>\n      <td>91</td>\n      <td>0</td>\n      <td>70</td>\n      <td>6</td>\n      <td>225</td>\n      <td>12</td>\n      <td>0</td>\n      <td>...</td>\n      <td>67</td>\n      <td>0</td>\n      <td>148</td>\n      <td>10</td>\n      <td>166</td>\n      <td>10</td>\n      <td>0</td>\n      <td>0</td>\n      <td>0</td>\n      <td>0</td>\n    </tr>\n    <tr>\n      <th>1</th>\n      <td>0</td>\n      <td>0</td>\n      <td>0</td>\n      <td>127</td>\n      <td>0</td>\n      <td>0</td>\n      <td>0</td>\n      <td>0</td>\n      <td>0</td>\n      <td>0</td>\n      <td>...</td>\n      <td>0</td>\n      <td>0</td>\n      <td>0</td>\n      <td>0</td>\n      <td>227</td>\n      <td>0</td>\n      <td>0</td>\n      <td>0</td>\n      <td>0</td>\n      <td>0</td>\n    </tr>\n    <tr>\n      <th>2</th>\n      <td>0</td>\n      <td>82</td>\n      <td>0</td>\n      <td>102</td>\n      <td>50</td>\n      <td>0</td>\n      <td>0</td>\n      <td>0</td>\n      <td>12</td>\n      <td>0</td>\n      <td>...</td>\n      <td>0</td>\n      <td>0</td>\n      <td>0</td>\n      <td>0</td>\n      <td>332</td>\n      <td>0</td>\n      <td>187</td>\n      <td>0</td>\n      <td>0</td>\n      <td>0</td>\n    </tr>\n    <tr>\n      <th>3</th>\n      <td>0</td>\n      <td>97</td>\n      <td>107</td>\n      <td>0</td>\n      <td>0</td>\n      <td>0</td>\n      <td>0</td>\n      <td>26</td>\n      <td>0</td>\n      <td>0</td>\n      <td>...</td>\n      <td>0</td>\n      <td>0</td>\n      <td>0</td>\n      <td>0</td>\n      <td>0</td>\n      <td>0</td>\n      <td>0</td>\n      <td>0</td>\n      <td>0</td>\n      <td>0</td>\n    </tr>\n    <tr>\n      <th>4</th>\n      <td>0</td>\n      <td>67</td>\n      <td>0</td>\n      <td>0</td>\n      <td>0</td>\n      <td>0</td>\n      <td>0</td>\n      <td>612</td>\n      <td>0</td>\n      <td>0</td>\n      <td>...</td>\n      <td>0</td>\n      <td>0</td>\n      <td>0</td>\n      <td>0</td>\n      <td>0</td>\n      <td>0</td>\n      <td>0</td>\n      <td>0</td>\n      <td>0</td>\n      <td>0</td>\n    </tr>\n    <tr>\n      <th>...</th>\n      <td>...</td>\n      <td>...</td>\n      <td>...</td>\n      <td>...</td>\n      <td>...</td>\n      <td>...</td>\n      <td>...</td>\n      <td>...</td>\n      <td>...</td>\n      <td>...</td>\n      <td>...</td>\n      <td>...</td>\n      <td>...</td>\n      <td>...</td>\n      <td>...</td>\n      <td>...</td>\n      <td>...</td>\n      <td>...</td>\n      <td>...</td>\n      <td>...</td>\n      <td>...</td>\n    </tr>\n    <tr>\n      <th>95</th>\n      <td>0</td>\n      <td>0</td>\n      <td>113</td>\n      <td>0</td>\n      <td>0</td>\n      <td>77</td>\n      <td>0</td>\n      <td>21</td>\n      <td>0</td>\n      <td>0</td>\n      <td>...</td>\n      <td>0</td>\n      <td>410</td>\n      <td>0</td>\n      <td>156</td>\n      <td>136</td>\n      <td>255</td>\n      <td>0</td>\n      <td>0</td>\n      <td>0</td>\n      <td>0</td>\n    </tr>\n    <tr>\n      <th>96</th>\n      <td>0</td>\n      <td>0</td>\n      <td>0</td>\n      <td>0</td>\n      <td>190</td>\n      <td>42</td>\n      <td>5</td>\n      <td>11</td>\n      <td>216</td>\n      <td>0</td>\n      <td>...</td>\n      <td>185</td>\n      <td>23</td>\n      <td>9</td>\n      <td>0</td>\n      <td>32</td>\n      <td>2</td>\n      <td>236</td>\n      <td>0</td>\n      <td>0</td>\n      <td>0</td>\n    </tr>\n    <tr>\n      <th>97</th>\n      <td>0</td>\n      <td>0</td>\n      <td>0</td>\n      <td>0</td>\n      <td>0</td>\n      <td>0</td>\n      <td>0</td>\n      <td>0</td>\n      <td>0</td>\n      <td>0</td>\n      <td>...</td>\n      <td>322</td>\n      <td>0</td>\n      <td>0</td>\n      <td>147</td>\n      <td>8</td>\n      <td>237</td>\n      <td>0</td>\n      <td>0</td>\n      <td>0</td>\n      <td>0</td>\n    </tr>\n    <tr>\n      <th>98</th>\n      <td>0</td>\n      <td>52</td>\n      <td>143</td>\n      <td>30</td>\n      <td>21</td>\n      <td>0</td>\n      <td>0</td>\n      <td>0</td>\n      <td>0</td>\n      <td>0</td>\n      <td>...</td>\n      <td>38</td>\n      <td>17</td>\n      <td>0</td>\n      <td>0</td>\n      <td>8</td>\n      <td>0</td>\n      <td>20</td>\n      <td>0</td>\n      <td>0</td>\n      <td>0</td>\n    </tr>\n    <tr>\n      <th>99</th>\n      <td>0</td>\n      <td>0</td>\n      <td>12</td>\n      <td>0</td>\n      <td>119</td>\n      <td>0</td>\n      <td>0</td>\n      <td>0</td>\n      <td>0</td>\n      <td>0</td>\n      <td>...</td>\n      <td>0</td>\n      <td>24</td>\n      <td>7</td>\n      <td>4</td>\n      <td>187</td>\n      <td>34</td>\n      <td>1</td>\n      <td>0</td>\n      <td>0</td>\n      <td>0</td>\n    </tr>\n  </tbody>\n</table>\n<p>100 rows × 26 columns</p>\n</div>"
     },
     "metadata": {}
    }
   ],
   "source": [
    "print('Express delivery')\n",
    "df = pd.DataFrame([[int(x[i,j,0].x) for j in range(M)] for i in range(N)], columns=range(M))\n",
    "display(df)\n",
    "print('Air frieght')\n",
    "df = pd.DataFrame([[int(x[i,j,1].x) for j in range(M)] for i in range(N)], columns=range(M))\n",
    "display(df)\n",
    "print('Ocean frieght')\n",
    "df = pd.DataFrame([[int(x[i,j,2].x) for j in range(M)] for i in range(N)], columns=range(M))\n",
    "display(df)"
   ]
  },
  {
   "cell_type": "code",
   "execution_count": 217,
   "metadata": {},
   "outputs": [
    {
     "output_type": "stream",
     "name": "stdout",
     "text": [
      "Ending Inventory\n"
     ]
    },
    {
     "output_type": "display_data",
     "data": {
      "text/plain": "       0      1      2      3      4       5       6             7        8   \\\n0   662.0  607.0  435.0  241.0  147.0    0.00   12.00 -2.273737e-13    0.000   \n1   410.0  357.0  289.0  104.0   91.0  -45.00 -160.50 -2.573500e+02   -0.145   \n2   346.0  167.0  166.0  117.0    0.0    0.00  169.00  2.000000e+01  -81.000   \n3   208.0  258.0  180.0   49.0    0.0  -48.00 -201.00 -2.760000e+02 -384.000   \n4   365.0  303.0  220.0  130.0    0.0  -49.00 -120.00 -1.910000e+02 -353.000   \n..    ...    ...    ...    ...    ...     ...     ...           ...      ...   \n95  481.0  322.0  256.0   84.0    0.0    0.00  156.00  0.000000e+00    0.000   \n96  761.0  582.0  560.0  508.0  396.0  101.00    9.00  0.000000e+00    0.000   \n97  709.0  638.0  737.0  683.0  570.0  461.00  449.00  1.940000e+02  194.000   \n98  213.0  253.0  184.0    0.0    0.0    0.00  -32.00 -3.800000e+01  -86.000   \n99    4.0    0.0   30.0 -164.0   -0.2   53.94    1.94 -1.610600e+02 -164.318   \n\n          9   ...            16            17          18            19  \\\n0     0.0000  ...  1.430000e+02  0.000000e+00    0.000000  6.700000e+01   \n1    -0.1015  ...  1.983154e+02 -6.845514e-01 -180.479186 -2.823354e+02   \n2    -8.1000  ...  2.669997e+02  5.999692e+00    5.999692 -1.900003e+02   \n3   107.0000  ... -1.395506e-11 -2.490000e+02 -290.000000 -2.900000e+02   \n4  -409.0000  ...  0.000000e+00  0.000000e+00   -1.000000  3.233254e-10   \n..       ...  ...           ...           ...         ...           ...   \n95 -163.0000  ... -3.320078e+02 -2.660039e+02 -330.001953 -4.160010e+02   \n96    5.0000  ... -1.800000e-03  1.359995e+02   -0.000540  4.099984e+01   \n97  170.0000  ... -2.689840e+02 -1.872000e-01   -0.149760  2.988019e+01   \n98 -180.0000  ...  1.310000e+02  2.842171e-13    0.000000  0.000000e+00   \n99 -208.2954  ... -8.700002e+01  8.999948e-01   -0.100005  1.497000e+01   \n\n            20          21            22            23            24  \\\n0     0.000000    0.000000  0.000000e+00  0.000000e+00  0.000000e+00   \n1   242.365199   -0.634801 -4.443608e-01 -3.110525e-01 -1.542177e+02   \n2   -80.000031   -0.000003 -3.080995e-07 -3.080995e-08 -3.080995e-09   \n3  -477.000000 -706.000000 -8.030000e+02 -1.029000e+03 -1.089000e+03   \n4     0.000000  -13.000000 -3.500000e+02 -3.630000e+02 -3.630000e+02   \n..         ...         ...           ...           ...           ...   \n95   -0.000488 -108.000244 -1.220703e-04 -6.103516e-05 -3.051758e-05   \n96   39.999838  -50.000162 -1.600000e+02 -1.458000e-05 -6.400000e+01   \n97   -0.119808   -0.095846 -7.667712e-02 -6.134170e-02  2.369509e+02   \n98  -46.000000 -138.000000 -2.200000e+02  0.000000e+00  0.000000e+00   \n99   -0.030002  111.991000 -9.000468e-03  3.399730e+01  6.799730e+01   \n\n              25  \n0   0.000000e+00  \n1  -2.699524e+02  \n2  -3.080995e-10  \n3  -1.089000e+03  \n4  -3.980000e+02  \n..           ...  \n95 -1.525879e-05  \n96 -2.000013e-01  \n97 -2.104907e+01  \n98  1.000000e+01  \n99  5.499730e+01  \n\n[100 rows x 26 columns]",
      "text/html": "<div>\n<style scoped>\n    .dataframe tbody tr th:only-of-type {\n        vertical-align: middle;\n    }\n\n    .dataframe tbody tr th {\n        vertical-align: top;\n    }\n\n    .dataframe thead th {\n        text-align: right;\n    }\n</style>\n<table border=\"1\" class=\"dataframe\">\n  <thead>\n    <tr style=\"text-align: right;\">\n      <th></th>\n      <th>0</th>\n      <th>1</th>\n      <th>2</th>\n      <th>3</th>\n      <th>4</th>\n      <th>5</th>\n      <th>6</th>\n      <th>7</th>\n      <th>8</th>\n      <th>9</th>\n      <th>...</th>\n      <th>16</th>\n      <th>17</th>\n      <th>18</th>\n      <th>19</th>\n      <th>20</th>\n      <th>21</th>\n      <th>22</th>\n      <th>23</th>\n      <th>24</th>\n      <th>25</th>\n    </tr>\n  </thead>\n  <tbody>\n    <tr>\n      <th>0</th>\n      <td>662.0</td>\n      <td>607.0</td>\n      <td>435.0</td>\n      <td>241.0</td>\n      <td>147.0</td>\n      <td>0.00</td>\n      <td>12.00</td>\n      <td>-2.273737e-13</td>\n      <td>0.000</td>\n      <td>0.0000</td>\n      <td>...</td>\n      <td>1.430000e+02</td>\n      <td>0.000000e+00</td>\n      <td>0.000000</td>\n      <td>6.700000e+01</td>\n      <td>0.000000</td>\n      <td>0.000000</td>\n      <td>0.000000e+00</td>\n      <td>0.000000e+00</td>\n      <td>0.000000e+00</td>\n      <td>0.000000e+00</td>\n    </tr>\n    <tr>\n      <th>1</th>\n      <td>410.0</td>\n      <td>357.0</td>\n      <td>289.0</td>\n      <td>104.0</td>\n      <td>91.0</td>\n      <td>-45.00</td>\n      <td>-160.50</td>\n      <td>-2.573500e+02</td>\n      <td>-0.145</td>\n      <td>-0.1015</td>\n      <td>...</td>\n      <td>1.983154e+02</td>\n      <td>-6.845514e-01</td>\n      <td>-180.479186</td>\n      <td>-2.823354e+02</td>\n      <td>242.365199</td>\n      <td>-0.634801</td>\n      <td>-4.443608e-01</td>\n      <td>-3.110525e-01</td>\n      <td>-1.542177e+02</td>\n      <td>-2.699524e+02</td>\n    </tr>\n    <tr>\n      <th>2</th>\n      <td>346.0</td>\n      <td>167.0</td>\n      <td>166.0</td>\n      <td>117.0</td>\n      <td>0.0</td>\n      <td>0.00</td>\n      <td>169.00</td>\n      <td>2.000000e+01</td>\n      <td>-81.000</td>\n      <td>-8.1000</td>\n      <td>...</td>\n      <td>2.669997e+02</td>\n      <td>5.999692e+00</td>\n      <td>5.999692</td>\n      <td>-1.900003e+02</td>\n      <td>-80.000031</td>\n      <td>-0.000003</td>\n      <td>-3.080995e-07</td>\n      <td>-3.080995e-08</td>\n      <td>-3.080995e-09</td>\n      <td>-3.080995e-10</td>\n    </tr>\n    <tr>\n      <th>3</th>\n      <td>208.0</td>\n      <td>258.0</td>\n      <td>180.0</td>\n      <td>49.0</td>\n      <td>0.0</td>\n      <td>-48.00</td>\n      <td>-201.00</td>\n      <td>-2.760000e+02</td>\n      <td>-384.000</td>\n      <td>107.0000</td>\n      <td>...</td>\n      <td>-1.395506e-11</td>\n      <td>-2.490000e+02</td>\n      <td>-290.000000</td>\n      <td>-2.900000e+02</td>\n      <td>-477.000000</td>\n      <td>-706.000000</td>\n      <td>-8.030000e+02</td>\n      <td>-1.029000e+03</td>\n      <td>-1.089000e+03</td>\n      <td>-1.089000e+03</td>\n    </tr>\n    <tr>\n      <th>4</th>\n      <td>365.0</td>\n      <td>303.0</td>\n      <td>220.0</td>\n      <td>130.0</td>\n      <td>0.0</td>\n      <td>-49.00</td>\n      <td>-120.00</td>\n      <td>-1.910000e+02</td>\n      <td>-353.000</td>\n      <td>-409.0000</td>\n      <td>...</td>\n      <td>0.000000e+00</td>\n      <td>0.000000e+00</td>\n      <td>-1.000000</td>\n      <td>3.233254e-10</td>\n      <td>0.000000</td>\n      <td>-13.000000</td>\n      <td>-3.500000e+02</td>\n      <td>-3.630000e+02</td>\n      <td>-3.630000e+02</td>\n      <td>-3.980000e+02</td>\n    </tr>\n    <tr>\n      <th>...</th>\n      <td>...</td>\n      <td>...</td>\n      <td>...</td>\n      <td>...</td>\n      <td>...</td>\n      <td>...</td>\n      <td>...</td>\n      <td>...</td>\n      <td>...</td>\n      <td>...</td>\n      <td>...</td>\n      <td>...</td>\n      <td>...</td>\n      <td>...</td>\n      <td>...</td>\n      <td>...</td>\n      <td>...</td>\n      <td>...</td>\n      <td>...</td>\n      <td>...</td>\n      <td>...</td>\n    </tr>\n    <tr>\n      <th>95</th>\n      <td>481.0</td>\n      <td>322.0</td>\n      <td>256.0</td>\n      <td>84.0</td>\n      <td>0.0</td>\n      <td>0.00</td>\n      <td>156.00</td>\n      <td>0.000000e+00</td>\n      <td>0.000</td>\n      <td>-163.0000</td>\n      <td>...</td>\n      <td>-3.320078e+02</td>\n      <td>-2.660039e+02</td>\n      <td>-330.001953</td>\n      <td>-4.160010e+02</td>\n      <td>-0.000488</td>\n      <td>-108.000244</td>\n      <td>-1.220703e-04</td>\n      <td>-6.103516e-05</td>\n      <td>-3.051758e-05</td>\n      <td>-1.525879e-05</td>\n    </tr>\n    <tr>\n      <th>96</th>\n      <td>761.0</td>\n      <td>582.0</td>\n      <td>560.0</td>\n      <td>508.0</td>\n      <td>396.0</td>\n      <td>101.00</td>\n      <td>9.00</td>\n      <td>0.000000e+00</td>\n      <td>0.000</td>\n      <td>5.0000</td>\n      <td>...</td>\n      <td>-1.800000e-03</td>\n      <td>1.359995e+02</td>\n      <td>-0.000540</td>\n      <td>4.099984e+01</td>\n      <td>39.999838</td>\n      <td>-50.000162</td>\n      <td>-1.600000e+02</td>\n      <td>-1.458000e-05</td>\n      <td>-6.400000e+01</td>\n      <td>-2.000013e-01</td>\n    </tr>\n    <tr>\n      <th>97</th>\n      <td>709.0</td>\n      <td>638.0</td>\n      <td>737.0</td>\n      <td>683.0</td>\n      <td>570.0</td>\n      <td>461.00</td>\n      <td>449.00</td>\n      <td>1.940000e+02</td>\n      <td>194.000</td>\n      <td>170.0000</td>\n      <td>...</td>\n      <td>-2.689840e+02</td>\n      <td>-1.872000e-01</td>\n      <td>-0.149760</td>\n      <td>2.988019e+01</td>\n      <td>-0.119808</td>\n      <td>-0.095846</td>\n      <td>-7.667712e-02</td>\n      <td>-6.134170e-02</td>\n      <td>2.369509e+02</td>\n      <td>-2.104907e+01</td>\n    </tr>\n    <tr>\n      <th>98</th>\n      <td>213.0</td>\n      <td>253.0</td>\n      <td>184.0</td>\n      <td>0.0</td>\n      <td>0.0</td>\n      <td>0.00</td>\n      <td>-32.00</td>\n      <td>-3.800000e+01</td>\n      <td>-86.000</td>\n      <td>-180.0000</td>\n      <td>...</td>\n      <td>1.310000e+02</td>\n      <td>2.842171e-13</td>\n      <td>0.000000</td>\n      <td>0.000000e+00</td>\n      <td>-46.000000</td>\n      <td>-138.000000</td>\n      <td>-2.200000e+02</td>\n      <td>0.000000e+00</td>\n      <td>0.000000e+00</td>\n      <td>1.000000e+01</td>\n    </tr>\n    <tr>\n      <th>99</th>\n      <td>4.0</td>\n      <td>0.0</td>\n      <td>30.0</td>\n      <td>-164.0</td>\n      <td>-0.2</td>\n      <td>53.94</td>\n      <td>1.94</td>\n      <td>-1.610600e+02</td>\n      <td>-164.318</td>\n      <td>-208.2954</td>\n      <td>...</td>\n      <td>-8.700002e+01</td>\n      <td>8.999948e-01</td>\n      <td>-0.100005</td>\n      <td>1.497000e+01</td>\n      <td>-0.030002</td>\n      <td>111.991000</td>\n      <td>-9.000468e-03</td>\n      <td>3.399730e+01</td>\n      <td>6.799730e+01</td>\n      <td>5.499730e+01</td>\n    </tr>\n  </tbody>\n</table>\n<p>100 rows × 26 columns</p>\n</div>"
     },
     "metadata": {}
    }
   ],
   "source": [
    "print('Ending Inventory')\n",
    "df = pd.DataFrame([[EndingInventoryExpr_ij[i][j].getValue() for j in range(M)] for i in range(N)], columns=range(M))\n",
    "display(df)"
   ]
  },
  {
   "cell_type": "code",
   "execution_count": 226,
   "metadata": {
    "tags": []
   },
   "outputs": [
    {
     "output_type": "stream",
     "name": "stdout",
     "text": [
      "TotalPurchaseCost    :1038115400.00\nTotalShipFixedCost   :5570.00\nTotalShipVarCost     :5909359.00\nTotalHoldingCost     :21123054.84\nTotalContainerCost   :918500.00\nTotalBackOrderCost   :84484046.44\nTotalLostSaleCost    :602133084.25\nTotalVendorFixedCost :19200.00\nobjective-value      :1752708214.53\n"
     ]
    }
   ],
   "source": [
    "print(f'TotalPurchaseCost    :{TotalPurchaseCost.getValue():.2f}')\n",
    "print(f'TotalShipFixedCost   :{TotalShipFixedCost.getValue():.2f}')\n",
    "print(f'TotalShipVarCost     :{TotalShipVarCost.getValue():.2f}')\n",
    "print(f'TotalHoldingCost     :{TotalHoldingCost.getValue():.2f}')\n",
    "print(f'TotalContainerCost   :{TotalContainerCost.getValue():.2f}')\n",
    "print(f'TotalBackOrderCost   :{TotalBackOrderCost.getValue():.2f}')\n",
    "print(f'TotalLostSaleCost    :{TotalLostSaleCost.getValue():.2f}')\n",
    "print(f'TotalVendorFixedCost :{TotalVendorFixedCost.getValue():.2f}')\n",
    "print(f'objective-value      :{model.ObjVal:.2f}')"
   ]
  }
 ]
}