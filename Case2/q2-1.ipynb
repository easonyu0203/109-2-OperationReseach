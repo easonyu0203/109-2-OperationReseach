{
 "cells": [
  {
   "cell_type": "markdown",
   "metadata": {},
   "source": [
    "# question 2"
   ]
  },
  {
   "cell_type": "code",
   "execution_count": 27,
   "metadata": {
    "tags": []
   },
   "outputs": [],
   "source": [
    "from os import path\n",
    "import os\n",
    "import pandas as pd\n",
    "import numpy as np\n",
    "import gurobipy as gb\n",
    "from gurobipy import GRB\n",
    "from gurobipy import quicksum\n",
    "import math"
   ]
  },
  {
   "cell_type": "code",
   "execution_count": 28,
   "metadata": {
    "tags": []
   },
   "outputs": [
    {
     "output_type": "execute_result",
     "data": {
      "text/plain": [
       "'/Users/eason/Desktop/OperationReseach/Case2'"
      ]
     },
     "metadata": {},
     "execution_count": 28
    }
   ],
   "source": [
    "os.getcwd()"
   ]
  },
  {
   "cell_type": "code",
   "execution_count": 29,
   "metadata": {
    "tags": []
   },
   "outputs": [],
   "source": [
    "work_dir = os.getcwd()\n",
    "data_path = path.join(work_dir, 'data')\n",
    "data_file = path.join(data_path, 's1.xlsx')"
   ]
  },
  {
   "cell_type": "code",
   "execution_count": 30,
   "metadata": {
    "tags": []
   },
   "outputs": [],
   "source": [
    "Demand_df = pd.read_excel(data_file, sheet_name='Demand', index_col='Product')\n",
    "Init_df = pd.read_excel(data_file, sheet_name='Initial inventory', index_col='Product')\n",
    "ShippingCost_df = pd.read_excel(data_file, sheet_name='Shipping cost', index_col='Product')\n",
    "InTransit_df = pd.read_excel(data_file, sheet_name='In-transit', index_col='Product')\n",
    "CBM_df = pd.read_excel(data_file, sheet_name='Size', index_col='Product')\n",
    "PriceAndCost_df = pd.read_excel(data_file, sheet_name='Price and cost', index_col='Product')\n",
    "Shortage_df = pd.read_excel(data_file, sheet_name='Shortage', index_col='Product')\n",
    "VendorProduct_df = pd.read_excel(data_file, sheet_name='Vendor-Product', index_col='Product') - 1\n",
    "VendorCost_df = pd.read_excel(data_file, sheet_name='Vendor cost', index_col='Vendor')\n",
    "Bound_df = pd.read_excel(data_file, sheet_name='Bounds', index_col='Product')\n",
    "Conflict_df = pd.read_excel(data_file, sheet_name='Conflict', index_col='Conflict') - 1\n",
    "\n",
    "N, M = Demand_df.shape\n",
    "K = 3 #(express delivery, air freight, Ocean freight)\n",
    "V = VendorCost_df.shape[0]\n",
    "ContainerCap = 30 #Case 1 data\n",
    "ContainerCost = 2750 #Case 1 data\n",
    "# ContainerCap = 0.5 #Case 1 data\n",
    "# ContainerCost = 1500 #Case 1 data\n",
    "\n",
    "Demand_ij = Demand_df.to_numpy()\n",
    "Init_i = Init_df.to_numpy().squeeze()\n",
    "BuyCost_i = PriceAndCost_df['Purchasing cost'].to_numpy()\n",
    "HoldCost_i = PriceAndCost_df['Holding cost'].to_numpy()\n",
    "Transit_ij = InTransit_df.to_numpy()\n",
    "ShipFixedCost_k = np.array([100, 80, 50]) #Case 1 data\n",
    "ShipVarCost_ik = np.concatenate(( ShippingCost_df.to_numpy(), np.zeros((N,1)) ), axis=1)\n",
    "CBM_i = CBM_df.to_numpy().squeeze()\n",
    "LostSaleCost_i = Shortage_df['Lost sales'].to_numpy()\n",
    "BackOrderCost_i = Shortage_df['Backorder'].to_numpy()\n",
    "BackOrderProb_i = Shortage_df['Backorder percentage'].to_numpy()\n",
    "VendorFixedCost_v = VendorCost_df.to_numpy().squeeze()\n",
    "MinOrder_i = Bound_df.to_numpy().squeeze()\n",
    "ConflictPair_alpha = Conflict_df.to_numpy()\n",
    "ProductVendor_i = VendorProduct_df.to_numpy().squeeze()\n",
    "M_big = np.sum(Demand_ij) + sum(Init_i)"
   ]
  },
  {
   "cell_type": "code",
   "execution_count": 31,
   "metadata": {},
   "outputs": [],
   "source": [
    "#model\n",
    "instance_name = 's1'\n",
    "model = gb.Model(name=instance_name)"
   ]
  },
  {
   "cell_type": "code",
   "execution_count": 32,
   "metadata": {},
   "outputs": [],
   "source": [
    "#decision variable\n",
    "x = model.addVars(N, M, K, vtype=GRB.INTEGER,name='x')\n",
    "Abin = model.addVars(M, K, vtype=GRB.BINARY, name='Abin')\n",
    "ContainerCnt = model.addVars(M, vtype=GRB.INTEGER, name='ContainerCnt')\n",
    "StockLevel = model.addVars(N, M, vtype=GRB.CONTINUOUS, name='StockLevel')\n",
    "Shortage = model.addVars(N, M, vtype=GRB.CONTINUOUS, name='Shortage')\n",
    "Bbin = model.addVars(N, M, vtype=GRB.BINARY, name='Bbin')\n",
    "Cbin = model.addVars(N, M, vtype=GRB.BINARY, name='Cbin')\n",
    "Dbin = model.addVars(V, M, vtype=GRB.BINARY, name='Dbin')"
   ]
  },
  {
   "cell_type": "code",
   "execution_count": 33,
   "metadata": {},
   "outputs": [],
   "source": [
    "#Expr\n",
    "VolumeInOceanExpr_j = [\n",
    "gb.LinExpr(\n",
    "    quicksum(x[i,j,2] * CBM_i[i] for i in range(N))\n",
    ")    \n",
    "for j in range(M)]\n",
    "\n",
    "BackOrderCntExpr_ij = [\n",
    "    [\n",
    "        gb.LinExpr( Shortage[i,j] * BackOrderProb_i[i] )\n",
    "    for j in range(M)]\n",
    "for i in range(N)]\n",
    "\n",
    "LostSaleCntExpr_ij = [\n",
    "    [\n",
    "        gb.LinExpr( Shortage[i,j] * (1 - BackOrderProb_i[i]) )\n",
    "    for j in range(M)]\n",
    "for i in range(N)]"
   ]
  },
  {
   "cell_type": "code",
   "execution_count": 34,
   "metadata": {},
   "outputs": [],
   "source": [
    "#obj function\n",
    "TotalPurchaseCost = gb.LinExpr(\n",
    "    quicksum(\n",
    "        quicksum(\n",
    "            quicksum(\n",
    "                x[i,j,k] * BuyCost_i[i]\n",
    "            for i in range(N))\n",
    "        for j in range(M))\n",
    "    for k in range(K))\n",
    ")\n",
    "\n",
    "TotalShipFixedCost = gb.LinExpr(\n",
    "    quicksum(\n",
    "        quicksum(\n",
    "            Abin[j,k] * ShipFixedCost_k[k]\n",
    "        for k in range(K))\n",
    "    for j in range(M))\n",
    ")\n",
    "\n",
    "TotalShipVarCost = gb.LinExpr(\n",
    "    quicksum(\n",
    "        quicksum(\n",
    "            quicksum(\n",
    "                x[i,j,k] * ShipVarCost_ik[i,k]\n",
    "            for k in range(K))\n",
    "        for j in range(M))\n",
    "    for i in range(N))\n",
    ")\n",
    "\n",
    "TotalHoldingCost = gb.LinExpr(\n",
    "    quicksum(\n",
    "        quicksum(\n",
    "            StockLevel[i,j] * HoldCost_i[i]\n",
    "        for i in range(N))\n",
    "    for j in range(M))\n",
    ")\n",
    "\n",
    "TotalContainerCost = gb.LinExpr(\n",
    "    quicksum(ContainerCnt[j] for j in range(M)) * ContainerCost\n",
    ")\n",
    "\n",
    "TotalBackOrderCost = gb.LinExpr(\n",
    "    quicksum(\n",
    "        quicksum(\n",
    "            BackOrderCntExpr_ij[i][j] * BackOrderCost_i[i]\n",
    "        for i in range(N))\n",
    "    for j in range(M))\n",
    ")\n",
    "\n",
    "TotalLostSaleCost = gb.LinExpr(\n",
    "    quicksum(\n",
    "        quicksum(\n",
    "            LostSaleCntExpr_ij[i][j] * LostSaleCost_i[i]\n",
    "        for i in range(N))\n",
    "    for j in range(M))\n",
    ")\n",
    "\n",
    "TotalVendorFixedCost = gb.LinExpr(\n",
    "    quicksum(\n",
    "        quicksum(\n",
    "            Dbin[v,j] * VendorFixedCost_v[v]\n",
    "        for v in range(V))\n",
    "    for j in range(M))\n",
    ")"
   ]
  },
  {
   "cell_type": "code",
   "execution_count": 35,
   "metadata": {},
   "outputs": [],
   "source": [
    "#set obj function\n",
    "model.setObjective(\n",
    "    TotalPurchaseCost +\n",
    "    TotalShipFixedCost + \n",
    "    TotalShipVarCost + \n",
    "    TotalHoldingCost + \n",
    "    TotalContainerCost + \n",
    "    TotalBackOrderCost + \n",
    "    TotalLostSaleCost +\n",
    "    TotalVendorFixedCost\n",
    ")"
   ]
  },
  {
   "cell_type": "code",
   "execution_count": 36,
   "metadata": {},
   "outputs": [],
   "source": [
    "#Contrain\n",
    "\n",
    "#let Abin to behave correctly\n",
    "_ = model.addConstrs(\n",
    "    quicksum(x[i,j,k] for i in range(N)) / M_big <= Abin[j,k]\n",
    "for j in range(M)\n",
    "for k in range(K))\n",
    "\n",
    "#let ContainerCnt to behave correctly\n",
    "_ = model.addConstrs(\n",
    "    VolumeInOceanExpr_j[j] / ContainerCap <= ContainerCnt[j]\n",
    "for j in range(M))\n",
    "\n",
    "#let Stocklevle & Shortage behave correctly\n",
    "_ = model.addConstrs(StockLevel[i,0] - Shortage[i,0] == Init_i[i] - Demand_ij[i][0] for i in range(N))\n",
    "_ = model.addConstrs(StockLevel[i,1] - Shortage[i,1] == StockLevel[i,0] + x[i,0,0] + Transit_ij[i][1] - Demand_ij[i][1] - Shortage[i,0] * BackOrderProb_i[i] for i in range(N))\n",
    "_ = model.addConstrs(StockLevel[i,2] - Shortage[i,2] == StockLevel[i,1] + x[i,1,0] + x[i,0,1] + Transit_ij[i][2] - Demand_ij[i][2] - Shortage[i,1] * BackOrderProb_i[i] for i in range(N))\n",
    "_ = model.addConstrs(StockLevel[i,j] - Shortage[i,j] == StockLevel[i,j-1] + x[i,j-1,0] + x[i,j-2,1] + x[i,j-3,2] - Demand_ij[i][j] - Shortage[i,j-1] * BackOrderProb_i[i] for i in range(N) for j in range(3,M))\n",
    "\n",
    "_ = model.addConstrs(StockLevel[i,j] <= M_big * (1-Bbin[i,j]) for i in range(N) for j in range(M))\n",
    "_ = model.addConstrs(Shortage[i,j] <= M_big * Bbin[i,j] for i in range(N) for j in range(M))\n",
    "\n",
    "#let Cbin behave correctly\n",
    "_ = model.addConstrs(\n",
    "    quicksum(x[i,j,k] for k in range(K)) / M_big <= Cbin[i,j]\n",
    "for i in range(N)\n",
    "for j in range(M))\n",
    "\n",
    "#let Dbin behave correctly\n",
    "_ = model.addConstrs(\n",
    "    quicksum(\n",
    "        quicksum(x[i,j,k] for k in range(K))\n",
    "    for i in range(N) if ProductVendor_i[i] == v) / M_big <= Dbin[v,j]\n",
    "for v in range(V)\n",
    "for j in range(M))\n",
    "\n",
    "#Minumin order Bound\n",
    "_ = model.addConstrs(\n",
    "    Cbin[i,j] * MinOrder_i[i] <= quicksum(x[i,j,k] for k in range(K))\n",
    "for i in range(N)\n",
    "for j in range(M))\n",
    "\n",
    "#conflict\n",
    "_ = model.addConstrs(\n",
    "    Cbin[a,j] + Cbin[b,j] <= 1\n",
    "for j in range(M)\n",
    "for a, b in ConflictPair_alpha)"
   ]
  },
  {
   "cell_type": "code",
   "execution_count": 37,
   "metadata": {},
   "outputs": [
    {
     "output_type": "stream",
     "name": "stdout",
     "text": [
      "Gurobi Optimizer version 9.1.1 build v9.1.1rc0 (mac64)\n",
      "Thread count: 4 physical cores, 8 logical processors, using up to 8 threads\n",
      "Optimize a model with 13390 rows, 18356 columns and 65817 nonzeros\n",
      "Model fingerprint: 0xba4de12c\n",
      "Variable types: 5200 continuous, 13156 integer (5330 binary)\n",
      "Coefficient statistics:\n",
      "  Matrix range     [3e-06, 4e+05]\n",
      "  Objective range  [1e+01, 2e+04]\n",
      "  Bounds range     [1e+00, 1e+00]\n",
      "  RHS range        [1e+00, 4e+05]\n",
      "Presolve removed 4117 rows and 3057 columns\n",
      "Presolve time: 0.22s\n",
      "Presolved: 9273 rows, 15299 columns, 51451 nonzeros\n",
      "Variable types: 4274 continuous, 11025 integer (3407 binary)\n",
      "Found heuristic solution: objective 3.712039e+09\n",
      "Found heuristic solution: objective 2.568035e+09\n",
      "\n",
      "Root relaxation: objective 1.281652e+09, 5324 iterations, 0.04 seconds\n",
      "\n",
      "    Nodes    |    Current Node    |     Objective Bounds      |     Work\n",
      " Expl Unexpl |  Obj  Depth IntInf | Incumbent    BestBd   Gap | It/Node Time\n",
      "\n",
      "     0     0 1.2817e+09    0  350 2.5680e+09 1.2817e+09  50.1%     -    0s\n",
      "     0     0 1.2817e+09    0  579 2.5680e+09 1.2817e+09  50.1%     -    0s\n",
      "H    0     0                    2.568035e+09 1.2817e+09  50.1%     -    0s\n",
      "     0     0 1.2818e+09    0  479 2.5680e+09 1.2818e+09  50.1%     -    1s\n",
      "     0     0 1.2819e+09    0  482 2.5680e+09 1.2819e+09  50.1%     -    1s\n",
      "     0     0 1.2822e+09    0  522 2.5680e+09 1.2822e+09  50.1%     -    1s\n",
      "     0     0 1.2822e+09    0  497 2.5680e+09 1.2822e+09  50.1%     -    1s\n",
      "     0     0 1.2822e+09    0  503 2.5680e+09 1.2822e+09  50.1%     -    1s\n",
      "     0     0 1.2822e+09    0  508 2.5680e+09 1.2822e+09  50.1%     -    1s\n",
      "     0     0 1.2823e+09    0  457 2.5680e+09 1.2823e+09  50.1%     -    2s\n",
      "H    0     0                    2.568034e+09 1.2823e+09  50.1%     -    2s\n",
      "     0     0 1.2823e+09    0  472 2.5680e+09 1.2823e+09  50.1%     -    2s\n",
      "     0     0 1.2823e+09    0  479 2.5680e+09 1.2823e+09  50.1%     -    2s\n",
      "     0     0 1.2823e+09    0  458 2.5680e+09 1.2823e+09  50.1%     -    3s\n",
      "H    0     0                    2.568034e+09 1.2823e+09  50.1%     -    3s\n",
      "     0     0 1.2823e+09    0  459 2.5680e+09 1.2823e+09  50.1%     -    3s\n",
      "     0     0 1.2823e+09    0  445 2.5680e+09 1.2823e+09  50.1%     -    3s\n",
      "     0     0 1.2823e+09    0  429 2.5680e+09 1.2823e+09  50.1%     -    3s\n",
      "     0     0 1.2823e+09    0  426 2.5680e+09 1.2823e+09  50.1%     -    5s\n",
      "     0     2 1.2823e+09    0  425 2.5680e+09 1.2823e+09  50.1%     -    5s\n",
      "H   96    98                    2.421476e+09 1.2823e+09  47.0%   4.5    6s\n",
      "H  122   202                    2.141440e+09 1.2823e+09  40.1%   4.0    6s\n",
      "  1440  1926 1.2824e+09  118  213 2.1414e+09 1.2823e+09  40.1%   2.0   10s\n",
      "H 2378  2401                    1.881383e+09 1.2823e+09  31.8%   1.9   11s\n",
      "H 5487  5486                    1.283555e+09 1.2823e+09  0.09%   1.8   15s\n",
      "H 5489  5213                    1.283555e+09 1.2823e+09  0.09%   1.8   16s\n",
      "H 5489  4952                    1.283554e+09 1.2823e+09  0.09%   1.8   16s\n",
      "H 5489  4705                    1.283551e+09 1.2823e+09  0.09%   1.8   16s\n",
      "H 5490  4469                    1.283551e+09 1.2823e+09  0.09%   1.8   17s\n",
      "H 5495  4250                    1.283540e+09 1.2823e+09  0.09%   1.8   17s\n",
      "H 5499  4039                    1.282479e+09 1.2823e+09  0.01%   1.8   19s\n",
      "\n",
      "Cutting planes:\n",
      "  Gomory: 42\n",
      "  Cover: 1\n",
      "  Implied bound: 25\n",
      "  Projected implied bound: 4\n",
      "  Clique: 424\n",
      "  MIR: 1227\n",
      "  Flow cover: 888\n",
      "  Relax-and-lift: 1504\n",
      "\n",
      "Explored 5499 nodes (24138 simplex iterations) in 20.35 seconds\n",
      "Thread count was 8 (of 8 available processors)\n",
      "\n",
      "Solution count 10: 1.28248e+09 1.28354e+09 1.28355e+09 ... 2.14144e+09\n",
      "\n",
      "Optimal solution found (tolerance 1.00e-04)\n",
      "Best objective 1.282478825815e+09, best bound 1.282362954245e+09, gap 0.0090%\n"
     ]
    }
   ],
   "source": [
    "model.optimize()"
   ]
  },
  {
   "cell_type": "code",
   "execution_count": 38,
   "metadata": {},
   "outputs": [],
   "source": [
    "os.makedirs('solution', exist_ok=True)\n",
    "\n",
    "solution_file_path = path.join(work_dir, 'solution', 'q1.xlsx')"
   ]
  },
  {
   "cell_type": "code",
   "execution_count": 39,
   "metadata": {},
   "outputs": [
    {
     "output_type": "stream",
     "name": "stdout",
     "text": [
      "Express delivery\n"
     ]
    },
    {
     "output_type": "display_data",
     "data": {
      "text/plain": "     0   1   2   3   4   5   6   7   8   9   ...  16  17  18  19  20  21  22  \\\n0     0   0   0   0   0   0   0   0   0   0  ...   0   0   0   0   0   0   0   \n1     0   0   0   0   0   0   0   0   0   0  ...   0   0   0   0   0   0   0   \n2     0   0   0   0   0   0   0   0   0   0  ...   0   0   0   0   0   0   0   \n3     0   0   0   0   0   0   0   0   0   0  ...   0   0   0   0   0   0   0   \n4     0   0   0   0   0   0   0   0   0   0  ...   0   1   0   0   0   0   0   \n..  ...  ..  ..  ..  ..  ..  ..  ..  ..  ..  ...  ..  ..  ..  ..  ..  ..  ..   \n95    0   0   0   0   0   0   0   0   0   0  ...   0   0   0   0   0   0   0   \n96    0   0   0   0   0   0   0   0   0   0  ...   0   0   0   0   0   0   0   \n97    0   0   0   0   0   0   0   0   0   0  ...   0   0   0   0   0   0   0   \n98    0   0   0   0   0   0   0   0   0   0  ...   0   0   0   0   0   0   0   \n99  198   0   0   0   0   0   0   0   0   0  ...   0   0   0   0   0   0   0   \n\n    23  24  25  \n0    0   0   0  \n1    0   0   0  \n2    0   0   0  \n3    0   0   0  \n4    0   0   0  \n..  ..  ..  ..  \n95   0   0   0  \n96   0   0   0  \n97   0   0   0  \n98   0   0   0  \n99   0   0   0  \n\n[100 rows x 26 columns]",
      "text/html": "<div>\n<style scoped>\n    .dataframe tbody tr th:only-of-type {\n        vertical-align: middle;\n    }\n\n    .dataframe tbody tr th {\n        vertical-align: top;\n    }\n\n    .dataframe thead th {\n        text-align: right;\n    }\n</style>\n<table border=\"1\" class=\"dataframe\">\n  <thead>\n    <tr style=\"text-align: right;\">\n      <th></th>\n      <th>0</th>\n      <th>1</th>\n      <th>2</th>\n      <th>3</th>\n      <th>4</th>\n      <th>5</th>\n      <th>6</th>\n      <th>7</th>\n      <th>8</th>\n      <th>9</th>\n      <th>...</th>\n      <th>16</th>\n      <th>17</th>\n      <th>18</th>\n      <th>19</th>\n      <th>20</th>\n      <th>21</th>\n      <th>22</th>\n      <th>23</th>\n      <th>24</th>\n      <th>25</th>\n    </tr>\n  </thead>\n  <tbody>\n    <tr>\n      <th>0</th>\n      <td>0</td>\n      <td>0</td>\n      <td>0</td>\n      <td>0</td>\n      <td>0</td>\n      <td>0</td>\n      <td>0</td>\n      <td>0</td>\n      <td>0</td>\n      <td>0</td>\n      <td>...</td>\n      <td>0</td>\n      <td>0</td>\n      <td>0</td>\n      <td>0</td>\n      <td>0</td>\n      <td>0</td>\n      <td>0</td>\n      <td>0</td>\n      <td>0</td>\n      <td>0</td>\n    </tr>\n    <tr>\n      <th>1</th>\n      <td>0</td>\n      <td>0</td>\n      <td>0</td>\n      <td>0</td>\n      <td>0</td>\n      <td>0</td>\n      <td>0</td>\n      <td>0</td>\n      <td>0</td>\n      <td>0</td>\n      <td>...</td>\n      <td>0</td>\n      <td>0</td>\n      <td>0</td>\n      <td>0</td>\n      <td>0</td>\n      <td>0</td>\n      <td>0</td>\n      <td>0</td>\n      <td>0</td>\n      <td>0</td>\n    </tr>\n    <tr>\n      <th>2</th>\n      <td>0</td>\n      <td>0</td>\n      <td>0</td>\n      <td>0</td>\n      <td>0</td>\n      <td>0</td>\n      <td>0</td>\n      <td>0</td>\n      <td>0</td>\n      <td>0</td>\n      <td>...</td>\n      <td>0</td>\n      <td>0</td>\n      <td>0</td>\n      <td>0</td>\n      <td>0</td>\n      <td>0</td>\n      <td>0</td>\n      <td>0</td>\n      <td>0</td>\n      <td>0</td>\n    </tr>\n    <tr>\n      <th>3</th>\n      <td>0</td>\n      <td>0</td>\n      <td>0</td>\n      <td>0</td>\n      <td>0</td>\n      <td>0</td>\n      <td>0</td>\n      <td>0</td>\n      <td>0</td>\n      <td>0</td>\n      <td>...</td>\n      <td>0</td>\n      <td>0</td>\n      <td>0</td>\n      <td>0</td>\n      <td>0</td>\n      <td>0</td>\n      <td>0</td>\n      <td>0</td>\n      <td>0</td>\n      <td>0</td>\n    </tr>\n    <tr>\n      <th>4</th>\n      <td>0</td>\n      <td>0</td>\n      <td>0</td>\n      <td>0</td>\n      <td>0</td>\n      <td>0</td>\n      <td>0</td>\n      <td>0</td>\n      <td>0</td>\n      <td>0</td>\n      <td>...</td>\n      <td>0</td>\n      <td>1</td>\n      <td>0</td>\n      <td>0</td>\n      <td>0</td>\n      <td>0</td>\n      <td>0</td>\n      <td>0</td>\n      <td>0</td>\n      <td>0</td>\n    </tr>\n    <tr>\n      <th>...</th>\n      <td>...</td>\n      <td>...</td>\n      <td>...</td>\n      <td>...</td>\n      <td>...</td>\n      <td>...</td>\n      <td>...</td>\n      <td>...</td>\n      <td>...</td>\n      <td>...</td>\n      <td>...</td>\n      <td>...</td>\n      <td>...</td>\n      <td>...</td>\n      <td>...</td>\n      <td>...</td>\n      <td>...</td>\n      <td>...</td>\n      <td>...</td>\n      <td>...</td>\n      <td>...</td>\n    </tr>\n    <tr>\n      <th>95</th>\n      <td>0</td>\n      <td>0</td>\n      <td>0</td>\n      <td>0</td>\n      <td>0</td>\n      <td>0</td>\n      <td>0</td>\n      <td>0</td>\n      <td>0</td>\n      <td>0</td>\n      <td>...</td>\n      <td>0</td>\n      <td>0</td>\n      <td>0</td>\n      <td>0</td>\n      <td>0</td>\n      <td>0</td>\n      <td>0</td>\n      <td>0</td>\n      <td>0</td>\n      <td>0</td>\n    </tr>\n    <tr>\n      <th>96</th>\n      <td>0</td>\n      <td>0</td>\n      <td>0</td>\n      <td>0</td>\n      <td>0</td>\n      <td>0</td>\n      <td>0</td>\n      <td>0</td>\n      <td>0</td>\n      <td>0</td>\n      <td>...</td>\n      <td>0</td>\n      <td>0</td>\n      <td>0</td>\n      <td>0</td>\n      <td>0</td>\n      <td>0</td>\n      <td>0</td>\n      <td>0</td>\n      <td>0</td>\n      <td>0</td>\n    </tr>\n    <tr>\n      <th>97</th>\n      <td>0</td>\n      <td>0</td>\n      <td>0</td>\n      <td>0</td>\n      <td>0</td>\n      <td>0</td>\n      <td>0</td>\n      <td>0</td>\n      <td>0</td>\n      <td>0</td>\n      <td>...</td>\n      <td>0</td>\n      <td>0</td>\n      <td>0</td>\n      <td>0</td>\n      <td>0</td>\n      <td>0</td>\n      <td>0</td>\n      <td>0</td>\n      <td>0</td>\n      <td>0</td>\n    </tr>\n    <tr>\n      <th>98</th>\n      <td>0</td>\n      <td>0</td>\n      <td>0</td>\n      <td>0</td>\n      <td>0</td>\n      <td>0</td>\n      <td>0</td>\n      <td>0</td>\n      <td>0</td>\n      <td>0</td>\n      <td>...</td>\n      <td>0</td>\n      <td>0</td>\n      <td>0</td>\n      <td>0</td>\n      <td>0</td>\n      <td>0</td>\n      <td>0</td>\n      <td>0</td>\n      <td>0</td>\n      <td>0</td>\n    </tr>\n    <tr>\n      <th>99</th>\n      <td>198</td>\n      <td>0</td>\n      <td>0</td>\n      <td>0</td>\n      <td>0</td>\n      <td>0</td>\n      <td>0</td>\n      <td>0</td>\n      <td>0</td>\n      <td>0</td>\n      <td>...</td>\n      <td>0</td>\n      <td>0</td>\n      <td>0</td>\n      <td>0</td>\n      <td>0</td>\n      <td>0</td>\n      <td>0</td>\n      <td>0</td>\n      <td>0</td>\n      <td>0</td>\n    </tr>\n  </tbody>\n</table>\n<p>100 rows × 26 columns</p>\n</div>"
     },
     "metadata": {}
    },
    {
     "output_type": "stream",
     "name": "stdout",
     "text": [
      "Air frieght\n"
     ]
    },
    {
     "output_type": "display_data",
     "data": {
      "text/plain": "     0   1   2   3   4   5   6   7   8   9   ...  16  17  18  19  20  21  22  \\\n0     0   0   0   0   0   0   0   0   0   0  ...   0   0   0   0   0   0   0   \n1     0   0   0   0   0   0   0   0   0   0  ...   0   0   0   0   0   0   0   \n2     0   0   0   0   0   0   0   0   0  17  ...   0   0   0   0   0   0   0   \n3     0   0   0   0   0   0   0   0   0   0  ...   0   0   0   0   0   0   0   \n4     0   0   7   0   0   0   4   0   0   0  ...   0   0   0   0   0   0   0   \n..  ...  ..  ..  ..  ..  ..  ..  ..  ..  ..  ...  ..  ..  ..  ..  ..  ..  ..   \n95    0   0   8   0   0   0   0   0   0   0  ...   0   0   0   0   0   0   0   \n96    0   0   0   0   0   0   0   0   0   0  ...   0   0   0   0   0   0   0   \n97    0   0   0   0   0   0   0   0   0   0  ...   0   0   0   0   0   0   0   \n98    0   0   0   0   0   0   0   0   0   0  ...   0   0   0   0   0   0   0   \n99  154   0   0   0   0   0   0   0   0   0  ...   0   0   0   0   0   0   0   \n\n    23  24  25  \n0    0   0   0  \n1    0   0   0  \n2    0   0   0  \n3    0   0   0  \n4    0   0   0  \n..  ..  ..  ..  \n95   0   0   0  \n96   0   0   0  \n97   0   0   0  \n98   0   0   0  \n99   0   0   0  \n\n[100 rows x 26 columns]",
      "text/html": "<div>\n<style scoped>\n    .dataframe tbody tr th:only-of-type {\n        vertical-align: middle;\n    }\n\n    .dataframe tbody tr th {\n        vertical-align: top;\n    }\n\n    .dataframe thead th {\n        text-align: right;\n    }\n</style>\n<table border=\"1\" class=\"dataframe\">\n  <thead>\n    <tr style=\"text-align: right;\">\n      <th></th>\n      <th>0</th>\n      <th>1</th>\n      <th>2</th>\n      <th>3</th>\n      <th>4</th>\n      <th>5</th>\n      <th>6</th>\n      <th>7</th>\n      <th>8</th>\n      <th>9</th>\n      <th>...</th>\n      <th>16</th>\n      <th>17</th>\n      <th>18</th>\n      <th>19</th>\n      <th>20</th>\n      <th>21</th>\n      <th>22</th>\n      <th>23</th>\n      <th>24</th>\n      <th>25</th>\n    </tr>\n  </thead>\n  <tbody>\n    <tr>\n      <th>0</th>\n      <td>0</td>\n      <td>0</td>\n      <td>0</td>\n      <td>0</td>\n      <td>0</td>\n      <td>0</td>\n      <td>0</td>\n      <td>0</td>\n      <td>0</td>\n      <td>0</td>\n      <td>...</td>\n      <td>0</td>\n      <td>0</td>\n      <td>0</td>\n      <td>0</td>\n      <td>0</td>\n      <td>0</td>\n      <td>0</td>\n      <td>0</td>\n      <td>0</td>\n      <td>0</td>\n    </tr>\n    <tr>\n      <th>1</th>\n      <td>0</td>\n      <td>0</td>\n      <td>0</td>\n      <td>0</td>\n      <td>0</td>\n      <td>0</td>\n      <td>0</td>\n      <td>0</td>\n      <td>0</td>\n      <td>0</td>\n      <td>...</td>\n      <td>0</td>\n      <td>0</td>\n      <td>0</td>\n      <td>0</td>\n      <td>0</td>\n      <td>0</td>\n      <td>0</td>\n      <td>0</td>\n      <td>0</td>\n      <td>0</td>\n    </tr>\n    <tr>\n      <th>2</th>\n      <td>0</td>\n      <td>0</td>\n      <td>0</td>\n      <td>0</td>\n      <td>0</td>\n      <td>0</td>\n      <td>0</td>\n      <td>0</td>\n      <td>0</td>\n      <td>17</td>\n      <td>...</td>\n      <td>0</td>\n      <td>0</td>\n      <td>0</td>\n      <td>0</td>\n      <td>0</td>\n      <td>0</td>\n      <td>0</td>\n      <td>0</td>\n      <td>0</td>\n      <td>0</td>\n    </tr>\n    <tr>\n      <th>3</th>\n      <td>0</td>\n      <td>0</td>\n      <td>0</td>\n      <td>0</td>\n      <td>0</td>\n      <td>0</td>\n      <td>0</td>\n      <td>0</td>\n      <td>0</td>\n      <td>0</td>\n      <td>...</td>\n      <td>0</td>\n      <td>0</td>\n      <td>0</td>\n      <td>0</td>\n      <td>0</td>\n      <td>0</td>\n      <td>0</td>\n      <td>0</td>\n      <td>0</td>\n      <td>0</td>\n    </tr>\n    <tr>\n      <th>4</th>\n      <td>0</td>\n      <td>0</td>\n      <td>7</td>\n      <td>0</td>\n      <td>0</td>\n      <td>0</td>\n      <td>4</td>\n      <td>0</td>\n      <td>0</td>\n      <td>0</td>\n      <td>...</td>\n      <td>0</td>\n      <td>0</td>\n      <td>0</td>\n      <td>0</td>\n      <td>0</td>\n      <td>0</td>\n      <td>0</td>\n      <td>0</td>\n      <td>0</td>\n      <td>0</td>\n    </tr>\n    <tr>\n      <th>...</th>\n      <td>...</td>\n      <td>...</td>\n      <td>...</td>\n      <td>...</td>\n      <td>...</td>\n      <td>...</td>\n      <td>...</td>\n      <td>...</td>\n      <td>...</td>\n      <td>...</td>\n      <td>...</td>\n      <td>...</td>\n      <td>...</td>\n      <td>...</td>\n      <td>...</td>\n      <td>...</td>\n      <td>...</td>\n      <td>...</td>\n      <td>...</td>\n      <td>...</td>\n      <td>...</td>\n    </tr>\n    <tr>\n      <th>95</th>\n      <td>0</td>\n      <td>0</td>\n      <td>8</td>\n      <td>0</td>\n      <td>0</td>\n      <td>0</td>\n      <td>0</td>\n      <td>0</td>\n      <td>0</td>\n      <td>0</td>\n      <td>...</td>\n      <td>0</td>\n      <td>0</td>\n      <td>0</td>\n      <td>0</td>\n      <td>0</td>\n      <td>0</td>\n      <td>0</td>\n      <td>0</td>\n      <td>0</td>\n      <td>0</td>\n    </tr>\n    <tr>\n      <th>96</th>\n      <td>0</td>\n      <td>0</td>\n      <td>0</td>\n      <td>0</td>\n      <td>0</td>\n      <td>0</td>\n      <td>0</td>\n      <td>0</td>\n      <td>0</td>\n      <td>0</td>\n      <td>...</td>\n      <td>0</td>\n      <td>0</td>\n      <td>0</td>\n      <td>0</td>\n      <td>0</td>\n      <td>0</td>\n      <td>0</td>\n      <td>0</td>\n      <td>0</td>\n      <td>0</td>\n    </tr>\n    <tr>\n      <th>97</th>\n      <td>0</td>\n      <td>0</td>\n      <td>0</td>\n      <td>0</td>\n      <td>0</td>\n      <td>0</td>\n      <td>0</td>\n      <td>0</td>\n      <td>0</td>\n      <td>0</td>\n      <td>...</td>\n      <td>0</td>\n      <td>0</td>\n      <td>0</td>\n      <td>0</td>\n      <td>0</td>\n      <td>0</td>\n      <td>0</td>\n      <td>0</td>\n      <td>0</td>\n      <td>0</td>\n    </tr>\n    <tr>\n      <th>98</th>\n      <td>0</td>\n      <td>0</td>\n      <td>0</td>\n      <td>0</td>\n      <td>0</td>\n      <td>0</td>\n      <td>0</td>\n      <td>0</td>\n      <td>0</td>\n      <td>0</td>\n      <td>...</td>\n      <td>0</td>\n      <td>0</td>\n      <td>0</td>\n      <td>0</td>\n      <td>0</td>\n      <td>0</td>\n      <td>0</td>\n      <td>0</td>\n      <td>0</td>\n      <td>0</td>\n    </tr>\n    <tr>\n      <th>99</th>\n      <td>154</td>\n      <td>0</td>\n      <td>0</td>\n      <td>0</td>\n      <td>0</td>\n      <td>0</td>\n      <td>0</td>\n      <td>0</td>\n      <td>0</td>\n      <td>0</td>\n      <td>...</td>\n      <td>0</td>\n      <td>0</td>\n      <td>0</td>\n      <td>0</td>\n      <td>0</td>\n      <td>0</td>\n      <td>0</td>\n      <td>0</td>\n      <td>0</td>\n      <td>0</td>\n    </tr>\n  </tbody>\n</table>\n<p>100 rows × 26 columns</p>\n</div>"
     },
     "metadata": {}
    },
    {
     "output_type": "stream",
     "name": "stdout",
     "text": [
      "Ocean frieght\n"
     ]
    },
    {
     "output_type": "display_data",
     "data": {
      "text/plain": "     0    1    2    3    4    5    6    7    8    9   ...   16   17   18   19  \\\n0     0    0   38   79   12  151  165  142  163  100  ...    0   67  148  118   \n1     0    0   60  241  168    0  198    0  157  197  ...  156   60  239    0   \n2     0   82  200   66  199  101    0  270  220   33  ...  196   61    0  174   \n3     0   97  155  153   75  108  139   97  182  107  ...    0    0    0    0   \n4     0   60   53   67   71  158   56  203    0   79  ...    0  193    0    0   \n..  ...  ...  ...  ...  ...  ...  ...  ...  ...  ...  ...  ...  ...  ...  ...   \n95    0    0  113  114  156  213  163  125  138  177  ...  251  202  108  102   \n96    0    0    0    0  190   55    0  100  264  129  ...  144   52  101  145   \n97    0    0    0    0    0    0    0    0    0    0  ...  292   30    0  147   \n98    0   52  143   62  129   67  137   10  192   79  ...   38   63  115  151   \n99  194  122  149   52  282  116  159   99  196    0  ...  322  120  277  116   \n\n     20   21   22  23  24  25  \n0   166   66    0   0   0   0  \n1   227    0    0   0   0   0  \n2   332    0  187   0   0   0  \n3     0    0    0   0   0   0  \n4     0    0    0   0   0   0  \n..  ...  ...  ...  ..  ..  ..  \n95  136  255  283   0   0   0  \n96  317   66  217   0   0   0  \n97  178    0    0   0   0   0  \n98   74    0   10   0   0   0  \n99  259    0  255   0   0   0  \n\n[100 rows x 26 columns]",
      "text/html": "<div>\n<style scoped>\n    .dataframe tbody tr th:only-of-type {\n        vertical-align: middle;\n    }\n\n    .dataframe tbody tr th {\n        vertical-align: top;\n    }\n\n    .dataframe thead th {\n        text-align: right;\n    }\n</style>\n<table border=\"1\" class=\"dataframe\">\n  <thead>\n    <tr style=\"text-align: right;\">\n      <th></th>\n      <th>0</th>\n      <th>1</th>\n      <th>2</th>\n      <th>3</th>\n      <th>4</th>\n      <th>5</th>\n      <th>6</th>\n      <th>7</th>\n      <th>8</th>\n      <th>9</th>\n      <th>...</th>\n      <th>16</th>\n      <th>17</th>\n      <th>18</th>\n      <th>19</th>\n      <th>20</th>\n      <th>21</th>\n      <th>22</th>\n      <th>23</th>\n      <th>24</th>\n      <th>25</th>\n    </tr>\n  </thead>\n  <tbody>\n    <tr>\n      <th>0</th>\n      <td>0</td>\n      <td>0</td>\n      <td>38</td>\n      <td>79</td>\n      <td>12</td>\n      <td>151</td>\n      <td>165</td>\n      <td>142</td>\n      <td>163</td>\n      <td>100</td>\n      <td>...</td>\n      <td>0</td>\n      <td>67</td>\n      <td>148</td>\n      <td>118</td>\n      <td>166</td>\n      <td>66</td>\n      <td>0</td>\n      <td>0</td>\n      <td>0</td>\n      <td>0</td>\n    </tr>\n    <tr>\n      <th>1</th>\n      <td>0</td>\n      <td>0</td>\n      <td>60</td>\n      <td>241</td>\n      <td>168</td>\n      <td>0</td>\n      <td>198</td>\n      <td>0</td>\n      <td>157</td>\n      <td>197</td>\n      <td>...</td>\n      <td>156</td>\n      <td>60</td>\n      <td>239</td>\n      <td>0</td>\n      <td>227</td>\n      <td>0</td>\n      <td>0</td>\n      <td>0</td>\n      <td>0</td>\n      <td>0</td>\n    </tr>\n    <tr>\n      <th>2</th>\n      <td>0</td>\n      <td>82</td>\n      <td>200</td>\n      <td>66</td>\n      <td>199</td>\n      <td>101</td>\n      <td>0</td>\n      <td>270</td>\n      <td>220</td>\n      <td>33</td>\n      <td>...</td>\n      <td>196</td>\n      <td>61</td>\n      <td>0</td>\n      <td>174</td>\n      <td>332</td>\n      <td>0</td>\n      <td>187</td>\n      <td>0</td>\n      <td>0</td>\n      <td>0</td>\n    </tr>\n    <tr>\n      <th>3</th>\n      <td>0</td>\n      <td>97</td>\n      <td>155</td>\n      <td>153</td>\n      <td>75</td>\n      <td>108</td>\n      <td>139</td>\n      <td>97</td>\n      <td>182</td>\n      <td>107</td>\n      <td>...</td>\n      <td>0</td>\n      <td>0</td>\n      <td>0</td>\n      <td>0</td>\n      <td>0</td>\n      <td>0</td>\n      <td>0</td>\n      <td>0</td>\n      <td>0</td>\n      <td>0</td>\n    </tr>\n    <tr>\n      <th>4</th>\n      <td>0</td>\n      <td>60</td>\n      <td>53</td>\n      <td>67</td>\n      <td>71</td>\n      <td>158</td>\n      <td>56</td>\n      <td>203</td>\n      <td>0</td>\n      <td>79</td>\n      <td>...</td>\n      <td>0</td>\n      <td>193</td>\n      <td>0</td>\n      <td>0</td>\n      <td>0</td>\n      <td>0</td>\n      <td>0</td>\n      <td>0</td>\n      <td>0</td>\n      <td>0</td>\n    </tr>\n    <tr>\n      <th>...</th>\n      <td>...</td>\n      <td>...</td>\n      <td>...</td>\n      <td>...</td>\n      <td>...</td>\n      <td>...</td>\n      <td>...</td>\n      <td>...</td>\n      <td>...</td>\n      <td>...</td>\n      <td>...</td>\n      <td>...</td>\n      <td>...</td>\n      <td>...</td>\n      <td>...</td>\n      <td>...</td>\n      <td>...</td>\n      <td>...</td>\n      <td>...</td>\n      <td>...</td>\n      <td>...</td>\n    </tr>\n    <tr>\n      <th>95</th>\n      <td>0</td>\n      <td>0</td>\n      <td>113</td>\n      <td>114</td>\n      <td>156</td>\n      <td>213</td>\n      <td>163</td>\n      <td>125</td>\n      <td>138</td>\n      <td>177</td>\n      <td>...</td>\n      <td>251</td>\n      <td>202</td>\n      <td>108</td>\n      <td>102</td>\n      <td>136</td>\n      <td>255</td>\n      <td>283</td>\n      <td>0</td>\n      <td>0</td>\n      <td>0</td>\n    </tr>\n    <tr>\n      <th>96</th>\n      <td>0</td>\n      <td>0</td>\n      <td>0</td>\n      <td>0</td>\n      <td>190</td>\n      <td>55</td>\n      <td>0</td>\n      <td>100</td>\n      <td>264</td>\n      <td>129</td>\n      <td>...</td>\n      <td>144</td>\n      <td>52</td>\n      <td>101</td>\n      <td>145</td>\n      <td>317</td>\n      <td>66</td>\n      <td>217</td>\n      <td>0</td>\n      <td>0</td>\n      <td>0</td>\n    </tr>\n    <tr>\n      <th>97</th>\n      <td>0</td>\n      <td>0</td>\n      <td>0</td>\n      <td>0</td>\n      <td>0</td>\n      <td>0</td>\n      <td>0</td>\n      <td>0</td>\n      <td>0</td>\n      <td>0</td>\n      <td>...</td>\n      <td>292</td>\n      <td>30</td>\n      <td>0</td>\n      <td>147</td>\n      <td>178</td>\n      <td>0</td>\n      <td>0</td>\n      <td>0</td>\n      <td>0</td>\n      <td>0</td>\n    </tr>\n    <tr>\n      <th>98</th>\n      <td>0</td>\n      <td>52</td>\n      <td>143</td>\n      <td>62</td>\n      <td>129</td>\n      <td>67</td>\n      <td>137</td>\n      <td>10</td>\n      <td>192</td>\n      <td>79</td>\n      <td>...</td>\n      <td>38</td>\n      <td>63</td>\n      <td>115</td>\n      <td>151</td>\n      <td>74</td>\n      <td>0</td>\n      <td>10</td>\n      <td>0</td>\n      <td>0</td>\n      <td>0</td>\n    </tr>\n    <tr>\n      <th>99</th>\n      <td>194</td>\n      <td>122</td>\n      <td>149</td>\n      <td>52</td>\n      <td>282</td>\n      <td>116</td>\n      <td>159</td>\n      <td>99</td>\n      <td>196</td>\n      <td>0</td>\n      <td>...</td>\n      <td>322</td>\n      <td>120</td>\n      <td>277</td>\n      <td>116</td>\n      <td>259</td>\n      <td>0</td>\n      <td>255</td>\n      <td>0</td>\n      <td>0</td>\n      <td>0</td>\n    </tr>\n  </tbody>\n</table>\n<p>100 rows × 26 columns</p>\n</div>"
     },
     "metadata": {}
    },
    {
     "output_type": "stream",
     "name": "stdout",
     "text": [
      "StockLevel\n"
     ]
    },
    {
     "output_type": "display_data",
     "data": {
      "text/plain": "       0      1      2      3      4      5      6      7      8      9   ...  \\\n0   662.0  607.0  435.0  241.0  147.0    0.0    0.0    0.0    0.0    0.0  ...   \n1   410.0  357.0  289.0  104.0   91.0   15.0    0.0   23.0    0.0   13.0  ...   \n2   346.0  167.0  166.0  117.0    0.0    0.0    0.0    0.0    0.0    0.0  ...   \n3   208.0  258.0  180.0   49.0    0.0    0.0    0.0    0.0    0.0    0.0  ...   \n4   365.0  303.0  220.0  130.0    0.0    4.0    0.0    0.0    0.0    0.0  ...   \n..    ...    ...    ...    ...    ...    ...    ...    ...    ...    ...  ...   \n95  481.0  322.0  256.0   84.0    0.0    0.0    0.0    0.0    0.0    0.0  ...   \n96  761.0  582.0  560.0  508.0  396.0  101.0    9.0    0.0    0.0    0.0  ...   \n97  709.0  638.0  737.0  683.0  570.0  461.0  449.0  194.0  194.0  170.0  ...   \n98  213.0  253.0  184.0    0.0    0.0    0.0    0.0    0.0    0.0    0.0  ...   \n99    4.0    0.0    0.0    0.0    0.0    0.0    0.0    0.0    0.0    0.0  ...   \n\n     16   17   18   19   20   21   22   23   24   25  \n0   0.0  0.0  0.0  0.0  0.0  0.0  0.0  0.0  0.0  0.0  \n1   0.0  0.0  0.0  0.0  4.0  0.0  0.0  0.0  0.0  0.0  \n2   0.0  0.0  0.0  0.0  0.0  0.0  0.0  0.0  0.0  0.0  \n3   0.0  0.0  0.0  0.0  0.0  0.0  0.0  0.0  0.0  0.0  \n4   0.0  0.0  0.0  0.0  0.0  0.0  0.0  0.0  0.0  0.0  \n..  ...  ...  ...  ...  ...  ...  ...  ...  ...  ...  \n95  0.0  0.0  0.0  0.0  0.0  0.0  0.0  0.0  0.0  0.0  \n96  0.0  0.0  0.0  0.0  0.0  0.0  0.0  0.0  0.0  0.0  \n97  0.0  0.0  0.0  0.0  0.0  0.0  0.0  0.0  0.0  0.0  \n98  0.0  0.0  0.0  0.0  0.0  0.0  0.0  0.0  0.0  0.0  \n99  0.0  0.0  0.0  0.0  0.0  0.0  0.0  0.0  0.0  0.0  \n\n[100 rows x 26 columns]",
      "text/html": "<div>\n<style scoped>\n    .dataframe tbody tr th:only-of-type {\n        vertical-align: middle;\n    }\n\n    .dataframe tbody tr th {\n        vertical-align: top;\n    }\n\n    .dataframe thead th {\n        text-align: right;\n    }\n</style>\n<table border=\"1\" class=\"dataframe\">\n  <thead>\n    <tr style=\"text-align: right;\">\n      <th></th>\n      <th>0</th>\n      <th>1</th>\n      <th>2</th>\n      <th>3</th>\n      <th>4</th>\n      <th>5</th>\n      <th>6</th>\n      <th>7</th>\n      <th>8</th>\n      <th>9</th>\n      <th>...</th>\n      <th>16</th>\n      <th>17</th>\n      <th>18</th>\n      <th>19</th>\n      <th>20</th>\n      <th>21</th>\n      <th>22</th>\n      <th>23</th>\n      <th>24</th>\n      <th>25</th>\n    </tr>\n  </thead>\n  <tbody>\n    <tr>\n      <th>0</th>\n      <td>662.0</td>\n      <td>607.0</td>\n      <td>435.0</td>\n      <td>241.0</td>\n      <td>147.0</td>\n      <td>0.0</td>\n      <td>0.0</td>\n      <td>0.0</td>\n      <td>0.0</td>\n      <td>0.0</td>\n      <td>...</td>\n      <td>0.0</td>\n      <td>0.0</td>\n      <td>0.0</td>\n      <td>0.0</td>\n      <td>0.0</td>\n      <td>0.0</td>\n      <td>0.0</td>\n      <td>0.0</td>\n      <td>0.0</td>\n      <td>0.0</td>\n    </tr>\n    <tr>\n      <th>1</th>\n      <td>410.0</td>\n      <td>357.0</td>\n      <td>289.0</td>\n      <td>104.0</td>\n      <td>91.0</td>\n      <td>15.0</td>\n      <td>0.0</td>\n      <td>23.0</td>\n      <td>0.0</td>\n      <td>13.0</td>\n      <td>...</td>\n      <td>0.0</td>\n      <td>0.0</td>\n      <td>0.0</td>\n      <td>0.0</td>\n      <td>4.0</td>\n      <td>0.0</td>\n      <td>0.0</td>\n      <td>0.0</td>\n      <td>0.0</td>\n      <td>0.0</td>\n    </tr>\n    <tr>\n      <th>2</th>\n      <td>346.0</td>\n      <td>167.0</td>\n      <td>166.0</td>\n      <td>117.0</td>\n      <td>0.0</td>\n      <td>0.0</td>\n      <td>0.0</td>\n      <td>0.0</td>\n      <td>0.0</td>\n      <td>0.0</td>\n      <td>...</td>\n      <td>0.0</td>\n      <td>0.0</td>\n      <td>0.0</td>\n      <td>0.0</td>\n      <td>0.0</td>\n      <td>0.0</td>\n      <td>0.0</td>\n      <td>0.0</td>\n      <td>0.0</td>\n      <td>0.0</td>\n    </tr>\n    <tr>\n      <th>3</th>\n      <td>208.0</td>\n      <td>258.0</td>\n      <td>180.0</td>\n      <td>49.0</td>\n      <td>0.0</td>\n      <td>0.0</td>\n      <td>0.0</td>\n      <td>0.0</td>\n      <td>0.0</td>\n      <td>0.0</td>\n      <td>...</td>\n      <td>0.0</td>\n      <td>0.0</td>\n      <td>0.0</td>\n      <td>0.0</td>\n      <td>0.0</td>\n      <td>0.0</td>\n      <td>0.0</td>\n      <td>0.0</td>\n      <td>0.0</td>\n      <td>0.0</td>\n    </tr>\n    <tr>\n      <th>4</th>\n      <td>365.0</td>\n      <td>303.0</td>\n      <td>220.0</td>\n      <td>130.0</td>\n      <td>0.0</td>\n      <td>4.0</td>\n      <td>0.0</td>\n      <td>0.0</td>\n      <td>0.0</td>\n      <td>0.0</td>\n      <td>...</td>\n      <td>0.0</td>\n      <td>0.0</td>\n      <td>0.0</td>\n      <td>0.0</td>\n      <td>0.0</td>\n      <td>0.0</td>\n      <td>0.0</td>\n      <td>0.0</td>\n      <td>0.0</td>\n      <td>0.0</td>\n    </tr>\n    <tr>\n      <th>...</th>\n      <td>...</td>\n      <td>...</td>\n      <td>...</td>\n      <td>...</td>\n      <td>...</td>\n      <td>...</td>\n      <td>...</td>\n      <td>...</td>\n      <td>...</td>\n      <td>...</td>\n      <td>...</td>\n      <td>...</td>\n      <td>...</td>\n      <td>...</td>\n      <td>...</td>\n      <td>...</td>\n      <td>...</td>\n      <td>...</td>\n      <td>...</td>\n      <td>...</td>\n      <td>...</td>\n    </tr>\n    <tr>\n      <th>95</th>\n      <td>481.0</td>\n      <td>322.0</td>\n      <td>256.0</td>\n      <td>84.0</td>\n      <td>0.0</td>\n      <td>0.0</td>\n      <td>0.0</td>\n      <td>0.0</td>\n      <td>0.0</td>\n      <td>0.0</td>\n      <td>...</td>\n      <td>0.0</td>\n      <td>0.0</td>\n      <td>0.0</td>\n      <td>0.0</td>\n      <td>0.0</td>\n      <td>0.0</td>\n      <td>0.0</td>\n      <td>0.0</td>\n      <td>0.0</td>\n      <td>0.0</td>\n    </tr>\n    <tr>\n      <th>96</th>\n      <td>761.0</td>\n      <td>582.0</td>\n      <td>560.0</td>\n      <td>508.0</td>\n      <td>396.0</td>\n      <td>101.0</td>\n      <td>9.0</td>\n      <td>0.0</td>\n      <td>0.0</td>\n      <td>0.0</td>\n      <td>...</td>\n      <td>0.0</td>\n      <td>0.0</td>\n      <td>0.0</td>\n      <td>0.0</td>\n      <td>0.0</td>\n      <td>0.0</td>\n      <td>0.0</td>\n      <td>0.0</td>\n      <td>0.0</td>\n      <td>0.0</td>\n    </tr>\n    <tr>\n      <th>97</th>\n      <td>709.0</td>\n      <td>638.0</td>\n      <td>737.0</td>\n      <td>683.0</td>\n      <td>570.0</td>\n      <td>461.0</td>\n      <td>449.0</td>\n      <td>194.0</td>\n      <td>194.0</td>\n      <td>170.0</td>\n      <td>...</td>\n      <td>0.0</td>\n      <td>0.0</td>\n      <td>0.0</td>\n      <td>0.0</td>\n      <td>0.0</td>\n      <td>0.0</td>\n      <td>0.0</td>\n      <td>0.0</td>\n      <td>0.0</td>\n      <td>0.0</td>\n    </tr>\n    <tr>\n      <th>98</th>\n      <td>213.0</td>\n      <td>253.0</td>\n      <td>184.0</td>\n      <td>0.0</td>\n      <td>0.0</td>\n      <td>0.0</td>\n      <td>0.0</td>\n      <td>0.0</td>\n      <td>0.0</td>\n      <td>0.0</td>\n      <td>...</td>\n      <td>0.0</td>\n      <td>0.0</td>\n      <td>0.0</td>\n      <td>0.0</td>\n      <td>0.0</td>\n      <td>0.0</td>\n      <td>0.0</td>\n      <td>0.0</td>\n      <td>0.0</td>\n      <td>0.0</td>\n    </tr>\n    <tr>\n      <th>99</th>\n      <td>4.0</td>\n      <td>0.0</td>\n      <td>0.0</td>\n      <td>0.0</td>\n      <td>0.0</td>\n      <td>0.0</td>\n      <td>0.0</td>\n      <td>0.0</td>\n      <td>0.0</td>\n      <td>0.0</td>\n      <td>...</td>\n      <td>0.0</td>\n      <td>0.0</td>\n      <td>0.0</td>\n      <td>0.0</td>\n      <td>0.0</td>\n      <td>0.0</td>\n      <td>0.0</td>\n      <td>0.0</td>\n      <td>0.0</td>\n      <td>0.0</td>\n    </tr>\n  </tbody>\n</table>\n<p>100 rows × 26 columns</p>\n</div>"
     },
     "metadata": {}
    },
    {
     "output_type": "stream",
     "name": "stdout",
     "text": [
      "Shortage\n"
     ]
    },
    {
     "output_type": "display_data",
     "data": {
      "text/plain": "     0    1    2    3    4    5    6    7    8    9   ...   16     17     18  \\\n0   0.0  0.0  0.0  0.0  0.0  0.0  0.0  0.0  0.0  0.0  ...  0.0    0.0    0.0   \n1   0.0  0.0  0.0  0.0  0.0  0.0  0.0  0.0  0.0  0.0  ...  0.0    0.0    0.0   \n2   0.0  0.0  0.0  0.0  0.0  0.0  0.0  0.0  0.0  0.0  ...  0.0    0.0    0.0   \n3   0.0  0.0  0.0  0.0  0.0  0.0  0.0  0.0  0.0  0.0  ...  0.0  249.0  290.0   \n4   0.0  0.0  0.0  0.0  0.0  0.0  0.0  0.0  0.0  0.0  ...  0.0    0.0    0.0   \n..  ...  ...  ...  ...  ...  ...  ...  ...  ...  ...  ...  ...    ...    ...   \n95  0.0  0.0  0.0  0.0  0.0  0.0  0.0  0.0  0.0  0.0  ...  0.0    0.0    0.0   \n96  0.0  0.0  0.0  0.0  0.0  0.0  0.0  0.0  0.0  0.0  ...  0.0    0.0    0.0   \n97  0.0  0.0  0.0  0.0  0.0  0.0  0.0  0.0  0.0  0.0  ...  0.0    0.0    0.0   \n98  0.0  0.0  0.0  0.0  0.0  0.0  0.0  0.0  0.0  0.0  ...  0.0    0.0    0.0   \n99  0.0  0.0  0.0  0.0  0.0  0.0  0.0  0.0  0.0  0.0  ...  0.0    0.0    0.0   \n\n       19     20     21     22      23      24      25  \n0     0.0    0.0    0.0    0.0     0.0     0.0     0.0  \n1     0.0    0.0    0.0    0.0     0.0   154.0   269.8  \n2     0.0    0.0    0.0    0.0     0.0     0.0     0.0  \n3   290.0  477.0  706.0  803.0  1029.0  1089.0  1089.0  \n4     0.0    0.0   13.0  350.0   363.0   363.0   398.0  \n..    ...    ...    ...    ...     ...     ...     ...  \n95    0.0    0.0    0.0    0.0     0.0     0.0     0.0  \n96    0.0    0.0    0.0    0.0     0.0     0.0     0.0  \n97    0.0    0.0    0.0    0.0     0.0     0.0   258.0  \n98    0.0    0.0    0.0    0.0     0.0     0.0     0.0  \n99    0.0    0.0    0.0    0.0     0.0     0.0     0.0  \n\n[100 rows x 26 columns]",
      "text/html": "<div>\n<style scoped>\n    .dataframe tbody tr th:only-of-type {\n        vertical-align: middle;\n    }\n\n    .dataframe tbody tr th {\n        vertical-align: top;\n    }\n\n    .dataframe thead th {\n        text-align: right;\n    }\n</style>\n<table border=\"1\" class=\"dataframe\">\n  <thead>\n    <tr style=\"text-align: right;\">\n      <th></th>\n      <th>0</th>\n      <th>1</th>\n      <th>2</th>\n      <th>3</th>\n      <th>4</th>\n      <th>5</th>\n      <th>6</th>\n      <th>7</th>\n      <th>8</th>\n      <th>9</th>\n      <th>...</th>\n      <th>16</th>\n      <th>17</th>\n      <th>18</th>\n      <th>19</th>\n      <th>20</th>\n      <th>21</th>\n      <th>22</th>\n      <th>23</th>\n      <th>24</th>\n      <th>25</th>\n    </tr>\n  </thead>\n  <tbody>\n    <tr>\n      <th>0</th>\n      <td>0.0</td>\n      <td>0.0</td>\n      <td>0.0</td>\n      <td>0.0</td>\n      <td>0.0</td>\n      <td>0.0</td>\n      <td>0.0</td>\n      <td>0.0</td>\n      <td>0.0</td>\n      <td>0.0</td>\n      <td>...</td>\n      <td>0.0</td>\n      <td>0.0</td>\n      <td>0.0</td>\n      <td>0.0</td>\n      <td>0.0</td>\n      <td>0.0</td>\n      <td>0.0</td>\n      <td>0.0</td>\n      <td>0.0</td>\n      <td>0.0</td>\n    </tr>\n    <tr>\n      <th>1</th>\n      <td>0.0</td>\n      <td>0.0</td>\n      <td>0.0</td>\n      <td>0.0</td>\n      <td>0.0</td>\n      <td>0.0</td>\n      <td>0.0</td>\n      <td>0.0</td>\n      <td>0.0</td>\n      <td>0.0</td>\n      <td>...</td>\n      <td>0.0</td>\n      <td>0.0</td>\n      <td>0.0</td>\n      <td>0.0</td>\n      <td>0.0</td>\n      <td>0.0</td>\n      <td>0.0</td>\n      <td>0.0</td>\n      <td>154.0</td>\n      <td>269.8</td>\n    </tr>\n    <tr>\n      <th>2</th>\n      <td>0.0</td>\n      <td>0.0</td>\n      <td>0.0</td>\n      <td>0.0</td>\n      <td>0.0</td>\n      <td>0.0</td>\n      <td>0.0</td>\n      <td>0.0</td>\n      <td>0.0</td>\n      <td>0.0</td>\n      <td>...</td>\n      <td>0.0</td>\n      <td>0.0</td>\n      <td>0.0</td>\n      <td>0.0</td>\n      <td>0.0</td>\n      <td>0.0</td>\n      <td>0.0</td>\n      <td>0.0</td>\n      <td>0.0</td>\n      <td>0.0</td>\n    </tr>\n    <tr>\n      <th>3</th>\n      <td>0.0</td>\n      <td>0.0</td>\n      <td>0.0</td>\n      <td>0.0</td>\n      <td>0.0</td>\n      <td>0.0</td>\n      <td>0.0</td>\n      <td>0.0</td>\n      <td>0.0</td>\n      <td>0.0</td>\n      <td>...</td>\n      <td>0.0</td>\n      <td>249.0</td>\n      <td>290.0</td>\n      <td>290.0</td>\n      <td>477.0</td>\n      <td>706.0</td>\n      <td>803.0</td>\n      <td>1029.0</td>\n      <td>1089.0</td>\n      <td>1089.0</td>\n    </tr>\n    <tr>\n      <th>4</th>\n      <td>0.0</td>\n      <td>0.0</td>\n      <td>0.0</td>\n      <td>0.0</td>\n      <td>0.0</td>\n      <td>0.0</td>\n      <td>0.0</td>\n      <td>0.0</td>\n      <td>0.0</td>\n      <td>0.0</td>\n      <td>...</td>\n      <td>0.0</td>\n      <td>0.0</td>\n      <td>0.0</td>\n      <td>0.0</td>\n      <td>0.0</td>\n      <td>13.0</td>\n      <td>350.0</td>\n      <td>363.0</td>\n      <td>363.0</td>\n      <td>398.0</td>\n    </tr>\n    <tr>\n      <th>...</th>\n      <td>...</td>\n      <td>...</td>\n      <td>...</td>\n      <td>...</td>\n      <td>...</td>\n      <td>...</td>\n      <td>...</td>\n      <td>...</td>\n      <td>...</td>\n      <td>...</td>\n      <td>...</td>\n      <td>...</td>\n      <td>...</td>\n      <td>...</td>\n      <td>...</td>\n      <td>...</td>\n      <td>...</td>\n      <td>...</td>\n      <td>...</td>\n      <td>...</td>\n      <td>...</td>\n    </tr>\n    <tr>\n      <th>95</th>\n      <td>0.0</td>\n      <td>0.0</td>\n      <td>0.0</td>\n      <td>0.0</td>\n      <td>0.0</td>\n      <td>0.0</td>\n      <td>0.0</td>\n      <td>0.0</td>\n      <td>0.0</td>\n      <td>0.0</td>\n      <td>...</td>\n      <td>0.0</td>\n      <td>0.0</td>\n      <td>0.0</td>\n      <td>0.0</td>\n      <td>0.0</td>\n      <td>0.0</td>\n      <td>0.0</td>\n      <td>0.0</td>\n      <td>0.0</td>\n      <td>0.0</td>\n    </tr>\n    <tr>\n      <th>96</th>\n      <td>0.0</td>\n      <td>0.0</td>\n      <td>0.0</td>\n      <td>0.0</td>\n      <td>0.0</td>\n      <td>0.0</td>\n      <td>0.0</td>\n      <td>0.0</td>\n      <td>0.0</td>\n      <td>0.0</td>\n      <td>...</td>\n      <td>0.0</td>\n      <td>0.0</td>\n      <td>0.0</td>\n      <td>0.0</td>\n      <td>0.0</td>\n      <td>0.0</td>\n      <td>0.0</td>\n      <td>0.0</td>\n      <td>0.0</td>\n      <td>0.0</td>\n    </tr>\n    <tr>\n      <th>97</th>\n      <td>0.0</td>\n      <td>0.0</td>\n      <td>0.0</td>\n      <td>0.0</td>\n      <td>0.0</td>\n      <td>0.0</td>\n      <td>0.0</td>\n      <td>0.0</td>\n      <td>0.0</td>\n      <td>0.0</td>\n      <td>...</td>\n      <td>0.0</td>\n      <td>0.0</td>\n      <td>0.0</td>\n      <td>0.0</td>\n      <td>0.0</td>\n      <td>0.0</td>\n      <td>0.0</td>\n      <td>0.0</td>\n      <td>0.0</td>\n      <td>258.0</td>\n    </tr>\n    <tr>\n      <th>98</th>\n      <td>0.0</td>\n      <td>0.0</td>\n      <td>0.0</td>\n      <td>0.0</td>\n      <td>0.0</td>\n      <td>0.0</td>\n      <td>0.0</td>\n      <td>0.0</td>\n      <td>0.0</td>\n      <td>0.0</td>\n      <td>...</td>\n      <td>0.0</td>\n      <td>0.0</td>\n      <td>0.0</td>\n      <td>0.0</td>\n      <td>0.0</td>\n      <td>0.0</td>\n      <td>0.0</td>\n      <td>0.0</td>\n      <td>0.0</td>\n      <td>0.0</td>\n    </tr>\n    <tr>\n      <th>99</th>\n      <td>0.0</td>\n      <td>0.0</td>\n      <td>0.0</td>\n      <td>0.0</td>\n      <td>0.0</td>\n      <td>0.0</td>\n      <td>0.0</td>\n      <td>0.0</td>\n      <td>0.0</td>\n      <td>0.0</td>\n      <td>...</td>\n      <td>0.0</td>\n      <td>0.0</td>\n      <td>0.0</td>\n      <td>0.0</td>\n      <td>0.0</td>\n      <td>0.0</td>\n      <td>0.0</td>\n      <td>0.0</td>\n      <td>0.0</td>\n      <td>0.0</td>\n    </tr>\n  </tbody>\n</table>\n<p>100 rows × 26 columns</p>\n</div>"
     },
     "metadata": {}
    }
   ],
   "source": [
    "print('Express delivery')\n",
    "with pd.ExcelWriter(solution_file_path, engine='xlsxwriter') as writer:\n",
    "    df1 = pd.DataFrame([[int(x[i,j,0].x) for j in range(M)] for i in range(N)], columns=range(M))\n",
    "    display(df1)\n",
    "    df1.to_excel(writer, sheet_name='Express delivery')\n",
    "    print('Air frieght')\n",
    "    df2 = pd.DataFrame([[int(x[i,j,1].x) for j in range(M)] for i in range(N)], columns=range(M))\n",
    "    display(df2)\n",
    "    df2.to_excel(writer, sheet_name='Air frieght')\n",
    "    print('Ocean frieght')\n",
    "    df3 = pd.DataFrame([[int(x[i,j,2].x) for j in range(M)] for i in range(N)], columns=range(M))\n",
    "    display(df3)\n",
    "    df3.to_excel(writer, sheet_name='Ocean frieght')\n",
    "    print('StockLevel')\n",
    "    df = pd.DataFrame([[StockLevel[i,j].x for j in range(M)] for i in range(N)], columns=range(M))\n",
    "    display(df)\n",
    "    df.to_excel(writer, sheet_name='StockLevel')\n",
    "    print('Shortage')\n",
    "    df = pd.DataFrame([[Shortage[i,j].x for j in range(M)] for i in range(N)], columns=range(M))\n",
    "    display(df)\n",
    "    df.to_excel(writer, sheet_name='Shortage')"
   ]
  },
  {
   "cell_type": "code",
   "execution_count": 40,
   "metadata": {
    "tags": []
   },
   "outputs": [
    {
     "output_type": "stream",
     "name": "stdout",
     "text": [
      "TotalPurchaseCost    :1230662600.00\n",
      "TotalShipFixedCost   :4570.00\n",
      "TotalShipVarCost     :863155.00\n",
      "TotalHoldingCost     :12838431.40\n",
      "TotalContainerCost   :1949750.00\n",
      "TotalBackOrderCost   :16816137.41\n",
      "TotalLostSaleCost    :19307482.00\n",
      "TotalVendorFixedCost :36700.00\n",
      "objective-value      :1282478825.81\n"
     ]
    }
   ],
   "source": [
    "print(f'TotalPurchaseCost    :{TotalPurchaseCost.getValue():.2f}')\n",
    "print(f'TotalShipFixedCost   :{TotalShipFixedCost.getValue():.2f}')\n",
    "print(f'TotalShipVarCost     :{TotalShipVarCost.getValue():.2f}')\n",
    "print(f'TotalHoldingCost     :{TotalHoldingCost.getValue():.2f}')\n",
    "print(f'TotalContainerCost   :{TotalContainerCost.getValue():.2f}')\n",
    "print(f'TotalBackOrderCost   :{TotalBackOrderCost.getValue():.2f}')\n",
    "print(f'TotalLostSaleCost    :{TotalLostSaleCost.getValue():.2f}')\n",
    "print(f'TotalVendorFixedCost :{TotalVendorFixedCost.getValue():.2f}')\n",
    "print(f'objective-value      :{model.ObjVal:.2f}')"
   ]
  },
  {
   "cell_type": "code",
   "execution_count": 41,
   "metadata": {},
   "outputs": [
    {
     "output_type": "execute_result",
     "data": {
      "text/plain": [
       "  TotalPurchaseCost TotalShipFixedCost TotalShipVarCost TotalHoldingCost  \\\n",
       "0      1230662600.0             4570.0         863155.0       12838431.4   \n",
       "\n",
       "  TotalContainerCost TotalBackOrderCost TotalLostSaleCost  \\\n",
       "0          1949750.0        16816137.41        19307482.0   \n",
       "\n",
       "  TotalVendorFixedCost objective-value  \n",
       "0              36700.0   1282478825.81  "
      ],
      "text/html": "<div>\n<style scoped>\n    .dataframe tbody tr th:only-of-type {\n        vertical-align: middle;\n    }\n\n    .dataframe tbody tr th {\n        vertical-align: top;\n    }\n\n    .dataframe thead th {\n        text-align: right;\n    }\n</style>\n<table border=\"1\" class=\"dataframe\">\n  <thead>\n    <tr style=\"text-align: right;\">\n      <th></th>\n      <th>TotalPurchaseCost</th>\n      <th>TotalShipFixedCost</th>\n      <th>TotalShipVarCost</th>\n      <th>TotalHoldingCost</th>\n      <th>TotalContainerCost</th>\n      <th>TotalBackOrderCost</th>\n      <th>TotalLostSaleCost</th>\n      <th>TotalVendorFixedCost</th>\n      <th>objective-value</th>\n    </tr>\n  </thead>\n  <tbody>\n    <tr>\n      <th>0</th>\n      <td>1230662600.0</td>\n      <td>4570.0</td>\n      <td>863155.0</td>\n      <td>12838431.4</td>\n      <td>1949750.0</td>\n      <td>16816137.41</td>\n      <td>19307482.0</td>\n      <td>36700.0</td>\n      <td>1282478825.81</td>\n    </tr>\n  </tbody>\n</table>\n</div>"
     },
     "metadata": {},
     "execution_count": 41
    }
   ],
   "source": [
    "result_df = pd.DataFrame(columns=[\n",
    "    'TotalPurchaseCost',\n",
    "    'TotalShipFixedCost',\n",
    "    'TotalShipVarCost',\n",
    "    'TotalHoldingCost',\n",
    "    'TotalContainerCost',\n",
    "    'TotalBackOrderCost',\n",
    "    'TotalLostSaleCost',\n",
    "    'TotalVendorFixedCost',\n",
    "    'objective-value',\n",
    "])\n",
    "\n",
    "# result_df.append({\n",
    "#     'TotalPurchaseCost': str(round(TotalPurchaseCost.getValue(), 2)),\n",
    "#     'TotalShipFixedCost': str(round(TotalShipFixedCost.getValue(), 2)),\n",
    "#     'TotalShipVarCost': str(round(TotalShipVarCost.getValue(), 2)),\n",
    "#     'TotalHoldingCost': str(round(TotalHoldingCost.getValue(), 2)),\n",
    "#     'TotalContainerCost': str(round(TotalContainerCost.getValue(), 2)),\n",
    "#     'TotalBackOrderCost': str(round(TotalBackOrderCost.getValue(), 2)),\n",
    "#     'TotalLostSaleCost': str(round(TotalLostSaleCost.getValue(), 2)),\n",
    "#     'TotalVendorFixedCost': str(round(TotalVendorFixedCost.getValue(), 2)),\n",
    "#     'objective-value': model.ObjVal,\n",
    "# }, ignore_index=True)\n",
    "\n",
    "result_df.loc[0] = [\n",
    "    str(round(TotalPurchaseCost.getValue(), 2)),\n",
    "    str(round(TotalShipFixedCost.getValue(), 2)),\n",
    "    str(round(TotalShipVarCost.getValue(), 2)),\n",
    "    str(round(TotalHoldingCost.getValue(), 2)),\n",
    "    str(round(TotalContainerCost.getValue(), 2)),\n",
    "    str(round(TotalBackOrderCost.getValue(), 2)),\n",
    "    str(round(TotalLostSaleCost.getValue(), 2)),\n",
    "    str(round(TotalVendorFixedCost.getValue(), 2)),\n",
    "    str(round(model.ObjVal, 2)),\n",
    "]\n",
    "result_df\n"
   ]
  }
 ],
 "metadata": {
  "kernelspec": {
   "name": "python392jvsc74a57bd0b8bdd4e700647ba2b08c59e5df8b7da1dcf50a218bcd4c1bcd9b3dc92e8788e5",
   "display_name": "Python 3.9.2 64-bit ('3.9')"
  },
  "language_info": {
   "codemirror_mode": {
    "name": "ipython",
    "version": 3
   },
   "file_extension": ".py",
   "mimetype": "text/x-python",
   "name": "python",
   "nbconvert_exporter": "python",
   "pygments_lexer": "ipython3",
   "version": "3.9.2"
  },
  "metadata": {
   "interpreter": {
    "hash": "b8bdd4e700647ba2b08c59e5df8b7da1dcf50a218bcd4c1bcd9b3dc92e8788e5"
   }
  }
 },
 "nbformat": 4,
 "nbformat_minor": 4
}