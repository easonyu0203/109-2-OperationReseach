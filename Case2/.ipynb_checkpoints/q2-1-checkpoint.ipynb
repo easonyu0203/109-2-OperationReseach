{
 "cells": [
  {
   "cell_type": "markdown",
   "metadata": {},
   "source": [
    "# question 2"
   ]
  },
  {
   "cell_type": "code",
   "execution_count": null,
   "metadata": {},
   "outputs": [],
   "source": [
    "from os import path\n",
    "import os\n",
    "import pandas as pd\n",
    "import numpy as np\n",
    "import gurobipy as gb\n",
    "from gurobipy import GRB\n",
    "from gurobipy import quicksum\n",
    "import math"
   ]
  },
  {
   "cell_type": "code",
   "execution_count": null,
   "metadata": {},
   "outputs": [],
   "source": [
    "os.getcwd()"
   ]
  },
  {
   "cell_type": "code",
   "execution_count": null,
   "metadata": {},
   "outputs": [],
   "source": [
    "work_dir = os.getcwd()\n",
    "data_path = path.join(work_dir, 'data')\n",
    "data_file = path.join(data_path, 's1.xlsx')"
   ]
  },
  {
   "cell_type": "code",
   "execution_count": null,
   "metadata": {},
   "outputs": [],
   "source": [
    "Demand_df = pd.read_excel(data_file, sheet_name='Demand', index_col='Product')\n",
    "Init_df = pd.read_excel(data_file, sheet_name='Initial inventory', index_col='Product')\n",
    "ShippingCost_df = pd.read_excel(data_file, sheet_name='Shipping cost', index_col='Product')\n",
    "InTransit_df = pd.read_excel(data_file, sheet_name='In-transit', index_col='Product')\n",
    "CBM_df = pd.read_excel(data_file, sheet_name='Size', index_col='Product')\n",
    "PriceAndCost_df = pd.read_excel(data_file, sheet_name='Price and cost', index_col='Product')\n",
    "Shortage_df = pd.read_excel(data_file, sheet_name='Shortage', index_col='Product')\n",
    "VendorProduct_df = pd.read_excel(data_file, sheet_name='Vendor-Product', index_col='Product')\n",
    "VendorCost_df = pd.read_excel(data_file, sheet_name='Vendor cost', index_col='Vendor')\n",
    "Bound_df = pd.read_excel(data_file, sheet_name='Bounds', index_col='Product')\n",
    "Conflict_df = pd.read_excel(data_file, sheet_name='Conflict', index_col='Conflict') - 1\n",
    "\n",
    "N, M = Demand_df.shape\n",
    "K = 3 #(express delivery, air freight, Ocean freight)\n",
    "V = VendorCost_df.shape[0]\n",
    "ContainerCap = 30 #Case 1 data\n",
    "ContainerCost = 2750 #Case 1 data\n",
    "\n",
    "Demand_ij = Demand_df.to_numpy()\n",
    "Init_i = Init_df.to_numpy().squeeze()\n",
    "BuyCost_i = PriceAndCost_df['Purchasing cost'].to_numpy()\n",
    "HoldCost_i = PriceAndCost_df['Holding cost'].to_numpy()\n",
    "Transit_ij = InTransit_df.to_numpy()\n",
    "ShipFixedCost_k = np.array([100, 80, 50]) #Case 1 data\n",
    "ShipVarCost_ik = np.concatenate(( ShippingCost_df.to_numpy(), np.zeros((N,1)) ), axis=1)\n",
    "CBM_i = CBM_df.to_numpy().squeeze()\n",
    "LostSaleCost_i = Shortage_df['Lost sales'].to_numpy()\n",
    "BackOrderCost_i = Shortage_df['Backorder'].to_numpy()\n",
    "BackOrderProb_i = Shortage_df['Backorder percentage'].to_numpy()\n",
    "VendorFixedCost_v = VendorCost_df.to_numpy().squeeze()\n",
    "MinOrder_i = Bound_df.to_numpy().squeeze()\n",
    "ConflictPair_alpha = Conflict_df.to_numpy()\n",
    "ProductVendor_i = VendorProduct_df.to_numpy().squeeze()\n",
    "M_big = np.sum(Demand_ij) + sum(Init_i)"
   ]
  },
  {
   "cell_type": "code",
   "execution_count": null,
   "metadata": {},
   "outputs": [],
   "source": [
    "#model\n",
    "instance_name = 's1'\n",
    "model = gb.Model(name=instance_name)"
   ]
  },
  {
   "cell_type": "code",
   "execution_count": null,
   "metadata": {},
   "outputs": [],
   "source": [
    "#decision variable\n",
    "x = model.addVars(N, M, K, vtype=GRB.INTEGER,name='x')\n",
    "Abin = model.addVars(M, K, vtype=GRB.BINARY, name='Abin')\n",
    "ContainerCnt = model.addVars(M, vtype=GRB.INTEGER, name='ContainerCnt')\n",
    "StockLevel = model.addVars(N, M, vtype=GRB.CONTINUOUS, name='StockLevel')\n",
    "Shortage = model.addVars(N, M, vtype=GRB.CONTINUOUS, name='Shortage')\n",
    "Bbin = model.addVars(N, M, vtype=GRB.BINARY, name='Bbin')\n",
    "Cbin = model.addVars(N, M, vtype=GRB.BINARY, name='Cbin')\n",
    "Dbin = model.addVars(V, M, vtype=GRB.BINARY, name='Dbin')"
   ]
  },
  {
   "cell_type": "code",
   "execution_count": null,
   "metadata": {},
   "outputs": [],
   "source": [
    "#Expr\n",
    "VolumeInOceanExpr_j = [\n",
    "gb.LinExpr(\n",
    "    quicksum(x[i,j,2] * CBM_i[i] for i in range(N))\n",
    ")    \n",
    "for j in range(M)]\n",
    "\n",
    "BackOrderCntExpr_ij = [\n",
    "    [\n",
    "        gb.LinExpr( Shortage[i,j] * BackOrderProb_i[i] )\n",
    "    for j in range(M)]\n",
    "for i in range(N)]\n",
    "\n",
    "LostSaleCntExpr_ij = [\n",
    "    [\n",
    "        gb.LinExpr( Shortage[i,j] * (1 - BackOrderProb_i[i]) )\n",
    "    for j in range(M)]\n",
    "for i in range(N)]"
   ]
  },
  {
   "cell_type": "code",
   "execution_count": null,
   "metadata": {},
   "outputs": [],
   "source": [
    "#obj function\n",
    "TotalPurchaseCost = gb.LinExpr(\n",
    "    quicksum(\n",
    "        quicksum(\n",
    "            quicksum(\n",
    "                x[i,j,k] * BuyCost_i[i]\n",
    "            for i in range(N))\n",
    "        for j in range(M))\n",
    "    for k in range(K))\n",
    ")\n",
    "\n",
    "TotalShipFixedCost = gb.LinExpr(\n",
    "    quicksum(\n",
    "        quicksum(\n",
    "            Abin[j,k] * ShipFixedCost_k[k]\n",
    "        for k in range(K))\n",
    "    for j in range(M))\n",
    ")\n",
    "\n",
    "TotalShipVarCost = gb.LinExpr(\n",
    "    quicksum(\n",
    "        quicksum(\n",
    "            quicksum(\n",
    "                x[i,j,k] * ShipVarCost_ik[i,k]\n",
    "            for k in range(K))\n",
    "        for j in range(M))\n",
    "    for i in range(N))\n",
    ")\n",
    "\n",
    "TotalHoldingCost = gb.LinExpr(\n",
    "    quicksum(\n",
    "        quicksum(\n",
    "            StockLevel[i,j] * HoldCost_i[i]\n",
    "        for i in range(N))\n",
    "    for j in range(M))\n",
    ")\n",
    "\n",
    "TotalContainerCost = gb.LinExpr(\n",
    "    quicksum(ContainerCnt[j] for j in range(M)) * ContainerCost\n",
    ")\n",
    "\n",
    "TotalBackOrderCost = gb.LinExpr(\n",
    "    quicksum(\n",
    "        quicksum(\n",
    "            BackOrderCntExpr_ij[i][j] * BackOrderCost_i[i]\n",
    "        for i in range(N))\n",
    "    for j in range(M))\n",
    ")\n",
    "\n",
    "TotalLostSaleCost = gb.LinExpr(\n",
    "    quicksum(\n",
    "        quicksum(\n",
    "            LostSaleCntExpr_ij[i][j] * LostSaleCost_i[i]\n",
    "        for i in range(N))\n",
    "    for j in range(M))\n",
    ")\n",
    "\n",
    "TotalVendorFixedCost = gb.LinExpr(\n",
    "    quicksum(\n",
    "        quicksum(\n",
    "            Dbin[v,j] * VendorFixedCost_v[v]\n",
    "        for v in range(V))\n",
    "    for j in range(M))\n",
    ")"
   ]
  },
  {
   "cell_type": "code",
   "execution_count": null,
   "metadata": {},
   "outputs": [],
   "source": [
    "#set obj function\n",
    "model.setObjective(\n",
    "    TotalPurchaseCost +\n",
    "    TotalShipFixedCost + \n",
    "    TotalShipVarCost + \n",
    "    TotalHoldingCost + \n",
    "    TotalContainerCost + \n",
    "    TotalBackOrderCost + \n",
    "    TotalLostSaleCost +\n",
    "    TotalVendorFixedCost\n",
    ")"
   ]
  },
  {
   "cell_type": "code",
   "execution_count": null,
   "metadata": {},
   "outputs": [],
   "source": [
    "#Contrain\n",
    "\n",
    "#let Abin to behave correctly\n",
    "_ = model.addConstrs(\n",
    "    quicksum(x[i,j,k] for i in range(N)) / M_big <= Abin[j,k]\n",
    "for j in range(M)\n",
    "for k in range(K))\n",
    "\n",
    "#let ContainerCnt to behave correctly\n",
    "_ = model.addConstrs(\n",
    "    VolumeInOceanExpr_j[j] / ContainerCap <= ContainerCnt[j]\n",
    "for j in range(M))\n",
    "\n",
    "#let Stocklevle & Shortage behave correctly\n",
    "_ = model.addConstrs(StockLevel[i,0] - Shortage[i,0] == Init_i[i] - Demand_ij[i][0] for i in range(N))\n",
    "_ = model.addConstrs(StockLevel[i,1] - Shortage[i,1] == StockLevel[i,0] + x[i,0,0] + Transit_ij[i][1] - Demand_ij[i][1] - Shortage[i,0] * BackOrderProb_i[i] for i in range(N))\n",
    "_ = model.addConstrs(StockLevel[i,2] - Shortage[i,2] == StockLevel[i,1] + x[i,1,0] + x[i,0,1] + Transit_ij[i][2] - Demand_ij[i][2] - Shortage[i,1] * BackOrderProb_i[i] for i in range(N))\n",
    "_ = model.addConstrs(StockLevel[i,j] - Shortage[i,j] == StockLevel[i,j-1] + x[i,j-1,0] + x[i,j-2,1] + x[i,j-3,2] - Demand_ij[i][j] - Shortage[i,j-1] * BackOrderProb_i[i] for i in range(N) for j in range(3,M))\n",
    "\n",
    "_ = model.addConstrs(StockLevel[i,j] <= M_big * (1-Bbin[i,j]) for i in range(N) for j in range(M))\n",
    "_ = model.addConstrs(Shortage[i,j] <= M_big * Bbin[i,j] for i in range(N) for j in range(M))\n",
    "\n",
    "#let Cbin behave correctly\n",
    "_ = model.addConstrs(\n",
    "    quicksum(x[i,j,k] for k in range(K)) / M_big <= Cbin[i,j]\n",
    "for i in range(N)\n",
    "for j in range(M))\n",
    "\n",
    "#let Dbin behave correctly\n",
    "_ = model.addConstrs(\n",
    "    quicksum(\n",
    "        quicksum(x[i,j,k] for k in range(K))\n",
    "    for i in range(N) if ProductVendor_i[i] == v) / M_big <= Dbin[v,j]\n",
    "for v in range(V)\n",
    "for j in range(M))\n",
    "\n",
    "#Minumin order Bound\n",
    "_ = model.addConstrs(\n",
    "    Cbin[i,j] * MinOrder_i[i] <= quicksum(x[i,j,k] for k in range(K))\n",
    "for i in range(N)\n",
    "for j in range(M))\n",
    "\n",
    "#conflict\n",
    "_ = model.addConstrs(\n",
    "    Cbin[a,j] + Cbin[b,j] <= 1\n",
    "for j in range(M)\n",
    "for a, b in ConflictPair_alpha)"
   ]
  },
  {
   "cell_type": "code",
   "execution_count": null,
   "metadata": {},
   "outputs": [],
   "source": [
    "model.optimize()"
   ]
  },
  {
   "cell_type": "code",
   "execution_count": null,
   "metadata": {},
   "outputs": [],
   "source": [
    "print('Express delivery')\n",
    "df = pd.DataFrame([[int(x[i,j,0].x) for j in range(M)] for i in range(N)], columns=range(M))\n",
    "display(df)\n",
    "print('Air frieght')\n",
    "df = pd.DataFrame([[int(x[i,j,1].x) for j in range(M)] for i in range(N)], columns=range(M))\n",
    "display(df)\n",
    "print('Ocean frieght')\n",
    "df = pd.DataFrame([[int(x[i,j,2].x) for j in range(M)] for i in range(N)], columns=range(M))\n",
    "display(df)"
   ]
  },
  {
   "cell_type": "code",
   "execution_count": null,
   "metadata": {},
   "outputs": [],
   "source": [
    "print('StockLevel')\n",
    "df = pd.DataFrame([[StockLevel[i,j].x for j in range(M)] for i in range(N)], columns=range(M))\n",
    "display(df)\n",
    "print('Shortage')\n",
    "df = pd.DataFrame([[Shortage[i,j].x for j in range(M)] for i in range(N)], columns=range(M))\n",
    "display(df)"
   ]
  },
  {
   "cell_type": "code",
   "execution_count": null,
   "metadata": {
    "tags": []
   },
   "outputs": [],
   "source": [
    "print(f'TotalPurchaseCost    :{TotalPurchaseCost.getValue():.2f}')\n",
    "print(f'TotalShipFixedCost   :{TotalShipFixedCost.getValue():.2f}')\n",
    "print(f'TotalShipVarCost     :{TotalShipVarCost.getValue():.2f}')\n",
    "print(f'TotalHoldingCost     :{TotalHoldingCost.getValue():.2f}')\n",
    "print(f'TotalContainerCost   :{TotalContainerCost.getValue():.2f}')\n",
    "print(f'TotalBackOrderCost   :{TotalBackOrderCost.getValue():.2f}')\n",
    "print(f'TotalLostSaleCost    :{TotalLostSaleCost.getValue():.2f}')\n",
    "print(f'TotalVendorFixedCost :{TotalVendorFixedCost.getValue():.2f}')\n",
    "print(f'objective-value      :{model.ObjVal:.2f}')"
   ]
  }
 ],
 "metadata": {
  "kernelspec": {
   "display_name": "Python 3",
   "language": "python",
   "name": "python3"
  },
  "language_info": {
   "codemirror_mode": {
    "name": "ipython",
    "version": 3
   },
   "file_extension": ".py",
   "mimetype": "text/x-python",
   "name": "python",
   "nbconvert_exporter": "python",
   "pygments_lexer": "ipython3",
   "version": "3.8.5"
  },
  "metadata": {
   "interpreter": {
    "hash": "b8bdd4e700647ba2b08c59e5df8b7da1dcf50a218bcd4c1bcd9b3dc92e8788e5"
   }
  }
 },
 "nbformat": 4,
 "nbformat_minor": 4
}
