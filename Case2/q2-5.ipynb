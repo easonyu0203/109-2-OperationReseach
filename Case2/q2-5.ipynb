{
 "cells": [
  {
   "cell_type": "markdown",
   "metadata": {},
   "source": [
    "# question 2"
   ]
  },
  {
   "cell_type": "code",
   "execution_count": 1,
   "metadata": {},
   "outputs": [],
   "source": [
    "from os import path\n",
    "import os\n",
    "import pandas as pd\n",
    "import numpy as np\n",
    "import gurobipy as gb\n",
    "from gurobipy import GRB\n",
    "from gurobipy import quicksum\n",
    "import math"
   ]
  },
  {
   "cell_type": "code",
   "execution_count": 2,
   "metadata": {},
   "outputs": [
    {
     "output_type": "execute_result",
     "data": {
      "text/plain": [
       "'/Users/eason/Desktop/OperationReseach/Case2'"
      ]
     },
     "metadata": {},
     "execution_count": 2
    }
   ],
   "source": [
    "os.getcwd()"
   ]
  },
  {
   "cell_type": "code",
   "execution_count": 3,
   "metadata": {},
   "outputs": [],
   "source": [
    "work_dir = os.getcwd()\n",
    "data_path = path.join(work_dir, 'data')\n",
    "data_file = path.join(data_path, 's5.xlsx')"
   ]
  },
  {
   "cell_type": "code",
   "execution_count": 4,
   "metadata": {},
   "outputs": [],
   "source": [
    "Demand_df = pd.read_excel(data_file, sheet_name='Demand', index_col='Product')\n",
    "Init_df = pd.read_excel(data_file, sheet_name='Initial inventory', index_col='Product')\n",
    "ShippingCost_df = pd.read_excel(data_file, sheet_name='Shipping cost', index_col='Product')\n",
    "InTransit_df = pd.read_excel(data_file, sheet_name='In-transit', index_col='Product')\n",
    "CBM_df = pd.read_excel(data_file, sheet_name='Size', index_col='Product')\n",
    "PriceAndCost_df = pd.read_excel(data_file, sheet_name='Price and cost', index_col='Product')\n",
    "Shortage_df = pd.read_excel(data_file, sheet_name='Shortage', index_col='Product')\n",
    "VendorProduct_df = pd.read_excel(data_file, sheet_name='Vendor-Product', index_col='Product') - 1\n",
    "VendorCost_df = pd.read_excel(data_file, sheet_name='Vendor cost', index_col='Vendor')\n",
    "Bound_df = pd.read_excel(data_file, sheet_name='Bounds', index_col='Product')\n",
    "Conflict_df = pd.read_excel(data_file, sheet_name='Conflict', index_col='Conflict') - 1\n",
    "\n",
    "N, M = Demand_df.shape\n",
    "K = 3 #(express delivery, air freight, Ocean freight)\n",
    "V = VendorCost_df.shape[0]\n",
    "ContainerCap = 30 #Case 1 data\n",
    "ContainerCost = 2750 #Case 1 data\n",
    "# ContainerCap = 0.5 #Case 1 data\n",
    "# ContainerCost = 1500 #Case 1 data\n",
    "\n",
    "Demand_ij = Demand_df.to_numpy()\n",
    "Init_i = Init_df.to_numpy().squeeze()\n",
    "BuyCost_i = PriceAndCost_df['Purchasing cost'].to_numpy()\n",
    "HoldCost_i = PriceAndCost_df['Holding cost'].to_numpy()\n",
    "Transit_ij = InTransit_df.to_numpy()\n",
    "ShipFixedCost_k = np.array([100, 80, 50]) #Case 1 data\n",
    "ShipVarCost_ik = np.concatenate(( ShippingCost_df.to_numpy(), np.zeros((N,1)) ), axis=1)\n",
    "CBM_i = CBM_df.to_numpy().squeeze()\n",
    "LostSaleCost_i = Shortage_df['Lost sales'].to_numpy()\n",
    "BackOrderCost_i = Shortage_df['Backorder'].to_numpy()\n",
    "BackOrderProb_i = Shortage_df['Backorder percentage'].to_numpy()\n",
    "VendorFixedCost_v = VendorCost_df.to_numpy().squeeze()\n",
    "MinOrder_i = Bound_df.to_numpy().squeeze()\n",
    "ConflictPair_alpha = Conflict_df.to_numpy()\n",
    "ProductVendor_i = VendorProduct_df.to_numpy().squeeze()\n",
    "M_big = np.sum(Demand_ij) + sum(Init_i)"
   ]
  },
  {
   "cell_type": "code",
   "execution_count": 5,
   "metadata": {},
   "outputs": [
    {
     "output_type": "stream",
     "name": "stdout",
     "text": [
      "Academic license - for non-commercial use only - expires 2021-05-20\n",
      "Using license file /Users/eason/gurobi.lic\n"
     ]
    }
   ],
   "source": [
    "#model\n",
    "instance_name = 's1'\n",
    "model = gb.Model(name=instance_name)"
   ]
  },
  {
   "cell_type": "code",
   "execution_count": 6,
   "metadata": {},
   "outputs": [],
   "source": [
    "#decision variable\n",
    "x = model.addVars(N, M, K, vtype=GRB.INTEGER,name='x')\n",
    "Abin = model.addVars(M, K, vtype=GRB.BINARY, name='Abin')\n",
    "ContainerCnt = model.addVars(M, vtype=GRB.INTEGER, name='ContainerCnt')\n",
    "StockLevel = model.addVars(N, M, vtype=GRB.CONTINUOUS, name='StockLevel')\n",
    "Shortage = model.addVars(N, M, vtype=GRB.CONTINUOUS, name='Shortage')\n",
    "Bbin = model.addVars(N, M, vtype=GRB.BINARY, name='Bbin')\n",
    "Cbin = model.addVars(N, M, vtype=GRB.BINARY, name='Cbin')\n",
    "Dbin = model.addVars(V, M, vtype=GRB.BINARY, name='Dbin')"
   ]
  },
  {
   "cell_type": "code",
   "execution_count": 7,
   "metadata": {},
   "outputs": [],
   "source": [
    "#Expr\n",
    "VolumeInOceanExpr_j = [\n",
    "gb.LinExpr(\n",
    "    quicksum(x[i,j,2] * CBM_i[i] for i in range(N))\n",
    ")    \n",
    "for j in range(M)]\n",
    "\n",
    "BackOrderCntExpr_ij = [\n",
    "    [\n",
    "        gb.LinExpr( Shortage[i,j] * BackOrderProb_i[i] )\n",
    "    for j in range(M)]\n",
    "for i in range(N)]\n",
    "\n",
    "LostSaleCntExpr_ij = [\n",
    "    [\n",
    "        gb.LinExpr( Shortage[i,j] * (1 - BackOrderProb_i[i]) )\n",
    "    for j in range(M)]\n",
    "for i in range(N)]"
   ]
  },
  {
   "cell_type": "code",
   "execution_count": 8,
   "metadata": {},
   "outputs": [],
   "source": [
    "#obj function\n",
    "TotalPurchaseCost = gb.LinExpr(\n",
    "    quicksum(\n",
    "        quicksum(\n",
    "            quicksum(\n",
    "                x[i,j,k] * BuyCost_i[i]\n",
    "            for i in range(N))\n",
    "        for j in range(M))\n",
    "    for k in range(K))\n",
    ")\n",
    "\n",
    "TotalShipFixedCost = gb.LinExpr(\n",
    "    quicksum(\n",
    "        quicksum(\n",
    "            Abin[j,k] * ShipFixedCost_k[k]\n",
    "        for k in range(K))\n",
    "    for j in range(M))\n",
    ")\n",
    "\n",
    "TotalShipVarCost = gb.LinExpr(\n",
    "    quicksum(\n",
    "        quicksum(\n",
    "            quicksum(\n",
    "                x[i,j,k] * ShipVarCost_ik[i,k]\n",
    "            for k in range(K))\n",
    "        for j in range(M))\n",
    "    for i in range(N))\n",
    ")\n",
    "\n",
    "TotalHoldingCost = gb.LinExpr(\n",
    "    quicksum(\n",
    "        quicksum(\n",
    "            StockLevel[i,j] * HoldCost_i[i]\n",
    "        for i in range(N))\n",
    "    for j in range(M))\n",
    ")\n",
    "\n",
    "TotalContainerCost = gb.LinExpr(\n",
    "    quicksum(ContainerCnt[j] for j in range(M)) * ContainerCost\n",
    ")\n",
    "\n",
    "TotalBackOrderCost = gb.LinExpr(\n",
    "    quicksum(\n",
    "        quicksum(\n",
    "            BackOrderCntExpr_ij[i][j] * BackOrderCost_i[i]\n",
    "        for i in range(N))\n",
    "    for j in range(M))\n",
    ")\n",
    "\n",
    "TotalLostSaleCost = gb.LinExpr(\n",
    "    quicksum(\n",
    "        quicksum(\n",
    "            LostSaleCntExpr_ij[i][j] * LostSaleCost_i[i]\n",
    "        for i in range(N))\n",
    "    for j in range(M))\n",
    ")\n",
    "\n",
    "TotalVendorFixedCost = gb.LinExpr(\n",
    "    quicksum(\n",
    "        quicksum(\n",
    "            Dbin[v,j] * VendorFixedCost_v[v]\n",
    "        for v in range(V))\n",
    "    for j in range(M))\n",
    ")"
   ]
  },
  {
   "cell_type": "code",
   "execution_count": 9,
   "metadata": {},
   "outputs": [],
   "source": [
    "#set obj function\n",
    "model.setObjective(\n",
    "    TotalPurchaseCost +\n",
    "    TotalShipFixedCost + \n",
    "    TotalShipVarCost + \n",
    "    TotalHoldingCost + \n",
    "    TotalContainerCost + \n",
    "    TotalBackOrderCost + \n",
    "    TotalLostSaleCost +\n",
    "    TotalVendorFixedCost\n",
    ")"
   ]
  },
  {
   "cell_type": "code",
   "execution_count": 10,
   "metadata": {},
   "outputs": [],
   "source": [
    "#Contrain\n",
    "\n",
    "#let Abin to behave correctly\n",
    "_ = model.addConstrs(\n",
    "    quicksum(x[i,j,k] for i in range(N)) / M_big <= Abin[j,k]\n",
    "for j in range(M)\n",
    "for k in range(K))\n",
    "\n",
    "#let ContainerCnt to behave correctly\n",
    "_ = model.addConstrs(\n",
    "    VolumeInOceanExpr_j[j] / ContainerCap <= ContainerCnt[j]\n",
    "for j in range(M))\n",
    "\n",
    "#let Stocklevle & Shortage behave correctly\n",
    "_ = model.addConstrs(StockLevel[i,0] - Shortage[i,0] == Init_i[i] - Demand_ij[i][0] for i in range(N))\n",
    "_ = model.addConstrs(StockLevel[i,1] - Shortage[i,1] == StockLevel[i,0] + x[i,0,0] + Transit_ij[i][1] - Demand_ij[i][1] - Shortage[i,0] * BackOrderProb_i[i] for i in range(N))\n",
    "_ = model.addConstrs(StockLevel[i,2] - Shortage[i,2] == StockLevel[i,1] + x[i,1,0] + x[i,0,1] + Transit_ij[i][2] - Demand_ij[i][2] - Shortage[i,1] * BackOrderProb_i[i] for i in range(N))\n",
    "_ = model.addConstrs(StockLevel[i,j] - Shortage[i,j] == StockLevel[i,j-1] + x[i,j-1,0] + x[i,j-2,1] + x[i,j-3,2] - Demand_ij[i][j] - Shortage[i,j-1] * BackOrderProb_i[i] for i in range(N) for j in range(3,M))\n",
    "\n",
    "_ = model.addConstrs(StockLevel[i,j] <= M_big * (1-Bbin[i,j]) for i in range(N) for j in range(M))\n",
    "_ = model.addConstrs(Shortage[i,j] <= M_big * Bbin[i,j] for i in range(N) for j in range(M))\n",
    "\n",
    "#let Cbin behave correctly\n",
    "_ = model.addConstrs(\n",
    "    quicksum(x[i,j,k] for k in range(K)) / M_big <= Cbin[i,j]\n",
    "for i in range(N)\n",
    "for j in range(M))\n",
    "\n",
    "#let Dbin behave correctly\n",
    "_ = model.addConstrs(\n",
    "    quicksum(\n",
    "        quicksum(x[i,j,k] for k in range(K))\n",
    "    for i in range(N) if ProductVendor_i[i] == v) / M_big <= Dbin[v,j]\n",
    "for v in range(V)\n",
    "for j in range(M))\n",
    "\n",
    "#Minumin order Bound\n",
    "_ = model.addConstrs(\n",
    "    Cbin[i,j] * MinOrder_i[i] <= quicksum(x[i,j,k] for k in range(K))\n",
    "for i in range(N)\n",
    "for j in range(M))\n",
    "\n",
    "#conflict\n",
    "_ = model.addConstrs(\n",
    "    Cbin[a,j] + Cbin[b,j] <= 1\n",
    "for j in range(M)\n",
    "for a, b in ConflictPair_alpha)"
   ]
  },
  {
   "cell_type": "code",
   "execution_count": 11,
   "metadata": {},
   "outputs": [
    {
     "output_type": "stream",
     "name": "stdout",
     "text": [
      "Gurobi Optimizer version 9.1.1 build v9.1.1rc0 (mac64)\n",
      "Thread count: 4 physical cores, 8 logical processors, using up to 8 threads\n",
      "Optimize a model with 78026 rows, 109226 columns and 296960 nonzeros\n",
      "Model fingerprint: 0x2bc0eeeb\n",
      "Variable types: 31200 continuous, 78026 integer (31200 binary)\n",
      "Coefficient statistics:\n",
      "  Matrix range     [4e-07, 3e+06]\n",
      "  Objective range  [1e+00, 7e+03]\n",
      "  Bounds range     [1e+00, 1e+00]\n",
      "  RHS range        [1e+00, 3e+06]\n",
      "Warning: Model contains large matrix coefficient range\n",
      "         Consider reformulating model or setting NumericFocus parameter\n",
      "         to avoid numerical issues.\n",
      "Presolve removed 16399 rows and 18841 columns\n",
      "Presolve time: 1.41s\n",
      "Presolved: 61627 rows, 90385 columns, 244982 nonzeros\n",
      "Variable types: 26718 continuous, 63667 integer (19166 binary)\n",
      "Found heuristic solution: objective 8.223949e+09\n",
      "\n",
      "Deterministic concurrent LP optimizer: primal and dual simplex\n",
      "Showing first log only...\n",
      "\n",
      "Extra simplex iterations after uncrush: 7327\n",
      "Concurrent spin time: 0.08s\n",
      "\n",
      "Solved with primal simplex\n",
      "\n",
      "Root relaxation: objective 1.152600e+09, 29133 iterations, 0.73 seconds\n",
      "\n",
      "    Nodes    |    Current Node    |     Objective Bounds      |     Work\n",
      " Expl Unexpl |  Obj  Depth IntInf | Incumbent    BestBd   Gap | It/Node Time\n",
      "\n",
      "     0     0 1.1526e+09    0  238 8.2239e+09 1.1526e+09  86.0%     -    3s\n",
      "H    0     0                    8.223948e+09 1.1526e+09  86.0%     -    3s\n",
      "H    0     0                    8.223945e+09 1.1526e+09  86.0%     -    4s\n",
      "     0     0 1.1527e+09    0  138 8.2239e+09 1.1527e+09  86.0%     -    4s\n",
      "H    0     0                    8.223944e+09 1.1527e+09  86.0%     -    4s\n",
      "     0     0 1.1527e+09    0  183 8.2239e+09 1.1527e+09  86.0%     -    5s\n",
      "H    0     0                    8.223943e+09 1.1527e+09  86.0%     -    5s\n",
      "     0     0 1.1527e+09    0  190 8.2239e+09 1.1527e+09  86.0%     -    5s\n",
      "     0     0 1.1527e+09    0  183 8.2239e+09 1.1527e+09  86.0%     -    7s\n",
      "H    0     0                    8.223942e+09 1.1527e+09  86.0%     -    7s\n",
      "     0     0 1.1527e+09    0  184 8.2239e+09 1.1527e+09  86.0%     -    7s\n",
      "     0     0 1.1527e+09    0  191 8.2239e+09 1.1527e+09  86.0%     -    8s\n",
      "H    0     0                    8.223940e+09 1.1527e+09  86.0%     -    8s\n",
      "     0     0 1.1527e+09    0  196 8.2239e+09 1.1527e+09  86.0%     -    9s\n",
      "     0     0 1.1527e+09    0  197 8.2239e+09 1.1527e+09  86.0%     -    9s\n",
      "H    0     0                    8.223939e+09 1.1527e+09  86.0%     -    9s\n",
      "H    0     0                    6.005777e+09 1.1527e+09  80.8%     -   10s\n",
      "     0     0 1.1527e+09    0  190 6.0058e+09 1.1527e+09  80.8%     -   10s\n",
      "     0     0 1.1527e+09    0  184 6.0058e+09 1.1527e+09  80.8%     -   11s\n",
      "H    0     2                    6.005724e+09 1.1527e+09  80.8%     -   13s\n",
      "     0     2 1.1527e+09    0  184 6.0057e+09 1.1527e+09  80.8%     -   13s\n",
      "   114   238 1.1527e+09   32  181 6.0057e+09 1.1527e+09  80.8%   2.0   15s\n",
      "   647   890 1.1527e+09  175  181 6.0057e+09 1.1527e+09  80.8%   1.2   20s\n",
      "  1422  1491 1.1527e+09  393  184 6.0057e+09 1.1527e+09  80.8%   1.1   28s\n",
      "  1490  1684 1.1527e+09  458  184 6.0057e+09 1.1527e+09  80.8%   1.1   30s\n",
      "  2355  2671 1.1527e+09  693  184 6.0057e+09 1.1527e+09  80.8%   1.0   37s\n",
      "  3102  3369 1.1527e+09  884  186 6.0057e+09 1.1527e+09  80.8%   1.0   42s\n",
      "  3368  3629 1.1527e+09  885  186 6.0057e+09 1.1527e+09  80.8%   1.0   45s\n",
      "  4111  4538 1.1527e+09 1064  172 6.0057e+09 1.1527e+09  80.8%   1.0   51s\n",
      "  4994  5145 1.1527e+09 1295  172 6.0057e+09 1.1527e+09  80.8%   1.0   57s\n",
      "  5145  5146 1.1527e+09  793  184 6.0057e+09 1.1527e+09  80.8%   1.0   66s\n",
      "  5148  5148 1.1527e+09  317  155 6.0057e+09 1.1527e+09  80.8%   1.0   70s\n",
      "  5156  5153 1.1527e+09  424  142 6.0057e+09 1.1527e+09  80.8%   1.0   75s\n",
      "  5162  5157 1.1527e+09 1214  116 6.0057e+09 1.1527e+09  80.8%   1.0   80s\n",
      "  5168  5161 1.1527e+09  314  119 6.0057e+09 1.1527e+09  80.8%   1.0   85s\n",
      "H 5169  4903                    1.156312e+09 1.1527e+09  0.31%   1.0   87s\n",
      "  5173  4911 1.1527e+09   16  116 1.1563e+09 1.1527e+09  0.31%   7.5   90s\n",
      "  5367  5317 1.1527e+09   39  133 1.1563e+09 1.1527e+09  0.31%   7.3   97s\n",
      "  5648  5458 1.1527e+09   71  123 1.1563e+09 1.1527e+09  0.31%   7.0  101s\n",
      "H 5886  5137                    1.153176e+09 1.1527e+09  0.04%   6.8  102s\n",
      "\n",
      "Cutting planes:\n",
      "  Gomory: 116\n",
      "  Implied bound: 9\n",
      "  Clique: 1\n",
      "  MIR: 208\n",
      "  Flow cover: 317\n",
      "  Network: 1\n",
      "  Relax-and-lift: 426\n",
      "\n",
      "Explored 5887 nodes (70985 simplex iterations) in 103.00 seconds\n",
      "Thread count was 8 (of 8 available processors)\n",
      "\n",
      "Solution count 10: 1.15318e+09 1.15631e+09 6.00572e+09 ... 8.22395e+09\n",
      "\n",
      "Solve interrupted\n",
      "Best objective 1.153175981484e+09, best bound 1.152687228816e+09, gap 0.0424%\n"
     ]
    }
   ],
   "source": [
    "model.optimize()"
   ]
  },
  {
   "cell_type": "code",
   "execution_count": 12,
   "metadata": {},
   "outputs": [],
   "source": [
    "os.makedirs('solution', exist_ok=True)\n",
    "solution_file_path = path.join(work_dir, 'solution', 'q5_solution.xlsx')"
   ]
  },
  {
   "cell_type": "code",
   "execution_count": 13,
   "metadata": {},
   "outputs": [
    {
     "output_type": "stream",
     "name": "stdout",
     "text": [
      "Express delivery\n"
     ]
    },
    {
     "output_type": "display_data",
     "data": {
      "text/plain": "      0   1   2   3   4   5   6   7   8   9   ...  16  17  18  19  20  21  22  \\\n0      0   0   0   0   0   0   0   0   0   0  ...   0   0   0   0   0   0   0   \n1      0   0   0   0   0   0   0   0   0   0  ...   0   0   0   0   0   0   0   \n2      0   0   0   0   0   0   0   0   0   0  ...   0   0   0   0   0   0   0   \n3      0   0   0   0   0   0   0   0   0   0  ...   0   0   0   0   0   0   0   \n4      0   0   0   0   0   0   0   0   0   0  ...   0   0   0   0   0   0   0   \n..   ...  ..  ..  ..  ..  ..  ..  ..  ..  ..  ...  ..  ..  ..  ..  ..  ..  ..   \n595    0   0   0   0   0   0   0   0   0   0  ...   0   0   0   0   0   0   0   \n596    0   0   0   0   0   0   0   0   0   0  ...   0   0   0   0   0   0   0   \n597   66   0   0   0   0   0   0   0   0   0  ...   0   0   0   0   0   0   0   \n598    0   0   0   0   0   0   0   0   0   0  ...   0   0   0   0   0   0   0   \n599  150   0   0   0   0   0   0   0   0   0  ...   0   0   0   0   0   0   0   \n\n     23  24  25  \n0     0   0   0  \n1     0   0   0  \n2     0   0   0  \n3     0   0   0  \n4     0   0   0  \n..   ..  ..  ..  \n595   0   0   0  \n596   0   0   0  \n597   0   0   0  \n598   0   0   0  \n599   0   0   0  \n\n[600 rows x 26 columns]",
      "text/html": "<div>\n<style scoped>\n    .dataframe tbody tr th:only-of-type {\n        vertical-align: middle;\n    }\n\n    .dataframe tbody tr th {\n        vertical-align: top;\n    }\n\n    .dataframe thead th {\n        text-align: right;\n    }\n</style>\n<table border=\"1\" class=\"dataframe\">\n  <thead>\n    <tr style=\"text-align: right;\">\n      <th></th>\n      <th>0</th>\n      <th>1</th>\n      <th>2</th>\n      <th>3</th>\n      <th>4</th>\n      <th>5</th>\n      <th>6</th>\n      <th>7</th>\n      <th>8</th>\n      <th>9</th>\n      <th>...</th>\n      <th>16</th>\n      <th>17</th>\n      <th>18</th>\n      <th>19</th>\n      <th>20</th>\n      <th>21</th>\n      <th>22</th>\n      <th>23</th>\n      <th>24</th>\n      <th>25</th>\n    </tr>\n  </thead>\n  <tbody>\n    <tr>\n      <th>0</th>\n      <td>0</td>\n      <td>0</td>\n      <td>0</td>\n      <td>0</td>\n      <td>0</td>\n      <td>0</td>\n      <td>0</td>\n      <td>0</td>\n      <td>0</td>\n      <td>0</td>\n      <td>...</td>\n      <td>0</td>\n      <td>0</td>\n      <td>0</td>\n      <td>0</td>\n      <td>0</td>\n      <td>0</td>\n      <td>0</td>\n      <td>0</td>\n      <td>0</td>\n      <td>0</td>\n    </tr>\n    <tr>\n      <th>1</th>\n      <td>0</td>\n      <td>0</td>\n      <td>0</td>\n      <td>0</td>\n      <td>0</td>\n      <td>0</td>\n      <td>0</td>\n      <td>0</td>\n      <td>0</td>\n      <td>0</td>\n      <td>...</td>\n      <td>0</td>\n      <td>0</td>\n      <td>0</td>\n      <td>0</td>\n      <td>0</td>\n      <td>0</td>\n      <td>0</td>\n      <td>0</td>\n      <td>0</td>\n      <td>0</td>\n    </tr>\n    <tr>\n      <th>2</th>\n      <td>0</td>\n      <td>0</td>\n      <td>0</td>\n      <td>0</td>\n      <td>0</td>\n      <td>0</td>\n      <td>0</td>\n      <td>0</td>\n      <td>0</td>\n      <td>0</td>\n      <td>...</td>\n      <td>0</td>\n      <td>0</td>\n      <td>0</td>\n      <td>0</td>\n      <td>0</td>\n      <td>0</td>\n      <td>0</td>\n      <td>0</td>\n      <td>0</td>\n      <td>0</td>\n    </tr>\n    <tr>\n      <th>3</th>\n      <td>0</td>\n      <td>0</td>\n      <td>0</td>\n      <td>0</td>\n      <td>0</td>\n      <td>0</td>\n      <td>0</td>\n      <td>0</td>\n      <td>0</td>\n      <td>0</td>\n      <td>...</td>\n      <td>0</td>\n      <td>0</td>\n      <td>0</td>\n      <td>0</td>\n      <td>0</td>\n      <td>0</td>\n      <td>0</td>\n      <td>0</td>\n      <td>0</td>\n      <td>0</td>\n    </tr>\n    <tr>\n      <th>4</th>\n      <td>0</td>\n      <td>0</td>\n      <td>0</td>\n      <td>0</td>\n      <td>0</td>\n      <td>0</td>\n      <td>0</td>\n      <td>0</td>\n      <td>0</td>\n      <td>0</td>\n      <td>...</td>\n      <td>0</td>\n      <td>0</td>\n      <td>0</td>\n      <td>0</td>\n      <td>0</td>\n      <td>0</td>\n      <td>0</td>\n      <td>0</td>\n      <td>0</td>\n      <td>0</td>\n    </tr>\n    <tr>\n      <th>...</th>\n      <td>...</td>\n      <td>...</td>\n      <td>...</td>\n      <td>...</td>\n      <td>...</td>\n      <td>...</td>\n      <td>...</td>\n      <td>...</td>\n      <td>...</td>\n      <td>...</td>\n      <td>...</td>\n      <td>...</td>\n      <td>...</td>\n      <td>...</td>\n      <td>...</td>\n      <td>...</td>\n      <td>...</td>\n      <td>...</td>\n      <td>...</td>\n      <td>...</td>\n      <td>...</td>\n    </tr>\n    <tr>\n      <th>595</th>\n      <td>0</td>\n      <td>0</td>\n      <td>0</td>\n      <td>0</td>\n      <td>0</td>\n      <td>0</td>\n      <td>0</td>\n      <td>0</td>\n      <td>0</td>\n      <td>0</td>\n      <td>...</td>\n      <td>0</td>\n      <td>0</td>\n      <td>0</td>\n      <td>0</td>\n      <td>0</td>\n      <td>0</td>\n      <td>0</td>\n      <td>0</td>\n      <td>0</td>\n      <td>0</td>\n    </tr>\n    <tr>\n      <th>596</th>\n      <td>0</td>\n      <td>0</td>\n      <td>0</td>\n      <td>0</td>\n      <td>0</td>\n      <td>0</td>\n      <td>0</td>\n      <td>0</td>\n      <td>0</td>\n      <td>0</td>\n      <td>...</td>\n      <td>0</td>\n      <td>0</td>\n      <td>0</td>\n      <td>0</td>\n      <td>0</td>\n      <td>0</td>\n      <td>0</td>\n      <td>0</td>\n      <td>0</td>\n      <td>0</td>\n    </tr>\n    <tr>\n      <th>597</th>\n      <td>66</td>\n      <td>0</td>\n      <td>0</td>\n      <td>0</td>\n      <td>0</td>\n      <td>0</td>\n      <td>0</td>\n      <td>0</td>\n      <td>0</td>\n      <td>0</td>\n      <td>...</td>\n      <td>0</td>\n      <td>0</td>\n      <td>0</td>\n      <td>0</td>\n      <td>0</td>\n      <td>0</td>\n      <td>0</td>\n      <td>0</td>\n      <td>0</td>\n      <td>0</td>\n    </tr>\n    <tr>\n      <th>598</th>\n      <td>0</td>\n      <td>0</td>\n      <td>0</td>\n      <td>0</td>\n      <td>0</td>\n      <td>0</td>\n      <td>0</td>\n      <td>0</td>\n      <td>0</td>\n      <td>0</td>\n      <td>...</td>\n      <td>0</td>\n      <td>0</td>\n      <td>0</td>\n      <td>0</td>\n      <td>0</td>\n      <td>0</td>\n      <td>0</td>\n      <td>0</td>\n      <td>0</td>\n      <td>0</td>\n    </tr>\n    <tr>\n      <th>599</th>\n      <td>150</td>\n      <td>0</td>\n      <td>0</td>\n      <td>0</td>\n      <td>0</td>\n      <td>0</td>\n      <td>0</td>\n      <td>0</td>\n      <td>0</td>\n      <td>0</td>\n      <td>...</td>\n      <td>0</td>\n      <td>0</td>\n      <td>0</td>\n      <td>0</td>\n      <td>0</td>\n      <td>0</td>\n      <td>0</td>\n      <td>0</td>\n      <td>0</td>\n      <td>0</td>\n    </tr>\n  </tbody>\n</table>\n<p>600 rows × 26 columns</p>\n</div>"
     },
     "metadata": {}
    },
    {
     "output_type": "stream",
     "name": "stdout",
     "text": [
      "Air frieght\n"
     ]
    },
    {
     "output_type": "display_data",
     "data": {
      "text/plain": "     0   1    2    3    4    5    6    7    8    9   ...   16   17   18   19  \\\n0     0   0    0   38  208    1  207  188  111  249  ...  278  127  241  316   \n1     0   0    0    0    0    0    0    0    0    0  ...    0    0    0    0   \n2     0   0   82  200   63  227   18   24  148  182  ...   51  183   72    0   \n3     0   0   97  155   83   75  129   86  150  207  ...   60   87  163   91   \n4     0   0   67   49   13   81   71  144  213   24  ...   29  153    0   70   \n..   ..  ..  ...  ...  ...  ...  ...  ...  ...  ...  ...  ...  ...  ...  ...   \n595   0   0    0    0    0    0    0    0   71  249  ...   68   50  151    0   \n596   0   0    0    0    0    0    0    0    0  164  ...    0  327   25   31   \n597   0  99  101  120   41  168  136  133   48  117  ...   40   79  162  157   \n598   0   0    0   83  204  216  339  204    0  257  ...  134  206  357  173   \n599   0   0   67  197  195  270   62  124  129  270  ...  239  230   37   64   \n\n      20   21   22   23  24  25  \n0     98  141  334  104   0   0  \n1      0    0    0    0   0   0  \n2    201  228  106  231   0   0  \n3    147  216   72   32   0   0  \n4    220   12   21  131   0   0  \n..   ...  ...  ...  ...  ..  ..  \n595   56  101   91   27   0   0  \n596  107  383   70  279   0   0  \n597    4    0   84   27   0   0  \n598    0  263  110  271   0   0  \n599   83  294  298  296   0   0  \n\n[600 rows x 26 columns]",
      "text/html": "<div>\n<style scoped>\n    .dataframe tbody tr th:only-of-type {\n        vertical-align: middle;\n    }\n\n    .dataframe tbody tr th {\n        vertical-align: top;\n    }\n\n    .dataframe thead th {\n        text-align: right;\n    }\n</style>\n<table border=\"1\" class=\"dataframe\">\n  <thead>\n    <tr style=\"text-align: right;\">\n      <th></th>\n      <th>0</th>\n      <th>1</th>\n      <th>2</th>\n      <th>3</th>\n      <th>4</th>\n      <th>5</th>\n      <th>6</th>\n      <th>7</th>\n      <th>8</th>\n      <th>9</th>\n      <th>...</th>\n      <th>16</th>\n      <th>17</th>\n      <th>18</th>\n      <th>19</th>\n      <th>20</th>\n      <th>21</th>\n      <th>22</th>\n      <th>23</th>\n      <th>24</th>\n      <th>25</th>\n    </tr>\n  </thead>\n  <tbody>\n    <tr>\n      <th>0</th>\n      <td>0</td>\n      <td>0</td>\n      <td>0</td>\n      <td>38</td>\n      <td>208</td>\n      <td>1</td>\n      <td>207</td>\n      <td>188</td>\n      <td>111</td>\n      <td>249</td>\n      <td>...</td>\n      <td>278</td>\n      <td>127</td>\n      <td>241</td>\n      <td>316</td>\n      <td>98</td>\n      <td>141</td>\n      <td>334</td>\n      <td>104</td>\n      <td>0</td>\n      <td>0</td>\n    </tr>\n    <tr>\n      <th>1</th>\n      <td>0</td>\n      <td>0</td>\n      <td>0</td>\n      <td>0</td>\n      <td>0</td>\n      <td>0</td>\n      <td>0</td>\n      <td>0</td>\n      <td>0</td>\n      <td>0</td>\n      <td>...</td>\n      <td>0</td>\n      <td>0</td>\n      <td>0</td>\n      <td>0</td>\n      <td>0</td>\n      <td>0</td>\n      <td>0</td>\n      <td>0</td>\n      <td>0</td>\n      <td>0</td>\n    </tr>\n    <tr>\n      <th>2</th>\n      <td>0</td>\n      <td>0</td>\n      <td>82</td>\n      <td>200</td>\n      <td>63</td>\n      <td>227</td>\n      <td>18</td>\n      <td>24</td>\n      <td>148</td>\n      <td>182</td>\n      <td>...</td>\n      <td>51</td>\n      <td>183</td>\n      <td>72</td>\n      <td>0</td>\n      <td>201</td>\n      <td>228</td>\n      <td>106</td>\n      <td>231</td>\n      <td>0</td>\n      <td>0</td>\n    </tr>\n    <tr>\n      <th>3</th>\n      <td>0</td>\n      <td>0</td>\n      <td>97</td>\n      <td>155</td>\n      <td>83</td>\n      <td>75</td>\n      <td>129</td>\n      <td>86</td>\n      <td>150</td>\n      <td>207</td>\n      <td>...</td>\n      <td>60</td>\n      <td>87</td>\n      <td>163</td>\n      <td>91</td>\n      <td>147</td>\n      <td>216</td>\n      <td>72</td>\n      <td>32</td>\n      <td>0</td>\n      <td>0</td>\n    </tr>\n    <tr>\n      <th>4</th>\n      <td>0</td>\n      <td>0</td>\n      <td>67</td>\n      <td>49</td>\n      <td>13</td>\n      <td>81</td>\n      <td>71</td>\n      <td>144</td>\n      <td>213</td>\n      <td>24</td>\n      <td>...</td>\n      <td>29</td>\n      <td>153</td>\n      <td>0</td>\n      <td>70</td>\n      <td>220</td>\n      <td>12</td>\n      <td>21</td>\n      <td>131</td>\n      <td>0</td>\n      <td>0</td>\n    </tr>\n    <tr>\n      <th>...</th>\n      <td>...</td>\n      <td>...</td>\n      <td>...</td>\n      <td>...</td>\n      <td>...</td>\n      <td>...</td>\n      <td>...</td>\n      <td>...</td>\n      <td>...</td>\n      <td>...</td>\n      <td>...</td>\n      <td>...</td>\n      <td>...</td>\n      <td>...</td>\n      <td>...</td>\n      <td>...</td>\n      <td>...</td>\n      <td>...</td>\n      <td>...</td>\n      <td>...</td>\n      <td>...</td>\n    </tr>\n    <tr>\n      <th>595</th>\n      <td>0</td>\n      <td>0</td>\n      <td>0</td>\n      <td>0</td>\n      <td>0</td>\n      <td>0</td>\n      <td>0</td>\n      <td>0</td>\n      <td>71</td>\n      <td>249</td>\n      <td>...</td>\n      <td>68</td>\n      <td>50</td>\n      <td>151</td>\n      <td>0</td>\n      <td>56</td>\n      <td>101</td>\n      <td>91</td>\n      <td>27</td>\n      <td>0</td>\n      <td>0</td>\n    </tr>\n    <tr>\n      <th>596</th>\n      <td>0</td>\n      <td>0</td>\n      <td>0</td>\n      <td>0</td>\n      <td>0</td>\n      <td>0</td>\n      <td>0</td>\n      <td>0</td>\n      <td>0</td>\n      <td>164</td>\n      <td>...</td>\n      <td>0</td>\n      <td>327</td>\n      <td>25</td>\n      <td>31</td>\n      <td>107</td>\n      <td>383</td>\n      <td>70</td>\n      <td>279</td>\n      <td>0</td>\n      <td>0</td>\n    </tr>\n    <tr>\n      <th>597</th>\n      <td>0</td>\n      <td>99</td>\n      <td>101</td>\n      <td>120</td>\n      <td>41</td>\n      <td>168</td>\n      <td>136</td>\n      <td>133</td>\n      <td>48</td>\n      <td>117</td>\n      <td>...</td>\n      <td>40</td>\n      <td>79</td>\n      <td>162</td>\n      <td>157</td>\n      <td>4</td>\n      <td>0</td>\n      <td>84</td>\n      <td>27</td>\n      <td>0</td>\n      <td>0</td>\n    </tr>\n    <tr>\n      <th>598</th>\n      <td>0</td>\n      <td>0</td>\n      <td>0</td>\n      <td>83</td>\n      <td>204</td>\n      <td>216</td>\n      <td>339</td>\n      <td>204</td>\n      <td>0</td>\n      <td>257</td>\n      <td>...</td>\n      <td>134</td>\n      <td>206</td>\n      <td>357</td>\n      <td>173</td>\n      <td>0</td>\n      <td>263</td>\n      <td>110</td>\n      <td>271</td>\n      <td>0</td>\n      <td>0</td>\n    </tr>\n    <tr>\n      <th>599</th>\n      <td>0</td>\n      <td>0</td>\n      <td>67</td>\n      <td>197</td>\n      <td>195</td>\n      <td>270</td>\n      <td>62</td>\n      <td>124</td>\n      <td>129</td>\n      <td>270</td>\n      <td>...</td>\n      <td>239</td>\n      <td>230</td>\n      <td>37</td>\n      <td>64</td>\n      <td>83</td>\n      <td>294</td>\n      <td>298</td>\n      <td>296</td>\n      <td>0</td>\n      <td>0</td>\n    </tr>\n  </tbody>\n</table>\n<p>600 rows × 26 columns</p>\n</div>"
     },
     "metadata": {}
    },
    {
     "output_type": "stream",
     "name": "stdout",
     "text": [
      "Ocean frieght\n"
     ]
    },
    {
     "output_type": "display_data",
     "data": {
      "text/plain": "     0   1   2    3    4   5    6   7    8    9   ...   16  17  18  19   20  \\\n0     0   0   0    0    0   0    1   0    0    1  ...    0   0   1   0    0   \n1     0   7  38  136  118  58  121  78  206  166  ...  109  60  89  74  244   \n2     0   0   0    0    0   0    1   0    0    1  ...    0   0   1   0    0   \n3     0   0   0    0    0   0    1   0    0    1  ...    0   0   1   0    0   \n4     0   0   0    0    0   0    1   0    0    0  ...    0   0   1   0    0   \n..   ..  ..  ..  ...  ...  ..  ...  ..  ...  ...  ...  ...  ..  ..  ..  ...   \n595   0   0   0    0    0   0    0   0    0    0  ...    0   0   0   0    0   \n596   0   0   0    0    0   0    0   0    0    0  ...    0   0   0   0    0   \n597   0   0   0    0    0   0    0   0    0    0  ...    0   0   0   0    0   \n598   0   0   0    0    0   0    0   0    0    0  ...    0   0   0   0    0   \n599   0   0   0    0    0   0    0   0    0    0  ...    0   0   0   0    0   \n\n      21   22  23  24  25  \n0      1    0   0   0   0  \n1    131  155   0   0   0  \n2      1    0   0   0   0  \n3      1    0   0   0   0  \n4      1    0   0   0   0  \n..   ...  ...  ..  ..  ..  \n595    0    0   0   0   0  \n596    0    0   0   0   0  \n597    0    0   0   0   0  \n598    0    0   0   0   0  \n599    0    0   0   0   0  \n\n[600 rows x 26 columns]",
      "text/html": "<div>\n<style scoped>\n    .dataframe tbody tr th:only-of-type {\n        vertical-align: middle;\n    }\n\n    .dataframe tbody tr th {\n        vertical-align: top;\n    }\n\n    .dataframe thead th {\n        text-align: right;\n    }\n</style>\n<table border=\"1\" class=\"dataframe\">\n  <thead>\n    <tr style=\"text-align: right;\">\n      <th></th>\n      <th>0</th>\n      <th>1</th>\n      <th>2</th>\n      <th>3</th>\n      <th>4</th>\n      <th>5</th>\n      <th>6</th>\n      <th>7</th>\n      <th>8</th>\n      <th>9</th>\n      <th>...</th>\n      <th>16</th>\n      <th>17</th>\n      <th>18</th>\n      <th>19</th>\n      <th>20</th>\n      <th>21</th>\n      <th>22</th>\n      <th>23</th>\n      <th>24</th>\n      <th>25</th>\n    </tr>\n  </thead>\n  <tbody>\n    <tr>\n      <th>0</th>\n      <td>0</td>\n      <td>0</td>\n      <td>0</td>\n      <td>0</td>\n      <td>0</td>\n      <td>0</td>\n      <td>1</td>\n      <td>0</td>\n      <td>0</td>\n      <td>1</td>\n      <td>...</td>\n      <td>0</td>\n      <td>0</td>\n      <td>1</td>\n      <td>0</td>\n      <td>0</td>\n      <td>1</td>\n      <td>0</td>\n      <td>0</td>\n      <td>0</td>\n      <td>0</td>\n    </tr>\n    <tr>\n      <th>1</th>\n      <td>0</td>\n      <td>7</td>\n      <td>38</td>\n      <td>136</td>\n      <td>118</td>\n      <td>58</td>\n      <td>121</td>\n      <td>78</td>\n      <td>206</td>\n      <td>166</td>\n      <td>...</td>\n      <td>109</td>\n      <td>60</td>\n      <td>89</td>\n      <td>74</td>\n      <td>244</td>\n      <td>131</td>\n      <td>155</td>\n      <td>0</td>\n      <td>0</td>\n      <td>0</td>\n    </tr>\n    <tr>\n      <th>2</th>\n      <td>0</td>\n      <td>0</td>\n      <td>0</td>\n      <td>0</td>\n      <td>0</td>\n      <td>0</td>\n      <td>1</td>\n      <td>0</td>\n      <td>0</td>\n      <td>1</td>\n      <td>...</td>\n      <td>0</td>\n      <td>0</td>\n      <td>1</td>\n      <td>0</td>\n      <td>0</td>\n      <td>1</td>\n      <td>0</td>\n      <td>0</td>\n      <td>0</td>\n      <td>0</td>\n    </tr>\n    <tr>\n      <th>3</th>\n      <td>0</td>\n      <td>0</td>\n      <td>0</td>\n      <td>0</td>\n      <td>0</td>\n      <td>0</td>\n      <td>1</td>\n      <td>0</td>\n      <td>0</td>\n      <td>1</td>\n      <td>...</td>\n      <td>0</td>\n      <td>0</td>\n      <td>1</td>\n      <td>0</td>\n      <td>0</td>\n      <td>1</td>\n      <td>0</td>\n      <td>0</td>\n      <td>0</td>\n      <td>0</td>\n    </tr>\n    <tr>\n      <th>4</th>\n      <td>0</td>\n      <td>0</td>\n      <td>0</td>\n      <td>0</td>\n      <td>0</td>\n      <td>0</td>\n      <td>1</td>\n      <td>0</td>\n      <td>0</td>\n      <td>0</td>\n      <td>...</td>\n      <td>0</td>\n      <td>0</td>\n      <td>1</td>\n      <td>0</td>\n      <td>0</td>\n      <td>1</td>\n      <td>0</td>\n      <td>0</td>\n      <td>0</td>\n      <td>0</td>\n    </tr>\n    <tr>\n      <th>...</th>\n      <td>...</td>\n      <td>...</td>\n      <td>...</td>\n      <td>...</td>\n      <td>...</td>\n      <td>...</td>\n      <td>...</td>\n      <td>...</td>\n      <td>...</td>\n      <td>...</td>\n      <td>...</td>\n      <td>...</td>\n      <td>...</td>\n      <td>...</td>\n      <td>...</td>\n      <td>...</td>\n      <td>...</td>\n      <td>...</td>\n      <td>...</td>\n      <td>...</td>\n      <td>...</td>\n    </tr>\n    <tr>\n      <th>595</th>\n      <td>0</td>\n      <td>0</td>\n      <td>0</td>\n      <td>0</td>\n      <td>0</td>\n      <td>0</td>\n      <td>0</td>\n      <td>0</td>\n      <td>0</td>\n      <td>0</td>\n      <td>...</td>\n      <td>0</td>\n      <td>0</td>\n      <td>0</td>\n      <td>0</td>\n      <td>0</td>\n      <td>0</td>\n      <td>0</td>\n      <td>0</td>\n      <td>0</td>\n      <td>0</td>\n    </tr>\n    <tr>\n      <th>596</th>\n      <td>0</td>\n      <td>0</td>\n      <td>0</td>\n      <td>0</td>\n      <td>0</td>\n      <td>0</td>\n      <td>0</td>\n      <td>0</td>\n      <td>0</td>\n      <td>0</td>\n      <td>...</td>\n      <td>0</td>\n      <td>0</td>\n      <td>0</td>\n      <td>0</td>\n      <td>0</td>\n      <td>0</td>\n      <td>0</td>\n      <td>0</td>\n      <td>0</td>\n      <td>0</td>\n    </tr>\n    <tr>\n      <th>597</th>\n      <td>0</td>\n      <td>0</td>\n      <td>0</td>\n      <td>0</td>\n      <td>0</td>\n      <td>0</td>\n      <td>0</td>\n      <td>0</td>\n      <td>0</td>\n      <td>0</td>\n      <td>...</td>\n      <td>0</td>\n      <td>0</td>\n      <td>0</td>\n      <td>0</td>\n      <td>0</td>\n      <td>0</td>\n      <td>0</td>\n      <td>0</td>\n      <td>0</td>\n      <td>0</td>\n    </tr>\n    <tr>\n      <th>598</th>\n      <td>0</td>\n      <td>0</td>\n      <td>0</td>\n      <td>0</td>\n      <td>0</td>\n      <td>0</td>\n      <td>0</td>\n      <td>0</td>\n      <td>0</td>\n      <td>0</td>\n      <td>...</td>\n      <td>0</td>\n      <td>0</td>\n      <td>0</td>\n      <td>0</td>\n      <td>0</td>\n      <td>0</td>\n      <td>0</td>\n      <td>0</td>\n      <td>0</td>\n      <td>0</td>\n    </tr>\n    <tr>\n      <th>599</th>\n      <td>0</td>\n      <td>0</td>\n      <td>0</td>\n      <td>0</td>\n      <td>0</td>\n      <td>0</td>\n      <td>0</td>\n      <td>0</td>\n      <td>0</td>\n      <td>0</td>\n      <td>...</td>\n      <td>0</td>\n      <td>0</td>\n      <td>0</td>\n      <td>0</td>\n      <td>0</td>\n      <td>0</td>\n      <td>0</td>\n      <td>0</td>\n      <td>0</td>\n      <td>0</td>\n    </tr>\n  </tbody>\n</table>\n<p>600 rows × 26 columns</p>\n</div>"
     },
     "metadata": {}
    },
    {
     "output_type": "stream",
     "name": "stdout",
     "text": [
      "StockLevel\n"
     ]
    },
    {
     "output_type": "display_data",
     "data": {
      "text/plain": "         0      1       2       3      4      5      6      7      8      9   \\\n0     662.0  607.0   435.0   241.0  147.0    0.0    0.0    0.0    0.0    0.0   \n1     410.0  357.0   289.0   104.0   98.0    0.0    0.0    0.0    6.0    0.0   \n2     346.0  167.0   166.0   117.0    0.0    0.0    0.0    0.0    0.0    0.0   \n3     208.0  258.0   180.0    49.0    0.0    0.0    0.0    0.0    0.0    0.0   \n4     365.0  303.0   220.0   130.0    0.0    0.0    0.0    0.0    0.0    0.0   \n..      ...    ...     ...     ...    ...    ...    ...    ...    ...    ...   \n595   768.0  694.0   654.0   613.0  455.0  237.0  216.0  200.0   25.0   25.0   \n596  1039.0  911.0  1062.0  1009.0  913.0  616.0  574.0  319.0  319.0  234.0   \n597   179.0    0.0    14.0     0.0    0.0    0.0    0.0    0.0    0.0    0.0   \n598   784.0  593.0   386.0   102.0  102.0    0.0    0.0    0.0    0.0    0.0   \n599   112.0    0.0   176.0   102.0    0.0    0.0    0.0    0.0    0.0    0.0   \n\n     ...       16   17   18        19   20        21   22   23   24   25  \n0    ...  0.00000  0.0  0.0  0.000000  0.0  0.000000  0.0  0.0  0.0  0.0  \n1    ...  6.66386  0.0  0.0  6.835291  0.0  6.884704  0.0  0.0  0.0  0.0  \n2    ...  0.00000  0.0  0.0  0.000000  0.0  0.000000  0.0  0.0  0.0  0.0  \n3    ...  0.00000  0.0  0.0  0.000000  0.0  0.000000  0.0  0.0  0.0  0.0  \n4    ...  0.00000  0.0  0.0  0.000000  0.0  0.000000  0.0  0.0  0.0  0.0  \n..   ...      ...  ...  ...       ...  ...       ...  ...  ...  ...  ...  \n595  ...  0.00000  0.0  0.0  0.000000  0.0  0.000000  0.0  0.0  0.0  0.0  \n596  ...  0.00000  0.0  0.0  0.000000  0.0  0.000000  0.0  0.0  0.0  0.0  \n597  ...  0.00000  0.0  0.0  0.000000  0.0  0.000000  0.0  0.0  0.0  0.0  \n598  ...  0.00000  0.0  0.0  0.000000  0.0  0.000000  0.0  0.0  0.0  0.0  \n599  ...  0.00000  0.0  0.0  0.000000  0.0  0.000000  0.0  0.0  0.0  0.0  \n\n[600 rows x 26 columns]",
      "text/html": "<div>\n<style scoped>\n    .dataframe tbody tr th:only-of-type {\n        vertical-align: middle;\n    }\n\n    .dataframe tbody tr th {\n        vertical-align: top;\n    }\n\n    .dataframe thead th {\n        text-align: right;\n    }\n</style>\n<table border=\"1\" class=\"dataframe\">\n  <thead>\n    <tr style=\"text-align: right;\">\n      <th></th>\n      <th>0</th>\n      <th>1</th>\n      <th>2</th>\n      <th>3</th>\n      <th>4</th>\n      <th>5</th>\n      <th>6</th>\n      <th>7</th>\n      <th>8</th>\n      <th>9</th>\n      <th>...</th>\n      <th>16</th>\n      <th>17</th>\n      <th>18</th>\n      <th>19</th>\n      <th>20</th>\n      <th>21</th>\n      <th>22</th>\n      <th>23</th>\n      <th>24</th>\n      <th>25</th>\n    </tr>\n  </thead>\n  <tbody>\n    <tr>\n      <th>0</th>\n      <td>662.0</td>\n      <td>607.0</td>\n      <td>435.0</td>\n      <td>241.0</td>\n      <td>147.0</td>\n      <td>0.0</td>\n      <td>0.0</td>\n      <td>0.0</td>\n      <td>0.0</td>\n      <td>0.0</td>\n      <td>...</td>\n      <td>0.00000</td>\n      <td>0.0</td>\n      <td>0.0</td>\n      <td>0.000000</td>\n      <td>0.0</td>\n      <td>0.000000</td>\n      <td>0.0</td>\n      <td>0.0</td>\n      <td>0.0</td>\n      <td>0.0</td>\n    </tr>\n    <tr>\n      <th>1</th>\n      <td>410.0</td>\n      <td>357.0</td>\n      <td>289.0</td>\n      <td>104.0</td>\n      <td>98.0</td>\n      <td>0.0</td>\n      <td>0.0</td>\n      <td>0.0</td>\n      <td>6.0</td>\n      <td>0.0</td>\n      <td>...</td>\n      <td>6.66386</td>\n      <td>0.0</td>\n      <td>0.0</td>\n      <td>6.835291</td>\n      <td>0.0</td>\n      <td>6.884704</td>\n      <td>0.0</td>\n      <td>0.0</td>\n      <td>0.0</td>\n      <td>0.0</td>\n    </tr>\n    <tr>\n      <th>2</th>\n      <td>346.0</td>\n      <td>167.0</td>\n      <td>166.0</td>\n      <td>117.0</td>\n      <td>0.0</td>\n      <td>0.0</td>\n      <td>0.0</td>\n      <td>0.0</td>\n      <td>0.0</td>\n      <td>0.0</td>\n      <td>...</td>\n      <td>0.00000</td>\n      <td>0.0</td>\n      <td>0.0</td>\n      <td>0.000000</td>\n      <td>0.0</td>\n      <td>0.000000</td>\n      <td>0.0</td>\n      <td>0.0</td>\n      <td>0.0</td>\n      <td>0.0</td>\n    </tr>\n    <tr>\n      <th>3</th>\n      <td>208.0</td>\n      <td>258.0</td>\n      <td>180.0</td>\n      <td>49.0</td>\n      <td>0.0</td>\n      <td>0.0</td>\n      <td>0.0</td>\n      <td>0.0</td>\n      <td>0.0</td>\n      <td>0.0</td>\n      <td>...</td>\n      <td>0.00000</td>\n      <td>0.0</td>\n      <td>0.0</td>\n      <td>0.000000</td>\n      <td>0.0</td>\n      <td>0.000000</td>\n      <td>0.0</td>\n      <td>0.0</td>\n      <td>0.0</td>\n      <td>0.0</td>\n    </tr>\n    <tr>\n      <th>4</th>\n      <td>365.0</td>\n      <td>303.0</td>\n      <td>220.0</td>\n      <td>130.0</td>\n      <td>0.0</td>\n      <td>0.0</td>\n      <td>0.0</td>\n      <td>0.0</td>\n      <td>0.0</td>\n      <td>0.0</td>\n      <td>...</td>\n      <td>0.00000</td>\n      <td>0.0</td>\n      <td>0.0</td>\n      <td>0.000000</td>\n      <td>0.0</td>\n      <td>0.000000</td>\n      <td>0.0</td>\n      <td>0.0</td>\n      <td>0.0</td>\n      <td>0.0</td>\n    </tr>\n    <tr>\n      <th>...</th>\n      <td>...</td>\n      <td>...</td>\n      <td>...</td>\n      <td>...</td>\n      <td>...</td>\n      <td>...</td>\n      <td>...</td>\n      <td>...</td>\n      <td>...</td>\n      <td>...</td>\n      <td>...</td>\n      <td>...</td>\n      <td>...</td>\n      <td>...</td>\n      <td>...</td>\n      <td>...</td>\n      <td>...</td>\n      <td>...</td>\n      <td>...</td>\n      <td>...</td>\n      <td>...</td>\n    </tr>\n    <tr>\n      <th>595</th>\n      <td>768.0</td>\n      <td>694.0</td>\n      <td>654.0</td>\n      <td>613.0</td>\n      <td>455.0</td>\n      <td>237.0</td>\n      <td>216.0</td>\n      <td>200.0</td>\n      <td>25.0</td>\n      <td>25.0</td>\n      <td>...</td>\n      <td>0.00000</td>\n      <td>0.0</td>\n      <td>0.0</td>\n      <td>0.000000</td>\n      <td>0.0</td>\n      <td>0.000000</td>\n      <td>0.0</td>\n      <td>0.0</td>\n      <td>0.0</td>\n      <td>0.0</td>\n    </tr>\n    <tr>\n      <th>596</th>\n      <td>1039.0</td>\n      <td>911.0</td>\n      <td>1062.0</td>\n      <td>1009.0</td>\n      <td>913.0</td>\n      <td>616.0</td>\n      <td>574.0</td>\n      <td>319.0</td>\n      <td>319.0</td>\n      <td>234.0</td>\n      <td>...</td>\n      <td>0.00000</td>\n      <td>0.0</td>\n      <td>0.0</td>\n      <td>0.000000</td>\n      <td>0.0</td>\n      <td>0.000000</td>\n      <td>0.0</td>\n      <td>0.0</td>\n      <td>0.0</td>\n      <td>0.0</td>\n    </tr>\n    <tr>\n      <th>597</th>\n      <td>179.0</td>\n      <td>0.0</td>\n      <td>14.0</td>\n      <td>0.0</td>\n      <td>0.0</td>\n      <td>0.0</td>\n      <td>0.0</td>\n      <td>0.0</td>\n      <td>0.0</td>\n      <td>0.0</td>\n      <td>...</td>\n      <td>0.00000</td>\n      <td>0.0</td>\n      <td>0.0</td>\n      <td>0.000000</td>\n      <td>0.0</td>\n      <td>0.000000</td>\n      <td>0.0</td>\n      <td>0.0</td>\n      <td>0.0</td>\n      <td>0.0</td>\n    </tr>\n    <tr>\n      <th>598</th>\n      <td>784.0</td>\n      <td>593.0</td>\n      <td>386.0</td>\n      <td>102.0</td>\n      <td>102.0</td>\n      <td>0.0</td>\n      <td>0.0</td>\n      <td>0.0</td>\n      <td>0.0</td>\n      <td>0.0</td>\n      <td>...</td>\n      <td>0.00000</td>\n      <td>0.0</td>\n      <td>0.0</td>\n      <td>0.000000</td>\n      <td>0.0</td>\n      <td>0.000000</td>\n      <td>0.0</td>\n      <td>0.0</td>\n      <td>0.0</td>\n      <td>0.0</td>\n    </tr>\n    <tr>\n      <th>599</th>\n      <td>112.0</td>\n      <td>0.0</td>\n      <td>176.0</td>\n      <td>102.0</td>\n      <td>0.0</td>\n      <td>0.0</td>\n      <td>0.0</td>\n      <td>0.0</td>\n      <td>0.0</td>\n      <td>0.0</td>\n      <td>...</td>\n      <td>0.00000</td>\n      <td>0.0</td>\n      <td>0.0</td>\n      <td>0.000000</td>\n      <td>0.0</td>\n      <td>0.000000</td>\n      <td>0.0</td>\n      <td>0.0</td>\n      <td>0.0</td>\n      <td>0.0</td>\n    </tr>\n  </tbody>\n</table>\n<p>600 rows × 26 columns</p>\n</div>"
     },
     "metadata": {}
    },
    {
     "output_type": "stream",
     "name": "stdout",
     "text": [
      "Shortage\n"
     ]
    },
    {
     "output_type": "display_data",
     "data": {
      "text/plain": "      0    1    2    3    4    5    6    7    8    9   ...   16       17  \\\n0    0.0  0.0  0.0  0.0  0.0  0.0  0.0  0.0  0.0  0.0  ...  0.0  0.00000   \n1    0.0  0.0  0.0  0.0  0.0  0.0  0.0  0.0  0.0  0.0  ...  0.0  0.33614   \n2    0.0  0.0  0.0  0.0  0.0  0.0  0.0  0.0  0.0  0.0  ...  0.0  0.00000   \n3    0.0  0.0  0.0  0.0  0.0  0.0  0.0  0.0  0.0  0.0  ...  0.0  0.00000   \n4    0.0  0.0  0.0  0.0  0.0  0.0  0.0  0.0  0.0  0.0  ...  0.0  0.00000   \n..   ...  ...  ...  ...  ...  ...  ...  ...  ...  ...  ...  ...      ...   \n595  0.0  0.0  0.0  0.0  0.0  0.0  0.0  0.0  0.0  0.0  ...  0.0  0.00000   \n596  0.0  0.0  0.0  0.0  0.0  0.0  0.0  0.0  0.0  0.0  ...  0.0  0.00000   \n597  0.0  0.0  0.0  0.0  0.0  0.0  0.0  0.0  0.0  0.0  ...  0.0  0.00000   \n598  0.0  0.0  0.0  0.0  0.0  0.0  0.0  0.0  0.0  0.0  ...  0.0  0.00000   \n599  0.0  0.0  0.0  0.0  0.0  0.0  0.0  0.0  0.0  0.0  ...  0.0  0.00000   \n\n           18   19        20   21        22        23        24        25  \n0    0.000000  0.0  0.000000  0.0  0.000000  0.000000  0.000000  0.000000  \n1    0.235298  0.0  0.164709  0.0  5.115296  6.580707  4.606495  5.224547  \n2    0.000000  0.0  0.000000  0.0  0.000000  0.000000  0.000000  0.000000  \n3    0.000000  0.0  0.000000  0.0  0.000000  0.000000  0.000000  0.000000  \n4    0.000000  0.0  0.000000  0.0  0.000000  0.000000  0.000000  0.000000  \n..        ...  ...       ...  ...       ...       ...       ...       ...  \n595  0.000000  0.0  0.000000  0.0  0.000000  0.000000  0.000000  0.000000  \n596  0.000000  0.0  0.000000  0.0  0.000000  0.000000  0.000000  0.000000  \n597  0.000000  0.0  0.000000  0.0  0.000000  0.000000  0.000000  0.000000  \n598  0.000000  0.0  0.000000  0.0  0.000000  0.000000  0.000000  0.000000  \n599  0.000000  0.0  0.000000  0.0  0.000000  0.000000  0.000000  0.000000  \n\n[600 rows x 26 columns]",
      "text/html": "<div>\n<style scoped>\n    .dataframe tbody tr th:only-of-type {\n        vertical-align: middle;\n    }\n\n    .dataframe tbody tr th {\n        vertical-align: top;\n    }\n\n    .dataframe thead th {\n        text-align: right;\n    }\n</style>\n<table border=\"1\" class=\"dataframe\">\n  <thead>\n    <tr style=\"text-align: right;\">\n      <th></th>\n      <th>0</th>\n      <th>1</th>\n      <th>2</th>\n      <th>3</th>\n      <th>4</th>\n      <th>5</th>\n      <th>6</th>\n      <th>7</th>\n      <th>8</th>\n      <th>9</th>\n      <th>...</th>\n      <th>16</th>\n      <th>17</th>\n      <th>18</th>\n      <th>19</th>\n      <th>20</th>\n      <th>21</th>\n      <th>22</th>\n      <th>23</th>\n      <th>24</th>\n      <th>25</th>\n    </tr>\n  </thead>\n  <tbody>\n    <tr>\n      <th>0</th>\n      <td>0.0</td>\n      <td>0.0</td>\n      <td>0.0</td>\n      <td>0.0</td>\n      <td>0.0</td>\n      <td>0.0</td>\n      <td>0.0</td>\n      <td>0.0</td>\n      <td>0.0</td>\n      <td>0.0</td>\n      <td>...</td>\n      <td>0.0</td>\n      <td>0.00000</td>\n      <td>0.000000</td>\n      <td>0.0</td>\n      <td>0.000000</td>\n      <td>0.0</td>\n      <td>0.000000</td>\n      <td>0.000000</td>\n      <td>0.000000</td>\n      <td>0.000000</td>\n    </tr>\n    <tr>\n      <th>1</th>\n      <td>0.0</td>\n      <td>0.0</td>\n      <td>0.0</td>\n      <td>0.0</td>\n      <td>0.0</td>\n      <td>0.0</td>\n      <td>0.0</td>\n      <td>0.0</td>\n      <td>0.0</td>\n      <td>0.0</td>\n      <td>...</td>\n      <td>0.0</td>\n      <td>0.33614</td>\n      <td>0.235298</td>\n      <td>0.0</td>\n      <td>0.164709</td>\n      <td>0.0</td>\n      <td>5.115296</td>\n      <td>6.580707</td>\n      <td>4.606495</td>\n      <td>5.224547</td>\n    </tr>\n    <tr>\n      <th>2</th>\n      <td>0.0</td>\n      <td>0.0</td>\n      <td>0.0</td>\n      <td>0.0</td>\n      <td>0.0</td>\n      <td>0.0</td>\n      <td>0.0</td>\n      <td>0.0</td>\n      <td>0.0</td>\n      <td>0.0</td>\n      <td>...</td>\n      <td>0.0</td>\n      <td>0.00000</td>\n      <td>0.000000</td>\n      <td>0.0</td>\n      <td>0.000000</td>\n      <td>0.0</td>\n      <td>0.000000</td>\n      <td>0.000000</td>\n      <td>0.000000</td>\n      <td>0.000000</td>\n    </tr>\n    <tr>\n      <th>3</th>\n      <td>0.0</td>\n      <td>0.0</td>\n      <td>0.0</td>\n      <td>0.0</td>\n      <td>0.0</td>\n      <td>0.0</td>\n      <td>0.0</td>\n      <td>0.0</td>\n      <td>0.0</td>\n      <td>0.0</td>\n      <td>...</td>\n      <td>0.0</td>\n      <td>0.00000</td>\n      <td>0.000000</td>\n      <td>0.0</td>\n      <td>0.000000</td>\n      <td>0.0</td>\n      <td>0.000000</td>\n      <td>0.000000</td>\n      <td>0.000000</td>\n      <td>0.000000</td>\n    </tr>\n    <tr>\n      <th>4</th>\n      <td>0.0</td>\n      <td>0.0</td>\n      <td>0.0</td>\n      <td>0.0</td>\n      <td>0.0</td>\n      <td>0.0</td>\n      <td>0.0</td>\n      <td>0.0</td>\n      <td>0.0</td>\n      <td>0.0</td>\n      <td>...</td>\n      <td>0.0</td>\n      <td>0.00000</td>\n      <td>0.000000</td>\n      <td>0.0</td>\n      <td>0.000000</td>\n      <td>0.0</td>\n      <td>0.000000</td>\n      <td>0.000000</td>\n      <td>0.000000</td>\n      <td>0.000000</td>\n    </tr>\n    <tr>\n      <th>...</th>\n      <td>...</td>\n      <td>...</td>\n      <td>...</td>\n      <td>...</td>\n      <td>...</td>\n      <td>...</td>\n      <td>...</td>\n      <td>...</td>\n      <td>...</td>\n      <td>...</td>\n      <td>...</td>\n      <td>...</td>\n      <td>...</td>\n      <td>...</td>\n      <td>...</td>\n      <td>...</td>\n      <td>...</td>\n      <td>...</td>\n      <td>...</td>\n      <td>...</td>\n      <td>...</td>\n    </tr>\n    <tr>\n      <th>595</th>\n      <td>0.0</td>\n      <td>0.0</td>\n      <td>0.0</td>\n      <td>0.0</td>\n      <td>0.0</td>\n      <td>0.0</td>\n      <td>0.0</td>\n      <td>0.0</td>\n      <td>0.0</td>\n      <td>0.0</td>\n      <td>...</td>\n      <td>0.0</td>\n      <td>0.00000</td>\n      <td>0.000000</td>\n      <td>0.0</td>\n      <td>0.000000</td>\n      <td>0.0</td>\n      <td>0.000000</td>\n      <td>0.000000</td>\n      <td>0.000000</td>\n      <td>0.000000</td>\n    </tr>\n    <tr>\n      <th>596</th>\n      <td>0.0</td>\n      <td>0.0</td>\n      <td>0.0</td>\n      <td>0.0</td>\n      <td>0.0</td>\n      <td>0.0</td>\n      <td>0.0</td>\n      <td>0.0</td>\n      <td>0.0</td>\n      <td>0.0</td>\n      <td>...</td>\n      <td>0.0</td>\n      <td>0.00000</td>\n      <td>0.000000</td>\n      <td>0.0</td>\n      <td>0.000000</td>\n      <td>0.0</td>\n      <td>0.000000</td>\n      <td>0.000000</td>\n      <td>0.000000</td>\n      <td>0.000000</td>\n    </tr>\n    <tr>\n      <th>597</th>\n      <td>0.0</td>\n      <td>0.0</td>\n      <td>0.0</td>\n      <td>0.0</td>\n      <td>0.0</td>\n      <td>0.0</td>\n      <td>0.0</td>\n      <td>0.0</td>\n      <td>0.0</td>\n      <td>0.0</td>\n      <td>...</td>\n      <td>0.0</td>\n      <td>0.00000</td>\n      <td>0.000000</td>\n      <td>0.0</td>\n      <td>0.000000</td>\n      <td>0.0</td>\n      <td>0.000000</td>\n      <td>0.000000</td>\n      <td>0.000000</td>\n      <td>0.000000</td>\n    </tr>\n    <tr>\n      <th>598</th>\n      <td>0.0</td>\n      <td>0.0</td>\n      <td>0.0</td>\n      <td>0.0</td>\n      <td>0.0</td>\n      <td>0.0</td>\n      <td>0.0</td>\n      <td>0.0</td>\n      <td>0.0</td>\n      <td>0.0</td>\n      <td>...</td>\n      <td>0.0</td>\n      <td>0.00000</td>\n      <td>0.000000</td>\n      <td>0.0</td>\n      <td>0.000000</td>\n      <td>0.0</td>\n      <td>0.000000</td>\n      <td>0.000000</td>\n      <td>0.000000</td>\n      <td>0.000000</td>\n    </tr>\n    <tr>\n      <th>599</th>\n      <td>0.0</td>\n      <td>0.0</td>\n      <td>0.0</td>\n      <td>0.0</td>\n      <td>0.0</td>\n      <td>0.0</td>\n      <td>0.0</td>\n      <td>0.0</td>\n      <td>0.0</td>\n      <td>0.0</td>\n      <td>...</td>\n      <td>0.0</td>\n      <td>0.00000</td>\n      <td>0.000000</td>\n      <td>0.0</td>\n      <td>0.000000</td>\n      <td>0.0</td>\n      <td>0.000000</td>\n      <td>0.000000</td>\n      <td>0.000000</td>\n      <td>0.000000</td>\n    </tr>\n  </tbody>\n</table>\n<p>600 rows × 26 columns</p>\n</div>"
     },
     "metadata": {}
    }
   ],
   "source": [
    "print('Express delivery')\n",
    "with pd.ExcelWriter(solution_file_path, engine='xlsxwriter') as writer:\n",
    "    df1 = pd.DataFrame([[int(x[i,j,0].x) for j in range(M)] for i in range(N)], columns=range(M))\n",
    "    display(df1)\n",
    "    df1.to_excel(writer, sheet_name='Express delivery')\n",
    "    print('Air frieght')\n",
    "    df2 = pd.DataFrame([[int(x[i,j,1].x) for j in range(M)] for i in range(N)], columns=range(M))\n",
    "    display(df2)\n",
    "    df2.to_excel(writer, sheet_name='Air frieght')\n",
    "    print('Ocean frieght')\n",
    "    df3 = pd.DataFrame([[int(x[i,j,2].x) for j in range(M)] for i in range(N)], columns=range(M))\n",
    "    display(df3)\n",
    "    df3.to_excel(writer, sheet_name='Ocean frieght')\n",
    "    print('StockLevel')\n",
    "    df = pd.DataFrame([[StockLevel[i,j].x for j in range(M)] for i in range(N)], columns=range(M))\n",
    "    display(df)\n",
    "    df.to_excel(writer, sheet_name='StockLevel')\n",
    "    print('Shortage')\n",
    "    df = pd.DataFrame([[Shortage[i,j].x for j in range(M)] for i in range(N)], columns=range(M))\n",
    "    display(df)\n",
    "    df.to_excel(writer, sheet_name='Shortage')"
   ]
  },
  {
   "cell_type": "code",
   "execution_count": 14,
   "metadata": {
    "tags": []
   },
   "outputs": [
    {
     "output_type": "stream",
     "name": "stdout",
     "text": [
      "TotalPurchaseCost    :877787417.01\n"
     ]
    },
    {
     "output_type": "error",
     "ename": "NameError",
     "evalue": "name 'TotalShipFixedCost' is not defined",
     "traceback": [
      "\u001b[0;31m---------------------------------------------------------------------------\u001b[0m",
      "\u001b[0;31mNameError\u001b[0m                                 Traceback (most recent call last)",
      "\u001b[0;32m<ipython-input-14-4131c2bd212f>\u001b[0m in \u001b[0;36m<module>\u001b[0;34m\u001b[0m\n\u001b[1;32m      1\u001b[0m \u001b[0mprint\u001b[0m\u001b[0;34m(\u001b[0m\u001b[0;34mf'TotalPurchaseCost    :{TotalPurchaseCost.getValue():.2f}'\u001b[0m\u001b[0;34m)\u001b[0m\u001b[0;34m\u001b[0m\u001b[0;34m\u001b[0m\u001b[0m\n\u001b[0;32m----> 2\u001b[0;31m \u001b[0mprint\u001b[0m\u001b[0;34m(\u001b[0m\u001b[0;34mf'TotalShipFixedCost   :{TotalShipFixedCost.getValue():.2f}'\u001b[0m\u001b[0;34m)\u001b[0m\u001b[0;34m\u001b[0m\u001b[0;34m\u001b[0m\u001b[0m\n\u001b[0m\u001b[1;32m      3\u001b[0m \u001b[0mprint\u001b[0m\u001b[0;34m(\u001b[0m\u001b[0;34mf'TotalShipVarCost     :{TotalShipVarCost.getValue():.2f}'\u001b[0m\u001b[0;34m)\u001b[0m\u001b[0;34m\u001b[0m\u001b[0;34m\u001b[0m\u001b[0m\n\u001b[1;32m      4\u001b[0m \u001b[0mprint\u001b[0m\u001b[0;34m(\u001b[0m\u001b[0;34mf'TotalHoldingCost     :{TotalHoldingCost.getValue():.2f}'\u001b[0m\u001b[0;34m)\u001b[0m\u001b[0;34m\u001b[0m\u001b[0;34m\u001b[0m\u001b[0m\n\u001b[1;32m      5\u001b[0m \u001b[0mprint\u001b[0m\u001b[0;34m(\u001b[0m\u001b[0;34mf'TotalContainerCost   :{TotalContainerCost.getValue():.2f}'\u001b[0m\u001b[0;34m)\u001b[0m\u001b[0;34m\u001b[0m\u001b[0;34m\u001b[0m\u001b[0m\n",
      "\u001b[0;31mNameError\u001b[0m: name 'TotalShipFixedCost' is not defined"
     ]
    }
   ],
   "source": [
    "print(f'TotalPurchaseCost    :{TotalPurchaseCost.getValue():.2f}')\n",
    "print(f'TotalShipFixedCost   :{TotalShipFixedCost.getValue():.2f}')\n",
    "print(f'TotalShipVarCost     :{TotalShipVarCost.getValue():.2f}')\n",
    "print(f'TotalHoldingCost     :{TotalHoldingCost.getValue():.2f}')\n",
    "print(f'TotalContainerCost   :{TotalContainerCost.getValue():.2f}')\n",
    "print(f'TotalBackOrderCost   :{TotalBackOrderCost.getValue():.2f}')\n",
    "print(f'TotalLostSaleCost    :{TotalLostSaleCost.getValue():.2f}')\n",
    "print(f'TotalVendorFixedCost :{TotalVendorFixedCost.getValue():.2f}')\n",
    "print(f'objective-value      :{model.ObjVal:.2f}')"
   ]
  }
 ],
 "metadata": {
  "kernelspec": {
   "name": "python392jvsc74a57bd0b8bdd4e700647ba2b08c59e5df8b7da1dcf50a218bcd4c1bcd9b3dc92e8788e5",
   "display_name": "Python 3.9.2 64-bit ('3.9')"
  },
  "language_info": {
   "codemirror_mode": {
    "name": "ipython",
    "version": 3
   },
   "file_extension": ".py",
   "mimetype": "text/x-python",
   "name": "python",
   "nbconvert_exporter": "python",
   "pygments_lexer": "ipython3",
   "version": "3.9.2"
  },
  "metadata": {
   "interpreter": {
    "hash": "b8bdd4e700647ba2b08c59e5df8b7da1dcf50a218bcd4c1bcd9b3dc92e8788e5"
   }
  }
 },
 "nbformat": 4,
 "nbformat_minor": 4
}