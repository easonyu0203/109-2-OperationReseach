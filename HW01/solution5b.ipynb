{
 "metadata": {
  "language_info": {
   "codemirror_mode": {
    "name": "ipython",
    "version": 3
   },
   "file_extension": ".py",
   "mimetype": "text/x-python",
   "name": "python",
   "nbconvert_exporter": "python",
   "pygments_lexer": "ipython3",
   "version": "3.9.2-final"
  },
  "orig_nbformat": 2,
  "kernelspec": {
   "name": "python3",
   "display_name": "Python 3.9.2 64-bit",
   "metadata": {
    "interpreter": {
     "hash": "7812ea015bdcee6f23a998adcdd2ef97c151c0c241b7b7070987d9313e41299d"
    }
   }
  }
 },
 "nbformat": 4,
 "nbformat_minor": 2,
 "cells": [
  {
   "source": [
    "## 5\n",
    "### (b)"
   ],
   "cell_type": "markdown",
   "metadata": {}
  },
  {
   "source": [
    "# Problem 1\n",
    "## setting parameter\n",
    "* There are $N$ product. $i \\in \\{0, 1,..., N-1\\}$\n",
    "* There are $M$ month. $j \\in \\{0, 1,..., M-1\\}$, month 0, 1, 2... = March, April, March ...\n",
    "* There are $K$ shipping method. $k \\in \\{0, 1,..., K-1\\}$, shipping method 1, 2, 3 = express, air, Ocean\n",
    "* Let $D_{ij}$ be the forecast demand of product $i$ of month $j$.\n",
    "* Let $I_i$ be the quantity of initial inventory of product $i$.\n",
    "* Let $BuyCost_i$ be the purchase cost of product $i$.\n",
    "* Let $HoldCost_i$ be the holding cost of product $i$.\n",
    "* Let $Transit_{ij}$ be the in-transt product $i$ which will be delivered on $j$ month.\\[here $j \\in\\{1,2\\}$\\]\n",
    "* Let $FixedShipCost_k$ be the fixed cost of shipping method $k$.\n",
    "* Let $VarShipCost_{ik}$ be the variable cost of product $i$ of shipping method $k$.\n",
    "* Let $LeadTime_k$ be the lead time of shipping method $k$.\n",
    "* Let $M_{big}$ be $\\sum_{j=0}^{M-1} \\sum_{i=0}^{N-1} D_{ij}$\n",
    "\n",
    "## setting decision variables\n",
    "* let $x_{ijk}$ be the quantity of product $i$ that are order at month $j$ by shipping method $k$.\n",
    "* let $z_{jk}$ be $1$ if at month $j$ we use shipping method $k$ else $0$\n",
    "\n",
    "## ultility notation\n",
    "* let $ExprY_{ij}$ be the expression Inventory level of product $i$ of month $j$.\n",
    "\n",
    "$j=0:\\ I_i - D_{i0} \\quad \\forall i$\n",
    "\n",
    "$j=1:\\ I_i - \\sum_{z=0}^1 D_{iz} + x_{i00} + Transit_{i1} \\quad \\forall i$\n",
    "\n",
    "$j=2:\\ I_i - \\sum_{z=0}^2 D_{iz} + \\sum_{z=0}^1 x_{iz0} + \\sum_{z=0}^0 x_{iz1} + \\sum_{z=1}^2 transit_{iz} \\quad \\forall i$\n",
    "\n",
    "$j \\ge 3:\\ I_i - \\sum_{z=0}^j D_{iz} + \\sum_{z=0}^{j-1} x_{iz0} + \\sum_{z=0}^{j-2} x_{iz1} + \\sum_{z=0}^{j-3} x_{iz2} + \\sum_{z=1}^2 transit_{iz} \\quad \\forall i$\n",
    "    \n",
    "\n",
    "## Objective function\n",
    "$$Min.\\quad purchase\\ Cost + Shipping\\ Cost + Inventory\\ Cost$$\n",
    "Purchase Cost = $\\sum_{i=0}^{N-1} \\sum_{j=0}^{M-1} \\sum_{k=0}^{K-1}( x_{ijk}\\times BuyCost_i)$\n",
    "\n",
    "Shipping Cost:<br>\n",
    "* Fixed Cost = $\\sum_{j=0}^{M-1} \\sum_{k=0}^{K-1} (z_{jk} \\times FixedShipCost_k)$\n",
    "\n",
    "* Variable Cost = $\\sum_{j=0}^{M-1} \\sum_{i=0}^{N-1} \\sum_{k=0}^{K-1} (x_{ijk} \\times VarShipCost_{ik})$\n",
    "\n",
    "Inventory Cost = $\\sum_{i=0}^{N-1}[(\\sum_{j=0}^{M-1} ExprY_{ij}) \\times HoldCost_i]$\n",
    "\n",
    "## Constrains\n",
    "\n",
    "$ExprY_{ij} \\ge 0 \\quad \\forall i, \\forall j$\n",
    "\n",
    "$\\dfrac{\\sum_{i=0}^{N-1}x_{ijk}}{M_{big}} \\le z_{jk} \\quad \\forall j, \\forall k$\n",
    "\n",
    "$x_{ijk} \\ge 0  \\quad \\forall i,\\ \\forall j,\\ \\forall k$\n",
    "\n",
    "$z_{jk} \\in \\{0, 1\\}$\n"
   ],
   "cell_type": "markdown",
   "metadata": {}
  },
  {
   "cell_type": "code",
   "execution_count": 1,
   "metadata": {},
   "outputs": [],
   "source": [
    "import gurobipy as gb\n",
    "from gurobipy import GRB, quicksum"
   ]
  },
  {
   "cell_type": "code",
   "execution_count": 10,
   "metadata": {},
   "outputs": [],
   "source": [
    "#set data\n",
    "N, M, T, S = 2, 3, 3, 3\n",
    "K_i = [3, 4]\n",
    "C_i = [30_000, 20_000]\n",
    "P_ij = [\n",
    "    [16_000, 22_000, 24_000],\n",
    "    [18_000, 21_000, 20_000]\n",
    "]\n",
    "D_kj = [\n",
    "    [8,6,7],\n",
    "    [4,5,6],\n",
    "    [3,2,3]\n",
    "]\n",
    "Q_k = [0.3, 0.6, 0.1]\n",
    "y_max = sum(sum(i) for i in D_kj)"
   ]
  },
  {
   "cell_type": "code",
   "execution_count": 6,
   "metadata": {},
   "outputs": [
    {
     "output_type": "stream",
     "name": "stdout",
     "text": [
      "Academic license - for non-commercial use only - expires 2021-05-20\n",
      "Using license file /Users/eason/gurobi.lic\n"
     ]
    }
   ],
   "source": [
    "#create model\n",
    "m = gb.Model(\"refinery\")"
   ]
  },
  {
   "cell_type": "code",
   "execution_count": 7,
   "metadata": {},
   "outputs": [
    {
     "output_type": "execute_result",
     "data": {
      "text/plain": [
       "{(0, 0, 0): <gurobi.Var *Awaiting Model Update*>,\n",
       " (0, 0, 1): <gurobi.Var *Awaiting Model Update*>,\n",
       " (0, 0, 2): <gurobi.Var *Awaiting Model Update*>,\n",
       " (0, 1, 0): <gurobi.Var *Awaiting Model Update*>,\n",
       " (0, 1, 1): <gurobi.Var *Awaiting Model Update*>,\n",
       " (0, 1, 2): <gurobi.Var *Awaiting Model Update*>,\n",
       " (0, 2, 0): <gurobi.Var *Awaiting Model Update*>,\n",
       " (0, 2, 1): <gurobi.Var *Awaiting Model Update*>,\n",
       " (0, 2, 2): <gurobi.Var *Awaiting Model Update*>,\n",
       " (1, 0, 0): <gurobi.Var *Awaiting Model Update*>,\n",
       " (1, 0, 1): <gurobi.Var *Awaiting Model Update*>,\n",
       " (1, 0, 2): <gurobi.Var *Awaiting Model Update*>,\n",
       " (1, 1, 0): <gurobi.Var *Awaiting Model Update*>,\n",
       " (1, 1, 1): <gurobi.Var *Awaiting Model Update*>,\n",
       " (1, 1, 2): <gurobi.Var *Awaiting Model Update*>,\n",
       " (1, 2, 0): <gurobi.Var *Awaiting Model Update*>,\n",
       " (1, 2, 1): <gurobi.Var *Awaiting Model Update*>,\n",
       " (1, 2, 2): <gurobi.Var *Awaiting Model Update*>}"
      ]
     },
     "metadata": {},
     "execution_count": 7
    }
   ],
   "source": [
    "#create variables\n",
    "x = m.addVars(N, M, S, vtype=GRB.CONTINUOUS, name=\"x_ijk\")\n",
    "x"
   ]
  },
  {
   "cell_type": "code",
   "execution_count": 8,
   "metadata": {},
   "outputs": [
    {
     "output_type": "execute_result",
     "data": {
      "text/plain": [
       "{0: <gurobi.Var *Awaiting Model Update*>,\n",
       " 1: <gurobi.Var *Awaiting Model Update*>}"
      ]
     },
     "metadata": {},
     "execution_count": 8
    }
   ],
   "source": [
    "y = m.addVars(N, vtype=GRB.CONTINUOUS, name=\"y_i\")\n",
    "y"
   ]
  },
  {
   "cell_type": "code",
   "execution_count": 12,
   "metadata": {},
   "outputs": [],
   "source": [
    "#set objective\n",
    "m.setObjective(\n",
    "    quicksum([\n",
    "        Q_k[k] * (\n",
    "            quicksum([\n",
    "                quicksum([\n",
    "                    x[i,j,k] * P_ij[i][j]\n",
    "                for i in range(N)\n",
    "                ])\n",
    "            for j in range(M)\n",
    "            ])\n",
    "        )\n",
    "    for k in range(S)\n",
    "    ]) - \n",
    "    quicksum([C_i[i] * y[i] for i in range(N)])\n",
    "    ,GRB.MAXIMIZE\n",
    ")"
   ]
  },
  {
   "cell_type": "code",
   "execution_count": 13,
   "metadata": {},
   "outputs": [
    {
     "output_type": "execute_result",
     "data": {
      "text/plain": [
       "{(0, 0): <gurobi.Constr *Awaiting Model Update*>,\n",
       " (0, 1): <gurobi.Constr *Awaiting Model Update*>,\n",
       " (0, 2): <gurobi.Constr *Awaiting Model Update*>,\n",
       " (1, 0): <gurobi.Constr *Awaiting Model Update*>,\n",
       " (1, 1): <gurobi.Constr *Awaiting Model Update*>,\n",
       " (1, 2): <gurobi.Constr *Awaiting Model Update*>,\n",
       " (2, 0): <gurobi.Constr *Awaiting Model Update*>,\n",
       " (2, 1): <gurobi.Constr *Awaiting Model Update*>,\n",
       " (2, 2): <gurobi.Constr *Awaiting Model Update*>}"
      ]
     },
     "metadata": {},
     "execution_count": 13
    }
   ],
   "source": [
    "#add Constrains\n",
    "m.addConstrs((\n",
    "    quicksum([x[i,j,k] for j in range(M)]) - y[i] <= K_i[i]\n",
    "    for i in range(N)\n",
    "    for k in range(S)\n",
    "))\n",
    "\n",
    "m.addConstrs((\n",
    "    quicksum([x[i,j,k] for i in range(N)]) <= D_kj[k][j]\n",
    "    for j in range(M)\n",
    "    for k in range(S)\n",
    "))"
   ]
  },
  {
   "cell_type": "code",
   "execution_count": 14,
   "metadata": {},
   "outputs": [
    {
     "output_type": "stream",
     "name": "stdout",
     "text": [
      "Gurobi Optimizer version 9.1.1 build v9.1.1rc0 (mac64)\n",
      "Thread count: 4 physical cores, 8 logical processors, using up to 8 threads\n",
      "Optimize a model with 15 rows, 20 columns and 42 nonzeros\n",
      "Model fingerprint: 0x4f57644b\n",
      "Coefficient statistics:\n",
      "  Matrix range     [1e+00, 1e+00]\n",
      "  Objective range  [2e+03, 3e+04]\n",
      "  Bounds range     [0e+00, 0e+00]\n",
      "  RHS range        [2e+00, 8e+00]\n",
      "Presolve time: 0.01s\n",
      "Presolved: 15 rows, 20 columns, 42 nonzeros\n",
      "\n",
      "Iteration    Objective       Primal Inf.    Dual Inf.      Time\n",
      "       0    1.2100000e+35   3.600000e+31   1.210000e+05      0s\n",
      "      16    1.5610000e+05   0.000000e+00   0.000000e+00      0s\n",
      "\n",
      "Solved in 16 iterations and 0.02 seconds\n",
      "Optimal objective  1.561000000e+05\n"
     ]
    }
   ],
   "source": [
    "m.optimize()"
   ]
  },
  {
   "cell_type": "code",
   "execution_count": 17,
   "metadata": {},
   "outputs": [
    {
     "output_type": "stream",
     "name": "stdout",
     "text": [
      "x_ijk[0,0,0] 0\nx_ijk[0,0,1] 0\nx_ijk[0,0,2] 0\nx_ijk[0,1,0] 0\nx_ijk[0,1,1] 0\nx_ijk[0,1,2] 0\nx_ijk[0,2,0] 3\nx_ijk[0,2,1] 3\nx_ijk[0,2,2] 3\nx_ijk[1,0,0] 0\nx_ijk[1,0,1] 0\nx_ijk[1,0,2] 3\nx_ijk[1,1,0] 5\nx_ijk[1,1,1] 5\nx_ijk[1,1,2] 2\nx_ijk[1,2,0] 0\nx_ijk[1,2,1] 0\nx_ijk[1,2,2] 0\ny_i[0] 0\ny_i[1] 1\nObj: 156100\n"
     ]
    }
   ],
   "source": [
    "for v in m.getVars():\n",
    "        print('%s %g' % (v.varName, v.x))\n",
    "print('Obj: %g' % m.objVal)"
   ]
  }
 ]
}