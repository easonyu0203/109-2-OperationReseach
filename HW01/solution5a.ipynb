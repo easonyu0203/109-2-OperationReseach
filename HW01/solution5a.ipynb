{
 "cells": [
  {
   "cell_type": "markdown",
   "metadata": {},
   "source": [
    "## 5\n",
    "### (a)"
   ]
  },
  {
   "cell_type": "code",
   "execution_count": 1,
   "metadata": {},
   "outputs": [],
   "source": [
    "import gurobipy as gp\n",
    "from gurobipy import GRB"
   ]
  },
  {
   "cell_type": "code",
   "execution_count": 2,
   "metadata": {},
   "outputs": [],
   "source": [
    "## set data\n",
    "N = 3\n",
    "T = 4\n",
    "K = 100\n",
    "E = 2\n",
    "C_i = [30, 40, 50]\n",
    "H_i = [6, 8, 10]\n",
    "I_i = [50, 40, 20]\n",
    "D_it = [\n",
    "    [60, 30, 30, 40],\n",
    "    [30, 15, 35, 80],\n",
    "    [20, 35, 30, 30]\n",
    "]"
   ]
  },
  {
   "cell_type": "code",
   "execution_count": 3,
   "metadata": {},
   "outputs": [
    {
     "output_type": "stream",
     "name": "stdout",
     "text": [
      "Academic license - for non-commercial use only - expires 2021-05-20\n",
      "Using license file /Users/eason/gurobi.lic\n"
     ]
    }
   ],
   "source": [
    "#create model\n",
    "model = gp.Model(\"Cake\")"
   ]
  },
  {
   "cell_type": "code",
   "execution_count": 4,
   "metadata": {},
   "outputs": [
    {
     "output_type": "execute_result",
     "data": {
      "text/plain": [
       "{(0, 0, 0): <gurobi.Var *Awaiting Model Update*>,\n",
       " (0, 0, 1): <gurobi.Var *Awaiting Model Update*>,\n",
       " (0, 0, 2): <gurobi.Var *Awaiting Model Update*>,\n",
       " (0, 0, 3): <gurobi.Var *Awaiting Model Update*>,\n",
       " (0, 1, 0): <gurobi.Var *Awaiting Model Update*>,\n",
       " (0, 1, 1): <gurobi.Var *Awaiting Model Update*>,\n",
       " (0, 1, 2): <gurobi.Var *Awaiting Model Update*>,\n",
       " (0, 1, 3): <gurobi.Var *Awaiting Model Update*>,\n",
       " (0, 2, 0): <gurobi.Var *Awaiting Model Update*>,\n",
       " (0, 2, 1): <gurobi.Var *Awaiting Model Update*>,\n",
       " (0, 2, 2): <gurobi.Var *Awaiting Model Update*>,\n",
       " (0, 2, 3): <gurobi.Var *Awaiting Model Update*>,\n",
       " (0, 3, 0): <gurobi.Var *Awaiting Model Update*>,\n",
       " (0, 3, 1): <gurobi.Var *Awaiting Model Update*>,\n",
       " (0, 3, 2): <gurobi.Var *Awaiting Model Update*>,\n",
       " (0, 3, 3): <gurobi.Var *Awaiting Model Update*>,\n",
       " (1, 0, 0): <gurobi.Var *Awaiting Model Update*>,\n",
       " (1, 0, 1): <gurobi.Var *Awaiting Model Update*>,\n",
       " (1, 0, 2): <gurobi.Var *Awaiting Model Update*>,\n",
       " (1, 0, 3): <gurobi.Var *Awaiting Model Update*>,\n",
       " (1, 1, 0): <gurobi.Var *Awaiting Model Update*>,\n",
       " (1, 1, 1): <gurobi.Var *Awaiting Model Update*>,\n",
       " (1, 1, 2): <gurobi.Var *Awaiting Model Update*>,\n",
       " (1, 1, 3): <gurobi.Var *Awaiting Model Update*>,\n",
       " (1, 2, 0): <gurobi.Var *Awaiting Model Update*>,\n",
       " (1, 2, 1): <gurobi.Var *Awaiting Model Update*>,\n",
       " (1, 2, 2): <gurobi.Var *Awaiting Model Update*>,\n",
       " (1, 2, 3): <gurobi.Var *Awaiting Model Update*>,\n",
       " (1, 3, 0): <gurobi.Var *Awaiting Model Update*>,\n",
       " (1, 3, 1): <gurobi.Var *Awaiting Model Update*>,\n",
       " (1, 3, 2): <gurobi.Var *Awaiting Model Update*>,\n",
       " (1, 3, 3): <gurobi.Var *Awaiting Model Update*>,\n",
       " (2, 0, 0): <gurobi.Var *Awaiting Model Update*>,\n",
       " (2, 0, 1): <gurobi.Var *Awaiting Model Update*>,\n",
       " (2, 0, 2): <gurobi.Var *Awaiting Model Update*>,\n",
       " (2, 0, 3): <gurobi.Var *Awaiting Model Update*>,\n",
       " (2, 1, 0): <gurobi.Var *Awaiting Model Update*>,\n",
       " (2, 1, 1): <gurobi.Var *Awaiting Model Update*>,\n",
       " (2, 1, 2): <gurobi.Var *Awaiting Model Update*>,\n",
       " (2, 1, 3): <gurobi.Var *Awaiting Model Update*>,\n",
       " (2, 2, 0): <gurobi.Var *Awaiting Model Update*>,\n",
       " (2, 2, 1): <gurobi.Var *Awaiting Model Update*>,\n",
       " (2, 2, 2): <gurobi.Var *Awaiting Model Update*>,\n",
       " (2, 2, 3): <gurobi.Var *Awaiting Model Update*>,\n",
       " (2, 3, 0): <gurobi.Var *Awaiting Model Update*>,\n",
       " (2, 3, 1): <gurobi.Var *Awaiting Model Update*>,\n",
       " (2, 3, 2): <gurobi.Var *Awaiting Model Update*>,\n",
       " (2, 3, 3): <gurobi.Var *Awaiting Model Update*>}"
      ]
     },
     "metadata": {},
     "execution_count": 4
    }
   ],
   "source": [
    "#create variable\n",
    "x = model.addVars(N, T, T,vtype=GRB.CONTINUOUS, name=\"x_ijt\")\n",
    "x"
   ]
  },
  {
   "cell_type": "code",
   "execution_count": 5,
   "metadata": {},
   "outputs": [],
   "source": [
    "#set objective function\n",
    "expr = gp.quicksum([C_i[i] * gp.quicksum([ gp.quicksum([x[i,j,k] for j in range(T)]) for k in range(T)]) for i in range(N)])\n",
    "expr += gp.quicksum([\n",
    "        gp.quicksum([\n",
    "            H_i[i] * (I_i[i] + \n",
    "                gp.quicksum([\n",
    "                    gp.quicksum([\n",
    "                    x[i,j,k] \n",
    "                    for k in range(j, T)])\n",
    "                    - D_it[i][j] \n",
    "                for j in range(t+1)]))\n",
    "        for i in range(N)]) \n",
    "        for t in range(T)])\n"
   ]
  },
  {
   "cell_type": "code",
   "execution_count": 6,
   "metadata": {},
   "outputs": [],
   "source": [
    "model.setObjective(expr, GRB.MINIMIZE)"
   ]
  },
  {
   "cell_type": "code",
   "execution_count": 7,
   "metadata": {},
   "outputs": [
    {
     "output_type": "execute_result",
     "data": {
      "text/plain": [
       "{0: <gurobi.Constr *Awaiting Model Update*>,\n",
       " 1: <gurobi.Constr *Awaiting Model Update*>,\n",
       " 2: <gurobi.Constr *Awaiting Model Update*>,\n",
       " 3: <gurobi.Constr *Awaiting Model Update*>}"
      ]
     },
     "metadata": {},
     "execution_count": 7
    }
   ],
   "source": [
    "# Add constrains\n",
    "model.addConstrs((gp.quicksum([gp.quicksum([x[i,j,k] for k in range(j, T)]) for i in range(N)]) <= K for j in range(T)), name=\"produce at most K cake per day\")"
   ]
  },
  {
   "cell_type": "code",
   "execution_count": 8,
   "metadata": {},
   "outputs": [
    {
     "output_type": "execute_result",
     "data": {
      "text/plain": [
       "{(0, 0): <gurobi.Constr *Awaiting Model Update*>,\n",
       " (0, 1): <gurobi.Constr *Awaiting Model Update*>,\n",
       " (0, 2): <gurobi.Constr *Awaiting Model Update*>,\n",
       " (1, 0): <gurobi.Constr *Awaiting Model Update*>,\n",
       " (1, 1): <gurobi.Constr *Awaiting Model Update*>,\n",
       " (1, 2): <gurobi.Constr *Awaiting Model Update*>,\n",
       " (2, 0): <gurobi.Constr *Awaiting Model Update*>,\n",
       " (2, 1): <gurobi.Constr *Awaiting Model Update*>,\n",
       " (2, 2): <gurobi.Constr *Awaiting Model Update*>,\n",
       " (3, 0): <gurobi.Constr *Awaiting Model Update*>,\n",
       " (3, 1): <gurobi.Constr *Awaiting Model Update*>,\n",
       " (3, 2): <gurobi.Constr *Awaiting Model Update*>}"
      ]
     },
     "metadata": {},
     "execution_count": 8
    }
   ],
   "source": [
    "model.addConstrs((\n",
    "    gp.quicksum([ gp.quicksum([x[i,j,k] for j in range(k+1)]) for k in range(t+1)]) >= gp.quicksum([D_it[i][k] for k in range(t+1)]) - I_i[i]\n",
    "        for t in range(T)\n",
    "        for i in range(N)\n",
    "))"
   ]
  },
  {
   "cell_type": "code",
   "execution_count": 9,
   "metadata": {},
   "outputs": [
    {
     "output_type": "execute_result",
     "data": {
      "text/plain": [
       "<gurobi.Constr *Awaiting Model Update*>"
      ]
     },
     "metadata": {},
     "execution_count": 9
    }
   ],
   "source": [
    "model.addConstr(\n",
    "    gp.quicksum([\n",
    "       gp.quicksum([\n",
    "           gp.quicksum([\n",
    "               x[i,j,k] for k in range(j+E, T)\n",
    "           ]) for j in range(T-E)\n",
    "       ]) for i in range(N)\n",
    "    ])\n",
    "    <= 0\n",
    ")"
   ]
  },
  {
   "cell_type": "code",
   "execution_count": 10,
   "metadata": {},
   "outputs": [
    {
     "output_type": "execute_result",
     "data": {
      "text/plain": [
       "{(1, 0): <gurobi.Constr *Awaiting Model Update*>,\n",
       " (1, 1): <gurobi.Constr *Awaiting Model Update*>,\n",
       " (1, 2): <gurobi.Constr *Awaiting Model Update*>,\n",
       " (2, 0): <gurobi.Constr *Awaiting Model Update*>,\n",
       " (2, 1): <gurobi.Constr *Awaiting Model Update*>,\n",
       " (2, 2): <gurobi.Constr *Awaiting Model Update*>,\n",
       " (3, 0): <gurobi.Constr *Awaiting Model Update*>,\n",
       " (3, 1): <gurobi.Constr *Awaiting Model Update*>,\n",
       " (3, 2): <gurobi.Constr *Awaiting Model Update*>}"
      ]
     },
     "metadata": {},
     "execution_count": 10
    }
   ],
   "source": [
    "model.addConstrs(\n",
    "    gp.quicksum([\n",
    "        x[i,j,t] for j in range(t+1)\n",
    "    ])\n",
    "    >= D_it[i][t]\n",
    "    for t in range(E-1, T)\n",
    "    for i in range(N)\n",
    ")"
   ]
  },
  {
   "cell_type": "code",
   "execution_count": 11,
   "metadata": {},
   "outputs": [
    {
     "output_type": "stream",
     "name": "stdout",
     "text": [
      "Gurobi Optimizer version 9.1.1 build v9.1.1rc0 (mac64)\n",
      "Thread count: 4 physical cores, 8 logical processors, using up to 8 threads\n",
      "Optimize a model with 26 rows, 48 columns and 126 nonzeros\n",
      "Model fingerprint: 0x661f6c52\n",
      "Coefficient statistics:\n",
      "  Matrix range     [1e+00, 1e+00]\n",
      "  Objective range  [3e+01, 9e+01]\n",
      "  Bounds range     [0e+00, 0e+00]\n",
      "  RHS range        [5e+00, 1e+02]\n",
      "Presolve removed 4 rows and 27 columns\n",
      "Presolve time: 0.01s\n",
      "Presolved: 22 rows, 21 columns, 84 nonzeros\n",
      "\n",
      "Iteration    Objective       Primal Inf.    Dual Inf.      Time\n",
      "       0   -2.5900000e+03   9.437500e+01   0.000000e+00      0s\n",
      "      17    1.4340000e+04   0.000000e+00   0.000000e+00      0s\n",
      "\n",
      "Solved in 17 iterations and 0.02 seconds\n",
      "Optimal objective  1.434000000e+04\n"
     ]
    }
   ],
   "source": [
    "model.optimize()"
   ]
  },
  {
   "cell_type": "code",
   "execution_count": 13,
   "metadata": {},
   "outputs": [
    {
     "output_type": "stream",
     "name": "stdout",
     "text": [
      "x_ijt[0,0,0] 10\nx_ijt[0,0,1] 25\nx_ijt[0,1,1] 5\nx_ijt[0,1,2] 30\nx_ijt[0,2,3] 40\nx_ijt[1,1,1] 15\nx_ijt[1,1,2] 15\nx_ijt[1,2,2] 20\nx_ijt[1,2,3] 10\nx_ijt[1,3,3] 70\nx_ijt[2,1,1] 35\nx_ijt[2,2,2] 30\nx_ijt[2,3,3] 30\nObj: 14340\n"
     ]
    }
   ],
   "source": [
    "for v in model.getVars():\n",
    "    if(v.x != 0):\n",
    "        print('%s %g' % (v.varName, v.x))\n",
    "print('Obj: %g' % model.objVal)"
   ]
  },
  {
   "source": [
    "## (b)"
   ],
   "cell_type": "markdown",
   "metadata": {}
  },
  {
   "cell_type": "code",
   "execution_count": null,
   "metadata": {},
   "outputs": [],
   "source": []
  }
 ],
 "metadata": {
  "kernelspec": {
   "display_name": "Python 3.8.2 64-bit",
   "language": "python",
   "name": "python38264bitada118f4dec34775b8d47a233c54e9d1"
  },
  "language_info": {
   "codemirror_mode": {
    "name": "ipython",
    "version": 3
   },
   "file_extension": ".py",
   "mimetype": "text/x-python",
   "name": "python",
   "nbconvert_exporter": "python",
   "pygments_lexer": "ipython3",
   "version": "3.9.2-final"
  }
 },
 "nbformat": 4,
 "nbformat_minor": 4
}