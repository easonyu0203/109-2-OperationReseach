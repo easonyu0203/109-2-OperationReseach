{
 "metadata": {
  "language_info": {
   "codemirror_mode": {
    "name": "ipython",
    "version": 3
   },
   "file_extension": ".py",
   "mimetype": "text/x-python",
   "name": "python",
   "nbconvert_exporter": "python",
   "pygments_lexer": "ipython3",
   "version": "3.9.2-final"
  },
  "orig_nbformat": 2,
  "kernelspec": {
   "name": "python392jvsc74a57bd07812ea015bdcee6f23a998adcdd2ef97c151c0c241b7b7070987d9313e41299d",
   "display_name": "Python 3.9.2 64-bit"
  },
  "metadata": {
   "interpreter": {
    "hash": "7812ea015bdcee6f23a998adcdd2ef97c151c0c241b7b7070987d9313e41299d"
   }
  }
 },
 "nbformat": 4,
 "nbformat_minor": 2,
 "cells": [
  {
   "cell_type": "code",
   "execution_count": 242,
   "metadata": {},
   "outputs": [],
   "source": [
    "import gurobipy as gb\n",
    "from gurobipy import GRB\n",
    "from gurobipy import quicksum\n",
    "import pandas as pd\n",
    "import numpy as np"
   ]
  },
  {
   "cell_type": "code",
   "execution_count": 243,
   "metadata": {},
   "outputs": [],
   "source": [
    "J = 15\n",
    "M = 3\n",
    "P = [7,4,6,9,12,8,10,11,8,7,6,8,15,14,3]\n",
    "Conflict_sets = [(2-1,5-1,8-1), (6-1,9-1), (7-1,10-1), (11-1,15-1)]"
   ]
  },
  {
   "cell_type": "code",
   "execution_count": 244,
   "metadata": {},
   "outputs": [],
   "source": [
    "model = gb.Model('p1')"
   ]
  },
  {
   "source": [
    "x = []\n",
    "for j in range(J):\n",
    "    tmp = []\n",
    "    for m in range(M):\n",
    "        tmp.append(model.addVar(vtype=GRB.BINARY, name=f'x[{j}, {m}]'))\n",
    "    x.append(tmp)\n",
    "\n",
    "w = model.addVar(lb=0, vtype=GRB.CONTINUOUS, name='w')"
   ],
   "cell_type": "code",
   "metadata": {},
   "execution_count": 245,
   "outputs": []
  },
  {
   "cell_type": "code",
   "execution_count": 246,
   "metadata": {},
   "outputs": [],
   "source": [
    "model.setObjective(w, GRB.MINIMIZE)"
   ]
  },
  {
   "cell_type": "code",
   "execution_count": 247,
   "metadata": {},
   "outputs": [],
   "source": [
    "_ = model.addConstrs(\n",
    "    quicksum(x[j][m] for m in range(M)) == 1\n",
    "for j in range(J))\n",
    "\n",
    "_ = model.addConstrs(\n",
    "quicksum(x[j][m] for j in con_set) <= 1\n",
    "for m in range(M)\n",
    "for con_set in Conflict_sets)\n",
    "\n",
    "_ = model.addConstrs(\n",
    "    quicksum(P[j] * x[j][m] for j in range(J)) <= w \n",
    "for m in range(M))"
   ]
  },
  {
   "cell_type": "code",
   "execution_count": 248,
   "metadata": {},
   "outputs": [
    {
     "output_type": "stream",
     "name": "stdout",
     "text": [
      "Gurobi Optimizer version 9.1.1 build v9.1.1rc0 (mac64)\n",
      "Thread count: 4 physical cores, 8 logical processors, using up to 8 threads\n",
      "Optimize a model with 30 rows, 46 columns and 120 nonzeros\n",
      "Model fingerprint: 0xb569022c\n",
      "Variable types: 1 continuous, 45 integer (45 binary)\n",
      "Coefficient statistics:\n",
      "  Matrix range     [1e+00, 2e+01]\n",
      "  Objective range  [1e+00, 1e+00]\n",
      "  Bounds range     [1e+00, 1e+00]\n",
      "  RHS range        [1e+00, 1e+00]\n",
      "Found heuristic solution: objective 72.0000000\n",
      "Presolve time: 0.00s\n",
      "Presolved: 30 rows, 46 columns, 120 nonzeros\n",
      "Variable types: 0 continuous, 46 integer (45 binary)\n",
      "\n",
      "Root relaxation: objective 4.266667e+01, 25 iterations, 0.00 seconds\n",
      "\n",
      "    Nodes    |    Current Node    |     Objective Bounds      |     Work\n",
      " Expl Unexpl |  Obj  Depth IntInf | Incumbent    BestBd   Gap | It/Node Time\n",
      "\n",
      "     0     0   42.66667    0    5   72.00000   42.66667  40.7%     -    0s\n",
      "H    0     0                      45.0000000   42.66667  5.19%     -    0s\n",
      "H    0     0                      44.0000000   42.66667  3.03%     -    0s\n",
      "H    0     0                      43.0000000   42.66667  0.78%     -    0s\n",
      "\n",
      "Cutting planes:\n",
      "  Gomory: 1\n",
      "  MIR: 1\n",
      "  StrongCG: 1\n",
      "  GUB cover: 2\n",
      "  RLT: 2\n",
      "  Relax-and-lift: 1\n",
      "\n",
      "Explored 1 nodes (25 simplex iterations) in 0.05 seconds\n",
      "Thread count was 8 (of 8 available processors)\n",
      "\n",
      "Solution count 4: 43 44 45 72 \n",
      "\n",
      "Optimal solution found (tolerance 1.00e-04)\n",
      "Best objective 4.300000000000e+01, best bound 4.300000000000e+01, gap 0.0000%\n"
     ]
    }
   ],
   "source": [
    "model.optimize()"
   ]
  },
  {
   "cell_type": "code",
   "execution_count": 249,
   "metadata": {},
   "outputs": [
    {
     "output_type": "stream",
     "name": "stdout",
     "text": [
      "x[0, 0]: 1\nx[0, 1]: 0\nx[0, 2]: 0\nx[1, 0]: 0\nx[1, 1]: 0\nx[1, 2]: 1\nx[2, 0]: 0\nx[2, 1]: 0\nx[2, 2]: 1\nx[3, 0]: 0\nx[3, 1]: 0\nx[3, 2]: 1\nx[4, 0]: 1\nx[4, 1]: 0\nx[4, 2]: 0\nx[5, 0]: 0\nx[5, 1]: 1\nx[5, 2]: 0\nx[6, 0]: 0\nx[6, 1]: 1\nx[6, 2]: 0\nx[7, 0]: 0\nx[7, 1]: 1\nx[7, 2]: 0\nx[8, 0]: 0\nx[8, 1]: 0\nx[8, 2]: 1\nx[9, 0]: 1\nx[9, 1]: 0\nx[9, 2]: 0\nx[10, 0]: 0\nx[10, 1]: 1\nx[10, 2]: 0\nx[11, 0]: 0\nx[11, 1]: 1\nx[11, 2]: 0\nx[12, 0]: 0\nx[12, 1]: 0\nx[12, 2]: 1\nx[13, 0]: 1\nx[13, 1]: 0\nx[13, 2]: 0\nx[14, 0]: 1\nx[14, 1]: 0\nx[14, 2]: 0\nw: 43\nObj value: 43.00000\n"
     ]
    }
   ],
   "source": [
    "for v in model.getVars():\n",
    "    print(f'{v.varName}: {int(v.x)}')\n",
    "print(f'Obj value: {model.ObjVal:.5f}')"
   ]
  },
  {
   "cell_type": "code",
   "execution_count": 250,
   "metadata": {},
   "outputs": [
    {
     "output_type": "execute_result",
     "data": {
      "text/plain": [
       "   District \\n(from)  District (to)  Unnamed: 2  Unnamed: 3  Unnamed: 4  \\\n",
       "0                NaN              1           2           3           4   \n",
       "1                1.0              0           3           4           6   \n",
       "2                2.0              3           0           5           4   \n",
       "3                3.0              4           5           0           2   \n",
       "4                4.0              6           4           2           0   \n",
       "5                5.0              8           8           2           3   \n",
       "6                6.0              9           6           3           2   \n",
       "7                7.0              8          12           5           5   \n",
       "8                8.0             10           9           7           4   \n",
       "\n",
       "   Unnamed: 5  Unnamed: 6  Unnamed: 7  Unnamed: 8  Population  Unnamed: 10  \n",
       "0           5           6           7           8         NaN          NaN  \n",
       "1           8           9           8          10        40.0          NaN  \n",
       "2           8           6          12           9        30.0          NaN  \n",
       "3           2           3           5           7        35.0          NaN  \n",
       "4           3           2           5           4        20.0          NaN  \n",
       "5           0           2           2           4        15.0          NaN  \n",
       "6           2           0           3           2        50.0          NaN  \n",
       "7           2           3           0           2        45.0          NaN  \n",
       "8           4           2           2           0        60.0          NaN  "
      ],
      "text/html": "<div>\n<style scoped>\n    .dataframe tbody tr th:only-of-type {\n        vertical-align: middle;\n    }\n\n    .dataframe tbody tr th {\n        vertical-align: top;\n    }\n\n    .dataframe thead th {\n        text-align: right;\n    }\n</style>\n<table border=\"1\" class=\"dataframe\">\n  <thead>\n    <tr style=\"text-align: right;\">\n      <th></th>\n      <th>District \\n(from)</th>\n      <th>District (to)</th>\n      <th>Unnamed: 2</th>\n      <th>Unnamed: 3</th>\n      <th>Unnamed: 4</th>\n      <th>Unnamed: 5</th>\n      <th>Unnamed: 6</th>\n      <th>Unnamed: 7</th>\n      <th>Unnamed: 8</th>\n      <th>Population</th>\n      <th>Unnamed: 10</th>\n    </tr>\n  </thead>\n  <tbody>\n    <tr>\n      <th>0</th>\n      <td>NaN</td>\n      <td>1</td>\n      <td>2</td>\n      <td>3</td>\n      <td>4</td>\n      <td>5</td>\n      <td>6</td>\n      <td>7</td>\n      <td>8</td>\n      <td>NaN</td>\n      <td>NaN</td>\n    </tr>\n    <tr>\n      <th>1</th>\n      <td>1.0</td>\n      <td>0</td>\n      <td>3</td>\n      <td>4</td>\n      <td>6</td>\n      <td>8</td>\n      <td>9</td>\n      <td>8</td>\n      <td>10</td>\n      <td>40.0</td>\n      <td>NaN</td>\n    </tr>\n    <tr>\n      <th>2</th>\n      <td>2.0</td>\n      <td>3</td>\n      <td>0</td>\n      <td>5</td>\n      <td>4</td>\n      <td>8</td>\n      <td>6</td>\n      <td>12</td>\n      <td>9</td>\n      <td>30.0</td>\n      <td>NaN</td>\n    </tr>\n    <tr>\n      <th>3</th>\n      <td>3.0</td>\n      <td>4</td>\n      <td>5</td>\n      <td>0</td>\n      <td>2</td>\n      <td>2</td>\n      <td>3</td>\n      <td>5</td>\n      <td>7</td>\n      <td>35.0</td>\n      <td>NaN</td>\n    </tr>\n    <tr>\n      <th>4</th>\n      <td>4.0</td>\n      <td>6</td>\n      <td>4</td>\n      <td>2</td>\n      <td>0</td>\n      <td>3</td>\n      <td>2</td>\n      <td>5</td>\n      <td>4</td>\n      <td>20.0</td>\n      <td>NaN</td>\n    </tr>\n    <tr>\n      <th>5</th>\n      <td>5.0</td>\n      <td>8</td>\n      <td>8</td>\n      <td>2</td>\n      <td>3</td>\n      <td>0</td>\n      <td>2</td>\n      <td>2</td>\n      <td>4</td>\n      <td>15.0</td>\n      <td>NaN</td>\n    </tr>\n    <tr>\n      <th>6</th>\n      <td>6.0</td>\n      <td>9</td>\n      <td>6</td>\n      <td>3</td>\n      <td>2</td>\n      <td>2</td>\n      <td>0</td>\n      <td>3</td>\n      <td>2</td>\n      <td>50.0</td>\n      <td>NaN</td>\n    </tr>\n    <tr>\n      <th>7</th>\n      <td>7.0</td>\n      <td>8</td>\n      <td>12</td>\n      <td>5</td>\n      <td>5</td>\n      <td>2</td>\n      <td>3</td>\n      <td>0</td>\n      <td>2</td>\n      <td>45.0</td>\n      <td>NaN</td>\n    </tr>\n    <tr>\n      <th>8</th>\n      <td>8.0</td>\n      <td>10</td>\n      <td>9</td>\n      <td>7</td>\n      <td>4</td>\n      <td>4</td>\n      <td>2</td>\n      <td>2</td>\n      <td>0</td>\n      <td>60.0</td>\n      <td>NaN</td>\n    </tr>\n  </tbody>\n</table>\n</div>"
     },
     "metadata": {},
     "execution_count": 250
    }
   ],
   "source": [
    "df = pd.read_excel(\"data.xlsx\")\n",
    "df"
   ]
  },
  {
   "cell_type": "code",
   "execution_count": 251,
   "metadata": {},
   "outputs": [],
   "source": [
    "L = [\n",
    "[0,\t3,\t4,\t6,\t8,\t9,\t8,\t10],\n",
    "[3,\t0,\t5,\t4,\t8,  6,\t12,\t9],\n",
    "[4,\t5,\t0,\t2,\t2,\t3,\t5,\t7],\n",
    "[6,\t4,\t2,\t0,\t3,\t2,\t5,\t4],\n",
    "[8,\t8,\t2,\t3,\t0,\t2,\t2,\t4],\n",
    "[9,\t6,\t3,\t2,\t2,\t0,\t3,\t2],\n",
    "[8,\t12,\t5,\t5,\t2,\t3,\t0,\t2],\n",
    "[10, 9,\t7,\t4,\t4,\t2,\t2,\t0],\n",
    "]\n",
    "P = [40, 30, 35, 20, 15, 50, 45, 60]\n",
    "D = 8\n",
    "M = 8"
   ]
  },
  {
   "cell_type": "code",
   "execution_count": 252,
   "metadata": {},
   "outputs": [
    {
     "output_type": "execute_result",
     "data": {
      "text/plain": [
       "[{1, 5}, {2, 5}, {3, 5}]"
      ]
     },
     "metadata": {},
     "execution_count": 252
    }
   ],
   "source": [
    "a = [{1},{2},{3}]\n",
    "for i in a:\n",
    "    i.add(5)\n",
    "a"
   ]
  },
  {
   "cell_type": "code",
   "execution_count": 253,
   "metadata": {},
   "outputs": [],
   "source": [
    "model2 = gb.Model('P2')"
   ]
  },
  {
   "cell_type": "code",
   "execution_count": 254,
   "metadata": {},
   "outputs": [],
   "source": [
    "x = model2.addVars(D, vtype=GRB.BINARY, name='x')\n",
    "y = model2.addVars(D, D, vtype=GRB.BINARY, name='y')\n",
    "w = model2.addVars(D, vtype=GRB.CONTINUOUS, name='w')\n",
    "omega = model2.addVar(vtype=GRB.CONTINUOUS, name='omega')"
   ]
  },
  {
   "cell_type": "code",
   "execution_count": 255,
   "metadata": {},
   "outputs": [],
   "source": [
    "model2.setObjective(\n",
    "    omega,\n",
    "    GRB.MINIMIZE\n",
    ")"
   ]
  },
  {
   "cell_type": "code",
   "execution_count": 256,
   "metadata": {},
   "outputs": [],
   "source": [
    "_ = model2.addConstrs(\n",
    "    w[i] * P[i] <= omega\n",
    "for i in range(D)\n",
    "for j in range(D))\n",
    "\n",
    "_ = model2.addConstr(\n",
    "    quicksum(x[i] for i in range(D)) == M\n",
    ")\n",
    "\n",
    "_ = model2.addConstrs(\n",
    "    y[i,j] <= x[j]\n",
    "for i in range(D)\n",
    "for j in range(D))\n",
    "\n",
    "_ = model2.addConstrs(\n",
    "    quicksum(y[i,j] for j in range(D)) == 1\n",
    "for i in range(D))\n",
    "\n",
    "_ = model2.addConstrs(\n",
    "    w[i] == quicksum(L[i][j] * y[i,j] for j in range(D))\n",
    "for i in range(D))\n",
    "\n"
   ]
  },
  {
   "cell_type": "code",
   "execution_count": 257,
   "metadata": {},
   "outputs": [
    {
     "output_type": "stream",
     "name": "stdout",
     "text": [
      "Gurobi Optimizer version 9.1.1 build v9.1.1rc0 (mac64)\n",
      "Thread count: 4 physical cores, 8 logical processors, using up to 8 threads\n",
      "Optimize a model with 145 rows, 81 columns and 392 nonzeros\n",
      "Model fingerprint: 0xcb6512f5\n",
      "Variable types: 9 continuous, 72 integer (72 binary)\n",
      "Coefficient statistics:\n",
      "  Matrix range     [1e+00, 6e+01]\n",
      "  Objective range  [1e+00, 1e+00]\n",
      "  Bounds range     [1e+00, 1e+00]\n",
      "  RHS range        [1e+00, 8e+00]\n",
      "Found heuristic solution: objective 0.0000000\n",
      "\n",
      "Explored 0 nodes (0 simplex iterations) in 0.02 seconds\n",
      "Thread count was 1 (of 8 available processors)\n",
      "\n",
      "Solution count 1: 0 \n",
      "\n",
      "Optimal solution found (tolerance 1.00e-04)\n",
      "Best objective 0.000000000000e+00, best bound 0.000000000000e+00, gap 0.0000%\n"
     ]
    }
   ],
   "source": [
    "model2.optimize()"
   ]
  },
  {
   "cell_type": "code",
   "execution_count": 258,
   "metadata": {},
   "outputs": [
    {
     "output_type": "stream",
     "name": "stdout",
     "text": [
      "x[0]: 1\nx[1]: 1\nx[2]: 1\nx[3]: 1\nx[4]: 1\nx[5]: 1\nx[6]: 1\nx[7]: 1\ny[0,0]: 1\ny[0,1]: 0\ny[0,2]: 0\ny[0,3]: 0\ny[0,4]: 0\ny[0,5]: 0\ny[0,6]: 0\ny[0,7]: 0\ny[1,0]: 0\ny[1,1]: 1\ny[1,2]: 0\ny[1,3]: 0\ny[1,4]: 0\ny[1,5]: 0\ny[1,6]: 0\ny[1,7]: 0\ny[2,0]: 0\ny[2,1]: 0\ny[2,2]: 1\ny[2,3]: 0\ny[2,4]: 0\ny[2,5]: 0\ny[2,6]: 0\ny[2,7]: 0\ny[3,0]: 0\ny[3,1]: 0\ny[3,2]: 0\ny[3,3]: 1\ny[3,4]: 0\ny[3,5]: 0\ny[3,6]: 0\ny[3,7]: 0\ny[4,0]: 0\ny[4,1]: 0\ny[4,2]: 0\ny[4,3]: 0\ny[4,4]: 1\ny[4,5]: 0\ny[4,6]: 0\ny[4,7]: 0\ny[5,0]: 0\ny[5,1]: 0\ny[5,2]: 0\ny[5,3]: 0\ny[5,4]: 0\ny[5,5]: 1\ny[5,6]: 0\ny[5,7]: 0\ny[6,0]: 0\ny[6,1]: 0\ny[6,2]: 0\ny[6,3]: 0\ny[6,4]: 0\ny[6,5]: 0\ny[6,6]: 1\ny[6,7]: 0\ny[7,0]: 0\ny[7,1]: 0\ny[7,2]: 0\ny[7,3]: 0\ny[7,4]: 0\ny[7,5]: 0\ny[7,6]: 0\ny[7,7]: 1\nw[0]: 0\nw[1]: 0\nw[2]: 0\nw[3]: 0\nw[4]: 0\nw[5]: 0\nw[6]: 0\nw[7]: 0\nomega: 0\nObj value: 0.00000\n"
     ]
    }
   ],
   "source": [
    "for v in model2.getVars():\n",
    "    print(f'{v.varName}: {int(v.x)}')\n",
    "print(f'Obj value: {model2.ObjVal:.5f}')"
   ]
  },
  {
   "cell_type": "code",
   "execution_count": 259,
   "metadata": {},
   "outputs": [
    {
     "output_type": "stream",
     "name": "stdout",
     "text": [
      "objective value: 0.00000\n"
     ]
    }
   ],
   "source": [
    "yy = list()\n",
    "for i in range(8):\n",
    "    for j in range(8):\n",
    "        yy.append(int(y[i,j].X))\n",
    "yy = np.array(yy).reshape(8,8)\n",
    "# print(\"decision variable:\")\n",
    "# print(\"y\")\n",
    "# print(yy)\n",
    "# xx = [int(x[i].X) for i in range(8)]\n",
    "# print(\"x\")\n",
    "# print(xx)\n",
    "# print(\"w 100\")\n",
    "print(f\"objective value: {model2.ObjVal:.5f}\")"
   ]
  },
  {
   "cell_type": "code",
   "execution_count": 264,
   "metadata": {},
   "outputs": [
    {
     "output_type": "stream",
     "name": "stdout",
     "text": [
      "[{0}, {1}, {2}, {3}, {4}, {5}, {6}, {7}]\n[600 540 420 240 320 360 360 400]\n3\n[{0, 3}, {1, 3}, {2, 3}, {3}, {3, 4}, {3, 5}, {3, 6}]\n[240 240 240 240 240 240 240]\n0\n[{0, 3}, {0, 1, 3}, {0, 2, 3}, {0, 3}, {0, 3, 4}, {0, 3, 5}]\n[240 240 240 240 240 135]\n5\n[{0, 3, 5}, {0, 1, 3, 5}, {0, 2, 3, 5}, {0, 3, 5}, {0, 3, 4, 5}]\n[135 135 135 135 120]\n4\n[{0, 3, 4, 5}, {0, 1, 3, 4, 5}, {0, 2, 3, 4, 5}, {0, 3, 4, 5}]\n[120 120 120 120]\n0\n[{0, 3, 4, 5}, {0, 1, 3, 4, 5}, {0, 2, 3, 4, 5}, {0, 3, 4, 5}]\n[120 120 120 120]\n0\n[{0, 3, 4, 5}, {0, 1, 3, 4, 5}, {0, 2, 3, 4, 5}, {0, 3, 4, 5}]\n[120 120 120 120]\n0\n[{0, 3, 4, 5}, {0, 1, 3, 4, 5}, {0, 2, 3, 4, 5}, {0, 3, 4, 5}]\n[120 120 120 120]\n0\n{0, 3, 4, 5}\n120\n0.4375\n0.5555555555555556\n"
     ]
    }
   ],
   "source": [
    "def get_max_weighted(have_car_set):\n",
    "    have_car_list = [0,0,0,0,0,0,0,0]\n",
    "    for i in have_car_set: have_car_list[i] = 1\n",
    "    dist = [L[i] for i in range(D) if have_car_list[i] == 1]\n",
    "    dist = [min(i) for i in zip(*dist)]\n",
    "    weighted = [i*j for i, j in zip(dist, P)]\n",
    "    # print(weighted)\n",
    "    return max(weighted)\n",
    "\n",
    "have_car_set = set()\n",
    "for m in range(8):\n",
    "    try_sets = [set(have_car_set) for k in range(D) if k not in have_car_set]\n",
    "    for i, _set in enumerate(try_sets):\n",
    "        if i not in have_car_set:\n",
    "            _set.add(i)\n",
    "    print(try_sets)\n",
    "    print(np.array([get_max_weighted(_set) for _set in try_sets]))\n",
    "    index = np.argmin(np.array([get_max_weighted(_set) for _set in try_sets]))\n",
    "    print(index)\n",
    "    have_car_set.add(index)\n",
    "print(have_car_set)\n",
    "print(get_max_weighted(have_car_set))\n",
    "print(105/240)\n",
    "print(50/90)"
   ]
  },
  {
   "cell_type": "code",
   "execution_count": 275,
   "metadata": {},
   "outputs": [
    {
     "output_type": "stream",
     "name": "stdout",
     "text": [
      "1.0605917159763314\n-3.728720983158853e-05\n25177.978515625\n"
     ]
    }
   ],
   "source": [
    "print(-640000/(-3250**2) + 1) \n",
    "print(1280000/-3250**3)   \n",
    "print(-3250 - 1.06/-3.728720983158853e-05)"
   ]
  }
 ]
}