{
 "metadata": {
  "language_info": {
   "codemirror_mode": {
    "name": "ipython",
    "version": 3
   },
   "file_extension": ".py",
   "mimetype": "text/x-python",
   "name": "python",
   "nbconvert_exporter": "python",
   "pygments_lexer": "ipython3",
   "version": "3.9.2-final"
  },
  "orig_nbformat": 2,
  "kernelspec": {
   "name": "python3",
   "display_name": "Python 3.9.2 64-bit",
   "metadata": {
    "interpreter": {
     "hash": "7812ea015bdcee6f23a998adcdd2ef97c151c0c241b7b7070987d9313e41299d"
    }
   }
  }
 },
 "nbformat": 4,
 "nbformat_minor": 2,
 "cells": [
  {
   "source": [
    "# Problem 2\n",
    "we mostly use Problem 1 decision variable, constrains, obj function and add more\n",
    "## add parameters\n",
    "* ContainerCapacity\n",
    "* ContainerCost\n",
    "* CBM_i be the cubic meter of per product CBM_i\n",
    "## add decision varaible\n",
    "* let ContainCnt_j be the container we buy at j month\n",
    "## add ultility expression\n",
    "* let $ExprZ_j$ be the volume sum of all product that are oreder in month $j$ (in cubic meter) by ocean<br>\n",
    "$ExprZ_j = \\sum_{i=0}^N x_{ijk} \\times  CBM_i \\quad \\forall j$\n",
    "## add to objective function\n",
    "$(\\sum_{j=0}^M ContainerCnt_j)\\times ContainerCost$\n",
    "## add constrains\n",
    "$\\dfrac{ExprZ_j}{ContainerCapacity} \\le ContrainerCnt_j \\quad \\forall j$"
   ],
   "cell_type": "markdown",
   "metadata": {}
  },
  {
   "source": [
    "import gurobipy as gb\n",
    "from gurobipy import GRB\n",
    "from gurobipy import quicksum\n",
    "import pandas as pd\n",
    "import numpy as np"
   ],
   "cell_type": "code",
   "metadata": {},
   "execution_count": 7,
   "outputs": []
  },
  {
   "cell_type": "code",
   "execution_count": 8,
   "metadata": {},
   "outputs": [],
   "source": [
    "## setting parameter\n",
    "N, M, K = 10, 6, 3\n",
    "D_ij = pd.read_excel('data.xlsx', sheet_name='Demand', index_col='Product').to_numpy()\n",
    "I_i = pd.read_excel('data.xlsx', sheet_name='Initial inventory', index_col='Product').to_numpy().squeeze()\n",
    "BuyCost_i = pd.read_excel('data.xlsx', sheet_name='Price and cost', index_col='Product')['Purchasing cost'].to_numpy().squeeze()\n",
    "HoldCost_i = pd.read_excel('data.xlsx', sheet_name='Price and cost', index_col='Product')['Holding'].to_numpy().squeeze()\n",
    "Transit_ij = pd.read_excel('data.xlsx', sheet_name='In-transit', index_col='Product').to_numpy().squeeze()\n",
    "FixedShipCost_k = (100, 80, 50)\n",
    "VarShipCost_ik = pd.read_excel('data.xlsx', sheet_name='Shipping cost', index_col='Product').to_numpy().squeeze()\n",
    "x_max = sum([sum(i) for i in D_ij])\n",
    "ContainerCapacity = 30\n",
    "ContainerCost = 2750\n",
    "CBM_i = pd.read_excel('data.xlsx', sheet_name='Size', index_col='Product').to_numpy().squeeze()"
   ]
  },
  {
   "cell_type": "code",
   "execution_count": 9,
   "metadata": {},
   "outputs": [],
   "source": [
    "m = gb.Model(\"Problem2Model\")"
   ]
  },
  {
   "cell_type": "code",
   "execution_count": 10,
   "metadata": {},
   "outputs": [],
   "source": [
    "#add decision variable\n",
    "x = m.addVars(N, M, K, vtype=GRB.INTEGER, name='x_ijk')\n",
    "z = m.addVars(M, K, vtype=GRB.BINARY, name='z_jk')\n",
    "ContainerCnt = m.addVars(M, vtype=GRB.INTEGER, name='ContainerCnt_j')"
   ]
  },
  {
   "cell_type": "code",
   "execution_count": 11,
   "metadata": {},
   "outputs": [],
   "source": [
    "#add ExprZ_j, ExprY_ij\n",
    "ExprY_ij = [\n",
    "    [\n",
    "        gb.LinExpr(I_i[i] - D_ij[i][0]),\n",
    "        gb.LinExpr(I_i[i] - sum(D_ij[i][z] for z in range(0, 2)) + x[i,0,0] + Transit_ij[i][1]),\n",
    "        gb.LinExpr(I_i[i] - sum(D_ij[i][z] for z in range(0, 3)) + sum(x[i,z,0] for z in range(0, 2)) + sum(x[i,z,1] for z in range(0, 1)) +  sum(Transit_ij[i][z] for z in range(1, 3)) )\n",
    "     ] +\n",
    "    [\n",
    "        gb.LinExpr(\n",
    "            I_i[i] - sum(D_ij[i][z] for z in  range(0, j+1)) +\n",
    "            sum(x[i,z,0] for z in range(0, j)) +\n",
    "            sum(x[i,z,1] for z in range(0, j-1)) +\n",
    "            sum(x[i,z,2] for z in range(0, j-2)) +\n",
    "            Transit_ij[i][1] + Transit_ij[i][2]\n",
    "        )\n",
    "    for j in range(3, M)\n",
    "    ]\n",
    "for i in range(N)]\n",
    "\n",
    "ExprZ_j = [\n",
    "    quicksum(x[i,j,2]*CBM_i[i] for i in range(N))\n",
    "for j in range(0, M)]"
   ]
  },
  {
   "cell_type": "code",
   "execution_count": 12,
   "metadata": {},
   "outputs": [],
   "source": [
    "#add to objctive function\n",
    "purchaseCostExpr = gb.LinExpr(\n",
    "    quicksum(\n",
    "        quicksum(\n",
    "            quicksum(\n",
    "                x[i,j,k] * BuyCost_i[i]\n",
    "            for k in range(0, K))\n",
    "        for j in range(0, M))\n",
    "    for i in range(0, N))\n",
    ")\n",
    "\n",
    "FixedCostExpr = gb.LinExpr(\n",
    "    quicksum(\n",
    "        quicksum(\n",
    "            z[j,k] * FixedShipCost_k[k]\n",
    "        for k in range(0, K))\n",
    "    for j in range(0, M))\n",
    ")\n",
    "\n",
    "VariableCostExpr = gb.LinExpr(\n",
    "    quicksum(\n",
    "        quicksum(\n",
    "            quicksum(\n",
    "                x[i,j,k] * VarShipCost_ik[i][k]\n",
    "            for k in range(K))\n",
    "        for i in range(N))\n",
    "    for j in range(M))\n",
    ")\n",
    "\n",
    "InventoryCostExpr = gb.LinExpr(\n",
    "    quicksum(\n",
    "        quicksum(\n",
    "            ExprY_ij[i][j]\n",
    "        for j in range(0, M)) * HoldCost_i[i]\n",
    "    for i in range(0, N))\n",
    ")\n",
    "\n",
    "allContainerCostExpr =  gb.LinExpr(\n",
    "    quicksum(ContainerCnt[j] * ContainerCost for j in range(M))\n",
    ")\n",
    "\n",
    "m.setObjective(\n",
    "    purchaseCostExpr + FixedCostExpr + VariableCostExpr + InventoryCostExpr + allContainerCostExpr\n",
    ")"
   ]
  },
  {
   "cell_type": "code",
   "execution_count": 13,
   "metadata": {},
   "outputs": [],
   "source": [
    "#Constrains\n",
    "_ = m.addConstrs(\n",
    "    ExprY_ij[i][j] >= 0\n",
    "for i in range(0, N)\n",
    "for j in range(0, M)\n",
    ")\n",
    "\n",
    "_ = m.addConstrs(\n",
    "    quicksum(x[i,j,k] for i in range(0, N)) / x_max <= z[j,k]\n",
    "for j in range(0, M)\n",
    "for k in range(0, K)\n",
    ")\n",
    "_ = m.addConstrs(\n",
    "     ExprZ_j[j] / ContainerCapacity <= ContainerCnt[j]\n",
    " for j in range(M))"
   ]
  },
  {
   "cell_type": "code",
   "execution_count": 14,
   "metadata": {},
   "outputs": [
    {
     "output_type": "stream",
     "name": "stdout",
     "text": [
      "Gurobi Optimizer version 9.1.1 build v9.1.1rc0 (mac64)\n",
      "Thread count: 4 physical cores, 8 logical processors, using up to 8 threads\n",
      "Optimize a model with 84 rows, 204 columns and 574 nonzeros\n",
      "Model fingerprint: 0xf306d839\n",
      "Variable types: 0 continuous, 204 integer (18 binary)\n",
      "Coefficient statistics:\n",
      "  Matrix range     [1e-04, 1e+00]\n",
      "  Objective range  [5e+01, 1e+04]\n",
      "  Bounds range     [1e+00, 1e+00]\n",
      "  RHS range        [3e+00, 7e+02]\n",
      "Found heuristic solution: objective 1.700974e+07\n",
      "Presolve removed 52 rows and 70 columns\n",
      "Presolve time: 0.00s\n",
      "Presolved: 32 rows, 134 columns, 334 nonzeros\n",
      "Variable types: 0 continuous, 134 integer (11 binary)\n",
      "\n",
      "Root relaxation: objective 1.650626e+07, 24 iterations, 0.00 seconds\n",
      "\n",
      "    Nodes    |    Current Node    |     Objective Bounds      |     Work\n",
      " Expl Unexpl |  Obj  Depth IntInf | Incumbent    BestBd   Gap | It/Node Time\n",
      "\n",
      "     0     0 1.6506e+07    0    7 1.7010e+07 1.6506e+07  2.96%     -    0s\n",
      "H    0     0                    1.650965e+07 1.6506e+07  0.02%     -    0s\n",
      "H    0     0                    1.650934e+07 1.6508e+07  0.01%     -    0s\n",
      "     0     0 1.6508e+07    0    6 1.6509e+07 1.6508e+07  0.01%     -    0s\n",
      "\n",
      "Cutting planes:\n",
      "  Gomory: 6\n",
      "  MIR: 3\n",
      "  StrongCG: 1\n",
      "  Flow cover: 1\n",
      "\n",
      "Explored 1 nodes (31 simplex iterations) in 0.07 seconds\n",
      "Thread count was 8 (of 8 available processors)\n",
      "\n",
      "Solution count 3: 1.65093e+07 1.65096e+07 1.70097e+07 \n",
      "\n",
      "Optimal solution found (tolerance 1.00e-04)\n",
      "Best objective 1.650933600000e+07, best bound 1.650805489423e+07, gap 0.0078%\n"
     ]
    }
   ],
   "source": [
    "m.optimize()"
   ]
  },
  {
   "cell_type": "code",
   "execution_count": 15,
   "metadata": {},
   "outputs": [
    {
     "output_type": "stream",
     "name": "stdout",
     "text": [
      "x_ijk[0,0,0] -0\nx_ijk[0,0,1] -0\nx_ijk[0,0,2] -0\nx_ijk[0,1,0] -0\nx_ijk[0,1,1] -0\nx_ijk[0,1,2] -0\nx_ijk[0,2,0] -0\nx_ijk[0,2,1] -0\nx_ijk[0,2,2] 38\nx_ijk[0,3,0] -0\nx_ijk[0,3,1] -0\nx_ijk[0,3,2] -0\nx_ijk[0,4,0] -0\nx_ijk[0,4,1] -0\nx_ijk[0,4,2] -0\nx_ijk[0,5,0] -0\nx_ijk[0,5,1] -0\nx_ijk[0,5,2] -0\nx_ijk[1,0,0] -0\nx_ijk[1,0,1] -0\nx_ijk[1,0,2] -0\nx_ijk[1,1,0] -0\nx_ijk[1,1,1] -0\nx_ijk[1,1,2] -0\nx_ijk[1,2,0] -0\nx_ijk[1,2,1] -0\nx_ijk[1,2,2] 45\nx_ijk[1,3,0] -0\nx_ijk[1,3,1] -0\nx_ijk[1,3,2] -0\nx_ijk[1,4,0] -0\nx_ijk[1,4,1] -0\nx_ijk[1,4,2] -0\nx_ijk[1,5,0] -0\nx_ijk[1,5,1] -0\nx_ijk[1,5,2] -0\nx_ijk[2,0,0] -0\nx_ijk[2,0,1] -0\nx_ijk[2,0,2] -0\nx_ijk[2,1,0] -0\nx_ijk[2,1,1] -0\nx_ijk[2,1,2] 82\nx_ijk[2,2,0] -0\nx_ijk[2,2,1] -0\nx_ijk[2,2,2] 200\nx_ijk[2,3,0] -0\nx_ijk[2,3,1] -0\nx_ijk[2,3,2] -0\nx_ijk[2,4,0] -0\nx_ijk[2,4,1] -0\nx_ijk[2,4,2] -0\nx_ijk[2,5,0] -0\nx_ijk[2,5,1] -0\nx_ijk[2,5,2] -0\nx_ijk[3,0,0] -0\nx_ijk[3,0,1] -0\nx_ijk[3,0,2] -0\nx_ijk[3,1,0] -0\nx_ijk[3,1,1] -0\nx_ijk[3,1,2] 97\nx_ijk[3,2,0] -0\nx_ijk[3,2,1] -0\nx_ijk[3,2,2] 155\nx_ijk[3,3,0] -0\nx_ijk[3,3,1] -0\nx_ijk[3,3,2] -0\nx_ijk[3,4,0] -0\nx_ijk[3,4,1] -0\nx_ijk[3,4,2] -0\nx_ijk[3,5,0] -0\nx_ijk[3,5,1] -0\nx_ijk[3,5,2] -0\nx_ijk[4,0,0] -0\nx_ijk[4,0,1] -0\nx_ijk[4,0,2] -0\nx_ijk[4,1,0] -0\nx_ijk[4,1,1] -0\nx_ijk[4,1,2] 67\nx_ijk[4,2,0] -0\nx_ijk[4,2,1] -0\nx_ijk[4,2,2] 49\nx_ijk[4,3,0] -0\nx_ijk[4,3,1] -0\nx_ijk[4,3,2] -0\nx_ijk[4,4,0] -0\nx_ijk[4,4,1] -0\nx_ijk[4,4,2] -0\nx_ijk[4,5,0] -0\nx_ijk[4,5,1] -0\nx_ijk[4,5,2] -0\nx_ijk[5,0,0] -0\nx_ijk[5,0,1] -0\nx_ijk[5,0,2] -0\nx_ijk[5,1,0] -0\nx_ijk[5,1,1] -0\nx_ijk[5,1,2] -0\nx_ijk[5,2,0] -0\nx_ijk[5,2,1] -0\nx_ijk[5,2,2] 154\nx_ijk[5,3,0] -0\nx_ijk[5,3,1] -0\nx_ijk[5,3,2] -0\nx_ijk[5,4,0] -0\nx_ijk[5,4,1] -0\nx_ijk[5,4,2] -0\nx_ijk[5,5,0] -0\nx_ijk[5,5,1] -0\nx_ijk[5,5,2] -0\nx_ijk[6,0,0] -0\nx_ijk[6,0,1] -0\nx_ijk[6,0,2] -0\nx_ijk[6,1,0] -0\nx_ijk[6,1,1] -0\nx_ijk[6,1,2] -0\nx_ijk[6,2,0] -0\nx_ijk[6,2,1] -0\nx_ijk[6,2,2] 172\nx_ijk[6,3,0] -0\nx_ijk[6,3,1] -0\nx_ijk[6,3,2] -0\nx_ijk[6,4,0] -0\nx_ijk[6,4,1] -0\nx_ijk[6,4,2] -0\nx_ijk[6,5,0] -0\nx_ijk[6,5,1] -0\nx_ijk[6,5,2] -0\nx_ijk[7,0,0] -0\nx_ijk[7,0,1] -0\nx_ijk[7,0,2] 61\nx_ijk[7,1,0] -0\nx_ijk[7,1,1] -0\nx_ijk[7,1,2] 168\nx_ijk[7,2,0] -0\nx_ijk[7,2,1] -0\nx_ijk[7,2,2] 32\nx_ijk[7,3,0] -0\nx_ijk[7,3,1] -0\nx_ijk[7,3,2] -0\nx_ijk[7,4,0] -0\nx_ijk[7,4,1] -0\nx_ijk[7,4,2] -0\nx_ijk[7,5,0] -0\nx_ijk[7,5,1] -0\nx_ijk[7,5,2] -0\nx_ijk[8,0,0] -0\nx_ijk[8,0,1] -0\nx_ijk[8,0,2] -0\nx_ijk[8,1,0] -0\nx_ijk[8,1,1] -0\nx_ijk[8,1,2] -0\nx_ijk[8,2,0] -0\nx_ijk[8,2,1] -0\nx_ijk[8,2,2] 94\nx_ijk[8,3,0] -0\nx_ijk[8,3,1] -0\nx_ijk[8,3,2] -0\nx_ijk[8,4,0] -0\nx_ijk[8,4,1] -0\nx_ijk[8,4,2] -0\nx_ijk[8,5,0] -0\nx_ijk[8,5,1] -0\nx_ijk[8,5,2] -0\nx_ijk[9,0,0] 24\nx_ijk[9,0,1] 162\nx_ijk[9,0,2] 200\nx_ijk[9,1,0] -0\nx_ijk[9,1,1] -0\nx_ijk[9,1,2] 36\nx_ijk[9,2,0] -0\nx_ijk[9,2,1] 118\nx_ijk[9,2,2] 199\nx_ijk[9,3,0] -0\nx_ijk[9,3,1] -0\nx_ijk[9,3,2] -0\nx_ijk[9,4,0] -0\nx_ijk[9,4,1] -0\nx_ijk[9,4,2] -0\nx_ijk[9,5,0] -0\nx_ijk[9,5,1] -0\nx_ijk[9,5,2] -0\nz_jk[0,0] 1\nz_jk[0,1] 1\nz_jk[0,2] 1\nz_jk[1,0] -0\nz_jk[1,1] -0\nz_jk[1,2] 1\nz_jk[2,0] -0\nz_jk[2,1] 1\nz_jk[2,2] 1\nz_jk[3,0] -0\nz_jk[3,1] -0\nz_jk[3,2] 0\nz_jk[4,0] -0\nz_jk[4,1] 0\nz_jk[4,2] 0\nz_jk[5,0] 0\nz_jk[5,1] 0\nz_jk[5,2] 0\nContainerCnt_j[0] 1\nContainerCnt_j[1] 1\nContainerCnt_j[2] 3\nContainerCnt_j[3] -0\nContainerCnt_j[4] -0\nContainerCnt_j[5] -0\nObj: 1.65093e+07\n"
     ]
    }
   ],
   "source": [
    "for v in m.getVars():\n",
    "        print('%s %g' % (v.varName, v.x))\n",
    "print('Obj: %g' % m.objVal)"
   ]
  },
  {
   "cell_type": "code",
   "execution_count": 16,
   "metadata": {},
   "outputs": [
    {
     "output_type": "stream",
     "name": "stdout",
     "text": [
      "0,0: 662.0\n0,1: 607.0\n0,2: 435.0\n0,3: 241.0\n0,4: 147.0\n0,5: 0.0\n1,0: 410.0\n1,1: 357.0\n1,2: 289.0\n1,3: 104.0\n1,4: 91.0\n1,5: 0.0\n2,0: 346.0\n2,1: 167.0\n2,2: 166.0\n2,3: 117.0\n2,4: 0.0\n2,5: 0.0\n3,0: 208.0\n3,1: 258.0\n3,2: 180.0\n3,3: 49.0\n3,4: 0.0\n3,5: 0.0\n4,0: 365.0\n4,1: 303.0\n4,2: 220.0\n4,3: 130.0\n4,4: 0.0\n4,5: 0.0\n5,0: 433.0\n5,1: 356.0\n5,2: 272.0\n5,3: 145.0\n5,4: 29.0\n5,5: 0.0\n6,0: 348.0\n6,1: 212.0\n6,2: 238.0\n6,3: 122.0\n6,4: 3.0\n6,5: 0.0\n7,0: 181.0\n7,1: 26.0\n7,2: 16.0\n7,3: 0.0\n7,4: 0.0\n7,5: 0.0\n8,0: 565.0\n8,1: 489.0\n8,2: 335.0\n8,3: 159.0\n8,4: 78.0\n8,5: 0.0\n9,0: 154.0\n9,1: 0.0\n9,2: 0.0\n9,3: 0.0\n9,4: 0.0\n9,5: 0.0\n"
     ]
    }
   ],
   "source": [
    "for i in range(N):\n",
    "    for j in range(M):\n",
    "        print(f'{i},{j}: {ExprY_ij[i][j].getValue()}')"
   ]
  },
  {
   "cell_type": "code",
   "execution_count": 17,
   "metadata": {},
   "outputs": [
    {
     "output_type": "stream",
     "name": "stdout",
     "text": [
      "purchaseCost: 15232000.0\nFixedCost: 410.0\nVariableCost: 6776.0\nInventoryCost: 1256400.0\nallContainerCost: 13750.0\n"
     ]
    }
   ],
   "source": [
    "print(f'purchaseCost: {purchaseCostExpr.getValue()}')\n",
    "print(f'FixedCost: {FixedCostExpr.getValue()}')\n",
    "print(f'VariableCost: {VariableCostExpr.getValue()}')\n",
    "print(f'InventoryCost: {InventoryCostExpr.getValue()}')\n",
    "print(f'allContainerCost: {allContainerCostExpr.getValue()}')\n"
   ]
  }
 ]
}