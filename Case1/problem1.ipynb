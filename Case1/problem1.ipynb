{
 "metadata": {
  "language_info": {
   "codemirror_mode": {
    "name": "ipython",
    "version": 3
   },
   "file_extension": ".py",
   "mimetype": "text/x-python",
   "name": "python",
   "nbconvert_exporter": "python",
   "pygments_lexer": "ipython3",
   "version": "3.9.2-final"
  },
  "orig_nbformat": 2,
  "kernelspec": {
   "name": "python3",
   "display_name": "Python 3.9.2 64-bit",
   "metadata": {
    "interpreter": {
     "hash": "7812ea015bdcee6f23a998adcdd2ef97c151c0c241b7b7070987d9313e41299d"
    }
   }
  }
 },
 "nbformat": 4,
 "nbformat_minor": 2,
 "cells": [
  {
   "source": [
    "# Problem 1\n",
    "## setting parameter\n",
    "* There are $N$ product. $i \\in \\{0, 1,..., N-1\\}$\n",
    "* There are $M$ month. $j \\in \\{0, 1,..., M-1\\}$, month 0, 1, 2... = March, April, March ...\n",
    "* There are $K$ shipping method. $k \\in \\{0, 1,..., K-1\\}$, shipping method 1, 2, 3 = express, air, Ocean\n",
    "* Let $D_{ij}$ be the forecast demand of product $i$ of month $j$.\n",
    "* Let $I_i$ be the quantity of initial inventory of product $i$.\n",
    "* Let $BuyCost_i$ be the purchase cost of product $i$.\n",
    "* Let $HoldCost_i$ be the holding cost of product $i$.\n",
    "* Let $Transit_{ij}$ be the in-transt product $i$ which will be delivered on $j$ month.\\[here $j \\in\\{1,2\\}$\\]\n",
    "* Let $FixedShipCost_k$ be the fixed cost of shipping method $k$.\n",
    "* Let $VarShipCost_{ik}$ be the variable cost of product $i$ of shipping method $k$.\n",
    "* Let $LeadTime_k$ be the lead time of shipping method $k$.\n",
    "* Let $M_{big}$ be $\\sum_{j=0}^{M-1} \\sum_{i=0}^{N-1} D_{ij}$\n",
    "\n",
    "## setting decision variables\n",
    "* let $x_{ijk}$ be the quantity of product $i$ that are order at month $j$ by shipping method $k$.\n",
    "* let $z_{jk}$ be $1$ if at month $j$ we use shipping method $k$ else $0$\n",
    "\n",
    "## ultility expression\n",
    "* let $ExprY_{ij}$ be the expression Inventory level of product $i$ of month $j$.\n",
    "\n",
    "$j=0:\\ I_i - D_{i0} \\quad \\forall i$\n",
    "\n",
    "$j=1:\\ I_i - \\sum_{z=0}^1 D_{iz} + x_{i00} + Transit_{i1} \\quad \\forall i$\n",
    "\n",
    "$j=2:\\ I_i - \\sum_{z=0}^2 D_{iz} + \\sum_{z=0}^1 x_{iz0} + \\sum_{z=0}^0 x_{iz1} + \\sum_{z=1}^2 transit_{iz} \\quad \\forall i$\n",
    "\n",
    "$j \\ge 3:\\ I_i - \\sum_{z=0}^j D_{iz} + \\sum_{z=0}^{j-1} x_{iz0} + \\sum_{z=0}^{j-2} x_{iz1} + \\sum_{z=0}^{j-3} x_{iz2} + \\sum_{z=1}^2 transit_{iz} \\quad \\forall i$\n",
    "    \n",
    "\n",
    "## Objective function\n",
    "$$Min.\\quad purchase\\ Cost + Shipping\\ Cost + Inventory\\ Cost$$\n",
    "Purchase Cost = $\\sum_{i=0}^{N-1} \\sum_{j=0}^{M-1} \\sum_{k=0}^{K-1}( x_{ijk}\\times BuyCost_i)$\n",
    "\n",
    "Shipping Cost:<br>\n",
    "* Fixed Cost = $\\sum_{j=0}^{M-1} \\sum_{k=0}^{K-1} (z_{jk} \\times FixedShipCost_k)$\n",
    "\n",
    "* Variable Cost = $\\sum_{j=0}^{M-1} \\sum_{i=0}^{N-1} \\sum_{k=0}^{K-1} (x_{ijk} \\times VarShipCost_{ik})$\n",
    "\n",
    "Inventory Cost = $\\sum_{i=0}^{N-1}[(\\sum_{j=0}^{M-1} ExprY_{ij}) \\times HoldCost_i]$\n",
    "\n",
    "## Constrains\n",
    "\n",
    "$ExprY_{ij} \\ge 0 \\quad \\forall i, \\forall j$\n",
    "\n",
    "$\\dfrac{\\sum_{i=0}^{N-1}x_{ijk}}{M_{big}} \\le z_{jk} \\quad \\forall j, \\forall k$\n",
    "\n",
    "$x_{ijk} \\ge 0  \\quad \\forall i,\\ \\forall j,\\ \\forall k$\n",
    "\n",
    "$z_{jk} \\in \\{0, 1\\}$\n"
   ],
   "cell_type": "markdown",
   "metadata": {}
  },
  {
   "cell_type": "code",
   "execution_count": 1,
   "metadata": {},
   "outputs": [],
   "source": [
    "import gurobipy as gb\n",
    "from gurobipy import GRB\n",
    "from gurobipy import quicksum\n",
    "import pandas as pd\n",
    "import numpy as np"
   ]
  },
  {
   "cell_type": "code",
   "execution_count": 2,
   "metadata": {},
   "outputs": [],
   "source": [
    "## setting parameter\n",
    "N, M, K = 10, 6, 3\n",
    "D_ij = pd.read_excel('data.xlsx', sheet_name='Demand', index_col='Product').to_numpy()\n",
    "I_i = pd.read_excel('data.xlsx', sheet_name='Initial inventory', index_col='Product').to_numpy().squeeze()\n",
    "BuyCost_i = pd.read_excel('data.xlsx', sheet_name='Price and cost', index_col='Product')['Purchasing cost'].to_numpy().squeeze()\n",
    "HoldCost_i = pd.read_excel('data.xlsx', sheet_name='Price and cost', index_col='Product')['Holding'].to_numpy().squeeze()\n",
    "Transit_ij = pd.read_excel('data.xlsx', sheet_name='In-transit', index_col='Product').to_numpy().squeeze()\n",
    "FixedShipCost_k = (100, 80, 50)\n",
    "VarShipCost_ik = pd.read_excel('data.xlsx', sheet_name='Shipping cost', index_col='Product').to_numpy().squeeze()\n",
    "x_max = sum([sum(i) for i in D_ij])"
   ]
  },
  {
   "cell_type": "code",
   "execution_count": 3,
   "metadata": {},
   "outputs": [
    {
     "output_type": "stream",
     "name": "stdout",
     "text": [
      "Academic license - for non-commercial use only - expires 2021-05-20\n",
      "Using license file /Users/eason/gurobi.lic\n"
     ]
    }
   ],
   "source": [
    "m = gb.Model(\"Problem1Model\")"
   ]
  },
  {
   "cell_type": "code",
   "execution_count": 4,
   "metadata": {},
   "outputs": [],
   "source": [
    "#add decision variable\n",
    "x = m.addVars(N, M, K, vtype=GRB.INTEGER, name='x_ijk')\n",
    "z = m.addVars(M, K, vtype=GRB.BINARY, name='z_jk')"
   ]
  },
  {
   "cell_type": "code",
   "execution_count": 5,
   "metadata": {},
   "outputs": [],
   "source": [
    "#set ExprY_ij\n",
    "ExprY_ij = [\n",
    "    [\n",
    "        gb.LinExpr(I_i[i] - D_ij[i][0]),\n",
    "        gb.LinExpr(I_i[i] - sum(D_ij[i][z] for z in range(0, 2)) + x[i,0,0] + Transit_ij[i][1]),\n",
    "        gb.LinExpr(I_i[i] - sum(D_ij[i][z] for z in range(0, 3)) + sum(x[i,z,0] for z in range(0, 2)) + sum(x[i,z,1] for z in range(0, 1)) +  sum(Transit_ij[i][z] for z in range(1, 3)) )\n",
    "     ] +\n",
    "    [\n",
    "        gb.LinExpr(\n",
    "            I_i[i] - sum(D_ij[i][z] for z in  range(0, j+1)) +\n",
    "            sum(x[i,z,0] for z in range(0, j)) +\n",
    "            sum(x[i,z,1] for z in range(0, j-1)) +\n",
    "            sum(x[i,z,2] for z in range(0, j-2)) +\n",
    "            Transit_ij[i][1] + Transit_ij[i][2]\n",
    "        )\n",
    "    for j in range(3, M)\n",
    "    ]\n",
    "for i in range(N)]"
   ]
  },
  {
   "cell_type": "code",
   "execution_count": 6,
   "metadata": {},
   "outputs": [],
   "source": [
    "#set objective function\n",
    "purchaseCostExpr = gb.LinExpr(\n",
    "    quicksum(\n",
    "        quicksum(\n",
    "            quicksum(\n",
    "                x[i,j,k] * BuyCost_i[i]\n",
    "            for k in range(0, K))\n",
    "        for j in range(0, M))\n",
    "    for i in range(0, N))\n",
    ")\n",
    "\n",
    "FixedCost = gb.LinExpr(\n",
    "    quicksum(\n",
    "        quicksum(\n",
    "            z[j,k] * FixedShipCost_k[k]\n",
    "        for k in range(0, K))\n",
    "    for j in range(0, M))\n",
    ")\n",
    "\n",
    "VariableCost = gb.LinExpr(\n",
    "    quicksum(\n",
    "        quicksum(\n",
    "            quicksum(\n",
    "                x[i,j,k] * VarShipCost_ik[i][k]\n",
    "            for k in range(K))\n",
    "        for i in range(N))\n",
    "    for j in range(M))\n",
    ")\n",
    "\n",
    "InventoryCost = gb.LinExpr(\n",
    "    quicksum(\n",
    "        quicksum(\n",
    "            ExprY_ij[i][j]\n",
    "        for j in range(0, M)) * HoldCost_i[i]\n",
    "    for i in range(0, N))\n",
    ")\n",
    "\n",
    "m.setObjective(\n",
    "    purchaseCostExpr + FixedCost + VariableCost + InventoryCost\n",
    ")"
   ]
  },
  {
   "cell_type": "code",
   "execution_count": 7,
   "metadata": {},
   "outputs": [],
   "source": [
    "#Constrains\n",
    "_ = m.addConstrs(\n",
    "    ExprY_ij[i][j] >= 0\n",
    "for i in range(0, N)\n",
    "for j in range(0, M)\n",
    ")\n",
    "\n",
    "_ = m.addConstrs(\n",
    "    quicksum(x[i,j,k] for i in range(0, N)) / x_max <= z[j,k]\n",
    "for j in range(0, M)\n",
    "for k in range(0, K)\n",
    ")\n"
   ]
  },
  {
   "cell_type": "code",
   "execution_count": 8,
   "metadata": {},
   "outputs": [
    {
     "output_type": "stream",
     "name": "stdout",
     "text": [
      "Gurobi Optimizer version 9.1.1 build v9.1.1rc0 (mac64)\n",
      "Thread count: 4 physical cores, 8 logical processors, using up to 8 threads\n",
      "Optimize a model with 78 rows, 198 columns and 508 nonzeros\n",
      "Model fingerprint: 0x15531981\n",
      "Variable types: 0 continuous, 198 integer (18 binary)\n",
      "Coefficient statistics:\n",
      "  Matrix range     [1e-04, 1e+00]\n",
      "  Objective range  [5e+01, 1e+04]\n",
      "  Bounds range     [1e+00, 1e+00]\n",
      "  RHS range        [3e+00, 7e+02]\n",
      "Found heuristic solution: objective 1.700149e+07\n",
      "Presolve removed 49 rows and 67 columns\n",
      "Presolve time: 0.00s\n",
      "Presolved: 29 rows, 131 columns, 301 nonzeros\n",
      "Variable types: 0 continuous, 131 integer (11 binary)\n",
      "\n",
      "Root relaxation: objective 1.649297e+07, 21 iterations, 0.00 seconds\n",
      "\n",
      "    Nodes    |    Current Node    |     Objective Bounds      |     Work\n",
      " Expl Unexpl |  Obj  Depth IntInf | Incumbent    BestBd   Gap | It/Node Time\n",
      "\n",
      "     0     0 1.6493e+07    0    4 1.7001e+07 1.6493e+07  2.99%     -    0s\n",
      "H    0     0                    1.649315e+07 1.6493e+07  0.00%     -    0s\n",
      "\n",
      "Explored 1 nodes (21 simplex iterations) in 0.02 seconds\n",
      "Thread count was 8 (of 8 available processors)\n",
      "\n",
      "Solution count 2: 1.64931e+07 1.70015e+07 \n",
      "\n",
      "Optimal solution found (tolerance 1.00e-04)\n",
      "Best objective 1.649314600000e+07, best bound 1.649296828276e+07, gap 0.0011%\n"
     ]
    }
   ],
   "source": [
    "m.optimize()"
   ]
  },
  {
   "cell_type": "code",
   "execution_count": 9,
   "metadata": {},
   "outputs": [
    {
     "output_type": "stream",
     "name": "stdout",
     "text": [
      "x_ijk[0,0,0] -0\nx_ijk[0,0,1] -0\nx_ijk[0,0,2] -0\nx_ijk[0,1,0] -0\nx_ijk[0,1,1] -0\nx_ijk[0,1,2] -0\nx_ijk[0,2,0] -0\nx_ijk[0,2,1] -0\nx_ijk[0,2,2] 38\nx_ijk[0,3,0] -0\nx_ijk[0,3,1] -0\nx_ijk[0,3,2] -0\nx_ijk[0,4,0] -0\nx_ijk[0,4,1] -0\nx_ijk[0,4,2] -0\nx_ijk[0,5,0] -0\nx_ijk[0,5,1] -0\nx_ijk[0,5,2] -0\nx_ijk[1,0,0] -0\nx_ijk[1,0,1] -0\nx_ijk[1,0,2] -0\nx_ijk[1,1,0] -0\nx_ijk[1,1,1] -0\nx_ijk[1,1,2] -0\nx_ijk[1,2,0] -0\nx_ijk[1,2,1] -0\nx_ijk[1,2,2] 45\nx_ijk[1,3,0] -0\nx_ijk[1,3,1] -0\nx_ijk[1,3,2] -0\nx_ijk[1,4,0] -0\nx_ijk[1,4,1] -0\nx_ijk[1,4,2] -0\nx_ijk[1,5,0] -0\nx_ijk[1,5,1] -0\nx_ijk[1,5,2] -0\nx_ijk[2,0,0] -0\nx_ijk[2,0,1] -0\nx_ijk[2,0,2] -0\nx_ijk[2,1,0] -0\nx_ijk[2,1,1] -0\nx_ijk[2,1,2] 82\nx_ijk[2,2,0] -0\nx_ijk[2,2,1] -0\nx_ijk[2,2,2] 200\nx_ijk[2,3,0] -0\nx_ijk[2,3,1] -0\nx_ijk[2,3,2] -0\nx_ijk[2,4,0] -0\nx_ijk[2,4,1] -0\nx_ijk[2,4,2] -0\nx_ijk[2,5,0] -0\nx_ijk[2,5,1] -0\nx_ijk[2,5,2] -0\nx_ijk[3,0,0] -0\nx_ijk[3,0,1] -0\nx_ijk[3,0,2] -0\nx_ijk[3,1,0] -0\nx_ijk[3,1,1] -0\nx_ijk[3,1,2] 97\nx_ijk[3,2,0] -0\nx_ijk[3,2,1] -0\nx_ijk[3,2,2] 155\nx_ijk[3,3,0] -0\nx_ijk[3,3,1] -0\nx_ijk[3,3,2] -0\nx_ijk[3,4,0] -0\nx_ijk[3,4,1] -0\nx_ijk[3,4,2] -0\nx_ijk[3,5,0] -0\nx_ijk[3,5,1] -0\nx_ijk[3,5,2] -0\nx_ijk[4,0,0] -0\nx_ijk[4,0,1] -0\nx_ijk[4,0,2] -0\nx_ijk[4,1,0] -0\nx_ijk[4,1,1] -0\nx_ijk[4,1,2] 67\nx_ijk[4,2,0] -0\nx_ijk[4,2,1] -0\nx_ijk[4,2,2] 49\nx_ijk[4,3,0] -0\nx_ijk[4,3,1] -0\nx_ijk[4,3,2] -0\nx_ijk[4,4,0] -0\nx_ijk[4,4,1] -0\nx_ijk[4,4,2] -0\nx_ijk[4,5,0] -0\nx_ijk[4,5,1] -0\nx_ijk[4,5,2] -0\nx_ijk[5,0,0] -0\nx_ijk[5,0,1] -0\nx_ijk[5,0,2] -0\nx_ijk[5,1,0] -0\nx_ijk[5,1,1] -0\nx_ijk[5,1,2] -0\nx_ijk[5,2,0] -0\nx_ijk[5,2,1] -0\nx_ijk[5,2,2] 154\nx_ijk[5,3,0] -0\nx_ijk[5,3,1] -0\nx_ijk[5,3,2] -0\nx_ijk[5,4,0] -0\nx_ijk[5,4,1] -0\nx_ijk[5,4,2] -0\nx_ijk[5,5,0] -0\nx_ijk[5,5,1] -0\nx_ijk[5,5,2] -0\nx_ijk[6,0,0] -0\nx_ijk[6,0,1] -0\nx_ijk[6,0,2] -0\nx_ijk[6,1,0] -0\nx_ijk[6,1,1] -0\nx_ijk[6,1,2] -0\nx_ijk[6,2,0] -0\nx_ijk[6,2,1] -0\nx_ijk[6,2,2] 172\nx_ijk[6,3,0] -0\nx_ijk[6,3,1] -0\nx_ijk[6,3,2] -0\nx_ijk[6,4,0] -0\nx_ijk[6,4,1] -0\nx_ijk[6,4,2] -0\nx_ijk[6,5,0] -0\nx_ijk[6,5,1] -0\nx_ijk[6,5,2] -0\nx_ijk[7,0,0] -0\nx_ijk[7,0,1] -0\nx_ijk[7,0,2] 61\nx_ijk[7,1,0] -0\nx_ijk[7,1,1] -0\nx_ijk[7,1,2] 168\nx_ijk[7,2,0] -0\nx_ijk[7,2,1] -0\nx_ijk[7,2,2] 32\nx_ijk[7,3,0] -0\nx_ijk[7,3,1] -0\nx_ijk[7,3,2] -0\nx_ijk[7,4,0] -0\nx_ijk[7,4,1] -0\nx_ijk[7,4,2] -0\nx_ijk[7,5,0] -0\nx_ijk[7,5,1] -0\nx_ijk[7,5,2] -0\nx_ijk[8,0,0] -0\nx_ijk[8,0,1] -0\nx_ijk[8,0,2] -0\nx_ijk[8,1,0] -0\nx_ijk[8,1,1] -0\nx_ijk[8,1,2] -0\nx_ijk[8,2,0] -0\nx_ijk[8,2,1] -0\nx_ijk[8,2,2] 94\nx_ijk[8,3,0] -0\nx_ijk[8,3,1] -0\nx_ijk[8,3,2] -0\nx_ijk[8,4,0] -0\nx_ijk[8,4,1] -0\nx_ijk[8,4,2] -0\nx_ijk[8,5,0] -0\nx_ijk[8,5,1] -0\nx_ijk[8,5,2] -0\nx_ijk[9,0,0] 24\nx_ijk[9,0,1] 162\nx_ijk[9,0,2] 200\nx_ijk[9,1,0] -0\nx_ijk[9,1,1] -0\nx_ijk[9,1,2] 154\nx_ijk[9,2,0] -0\nx_ijk[9,2,1] -0\nx_ijk[9,2,2] 199\nx_ijk[9,3,0] -0\nx_ijk[9,3,1] -0\nx_ijk[9,3,2] -0\nx_ijk[9,4,0] -0\nx_ijk[9,4,1] -0\nx_ijk[9,4,2] -0\nx_ijk[9,5,0] -0\nx_ijk[9,5,1] -0\nx_ijk[9,5,2] -0\nz_jk[0,0] 1\nz_jk[0,1] 1\nz_jk[0,2] 1\nz_jk[1,0] -0\nz_jk[1,1] -0\nz_jk[1,2] 1\nz_jk[2,0] -0\nz_jk[2,1] -0\nz_jk[2,2] 1\nz_jk[3,0] -0\nz_jk[3,1] -0\nz_jk[3,2] 0\nz_jk[4,0] -0\nz_jk[4,1] 0\nz_jk[4,2] 0\nz_jk[5,0] 0\nz_jk[5,1] 0\nz_jk[5,2] 0\nObj: 1.64931e+07\n"
     ]
    }
   ],
   "source": [
    "for v in m.getVars():\n",
    "        print('%s %g' % (v.varName, v.x))\n",
    "print('Obj: %g' % m.objVal)"
   ]
  }
 ]
}