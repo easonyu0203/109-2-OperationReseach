{
 "metadata": {
  "language_info": {
   "codemirror_mode": {
    "name": "ipython",
    "version": 3
   },
   "file_extension": ".py",
   "mimetype": "text/x-python",
   "name": "python",
   "nbconvert_exporter": "python",
   "pygments_lexer": "ipython3",
   "version": "3.9.2-final"
  },
  "orig_nbformat": 2,
  "kernelspec": {
   "name": "python3",
   "display_name": "Python 3.9.2 64-bit",
   "metadata": {
    "interpreter": {
     "hash": "7812ea015bdcee6f23a998adcdd2ef97c151c0c241b7b7070987d9313e41299d"
    }
   }
  }
 },
 "nbformat": 4,
 "nbformat_minor": 2,
 "cells": [
  {
   "source": [
    "# Problem 3\n",
    "we mostly use Problem 2 decision variable, constrains, obj function and add/remove some\n",
    "## add parameters\n",
    "* LostSaleCost_i be the lost sale const of product $i$\n",
    "## add decision varaible\n",
    "* Let $y_{ij}$ be inventory level of product $i$ in month $j$\n",
    "* Let $yBin_{ij}$, $wBin_{ij}$ be helper binary variable for $y_{ij}$, $w_{ij}$, this garuantee $max\\{0, Expr_{ij}\\} = y_{ij}$, $max\\{0, -Expr_{ij}\\} = w_{ij}$\n",
    "* Let $w_{ij}$ be the amount of lost sale of product $i$ in month $j$\n",
    "## add constrains\n",
    "* $0 \\le y_{ij} \\quad \\forall i,\\ \\forall j$\n",
    "* $0 \\le w_{ij} \\quad \\forall i,\\ \\forall j$\n",
    "* $ExprY_{ij} \\le y_{ij} \\quad \\forall i,\\ \\forall j$\n",
    "* $-ExprY_{ij} \\le w_{ij} \\quad \\forall i,\\ \\forall j$\n",
    "* $x_{max} \\times yBin_{ij} + ExprY_{ij} \\ge y_{ij}$\n",
    "* $x_{max} \\times (1-yBin_{ij}) + 0 \\ge y_{ij}$\n",
    "* $x_{max} \\times wBin_{ij} + 0 \\ge w_{ij}$\n",
    "* $x_{max} \\times (1-wBin_{ij}) - ExprY_{ij} \\ge w_{ij}$\n",
    "## Ultility Expression $ExprY_{ij}$\n",
    "* $j=0:\\ ExprY_{i0} = I_i - D_{i0}$\n",
    "* $j=1:\\ ExprY_{i1} = y_{i0} + x_{i00} + Transit_{i1} - D_{i1}$\n",
    "* $j=2:\\ ExprY_{i2} = y_{i1} + x_{i10} + x_{i01} + Transit_{i2} - D_{i2}$\n",
    "* $j \\ge 3:\\ ExprY_{ij} = y_{i(j-1)} + x_{i(j-1)0} + x_{i(j-2)1} + x_{i(j-3)2} - D_{ij}$\n",
    "## add objective value\n",
    "* Inventroy Cost: $\\sum_{i=0}^N[(\\sum_{j=0}^M y_{ij}) HoldCost_i]$\n",
    "* Lost Sale Cost: $\\sum_{i=0}^N[(\\sum_{j=0}^M w_{ij}) LostSaleCost_i]$"
   ],
   "cell_type": "markdown",
   "metadata": {}
  },
  {
   "source": [
    "import gurobipy as gb\n",
    "from gurobipy import GRB\n",
    "from gurobipy import quicksum\n",
    "import pandas as pd\n",
    "import numpy as np"
   ],
   "cell_type": "code",
   "metadata": {},
   "execution_count": 1,
   "outputs": []
  },
  {
   "cell_type": "code",
   "execution_count": 2,
   "metadata": {},
   "outputs": [],
   "source": [
    "## setting parameter\n",
    "N, M, K = 10, 6, 3\n",
    "D_ij = pd.read_excel('data.xlsx', sheet_name='Demand', index_col='Product').to_numpy()\n",
    "I_i = pd.read_excel('data.xlsx', sheet_name='Initial inventory', index_col='Product').to_numpy().squeeze()\n",
    "BuyCost_i = pd.read_excel('data.xlsx', sheet_name='Price and cost', index_col='Product')['Purchasing cost'].to_numpy().squeeze()\n",
    "HoldCost_i = pd.read_excel('data.xlsx', sheet_name='Price and cost', index_col='Product')['Holding'].to_numpy().squeeze()\n",
    "Transit_ij = pd.read_excel('data.xlsx', sheet_name='In-transit', index_col='Product').to_numpy().squeeze()\n",
    "FixedShipCost_k = (100, 80, 50)\n",
    "VarShipCost_ik = pd.read_excel('data.xlsx', sheet_name='Shipping cost', index_col='Product').to_numpy().squeeze()\n",
    "x_max = sum([sum(i) for i in D_ij]) + sum(I_i)\n",
    "ContainerCapacity = 30\n",
    "ContainerCost = 2750\n",
    "CBM_i = pd.read_excel('data.xlsx', sheet_name='Size', index_col='Product').to_numpy().squeeze()\n",
    "LostSaleCost_i = pd.read_excel('data.xlsx', sheet_name='Shortage', index_col='Product')['Lost sales'].to_numpy()"
   ]
  },
  {
   "cell_type": "code",
   "execution_count": 3,
   "metadata": {},
   "outputs": [
    {
     "output_type": "stream",
     "name": "stdout",
     "text": [
      "Academic license - for non-commercial use only - expires 2021-05-20\n",
      "Using license file /Users/eason/gurobi.lic\n"
     ]
    }
   ],
   "source": [
    "m = gb.Model(\"Problem3Model\")"
   ]
  },
  {
   "cell_type": "code",
   "execution_count": 4,
   "metadata": {},
   "outputs": [],
   "source": [
    "#add decision variable\n",
    "x = m.addVars(N, M, K, vtype=GRB.INTEGER, name='x_ijk')\n",
    "z = m.addVars(M, K, vtype=GRB.BINARY, name='z_jk')\n",
    "ContainerCnt = m.addVars(M, vtype=GRB.INTEGER, name='ContainerCnt_j')\n",
    "y = m.addVars(N, M, vtype=GRB.CONTINUOUS, name='y_ij')\n",
    "yBin = m.addVars(N, M, vtype=GRB.BINARY, name='yBin_ij')\n",
    "w = m.addVars(N, M, vtype=GRB.CONTINUOUS, name='w_ij')\n",
    "wBin = m.addVars(N, M, vtype=GRB.BINARY, name='wBin_ij')"
   ]
  },
  {
   "cell_type": "code",
   "execution_count": 5,
   "metadata": {},
   "outputs": [],
   "source": [
    "#add ExprZ_j, ExprY_ij\n",
    "ExprY_ij = [\n",
    "    [\n",
    "        gb.LinExpr(I_i[i] - D_ij[i][0]),\n",
    "        gb.LinExpr(\n",
    "            y[i,0] + x[i,0,0] + Transit_ij[i][1] - D_ij[i][1]\n",
    "        ),\n",
    "        gb.LinExpr(\n",
    "            y[i,1] + x[i,1,0] + x[i,0,1] + Transit_ij[i][2] - D_ij[i][2]\n",
    "        )\n",
    "    ] +\n",
    "    [\n",
    "        gb.LinExpr(y[i,j-1] + x[i,j-1,0] + x[i,j-2,1] + x[i,j-3,2] - D_ij[i][j])\n",
    "    for j in range(3, M)]\n",
    "for i in range(N)]\n",
    "\n",
    "ExprZ_j = [\n",
    "    quicksum(x[i,j,2]*CBM_i[i] for i in range(N))\n",
    "for j in range(0, M)]"
   ]
  },
  {
   "cell_type": "code",
   "execution_count": 6,
   "metadata": {},
   "outputs": [],
   "source": [
    "#add to objctive function\n",
    "purchaseCostExpr = gb.LinExpr(\n",
    "    quicksum(\n",
    "        quicksum(\n",
    "            quicksum(\n",
    "                x[i,j,k] * BuyCost_i[i]\n",
    "            for k in range(0, K))\n",
    "        for j in range(0, M))\n",
    "    for i in range(0, N))\n",
    ")\n",
    "\n",
    "FixedCostExpr = gb.LinExpr(\n",
    "    quicksum(\n",
    "        quicksum(\n",
    "            z[j,k] * FixedShipCost_k[k]\n",
    "        for k in range(0, K))\n",
    "    for j in range(0, M))\n",
    ")\n",
    "\n",
    "VariableCostExpr = gb.LinExpr(\n",
    "    quicksum(\n",
    "        quicksum(\n",
    "            quicksum(\n",
    "                x[i,j,k] * VarShipCost_ik[i][k]\n",
    "            for k in range(K))\n",
    "        for i in range(N))\n",
    "    for j in range(M))\n",
    ")\n",
    "\n",
    "InventoryCostExpr = gb.LinExpr(\n",
    "    quicksum(\n",
    "        quicksum(\n",
    "            y[i,j]\n",
    "        for j in range(0, M)) * HoldCost_i[i]\n",
    "    for i in range(0, N))\n",
    ")\n",
    "\n",
    "allContainerCostExpr =  gb.LinExpr(\n",
    "    quicksum(ContainerCnt[j] * ContainerCost for j in range(M))\n",
    ")\n",
    "\n",
    "AllLostSaleCostExpr = gb.LinExpr(\n",
    "    quicksum(\n",
    "        quicksum(w[i,j] for j in range(M)) * LostSaleCost_i[i]\n",
    "    for i in range(N))\n",
    ")\n",
    "\n",
    "m.setObjective(\n",
    "    purchaseCostExpr + FixedCostExpr + VariableCostExpr + InventoryCostExpr + allContainerCostExpr + AllLostSaleCostExpr\n",
    ")"
   ]
  },
  {
   "cell_type": "code",
   "execution_count": 7,
   "metadata": {},
   "outputs": [],
   "source": [
    "#Constrains\n",
    "\n",
    "_ = m.addConstrs(\n",
    "    quicksum(x[i,j,k] for i in range(0, N)) / x_max <= z[j,k]\n",
    "for j in range(0, M)\n",
    "for k in range(0, K)\n",
    ")\n",
    "_ = m.addConstrs(\n",
    "     ExprZ_j[j] / ContainerCapacity <= ContainerCnt[j]\n",
    " for j in range(M))\n",
    "\n",
    "_ = m.addConstrs(\n",
    "    ExprY_ij[i][j] <= y[i,j]\n",
    "    for i in range(N)\n",
    "    for j in range(M)\n",
    ")\n",
    "\n",
    "_ = m.addConstrs(\n",
    "    x_max * yBin[i,j] + ExprY_ij[i][j] >= y[i,j]\n",
    "    for i in range(N)\n",
    "    for j in range(M)\n",
    ")\n",
    "\n",
    "_ = m.addConstrs(\n",
    "    x_max*(1-yBin[i,j]) + 0 >= y[i,j]\n",
    "    for i in range(N)\n",
    "    for j in range(M)\n",
    ")\n",
    "\n",
    "_ = m.addConstrs(\n",
    "    -ExprY_ij[i][j] <= w[i,j]\n",
    "    for i in range(N)\n",
    "    for j in range(M)\n",
    ")\n",
    "\n",
    "_ = m.addConstrs(\n",
    "    x_max * wBin[i,j] + 0 >= w[i,j]\n",
    "    for i in range(N)\n",
    "    for j in range(M)\n",
    ")\n",
    "\n",
    "_ = m.addConstrs(\n",
    "    x_max*(1-wBin[i,j]) - ExprY_ij[i][j] >= w[i,j]\n",
    "    for i in range(N)\n",
    "    for j in range(M)\n",
    ")"
   ]
  },
  {
   "cell_type": "code",
   "execution_count": 8,
   "metadata": {},
   "outputs": [
    {
     "output_type": "stream",
     "name": "stdout",
     "text": [
      "Gurobi Optimizer version 9.1.1 build v9.1.1rc0 (mac64)\n",
      "Thread count: 4 physical cores, 8 logical processors, using up to 8 threads\n",
      "Optimize a model with 384 rows, 444 columns and 1544 nonzeros\n",
      "Model fingerprint: 0xe8ed09a3\n",
      "Variable types: 120 continuous, 324 integer (138 binary)\n",
      "Coefficient statistics:\n",
      "  Matrix range     [8e-05, 1e+04]\n",
      "  Objective range  [4e+01, 2e+04]\n",
      "  Bounds range     [1e+00, 1e+00]\n",
      "  RHS range        [1e+00, 1e+04]\n",
      "Found heuristic solution: objective 1.708582e+07\n",
      "Presolve removed 233 rows and 211 columns\n",
      "Presolve time: 0.00s\n",
      "Presolved: 151 rows, 233 columns, 745 nonzeros\n",
      "Variable types: 23 continuous, 210 integer (50 binary)\n",
      "\n",
      "Root relaxation: objective 1.073883e+07, 63 iterations, 0.00 seconds\n",
      "\n",
      "    Nodes    |    Current Node    |     Objective Bounds      |     Work\n",
      " Expl Unexpl |  Obj  Depth IntInf | Incumbent    BestBd   Gap | It/Node Time\n",
      "\n",
      "     0     0 1.0739e+07    0   23 1.7086e+07 1.0739e+07  37.1%     -    0s\n",
      "H    0     0                    1.667621e+07 1.0739e+07  35.6%     -    0s\n",
      "H    0     0                    1.667559e+07 1.0739e+07  35.6%     -    0s\n",
      "H    0     0                    1.666606e+07 1.3178e+07  20.9%     -    0s\n",
      "H    0     0                    1.666512e+07 1.3178e+07  20.9%     -    0s\n",
      "     0     0 1.3178e+07    0   19 1.6665e+07 1.3178e+07  20.9%     -    0s\n",
      "H    0     0                    1.666466e+07 1.3178e+07  20.9%     -    0s\n",
      "H    0     0                    1.657025e+07 1.3178e+07  20.5%     -    0s\n",
      "H    0     0                    1.655619e+07 1.3178e+07  20.4%     -    0s\n",
      "H    0     0                    1.651481e+07 1.3178e+07  20.2%     -    0s\n",
      "     0     0 1.6449e+07    0   11 1.6515e+07 1.6449e+07  0.40%     -    0s\n",
      "H    0     0                    1.650965e+07 1.6449e+07  0.37%     -    0s\n",
      "     0     0 1.6449e+07    0   11 1.6510e+07 1.6449e+07  0.37%     -    0s\n",
      "H    0     0                    1.650934e+07 1.6449e+07  0.37%     -    0s\n",
      "     0     0 1.6449e+07    0    5 1.6509e+07 1.6449e+07  0.37%     -    0s\n",
      "     0     0 1.6452e+07    0    6 1.6509e+07 1.6452e+07  0.35%     -    0s\n",
      "     0     0 1.6452e+07    0    6 1.6509e+07 1.6452e+07  0.35%     -    0s\n",
      "     0     2 1.6452e+07    0    6 1.6509e+07 1.6452e+07  0.35%     -    0s\n",
      "\n",
      "Cutting planes:\n",
      "  Gomory: 4\n",
      "  Implied bound: 6\n",
      "  MIR: 18\n",
      "  Flow cover: 14\n",
      "  RLT: 1\n",
      "  Relax-and-lift: 3\n",
      "\n",
      "Explored 3 nodes (123 simplex iterations) in 0.12 seconds\n",
      "Thread count was 8 (of 8 available processors)\n",
      "\n",
      "Solution count 10: 1.65093e+07 1.65096e+07 1.65148e+07 ... 1.66762e+07\n",
      "\n",
      "Optimal solution found (tolerance 1.00e-04)\n",
      "Best objective 1.650933600000e+07, best bound 1.650774372446e+07, gap 0.0096%\n"
     ]
    }
   ],
   "source": [
    "m.optimize()"
   ]
  },
  {
   "cell_type": "code",
   "execution_count": 9,
   "metadata": {},
   "outputs": [
    {
     "output_type": "stream",
     "name": "stdout",
     "text": [
      "x_ijk[0,0,0] -0\nx_ijk[0,0,1] -0\nx_ijk[0,0,2] -0\nx_ijk[0,1,0] -0\nx_ijk[0,1,1] -0\nx_ijk[0,1,2] -0\nx_ijk[0,2,0] -0\nx_ijk[0,2,1] -0\nx_ijk[0,2,2] 38\nx_ijk[0,3,0] -0\nx_ijk[0,3,1] -0\nx_ijk[0,3,2] -0\nx_ijk[0,4,0] -0\nx_ijk[0,4,1] -0\nx_ijk[0,4,2] -0\nx_ijk[0,5,0] -0\nx_ijk[0,5,1] -0\nx_ijk[0,5,2] -0\nx_ijk[1,0,0] -0\nx_ijk[1,0,1] -0\nx_ijk[1,0,2] -0\nx_ijk[1,1,0] -0\nx_ijk[1,1,1] -0\nx_ijk[1,1,2] -0\nx_ijk[1,2,0] -0\nx_ijk[1,2,1] -0\nx_ijk[1,2,2] 45\nx_ijk[1,3,0] -0\nx_ijk[1,3,1] -0\nx_ijk[1,3,2] -0\nx_ijk[1,4,0] -0\nx_ijk[1,4,1] -0\nx_ijk[1,4,2] -0\nx_ijk[1,5,0] -0\nx_ijk[1,5,1] -0\nx_ijk[1,5,2] -0\nx_ijk[2,0,0] -0\nx_ijk[2,0,1] -0\nx_ijk[2,0,2] -0\nx_ijk[2,1,0] -0\nx_ijk[2,1,1] -0\nx_ijk[2,1,2] 82\nx_ijk[2,2,0] -0\nx_ijk[2,2,1] -0\nx_ijk[2,2,2] 200\nx_ijk[2,3,0] -0\nx_ijk[2,3,1] -0\nx_ijk[2,3,2] -0\nx_ijk[2,4,0] -0\nx_ijk[2,4,1] -0\nx_ijk[2,4,2] -0\nx_ijk[2,5,0] -0\nx_ijk[2,5,1] -0\nx_ijk[2,5,2] -0\nx_ijk[3,0,0] -0\nx_ijk[3,0,1] -0\nx_ijk[3,0,2] -0\nx_ijk[3,1,0] -0\nx_ijk[3,1,1] -0\nx_ijk[3,1,2] 97\nx_ijk[3,2,0] -0\nx_ijk[3,2,1] -0\nx_ijk[3,2,2] 155\nx_ijk[3,3,0] -0\nx_ijk[3,3,1] -0\nx_ijk[3,3,2] -0\nx_ijk[3,4,0] -0\nx_ijk[3,4,1] -0\nx_ijk[3,4,2] -0\nx_ijk[3,5,0] -0\nx_ijk[3,5,1] -0\nx_ijk[3,5,2] -0\nx_ijk[4,0,0] -0\nx_ijk[4,0,1] -0\nx_ijk[4,0,2] -0\nx_ijk[4,1,0] -0\nx_ijk[4,1,1] -0\nx_ijk[4,1,2] 67\nx_ijk[4,2,0] -0\nx_ijk[4,2,1] -0\nx_ijk[4,2,2] 49\nx_ijk[4,3,0] -0\nx_ijk[4,3,1] -0\nx_ijk[4,3,2] -0\nx_ijk[4,4,0] -0\nx_ijk[4,4,1] -0\nx_ijk[4,4,2] -0\nx_ijk[4,5,0] -0\nx_ijk[4,5,1] -0\nx_ijk[4,5,2] -0\nx_ijk[5,0,0] -0\nx_ijk[5,0,1] -0\nx_ijk[5,0,2] -0\nx_ijk[5,1,0] -0\nx_ijk[5,1,1] -0\nx_ijk[5,1,2] -0\nx_ijk[5,2,0] -0\nx_ijk[5,2,1] -0\nx_ijk[5,2,2] 154\nx_ijk[5,3,0] -0\nx_ijk[5,3,1] -0\nx_ijk[5,3,2] -0\nx_ijk[5,4,0] -0\nx_ijk[5,4,1] -0\nx_ijk[5,4,2] -0\nx_ijk[5,5,0] -0\nx_ijk[5,5,1] -0\nx_ijk[5,5,2] -0\nx_ijk[6,0,0] -0\nx_ijk[6,0,1] -0\nx_ijk[6,0,2] -0\nx_ijk[6,1,0] -0\nx_ijk[6,1,1] -0\nx_ijk[6,1,2] -0\nx_ijk[6,2,0] -0\nx_ijk[6,2,1] -0\nx_ijk[6,2,2] 172\nx_ijk[6,3,0] -0\nx_ijk[6,3,1] -0\nx_ijk[6,3,2] -0\nx_ijk[6,4,0] -0\nx_ijk[6,4,1] -0\nx_ijk[6,4,2] -0\nx_ijk[6,5,0] -0\nx_ijk[6,5,1] -0\nx_ijk[6,5,2] -0\nx_ijk[7,0,0] -0\nx_ijk[7,0,1] -0\nx_ijk[7,0,2] 61\nx_ijk[7,1,0] -0\nx_ijk[7,1,1] -0\nx_ijk[7,1,2] 168\nx_ijk[7,2,0] -0\nx_ijk[7,2,1] -0\nx_ijk[7,2,2] 32\nx_ijk[7,3,0] -0\nx_ijk[7,3,1] -0\nx_ijk[7,3,2] -0\nx_ijk[7,4,0] -0\nx_ijk[7,4,1] -0\nx_ijk[7,4,2] -0\nx_ijk[7,5,0] -0\nx_ijk[7,5,1] -0\nx_ijk[7,5,2] -0\nx_ijk[8,0,0] -0\nx_ijk[8,0,1] -0\nx_ijk[8,0,2] -0\nx_ijk[8,1,0] -0\nx_ijk[8,1,1] -0\nx_ijk[8,1,2] -0\nx_ijk[8,2,0] -0\nx_ijk[8,2,1] -0\nx_ijk[8,2,2] 94\nx_ijk[8,3,0] -0\nx_ijk[8,3,1] -0\nx_ijk[8,3,2] -0\nx_ijk[8,4,0] -0\nx_ijk[8,4,1] -0\nx_ijk[8,4,2] -0\nx_ijk[8,5,0] -0\nx_ijk[8,5,1] -0\nx_ijk[8,5,2] -0\nx_ijk[9,0,0] 24\nx_ijk[9,0,1] 162\nx_ijk[9,0,2] 200\nx_ijk[9,1,0] -0\nx_ijk[9,1,1] -0\nx_ijk[9,1,2] 36\nx_ijk[9,2,0] -0\nx_ijk[9,2,1] 118\nx_ijk[9,2,2] 199\nx_ijk[9,3,0] -0\nx_ijk[9,3,1] -0\nx_ijk[9,3,2] -0\nx_ijk[9,4,0] -0\nx_ijk[9,4,1] -0\nx_ijk[9,4,2] -0\nx_ijk[9,5,0] -0\nx_ijk[9,5,1] -0\nx_ijk[9,5,2] -0\nz_jk[0,0] 1\nz_jk[0,1] 1\nz_jk[0,2] 1\nz_jk[1,0] 0\nz_jk[1,1] -0\nz_jk[1,2] 1\nz_jk[2,0] -0\nz_jk[2,1] 1\nz_jk[2,2] 1\nz_jk[3,0] -0\nz_jk[3,1] -0\nz_jk[3,2] 0\nz_jk[4,0] -0\nz_jk[4,1] 0\nz_jk[4,2] 0\nz_jk[5,0] 0\nz_jk[5,1] 0\nz_jk[5,2] 0\nContainerCnt_j[0] 1\nContainerCnt_j[1] 1\nContainerCnt_j[2] 3\nContainerCnt_j[3] -0\nContainerCnt_j[4] -0\nContainerCnt_j[5] -0\ny_ij[0,0] 662\ny_ij[0,1] 607\ny_ij[0,2] 435\ny_ij[0,3] 241\ny_ij[0,4] 147\ny_ij[0,5] -0\ny_ij[1,0] 410\ny_ij[1,1] 357\ny_ij[1,2] 289\ny_ij[1,3] 104\ny_ij[1,4] 91\ny_ij[1,5] -0\ny_ij[2,0] 346\ny_ij[2,1] 167\ny_ij[2,2] 166\ny_ij[2,3] 117\ny_ij[2,4] 0\ny_ij[2,5] 0\ny_ij[3,0] 208\ny_ij[3,1] 258\ny_ij[3,2] 180\ny_ij[3,3] 49\ny_ij[3,4] 0\ny_ij[3,5] 0\ny_ij[4,0] 365\ny_ij[4,1] 303\ny_ij[4,2] 220\ny_ij[4,3] 130\ny_ij[4,4] 0\ny_ij[4,5] 0\ny_ij[5,0] 433\ny_ij[5,1] 356\ny_ij[5,2] 272\ny_ij[5,3] 145\ny_ij[5,4] 29\ny_ij[5,5] -0\ny_ij[6,0] 348\ny_ij[6,1] 212\ny_ij[6,2] 238\ny_ij[6,3] 122\ny_ij[6,4] 3\ny_ij[6,5] -0\ny_ij[7,0] 181\ny_ij[7,1] 26\ny_ij[7,2] 16\ny_ij[7,3] 0\ny_ij[7,4] 0\ny_ij[7,5] 0\ny_ij[8,0] 565\ny_ij[8,1] 489\ny_ij[8,2] 335\ny_ij[8,3] 159\ny_ij[8,4] 78\ny_ij[8,5] -0\ny_ij[9,0] 154\ny_ij[9,1] 0\ny_ij[9,2] 0\ny_ij[9,3] 0\ny_ij[9,4] 0\ny_ij[9,5] 0\nyBin_ij[0,0] 0\nyBin_ij[0,1] 0\nyBin_ij[0,2] 0\nyBin_ij[0,3] 0\nyBin_ij[0,4] 0\nyBin_ij[0,5] -0\nyBin_ij[1,0] 0\nyBin_ij[1,1] 0\nyBin_ij[1,2] 0\nyBin_ij[1,3] 0\nyBin_ij[1,4] 0\nyBin_ij[1,5] -0\nyBin_ij[2,0] 0\nyBin_ij[2,1] 0\nyBin_ij[2,2] 0\nyBin_ij[2,3] 0\nyBin_ij[2,4] 1\nyBin_ij[2,5] 0\nyBin_ij[3,0] 0\nyBin_ij[3,1] 0\nyBin_ij[3,2] 0\nyBin_ij[3,3] 0\nyBin_ij[3,4] 1\nyBin_ij[3,5] 0\nyBin_ij[4,0] 0\nyBin_ij[4,1] 0\nyBin_ij[4,2] 0\nyBin_ij[4,3] 0\nyBin_ij[4,4] 1\nyBin_ij[4,5] 0\nyBin_ij[5,0] 0\nyBin_ij[5,1] 0\nyBin_ij[5,2] 0\nyBin_ij[5,3] 0\nyBin_ij[5,4] 0\nyBin_ij[5,5] 0\nyBin_ij[6,0] 0\nyBin_ij[6,1] 0\nyBin_ij[6,2] 0\nyBin_ij[6,3] 0\nyBin_ij[6,4] 0\nyBin_ij[6,5] -0\nyBin_ij[7,0] 0\nyBin_ij[7,1] 0\nyBin_ij[7,2] 0\nyBin_ij[7,3] 1\nyBin_ij[7,4] -0\nyBin_ij[7,5] -0\nyBin_ij[8,0] 0\nyBin_ij[8,1] 0\nyBin_ij[8,2] 0\nyBin_ij[8,3] 0\nyBin_ij[8,4] 0\nyBin_ij[8,5] 0\nyBin_ij[9,0] 0\nyBin_ij[9,1] 1\nyBin_ij[9,2] -0\nyBin_ij[9,3] -0\nyBin_ij[9,4] -0\nyBin_ij[9,5] -0\nw_ij[0,0] 0\nw_ij[0,1] 0\nw_ij[0,2] 0\nw_ij[0,3] 0\nw_ij[0,4] 0\nw_ij[0,5] -0\nw_ij[1,0] 0\nw_ij[1,1] 0\nw_ij[1,2] 0\nw_ij[1,3] 0\nw_ij[1,4] 0\nw_ij[1,5] -0\nw_ij[2,0] 0\nw_ij[2,1] 0\nw_ij[2,2] 0\nw_ij[2,3] 0\nw_ij[2,4] -0\nw_ij[2,5] 0\nw_ij[3,0] 0\nw_ij[3,1] 0\nw_ij[3,2] 0\nw_ij[3,3] 0\nw_ij[3,4] -0\nw_ij[3,5] 0\nw_ij[4,0] 0\nw_ij[4,1] 0\nw_ij[4,2] 0\nw_ij[4,3] 0\nw_ij[4,4] -0\nw_ij[4,5] 0\nw_ij[5,0] 0\nw_ij[5,1] 0\nw_ij[5,2] 0\nw_ij[5,3] 0\nw_ij[5,4] 0\nw_ij[5,5] -0\nw_ij[6,0] 0\nw_ij[6,1] 0\nw_ij[6,2] 0\nw_ij[6,3] 0\nw_ij[6,4] 0\nw_ij[6,5] -0\nw_ij[7,0] 0\nw_ij[7,1] 0\nw_ij[7,2] 0\nw_ij[7,3] -0\nw_ij[7,4] 0\nw_ij[7,5] 0\nw_ij[8,0] 0\nw_ij[8,1] 0\nw_ij[8,2] 0\nw_ij[8,3] 0\nw_ij[8,4] 0\nw_ij[8,5] -0\nw_ij[9,0] 0\nw_ij[9,1] -0\nw_ij[9,2] 0\nw_ij[9,3] 0\nw_ij[9,4] 0\nw_ij[9,5] 0\nwBin_ij[0,0] 0\nwBin_ij[0,1] 0\nwBin_ij[0,2] 0\nwBin_ij[0,3] 0\nwBin_ij[0,4] 0\nwBin_ij[0,5] -0\nwBin_ij[1,0] 0\nwBin_ij[1,1] 0\nwBin_ij[1,2] 0\nwBin_ij[1,3] 0\nwBin_ij[1,4] 0\nwBin_ij[1,5] -0\nwBin_ij[2,0] 0\nwBin_ij[2,1] 0\nwBin_ij[2,2] 0\nwBin_ij[2,3] 0\nwBin_ij[2,4] 1\nwBin_ij[2,5] -0\nwBin_ij[3,0] 0\nwBin_ij[3,1] 0\nwBin_ij[3,2] 0\nwBin_ij[3,3] 0\nwBin_ij[3,4] 1\nwBin_ij[3,5] -0\nwBin_ij[4,0] 0\nwBin_ij[4,1] 0\nwBin_ij[4,2] 0\nwBin_ij[4,3] 0\nwBin_ij[4,4] 1\nwBin_ij[4,5] 1\nwBin_ij[5,0] 0\nwBin_ij[5,1] 0\nwBin_ij[5,2] 0\nwBin_ij[5,3] 0\nwBin_ij[5,4] 0\nwBin_ij[5,5] -0\nwBin_ij[6,0] 0\nwBin_ij[6,1] 0\nwBin_ij[6,2] 0\nwBin_ij[6,3] 0\nwBin_ij[6,4] 0\nwBin_ij[6,5] -0\nwBin_ij[7,0] 0\nwBin_ij[7,1] 0\nwBin_ij[7,2] 0\nwBin_ij[7,3] 1\nwBin_ij[7,4] 1\nwBin_ij[7,5] -0\nwBin_ij[8,0] 0\nwBin_ij[8,1] 0\nwBin_ij[8,2] 0\nwBin_ij[8,3] 0\nwBin_ij[8,4] 0\nwBin_ij[8,5] -0\nwBin_ij[9,0] 0\nwBin_ij[9,1] 0\nwBin_ij[9,2] -0\nwBin_ij[9,3] 1\nwBin_ij[9,4] 1\nwBin_ij[9,5] -0\nObj: 1.65093e+07\n"
     ]
    }
   ],
   "source": [
    "for v in m.getVars():\n",
    "        print('%s %g' % (v.varName, v.x))\n",
    "print('Obj: %g' % m.objVal)"
   ]
  },
  {
   "cell_type": "code",
   "execution_count": 12,
   "metadata": {},
   "outputs": [
    {
     "output_type": "stream",
     "name": "stdout",
     "text": [
      "purchaseCost: 15232000.0\nFixedCost: 410.0\nVariableCost: 6776.0\nInventoryCost: 1256400.0\nallContainerCost: 13750.0\nAllLostSaleCost: 0.0\n"
     ]
    }
   ],
   "source": [
    "print(f'purchaseCost: {purchaseCostExpr.getValue()}')\n",
    "print(f'FixedCost: {FixedCostExpr.getValue()}')\n",
    "print(f'VariableCost: {VariableCostExpr.getValue()}')\n",
    "print(f'InventoryCost: {InventoryCostExpr.getValue()}')\n",
    "print(f'allContainerCost: {allContainerCostExpr.getValue()}')\n",
    "print(f'AllLostSaleCost: {AllLostSaleCostExpr.getValue()}')"
   ]
  }
 ]
}