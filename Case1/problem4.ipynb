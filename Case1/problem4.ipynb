{
 "metadata": {
  "language_info": {
   "codemirror_mode": {
    "name": "ipython",
    "version": 3
   },
   "file_extension": ".py",
   "mimetype": "text/x-python",
   "name": "python",
   "nbconvert_exporter": "python",
   "pygments_lexer": "ipython3",
   "version": "3.9.2"
  },
  "orig_nbformat": 2,
  "kernelspec": {
   "name": "python392jvsc74a57bd0b8bdd4e700647ba2b08c59e5df8b7da1dcf50a218bcd4c1bcd9b3dc92e8788e5",
   "display_name": "Python 3.9.2 64-bit ('3.9')"
  },
  "metadata": {
   "interpreter": {
    "hash": "b8bdd4e700647ba2b08c59e5df8b7da1dcf50a218bcd4c1bcd9b3dc92e8788e5"
   }
  }
 },
 "nbformat": 4,
 "nbformat_minor": 2,
 "cells": [
  {
   "source": [
    "# Problem 4\n",
    "## add parameter\n",
    "* let $BackOrderCost_i,\\ BackOrderPercent_i$ be the cost of back order and the probability of back order, respectively.\n",
    "\n",
    "## add decision variable\n",
    "* let $y_{ij}$ be the stock level of product $i$ of month $j$\n",
    "* let $w_{ij}$ be the amount of unfulfill demand of product $i$ of month $j$\n",
    "* let $ywBin_{ij}$ be the helper variable for $y_{ij},\\ w_{ij}$ for let them be<br>\n",
    "$y_{ij} = max\\{0,\\ InventoryExpr_{ij}\\}$<br>\n",
    "$w_{ij} = max\\{0,\\ -InventoryExpr_{ij}\\}$<br>\n",
    "\n",
    "## Expr\n",
    "* let $BackOrderExpr_{ij}$ be the amout of back order of product $i$ of month $j$<br>\n",
    "$BackOrderExpr_{ij} = w_{ij} BackOrderPercent_i$<br>\n",
    "* let $InventoryExpr_{ij}$ be the expression of ending inventory of product $i$ of month $j$<br>\n",
    "$j=0:\\ InventoryExpr_{i0} = I_i - D_{i0}$<br>\n",
    "$j=1:\\ InventoryExpr_{i1} = y_{i0} + x_{i00} + Transit_{i1} - D_{i1} - BackOrderExpr_{i0}$<br>\n",
    "$j=2:\\ InventoryExpr_{i2} = y_{i1} + x_{i10} + x_{i01} + Transit_{i2} - D_{i2} - BackOrderExpr_{i1}$<br>\n",
    "$j \\ge 3:\\ InventoryExpr_{ij} = y_{i(j-1)} + x_{i(j-1)0} + x_{i(j-2)1} + x_{i(j-3)2} - D_{ij} - BackOrderExpr_{i(j-1)}$<br>\n",
    "\n",
    "## add to obj function\n",
    "- back order cost = $\\sum_{i=0}^N \\sum_{j=0}^M BackOrderExpr_{ij} BackOrderCost_i$\n",
    "- lost slae cost = $\\sum_{i=0}^N \\sum_{j=0}^M w_{ij} (1 - BackOrderPercent_i) LostSaleCost_i$\n",
    "\n",
    "## add constrain\n",
    "$ 0 \\le y_{ij}$<br>\n",
    "$InventoryExpr_{ij} \\le y_{ij}$<br>\n",
    "$y_{ij} \\le 0 + x_{max} \\times ywBin_{ij}$<br>\n",
    "$y_{ij} \\le InventoryExpr_{ij} + x_{max} \\times (1 - ywBin_{ij})$<br>\n",
    "$ 0 \\le w_{ij}$<br>\n",
    "$-InventoryExpr_{ij} \\le w_{ij}$<br>\n",
    "$w_{ij} \\le 0 + x_{max} \\times (1 - ywBin_{ij})$<br>\n",
    "$w_{ij} \\le -InventoryExpr_{ij} + x_{max} \\times  ywBin_{ij}$<br>"
   ],
   "cell_type": "markdown",
   "metadata": {}
  },
  {
   "source": [
    "import gurobipy as gb\n",
    "from gurobipy import GRB\n",
    "from gurobipy import quicksum\n",
    "import pandas as pd\n",
    "import numpy as np"
   ],
   "cell_type": "code",
   "metadata": {},
   "execution_count": 2,
   "outputs": []
  },
  {
   "cell_type": "code",
   "execution_count": 3,
   "metadata": {},
   "outputs": [],
   "source": [
    "## setting parameter\n",
    "N, M, K = 10, 6, 3\n",
    "D_ij = pd.read_excel('data.xlsx', sheet_name='Demand', index_col='Product').to_numpy()\n",
    "I_i = pd.read_excel('data.xlsx', sheet_name='Initial inventory', index_col='Product').to_numpy().squeeze()\n",
    "BuyCost_i = pd.read_excel('data.xlsx', sheet_name='Price and cost', index_col='Product')['Purchasing cost'].to_numpy().squeeze()\n",
    "HoldCost_i = pd.read_excel('data.xlsx', sheet_name='Price and cost', index_col='Product')['Holding'].to_numpy().squeeze()\n",
    "Transit_ij = pd.read_excel('data.xlsx', sheet_name='In-transit', index_col='Product').to_numpy().squeeze()\n",
    "FixedShipCost_k = (100, 80, 50)\n",
    "VarShipCost_ik = pd.read_excel('data.xlsx', sheet_name='Shipping cost', index_col='Product').to_numpy().squeeze()\n",
    "x_max = sum([sum(i) for i in D_ij]) + sum(I_i)\n",
    "ContainerCapacity = 30\n",
    "ContainerCost = 2750\n",
    "CBM_i = pd.read_excel('data.xlsx', sheet_name='Size', index_col='Product').to_numpy().squeeze()\n",
    "BackOrderCost_i = pd.read_excel('data.xlsx', sheet_name='Shortage', index_col='Product')['Backorder'].to_numpy()\n",
    "BackOrderPercent_i = pd.read_excel('data.xlsx', sheet_name='Shortage', index_col='Product')['Backorder percentage'].to_numpy()\n",
    "LostSaleCost_i = pd.read_excel('data.xlsx', sheet_name='Shortage', index_col='Product')['Lost sales'].to_numpy()"
   ]
  },
  {
   "cell_type": "code",
   "execution_count": 4,
   "metadata": {},
   "outputs": [
    {
     "output_type": "stream",
     "name": "stdout",
     "text": [
      "Academic license - for non-commercial use only - expires 2021-05-20\n",
      "Using license file /Users/eason/gurobi.lic\n"
     ]
    }
   ],
   "source": [
    "m = gb.Model(\"Problem4Model\")"
   ]
  },
  {
   "cell_type": "code",
   "execution_count": 5,
   "metadata": {},
   "outputs": [],
   "source": [
    "#add decision variable\n",
    "x = m.addVars(N, M, K, vtype=GRB.INTEGER, name='x_ijk')\n",
    "Abin = m.addVars(M, K, vtype=GRB.BINARY, name='z_jk')\n",
    "ContainerCnt = m.addVars(M, vtype=GRB.INTEGER, name='ContainerCnt_j')\n",
    "StockLevel = m.addVars(N, M, vtype=GRB.CONTINUOUS, name='StockLevel')\n",
    "Shortage = m.addVars(N, M, vtype=GRB.CONTINUOUS, name='Shortage')\n",
    "Bbin = m.addVars(N, M, vtype=GRB.BINARY, name='Bbin')"
   ]
  },
  {
   "cell_type": "code",
   "execution_count": 6,
   "metadata": {},
   "outputs": [],
   "source": [
    "#add Expr\n",
    "ValueInOceanExpr_j = [\n",
    "    quicksum(x[i,j,2]*CBM_i[i] for i in range(N))\n",
    "for j in range(M)]\n",
    "\n",
    "BackOrderExpr_ij = [\n",
    "    [\n",
    "        Shortage[i,j] * BackOrderPercent_i[i]\n",
    "    for j in range(M)]\n",
    "for i in range(N)]\n",
    "\n",
    "LostSaleCntExpr_ij = [\n",
    "    [\n",
    "        Shortage[i,j] *(1 - BackOrderPercent_i[i])\n",
    "    for j in range(M)]\n",
    "for i in range(N)]"
   ]
  },
  {
   "cell_type": "code",
   "execution_count": 7,
   "metadata": {},
   "outputs": [],
   "source": [
    "#add to objctive function\n",
    "purchaseCostExpr = gb.LinExpr(\n",
    "    quicksum(\n",
    "        quicksum(\n",
    "            quicksum(\n",
    "                x[i,j,k] * BuyCost_i[i]\n",
    "            for k in range(K))\n",
    "        for j in range(M))\n",
    "    for i in range(N))\n",
    ")\n",
    "\n",
    "FixedCostExpr = gb.LinExpr(\n",
    "    quicksum(\n",
    "        quicksum(\n",
    "            Abin[j,k] * FixedShipCost_k[k]\n",
    "        for k in range(K))\n",
    "    for j in range(M))\n",
    ")\n",
    "\n",
    "VariableCostExpr = gb.LinExpr(\n",
    "    quicksum(\n",
    "        quicksum(\n",
    "            quicksum(\n",
    "                x[i,j,k] * VarShipCost_ik[i][k]\n",
    "            for k in range(K))\n",
    "        for i in range(N))\n",
    "    for j in range(M))\n",
    ")\n",
    "\n",
    "InventoryCostExpr = gb.LinExpr(\n",
    "    quicksum(\n",
    "        quicksum(\n",
    "            StockLevel[i,j]\n",
    "        for j in range(M)) * HoldCost_i[i]\n",
    "    for i in range(N))\n",
    ")\n",
    "\n",
    "allContainerCostExpr =  gb.LinExpr(\n",
    "    quicksum(ContainerCnt[j] * ContainerCost for j in range(M))\n",
    ")\n",
    "\n",
    "BackOrderCostExpr = gb.LinExpr(\n",
    "    quicksum(\n",
    "        quicksum(\n",
    "            BackOrderExpr_ij[i][j] * BackOrderCost_i[i]\n",
    "        for j in range(M))\n",
    "    for i in range(N))\n",
    ")\n",
    "\n",
    "LostSaleCostExpr = gb.LinExpr(\n",
    "    quicksum(\n",
    "        quicksum(\n",
    "            LostSaleCntExpr_ij[i][j] * LostSaleCost_i[i]\n",
    "        for j in range(M))\n",
    "    for i in range(N))\n",
    ")\n",
    "\n",
    "m.setObjective(\n",
    "    purchaseCostExpr + FixedCostExpr + VariableCostExpr + InventoryCostExpr + allContainerCostExpr + BackOrderCostExpr + LostSaleCostExpr\n",
    ")"
   ]
  },
  {
   "cell_type": "code",
   "execution_count": 8,
   "metadata": {},
   "outputs": [],
   "source": [
    "#Constrains\n",
    "_ = m.addConstrs(\n",
    "    quicksum(x[i,j,k] for i in range(0, N)) / x_max <= Abin[j,k]\n",
    "for j in range(0, M)\n",
    "for k in range(0, K)\n",
    ")\n",
    "_ = m.addConstrs(\n",
    "     ValueInOceanExpr_j[j] / ContainerCapacity <= ContainerCnt[j]\n",
    " for j in range(M))\n",
    "\n",
    "_ = m.addConstrs(StockLevel[i,0] - Shortage[i,0] == I_i[i] - D_ij[i][0] for i in range(N))\n",
    "_ = m.addConstrs(StockLevel[i,1] - Shortage[i,1] == StockLevel[i,0] + x[i,0,0] + Transit_ij[i][1] - D_ij[i][1] - Shortage[i,0] * BackOrderPercent_i[i] for i in range(N))\n",
    "_ = m.addConstrs(StockLevel[i,2] - Shortage[i,2] == StockLevel[i,1] + x[i,1,0] + x[i,0,1] + Transit_ij[i][2] - D_ij[i][2] - Shortage[i,1] * BackOrderPercent_i[i] for i in range(N))\n",
    "_ = m.addConstrs(StockLevel[i,j] - Shortage[i,j] == StockLevel[i,j-1] + x[i,j-1,0] + x[i,j-2,1] + x[i,j-3,2] - D_ij[i][j] - Shortage[i,j-1] * BackOrderPercent_i[i] for i in range(N) for j in range(3,M))\n",
    "\n",
    "_ = m.addConstrs(StockLevel[i,j] <= x_max * (1-Bbin[i,j]) for i in range(N) for j in range(M))\n",
    "_ = m.addConstrs(Shortage[i,j] <= x_max * Bbin[i,j] for i in range(N) for j in range(M))"
   ]
  },
  {
   "cell_type": "code",
   "execution_count": 9,
   "metadata": {},
   "outputs": [
    {
     "output_type": "stream",
     "name": "stdout",
     "text": [
      "Gurobi Optimizer version 9.1.1 build v9.1.1rc0 (mac64)\n",
      "Thread count: 4 physical cores, 8 logical processors, using up to 8 threads\n",
      "Optimize a model with 204 rows, 384 columns and 839 nonzeros\n",
      "Model fingerprint: 0x041277b1\n",
      "Variable types: 120 continuous, 264 integer (78 binary)\n",
      "Coefficient statistics:\n",
      "  Matrix range     [8e-05, 1e+04]\n",
      "  Objective range  [4e+01, 2e+04]\n",
      "  Bounds range     [1e+00, 1e+00]\n",
      "  RHS range        [1e+00, 1e+04]\n",
      "Found heuristic solution: objective 1.655854e+07\n",
      "Presolve removed 110 rows and 170 columns\n",
      "Presolve time: 0.00s\n",
      "Presolved: 94 rows, 214 columns, 461 nonzeros\n",
      "Variable types: 38 continuous, 176 integer (31 binary)\n",
      "\n",
      "Root relaxation: objective 1.357563e+07, 65 iterations, 0.00 seconds\n",
      "\n",
      "    Nodes    |    Current Node    |     Objective Bounds      |     Work\n",
      " Expl Unexpl |  Obj  Depth IntInf | Incumbent    BestBd   Gap | It/Node Time\n",
      "\n",
      "     0     0 1.3576e+07    0    8 1.6559e+07 1.3576e+07  18.0%     -    0s\n",
      "H    0     0                    1.358140e+07 1.3576e+07  0.04%     -    0s\n",
      "H    0     0                    1.357926e+07 1.3576e+07  0.03%     -    0s\n",
      "     0     0 1.3576e+07    0    3 1.3579e+07 1.3576e+07  0.02%     -    0s\n",
      "     0     0 1.3577e+07    0    4 1.3579e+07 1.3577e+07  0.02%     -    0s\n",
      "H    0     0                    1.357749e+07 1.3577e+07  0.00%     -    0s\n",
      "\n",
      "Explored 1 nodes (91 simplex iterations) in 0.08 seconds\n",
      "Thread count was 8 (of 8 available processors)\n",
      "\n",
      "Solution count 4: 1.35775e+07 1.35793e+07 1.35814e+07 1.65585e+07 \n",
      "\n",
      "Optimal solution found (tolerance 1.00e-04)\n",
      "Best objective 1.357749100000e+07, best bound 1.357691712366e+07, gap 0.0042%\n"
     ]
    }
   ],
   "source": [
    "m.optimize()"
   ]
  },
  {
   "cell_type": "code",
   "execution_count": 31,
   "metadata": {},
   "outputs": [
    {
     "output_type": "stream",
     "name": "stdout",
     "text": [
      "x_ijk[0,0,0] 55\nx_ijk[0,0,1] 172\nx_ijk[0,0,2] 194\nx_ijk[0,1,0] 0\nx_ijk[0,1,1] 0\nx_ijk[0,1,2] 94\nx_ijk[0,2,0] 0\nx_ijk[0,2,1] 0\nx_ijk[0,2,2] 185\nx_ijk[0,3,0] 0\nx_ijk[0,3,1] 0\nx_ijk[0,3,2] -0\nx_ijk[0,4,0] 0\nx_ijk[0,4,1] -0\nx_ijk[0,4,2] -0\nx_ijk[0,5,0] -0\nx_ijk[0,5,1] -0\nx_ijk[0,5,2] -0\nx_ijk[1,0,0] 53\nx_ijk[1,0,1] 68\nx_ijk[1,0,2] 185\nx_ijk[1,1,0] 0\nx_ijk[1,1,1] 0\nx_ijk[1,1,2] 0\nx_ijk[1,2,0] 0\nx_ijk[1,2,1] 0\nx_ijk[1,2,2] 0\nx_ijk[1,3,0] 0\nx_ijk[1,3,1] 0\nx_ijk[1,3,2] -0\nx_ijk[1,4,0] 0\nx_ijk[1,4,1] -0\nx_ijk[1,4,2] -0\nx_ijk[1,5,0] -0\nx_ijk[1,5,1] -0\nx_ijk[1,5,2] -0\nx_ijk[2,0,0] 179\nx_ijk[2,0,1] 1\nx_ijk[2,0,2] 49\nx_ijk[2,1,0] 0\nx_ijk[2,1,1] 0\nx_ijk[2,1,2] 199\nx_ijk[2,2,0] 0\nx_ijk[2,2,1] 0\nx_ijk[2,2,2] 200\nx_ijk[2,3,0] 0\nx_ijk[2,3,1] 0\nx_ijk[2,3,2] -0\nx_ijk[2,4,0] 0\nx_ijk[2,4,1] -0\nx_ijk[2,4,2] -0\nx_ijk[2,5,0] -0\nx_ijk[2,5,1] -0\nx_ijk[2,5,2] -0\nx_ijk[3,0,0] -0\nx_ijk[3,0,1] 0\nx_ijk[3,0,2] 0\nx_ijk[3,1,0] 0\nx_ijk[3,1,1] 0\nx_ijk[3,1,2] 0\nx_ijk[3,2,0] 0\nx_ijk[3,2,1] 0\nx_ijk[3,2,2] 0\nx_ijk[3,3,0] 0\nx_ijk[3,3,1] 0\nx_ijk[3,3,2] -0\nx_ijk[3,4,0] 0\nx_ijk[3,4,1] -0\nx_ijk[3,4,2] -0\nx_ijk[3,5,0] -0\nx_ijk[3,5,1] -0\nx_ijk[3,5,2] -0\nx_ijk[4,0,0] 0\nx_ijk[4,0,1] 0\nx_ijk[4,0,2] 0\nx_ijk[4,1,0] 0\nx_ijk[4,1,1] 0\nx_ijk[4,1,2] 0\nx_ijk[4,2,0] 0\nx_ijk[4,2,1] 0\nx_ijk[4,2,2] 0\nx_ijk[4,3,0] 0\nx_ijk[4,3,1] 0\nx_ijk[4,3,2] -0\nx_ijk[4,4,0] 0\nx_ijk[4,4,1] -0\nx_ijk[4,4,2] -0\nx_ijk[4,5,0] -0\nx_ijk[4,5,1] -0\nx_ijk[4,5,2] -0\nx_ijk[5,0,0] 77\nx_ijk[5,0,1] 84\nx_ijk[5,0,2] 57\nx_ijk[5,1,0] 0\nx_ijk[5,1,1] 70\nx_ijk[5,1,2] 116\nx_ijk[5,2,0] 0\nx_ijk[5,2,1] 0\nx_ijk[5,2,2] 183\nx_ijk[5,3,0] 0\nx_ijk[5,3,1] 0\nx_ijk[5,3,2] -0\nx_ijk[5,4,0] 0\nx_ijk[5,4,1] -0\nx_ijk[5,4,2] -0\nx_ijk[5,5,0] -0\nx_ijk[5,5,1] -0\nx_ijk[5,5,2] -0\nx_ijk[6,0,0] 93\nx_ijk[6,0,1] 0\nx_ijk[6,0,2] 0\nx_ijk[6,1,0] 0\nx_ijk[6,1,1] 0\nx_ijk[6,1,2] 0\nx_ijk[6,2,0] 0\nx_ijk[6,2,1] 0\nx_ijk[6,2,2] 0\nx_ijk[6,3,0] 0\nx_ijk[6,3,1] 0\nx_ijk[6,3,2] -0\nx_ijk[6,4,0] 0\nx_ijk[6,4,1] -0\nx_ijk[6,4,2] -0\nx_ijk[6,5,0] -0\nx_ijk[6,5,1] -0\nx_ijk[6,5,2] -0\nx_ijk[7,0,0] 155\nx_ijk[7,0,1] 10\nx_ijk[7,0,2] 77\nx_ijk[7,1,0] 0\nx_ijk[7,1,1] 0\nx_ijk[7,1,2] 168\nx_ijk[7,2,0] 0\nx_ijk[7,2,1] 0\nx_ijk[7,2,2] 32\nx_ijk[7,3,0] 0\nx_ijk[7,3,1] 0\nx_ijk[7,3,2] -0\nx_ijk[7,4,0] 0\nx_ijk[7,4,1] -0\nx_ijk[7,4,2] -0\nx_ijk[7,5,0] -0\nx_ijk[7,5,1] -0\nx_ijk[7,5,2] -0\nx_ijk[8,0,0] 76\nx_ijk[8,0,1] 154\nx_ijk[8,0,2] 176\nx_ijk[8,1,0] 0\nx_ijk[8,1,1] 0\nx_ijk[8,1,2] 81\nx_ijk[8,2,0] 0\nx_ijk[8,2,1] 0\nx_ijk[8,2,2] 172\nx_ijk[8,3,0] 0\nx_ijk[8,3,1] 0\nx_ijk[8,3,2] -0\nx_ijk[8,4,0] 0\nx_ijk[8,4,1] -0\nx_ijk[8,4,2] -0\nx_ijk[8,5,0] -0\nx_ijk[8,5,1] -0\nx_ijk[8,5,2] -0\nx_ijk[9,0,0] 178\nx_ijk[9,0,1] 162\nx_ijk[9,0,2] 200\nx_ijk[9,1,0] 0\nx_ijk[9,1,1] 0\nx_ijk[9,1,2] 154\nx_ijk[9,2,0] 0\nx_ijk[9,2,1] 0\nx_ijk[9,2,2] 0\nx_ijk[9,3,0] 0\nx_ijk[9,3,1] 0\nx_ijk[9,3,2] -0\nx_ijk[9,4,0] 0\nx_ijk[9,4,1] -0\nx_ijk[9,4,2] -0\nx_ijk[9,5,0] -0\nx_ijk[9,5,1] -0\nx_ijk[9,5,2] -0\nz_jk[0,0] 1\nz_jk[0,1] 1\nz_jk[0,2] 1\nz_jk[1,0] 0\nz_jk[1,1] 1\nz_jk[1,2] 1\nz_jk[2,0] 0\nz_jk[2,1] 0\nz_jk[2,2] 1\nz_jk[3,0] 0\nz_jk[3,1] 0\nz_jk[3,2] 0\nz_jk[4,0] 0\nz_jk[4,1] 0\nz_jk[4,2] 0\nz_jk[5,0] 0\nz_jk[5,1] 0\nz_jk[5,2] 0\nContainerCnt_j[0] 2\nContainerCnt_j[1] 2\nContainerCnt_j[2] 2\nContainerCnt_j[3] -0\nContainerCnt_j[4] -0\nContainerCnt_j[5] -0\nStockLevel[0,0] 662\nStockLevel[0,1] 0\nStockLevel[0,2] 0\nStockLevel[0,3] 0\nStockLevel[0,4] 0\nStockLevel[0,5] 0\nStockLevel[1,0] 410\nStockLevel[1,1] 0\nStockLevel[1,2] 0\nStockLevel[1,3] 0\nStockLevel[1,4] 0\nStockLevel[1,5] 0\nStockLevel[2,0] 346\nStockLevel[2,1] 0\nStockLevel[2,2] 0\nStockLevel[2,3] 0\nStockLevel[2,4] 0\nStockLevel[2,5] 0\nStockLevel[3,0] 208\nStockLevel[3,1] 50\nStockLevel[3,2] 0\nStockLevel[3,3] 0\nStockLevel[3,4] 0\nStockLevel[3,5] 0\nStockLevel[4,0] 365\nStockLevel[4,1] 0\nStockLevel[4,2] 0\nStockLevel[4,3] 0\nStockLevel[4,4] 0\nStockLevel[4,5] 0\nStockLevel[5,0] 433\nStockLevel[5,1] 0\nStockLevel[5,2] 0\nStockLevel[5,3] 0\nStockLevel[5,4] 0\nStockLevel[5,5] 0\nStockLevel[6,0] 348\nStockLevel[6,1] 0\nStockLevel[6,2] 0.2\nStockLevel[6,3] 0\nStockLevel[6,4] 0\nStockLevel[6,5] 0\nStockLevel[7,0] 181\nStockLevel[7,1] 0\nStockLevel[7,2] 0\nStockLevel[7,3] 0\nStockLevel[7,4] 0\nStockLevel[7,5] 0\nStockLevel[8,0] 565\nStockLevel[8,1] 0\nStockLevel[8,2] 0\nStockLevel[8,3] 0\nStockLevel[8,4] 0\nStockLevel[8,5] 0\nStockLevel[9,0] 154\nStockLevel[9,1] 0\nStockLevel[9,2] 0\nStockLevel[9,3] 0\nStockLevel[9,4] 0\nStockLevel[9,5] 0\nShortage[0,0] 0\nShortage[0,1] 0\nShortage[0,2] 0\nShortage[0,3] 0\nShortage[0,4] 0\nShortage[0,5] 0\nShortage[1,0] 0\nShortage[1,1] 0\nShortage[1,2] 0\nShortage[1,3] 0\nShortage[1,4] 13\nShortage[1,5] 145.1\nShortage[2,0] 0\nShortage[2,1] 0\nShortage[2,2] 0\nShortage[2,3] 0\nShortage[2,4] 0\nShortage[2,5] 0\nShortage[3,0] 0\nShortage[3,1] 0\nShortage[3,2] 78\nShortage[3,3] 209\nShortage[3,4] 355\nShortage[3,5] 510\nShortage[4,0] 0\nShortage[4,1] 62\nShortage[4,2] 145\nShortage[4,3] 235\nShortage[4,4] 432\nShortage[4,5] 481\nShortage[5,0] 0\nShortage[5,1] 0\nShortage[5,2] 0\nShortage[5,3] 0\nShortage[5,4] 0\nShortage[5,5] 0\nShortage[6,0] 0\nShortage[6,1] 43\nShortage[6,2] 0\nShortage[6,3] 116\nShortage[6,4] 188.6\nShortage[6,5] 288.16\nShortage[7,0] 0\nShortage[7,1] 0\nShortage[7,2] 0\nShortage[7,3] 0\nShortage[7,4] 0\nShortage[7,5] 0\nShortage[8,0] 0\nShortage[8,1] 0\nShortage[8,2] 0\nShortage[8,3] 0\nShortage[8,4] 0\nShortage[8,5] 0\nShortage[9,0] 0\nShortage[9,1] 0\nShortage[9,2] 0\nShortage[9,3] 0\nShortage[9,4] 0\nShortage[9,5] 199\nBbin[0,0] 0\nBbin[0,1] 0\nBbin[0,2] 0\nBbin[0,3] 0\nBbin[0,4] 0\nBbin[0,5] 0\nBbin[1,0] 0\nBbin[1,1] 1\nBbin[1,2] 1\nBbin[1,3] 0\nBbin[1,4] 1\nBbin[1,5] 1\nBbin[2,0] 0\nBbin[2,1] 0\nBbin[2,2] 0\nBbin[2,3] 0\nBbin[2,4] 0\nBbin[2,5] 0\nBbin[3,0] 0\nBbin[3,1] 0\nBbin[3,2] 1\nBbin[3,3] 1\nBbin[3,4] 1\nBbin[3,5] 1\nBbin[4,0] 0\nBbin[4,1] 1\nBbin[4,2] 1\nBbin[4,3] 1\nBbin[4,4] 1\nBbin[4,5] 1\nBbin[5,0] 0\nBbin[5,1] 0\nBbin[5,2] 0\nBbin[5,3] 0\nBbin[5,4] 0\nBbin[5,5] 0\nBbin[6,0] 0\nBbin[6,1] 1\nBbin[6,2] 0\nBbin[6,3] 1\nBbin[6,4] 1\nBbin[6,5] 1\nBbin[7,0] 0\nBbin[7,1] 0\nBbin[7,2] 0\nBbin[7,3] 0\nBbin[7,4] 0\nBbin[7,5] 0\nBbin[8,0] 0\nBbin[8,1] 0\nBbin[8,2] 0\nBbin[8,3] 0\nBbin[8,4] 0\nBbin[8,5] 0\nBbin[9,0] 0\nBbin[9,1] 0\nBbin[9,2] 0\nBbin[9,3] 0\nBbin[9,4] 0\nBbin[9,5] 1\nObj: 3.43585e+07\n"
     ]
    }
   ],
   "source": [
    "for v in m.getVars():\n",
    "        print('%s %g' % (v.varName, v.x))\n",
    "print('Obj: %g' % m.objVal)"
   ]
  },
  {
   "cell_type": "code",
   "execution_count": 21,
   "metadata": {},
   "outputs": [
    {
     "output_type": "stream",
     "name": "stdout",
     "text": [
      "InventoryExpr_ij[0][0]: 662.0\nInventoryExpr_ij[0][1]: 607.0\nInventoryExpr_ij[0][2]: 435.0\nInventoryExpr_ij[0][3]: 241.0\nInventoryExpr_ij[0][4]: 147.0\nInventoryExpr_ij[0][5]: 0.0\nInventoryExpr_ij[1][0]: 410.0\nInventoryExpr_ij[1][1]: 357.0\nInventoryExpr_ij[1][2]: 289.0\nInventoryExpr_ij[1][3]: 104.0\nInventoryExpr_ij[1][4]: 91.0\nInventoryExpr_ij[1][5]: 0.0\nInventoryExpr_ij[2][0]: 346.0\nInventoryExpr_ij[2][1]: 167.0\nInventoryExpr_ij[2][2]: 166.0\nInventoryExpr_ij[2][3]: 117.0\nInventoryExpr_ij[2][4]: 0.0\nInventoryExpr_ij[2][5]: 0.0\nInventoryExpr_ij[3][0]: 208.0\nInventoryExpr_ij[3][1]: 258.0\nInventoryExpr_ij[3][2]: 180.0\nInventoryExpr_ij[3][3]: 49.0\nInventoryExpr_ij[3][4]: 0.0\nInventoryExpr_ij[3][5]: 0.0\nInventoryExpr_ij[4][0]: 365.0\nInventoryExpr_ij[4][1]: 303.0\nInventoryExpr_ij[4][2]: 220.0\nInventoryExpr_ij[4][3]: 130.0\nInventoryExpr_ij[4][4]: 0.0\nInventoryExpr_ij[4][5]: 0.0\nInventoryExpr_ij[5][0]: 433.0\nInventoryExpr_ij[5][1]: 356.0\nInventoryExpr_ij[5][2]: 272.0\nInventoryExpr_ij[5][3]: 145.0\nInventoryExpr_ij[5][4]: 29.0\nInventoryExpr_ij[5][5]: 0.0\nInventoryExpr_ij[6][0]: 348.0\nInventoryExpr_ij[6][1]: 212.0\nInventoryExpr_ij[6][2]: 238.0\nInventoryExpr_ij[6][3]: 122.0\nInventoryExpr_ij[6][4]: 3.0\nInventoryExpr_ij[6][5]: 0.0\nInventoryExpr_ij[7][0]: 181.0\nInventoryExpr_ij[7][1]: 26.0\nInventoryExpr_ij[7][2]: 16.0\nInventoryExpr_ij[7][3]: 0.0\nInventoryExpr_ij[7][4]: 0.0\nInventoryExpr_ij[7][5]: 0.0\nInventoryExpr_ij[8][0]: 565.0\nInventoryExpr_ij[8][1]: 489.0\nInventoryExpr_ij[8][2]: 335.0\nInventoryExpr_ij[8][3]: 159.0\nInventoryExpr_ij[8][4]: 78.0\nInventoryExpr_ij[8][5]: 0.0\nInventoryExpr_ij[9][0]: 154.0\nInventoryExpr_ij[9][1]: 0.0\nInventoryExpr_ij[9][2]: 0.0\nInventoryExpr_ij[9][3]: 0.0\nInventoryExpr_ij[9][4]: 0.0\nInventoryExpr_ij[9][5]: 0.0\n"
     ]
    }
   ],
   "source": [
    "for i in range(N):\n",
    "    for j in range(M):\n",
    "         print(f'InventoryExpr_ij[{i}][{j}]: {InventoryExpr_ij[i][j].getValue()}') "
   ]
  },
  {
   "cell_type": "code",
   "execution_count": 22,
   "metadata": {},
   "outputs": [
    {
     "output_type": "stream",
     "name": "stdout",
     "text": [
      "purchaseCost: 0.0\nFixedCost: 0.0\nVariableCost: 0.0\nInventoryCost: 1561040.0\nallContainerCost: 0.0\nBackOrderCost: 0.0\nLostSaleCost: 0.0\nObj: 1561040.0\n"
     ]
    }
   ],
   "source": [
    "print(f'purchaseCost: {purchaseCostExpr.getValue()}')\n",
    "print(f'FixedCost: {FixedCostExpr.getValue()}')\n",
    "print(f'VariableCost: {VariableCostExpr.getValue()}')\n",
    "print(f'InventoryCost: {InventoryCostExpr.getValue()}')\n",
    "print(f'allContainerCost: {allContainerCostExpr.getValue()}')\n",
    "print(f'BackOrderCost: {BackOrderCostExpr.getValue()}')\n",
    "print(f'LostSaleCost: {LostSaleCostExpr.getValue()}')\n",
    "print(f'Obj: { m.objVal}')"
   ]
  }
 ]
}