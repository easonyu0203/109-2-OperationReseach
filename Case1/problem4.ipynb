{
 "metadata": {
  "language_info": {
   "codemirror_mode": {
    "name": "ipython",
    "version": 3
   },
   "file_extension": ".py",
   "mimetype": "text/x-python",
   "name": "python",
   "nbconvert_exporter": "python",
   "pygments_lexer": "ipython3",
   "version": "3.9.2"
  },
  "orig_nbformat": 2,
  "kernelspec": {
   "name": "python392jvsc74a57bd0b8bdd4e700647ba2b08c59e5df8b7da1dcf50a218bcd4c1bcd9b3dc92e8788e5",
   "display_name": "Python 3.9.2 64-bit ('3.9')"
  },
  "metadata": {
   "interpreter": {
    "hash": "b8bdd4e700647ba2b08c59e5df8b7da1dcf50a218bcd4c1bcd9b3dc92e8788e5"
   }
  }
 },
 "nbformat": 4,
 "nbformat_minor": 2,
 "cells": [
  {
   "source": [
    "# Problem 4\n",
    "## add parameter\n",
    "* let $BackOrderCost_i,\\ BackOrderPercent_i$ be the cost of back order and the probability of back order, respectively.\n",
    "\n",
    "## add decision variable\n",
    "* let $y_{ij}$ be the stock level of product $i$ of month $j$\n",
    "* let $w_{ij}$ be the amount of unfulfill demand of product $i$ of month $j$\n",
    "* let $ywBin_{ij}$ be the helper variable for $y_{ij},\\ w_{ij}$ for let them be<br>\n",
    "$y_{ij} = max\\{0,\\ InventoryExpr_{ij}\\}$<br>\n",
    "$w_{ij} = max\\{0,\\ -InventoryExpr_{ij}\\}$<br>\n",
    "\n",
    "## Expr\n",
    "* let $BackOrderExpr_{ij}$ be the amout of back order of product $i$ of month $j$<br>\n",
    "$BackOrderExpr_{ij} = w_{ij} BackOrderPercent_i$<br>\n",
    "* let $InventoryExpr_{ij}$ be the expression of ending inventory of product $i$ of month $j$<br>\n",
    "$j=0:\\ InventoryExpr_{i0} = I_i - D_{i0}$<br>\n",
    "$j=1:\\ InventoryExpr_{i1} = y_{i0} + x_{i00} + Transit_{i1} - D_{i1} - BackOrderExpr_{i0}$<br>\n",
    "$j=2:\\ InventoryExpr_{i2} = y_{i1} + x_{i10} + x_{i01} + Transit_{i2} - D_{i2} - BackOrderExpr_{i1}$<br>\n",
    "$j \\ge 3:\\ InventoryExpr_{ij} = y_{i(j-1)} + x_{i(j-1)0} + x_{i(j-2)1} + x_{i(j-3)2} - D_{ij} - BackOrderExpr_{i(j-1)}$<br>\n",
    "\n",
    "## add to obj function\n",
    "- back order cost = $\\sum_{i=0}^N \\sum_{j=0}^M BackOrderExpr_{ij} BackOrderCost_i$\n",
    "- lost slae cost = $\\sum_{i=0}^N \\sum_{j=0}^M w_{ij} (1 - BackOrderPercent_i) LostSaleCost_i$\n",
    "\n",
    "## add constrain\n",
    "$ 0 \\le y_{ij}$<br>\n",
    "$InventoryExpr_{ij} \\le y_{ij}$<br>\n",
    "$y_{ij} \\le 0 + x_{max} \\times ywBin_{ij}$<br>\n",
    "$y_{ij} \\le InventoryExpr_{ij} + x_{max} \\times (1 - ywBin_{ij})$<br>\n",
    "$ 0 \\le w_{ij}$<br>\n",
    "$-InventoryExpr_{ij} \\le w_{ij}$<br>\n",
    "$w_{ij} \\le 0 + x_{max} \\times (1 - ywBin_{ij})$<br>\n",
    "$w_{ij} \\le -InventoryExpr_{ij} + x_{max} \\times  ywBin_{ij}$<br>"
   ],
   "cell_type": "markdown",
   "metadata": {}
  },
  {
   "source": [
    "import gurobipy as gb\n",
    "from gurobipy import GRB\n",
    "from gurobipy import quicksum\n",
    "import pandas as pd\n",
    "import numpy as np"
   ],
   "cell_type": "code",
   "metadata": {},
   "execution_count": 23,
   "outputs": []
  },
  {
   "cell_type": "code",
   "execution_count": 24,
   "metadata": {},
   "outputs": [],
   "source": [
    "## setting parameter\n",
    "N, M, K = 10, 6, 3\n",
    "D_ij = pd.read_excel('data.xlsx', sheet_name='Demand', index_col='Product').to_numpy()\n",
    "I_i = pd.read_excel('data.xlsx', sheet_name='Initial inventory', index_col='Product').to_numpy().squeeze()\n",
    "BuyCost_i = pd.read_excel('data.xlsx', sheet_name='Price and cost', index_col='Product')['Purchasing cost'].to_numpy().squeeze()\n",
    "HoldCost_i = pd.read_excel('data.xlsx', sheet_name='Price and cost', index_col='Product')['Holding'].to_numpy().squeeze()\n",
    "Transit_ij = pd.read_excel('data.xlsx', sheet_name='In-transit', index_col='Product').to_numpy().squeeze()\n",
    "FixedShipCost_k = (100, 80, 50)\n",
    "VarShipCost_ik = pd.read_excel('data.xlsx', sheet_name='Shipping cost', index_col='Product').to_numpy().squeeze()\n",
    "x_max = sum([sum(i) for i in D_ij]) + sum(I_i)\n",
    "ContainerCapacity = 30\n",
    "ContainerCost = 2750\n",
    "CBM_i = pd.read_excel('data.xlsx', sheet_name='Size', index_col='Product').to_numpy().squeeze()\n",
    "BackOrderCost_i = pd.read_excel('data.xlsx', sheet_name='Shortage', index_col='Product')['Backorder'].to_numpy()\n",
    "BackOrderPercent_i = pd.read_excel('data.xlsx', sheet_name='Shortage', index_col='Product')['Backorder percentage'].to_numpy()\n",
    "LostSaleCost_i = pd.read_excel('data.xlsx', sheet_name='Shortage', index_col='Product')['Lost sales'].to_numpy()"
   ]
  },
  {
   "cell_type": "code",
   "execution_count": 25,
   "metadata": {},
   "outputs": [],
   "source": [
    "m = gb.Model(\"Problem4Model\")"
   ]
  },
  {
   "cell_type": "code",
   "execution_count": 26,
   "metadata": {},
   "outputs": [],
   "source": [
    "#add decision variable\n",
    "x = m.addVars(N, M, K, vtype=GRB.INTEGER, name='x_ijk')\n",
    "Abin = m.addVars(M, K, vtype=GRB.BINARY, name='z_jk')\n",
    "ContainerCnt = m.addVars(M, vtype=GRB.INTEGER, name='ContainerCnt_j')\n",
    "StockLevel = m.addVars(N, M, vtype=GRB.CONTINUOUS, name='StockLevel')\n",
    "Shortage = m.addVars(N, M, vtype=GRB.CONTINUOUS, name='Shortage')\n",
    "Bbin = m.addVars(N, M, vtype=GRB.BINARY, name='Bbin')"
   ]
  },
  {
   "cell_type": "code",
   "execution_count": 27,
   "metadata": {},
   "outputs": [],
   "source": [
    "#add Expr\n",
    "ValueInOceanExpr_j = [\n",
    "    quicksum(x[i,j,2]*CBM_i[i] for i in range(N))\n",
    "for j in range(M)]\n",
    "\n",
    "BackOrderExpr_ij = [\n",
    "    [\n",
    "        Shortage[i,j] * BackOrderPercent_i[i]\n",
    "    for j in range(M)]\n",
    "for i in range(N)]\n",
    "\n",
    "LostSaleCntExpr_ij = [\n",
    "    [\n",
    "        Shortage[i,j] *(1 - BackOrderPercent_i[i])\n",
    "    for j in range(M)]\n",
    "for i in range(N)]"
   ]
  },
  {
   "cell_type": "code",
   "execution_count": 28,
   "metadata": {},
   "outputs": [],
   "source": [
    "#add to objctive function\n",
    "purchaseCostExpr = gb.LinExpr(\n",
    "    quicksum(\n",
    "        quicksum(\n",
    "            quicksum(\n",
    "                x[i,j,k] * BuyCost_i[i]\n",
    "            for k in range(K))\n",
    "        for j in range(M))\n",
    "    for i in range(N))\n",
    ")\n",
    "\n",
    "FixedCostExpr = gb.LinExpr(\n",
    "    quicksum(\n",
    "        quicksum(\n",
    "            Abin[j,k] * FixedShipCost_k[k]\n",
    "        for k in range(K))\n",
    "    for j in range(M))\n",
    ")\n",
    "\n",
    "VariableCostExpr = gb.LinExpr(\n",
    "    quicksum(\n",
    "        quicksum(\n",
    "            quicksum(\n",
    "                x[i,j,k] * VarShipCost_ik[i][k]\n",
    "            for k in range(K))\n",
    "        for i in range(N))\n",
    "    for j in range(M))\n",
    ")\n",
    "\n",
    "InventoryCostExpr = gb.LinExpr(\n",
    "    quicksum(\n",
    "        quicksum(\n",
    "            StockLevel[i,j]\n",
    "        for j in range(M)) * HoldCost_i[i]\n",
    "    for i in range(N))\n",
    ")\n",
    "\n",
    "allContainerCostExpr =  gb.LinExpr(\n",
    "    quicksum(ContainerCnt[j] * ContainerCost for j in range(M))\n",
    ")\n",
    "\n",
    "BackOrderCostExpr = gb.LinExpr(\n",
    "    quicksum(\n",
    "        quicksum(\n",
    "            BackOrderExpr_ij[i][j] * BackOrderCost_i[i]\n",
    "        for j in range(M))\n",
    "    for i in range(N))\n",
    ")\n",
    "\n",
    "LostSaleCostExpr = gb.LinExpr(\n",
    "    quicksum(\n",
    "        quicksum(\n",
    "            LostSaleCntExpr_ij[i][j] * LostSaleCost_i[i]\n",
    "        for j in range(M))\n",
    "    for i in range(N))\n",
    ")\n",
    "\n",
    "m.setObjective(\n",
    "    purchaseCostExpr + FixedCostExpr + VariableCostExpr + InventoryCostExpr + allContainerCostExpr + BackOrderCostExpr + LostSaleCostExpr\n",
    ")"
   ]
  },
  {
   "cell_type": "code",
   "execution_count": 29,
   "metadata": {},
   "outputs": [],
   "source": [
    "#Constrains\n",
    "_ = m.addConstrs(\n",
    "    quicksum(x[i,j,k] for i in range(0, N)) / x_max <= Abin[j,k]\n",
    "for j in range(0, M)\n",
    "for k in range(0, K)\n",
    ")\n",
    "_ = m.addConstrs(\n",
    "     ValueInOceanExpr_j[j] / ContainerCapacity <= ContainerCnt[j]\n",
    " for j in range(M))\n",
    "\n",
    "_ = m.addConstrs(StockLevel[i,0] - Shortage[i,0] == I_i[i] - D_ij[i][0] for i in range(N))\n",
    "_ = m.addConstrs(StockLevel[i,1] - Shortage[i,1] == StockLevel[i,0] + x[i,0,0] + Transit_ij[i][1] - D_ij[i][1] - Shortage[i,0] * BackOrderPercent_i[i] for i in range(N))\n",
    "_ = m.addConstrs(StockLevel[i,2] - Shortage[i,2] == StockLevel[i,1] + x[i,1,0] + x[i,0,1] + Transit_ij[i][2] - D_ij[i][2] - Shortage[i,1] * BackOrderPercent_i[i] for i in range(N))\n",
    "_ = m.addConstrs(StockLevel[i,j] - Shortage[i,j] == StockLevel[i,j-1] + x[i,j-1,0] + x[i,j-2,1] + x[i,j-3,2] - D_ij[i][j] - Shortage[i,j-1] * BackOrderPercent_i[i] for i in range(N) for j in range(3,M))\n",
    "\n",
    "_ = m.addConstrs(StockLevel[i,j] <= x_max * (1-Bbin[i,j]) for i in range(N) for j in range(M))\n",
    "_ = m.addConstrs(Shortage[i,j] <= x_max * Bbin[i,j] for i in range(N) for j in range(M))"
   ]
  },
  {
   "cell_type": "code",
   "execution_count": 30,
   "metadata": {},
   "outputs": [
    {
     "output_type": "stream",
     "name": "stdout",
     "text": [
      "Gurobi Optimizer version 9.1.1 build v9.1.1rc0 (mac64)\n",
      "Thread count: 4 physical cores, 8 logical processors, using up to 8 threads\n",
      "Optimize a model with 204 rows, 384 columns and 839 nonzeros\n",
      "Model fingerprint: 0xc18d95ec\n",
      "Variable types: 120 continuous, 264 integer (78 binary)\n",
      "Coefficient statistics:\n",
      "  Matrix range     [8e-05, 1e+04]\n",
      "  Objective range  [4e+01, 2e+04]\n",
      "  Bounds range     [1e+00, 1e+00]\n",
      "  RHS range        [1e+00, 1e+04]\n",
      "Found heuristic solution: objective 1.655304e+07\n",
      "Presolve removed 113 rows and 173 columns\n",
      "Presolve time: 0.00s\n",
      "Presolved: 91 rows, 211 columns, 428 nonzeros\n",
      "Variable types: 38 continuous, 173 integer (31 binary)\n",
      "\n",
      "Root relaxation: objective 1.356732e+07, 62 iterations, 0.00 seconds\n",
      "\n",
      "    Nodes    |    Current Node    |     Objective Bounds      |     Work\n",
      " Expl Unexpl |  Obj  Depth IntInf | Incumbent    BestBd   Gap | It/Node Time\n",
      "\n",
      "     0     0 1.3567e+07    0    5 1.6553e+07 1.3567e+07  18.0%     -    0s\n",
      "H    0     0                    1.356765e+07 1.3567e+07  0.00%     -    0s\n",
      "\n",
      "Explored 1 nodes (62 simplex iterations) in 0.04 seconds\n",
      "Thread count was 8 (of 8 available processors)\n",
      "\n",
      "Solution count 2: 1.35676e+07 1.6553e+07 \n",
      "\n",
      "Optimal solution found (tolerance 1.00e-04)\n",
      "Best objective 1.356764700000e+07, best bound 1.356732325241e+07, gap 0.0024%\n"
     ]
    }
   ],
   "source": [
    "m.optimize()"
   ]
  },
  {
   "cell_type": "code",
   "execution_count": 31,
   "metadata": {},
   "outputs": [],
   "source": [
    "import os\n",
    "from os import path\n",
    "os.makedirs('solution', exist_ok=True)\n",
    "solution_file_path = path.join(os.getcwd(), 'solution', 'case1_solution.xlsx')"
   ]
  },
  {
   "cell_type": "code",
   "execution_count": 32,
   "metadata": {},
   "outputs": [
    {
     "output_type": "stream",
     "name": "stdout",
     "text": [
      "Express delivery\n"
     ]
    },
    {
     "output_type": "display_data",
     "data": {
      "text/plain": "    0  1  2  3  4  5\n0   0  0  0  0  0  0\n1   0  0  0  0  0  0\n2   0  0  0  0  0  0\n3   0  0  0  0  0  0\n4   0  0  0  0  0  0\n5   0  0  0  0  0  0\n6   0  0  0  0  0  0\n7   0  0  0  0  0  0\n8   0  0  0  0  0  0\n9  24  0  0  0  0  0",
      "text/html": "<div>\n<style scoped>\n    .dataframe tbody tr th:only-of-type {\n        vertical-align: middle;\n    }\n\n    .dataframe tbody tr th {\n        vertical-align: top;\n    }\n\n    .dataframe thead th {\n        text-align: right;\n    }\n</style>\n<table border=\"1\" class=\"dataframe\">\n  <thead>\n    <tr style=\"text-align: right;\">\n      <th></th>\n      <th>0</th>\n      <th>1</th>\n      <th>2</th>\n      <th>3</th>\n      <th>4</th>\n      <th>5</th>\n    </tr>\n  </thead>\n  <tbody>\n    <tr>\n      <th>0</th>\n      <td>0</td>\n      <td>0</td>\n      <td>0</td>\n      <td>0</td>\n      <td>0</td>\n      <td>0</td>\n    </tr>\n    <tr>\n      <th>1</th>\n      <td>0</td>\n      <td>0</td>\n      <td>0</td>\n      <td>0</td>\n      <td>0</td>\n      <td>0</td>\n    </tr>\n    <tr>\n      <th>2</th>\n      <td>0</td>\n      <td>0</td>\n      <td>0</td>\n      <td>0</td>\n      <td>0</td>\n      <td>0</td>\n    </tr>\n    <tr>\n      <th>3</th>\n      <td>0</td>\n      <td>0</td>\n      <td>0</td>\n      <td>0</td>\n      <td>0</td>\n      <td>0</td>\n    </tr>\n    <tr>\n      <th>4</th>\n      <td>0</td>\n      <td>0</td>\n      <td>0</td>\n      <td>0</td>\n      <td>0</td>\n      <td>0</td>\n    </tr>\n    <tr>\n      <th>5</th>\n      <td>0</td>\n      <td>0</td>\n      <td>0</td>\n      <td>0</td>\n      <td>0</td>\n      <td>0</td>\n    </tr>\n    <tr>\n      <th>6</th>\n      <td>0</td>\n      <td>0</td>\n      <td>0</td>\n      <td>0</td>\n      <td>0</td>\n      <td>0</td>\n    </tr>\n    <tr>\n      <th>7</th>\n      <td>0</td>\n      <td>0</td>\n      <td>0</td>\n      <td>0</td>\n      <td>0</td>\n      <td>0</td>\n    </tr>\n    <tr>\n      <th>8</th>\n      <td>0</td>\n      <td>0</td>\n      <td>0</td>\n      <td>0</td>\n      <td>0</td>\n      <td>0</td>\n    </tr>\n    <tr>\n      <th>9</th>\n      <td>24</td>\n      <td>0</td>\n      <td>0</td>\n      <td>0</td>\n      <td>0</td>\n      <td>0</td>\n    </tr>\n  </tbody>\n</table>\n</div>"
     },
     "metadata": {}
    },
    {
     "output_type": "stream",
     "name": "stdout",
     "text": [
      "Air frieght\n"
     ]
    },
    {
     "output_type": "display_data",
     "data": {
      "text/plain": "     0  1  2  3  4  5\n0    0  0  0  0  0  0\n1    0  0  0  0  0  0\n2    0  0  0  0  0  0\n3    0  0  0  0  0  0\n4    0  0  0  0  0  0\n5    0  0  0  0  0  0\n6    0  0  0  0  0  0\n7    0  0  0  0  0  0\n8    0  0  0  0  0  0\n9  162  0  0  0  0  0",
      "text/html": "<div>\n<style scoped>\n    .dataframe tbody tr th:only-of-type {\n        vertical-align: middle;\n    }\n\n    .dataframe tbody tr th {\n        vertical-align: top;\n    }\n\n    .dataframe thead th {\n        text-align: right;\n    }\n</style>\n<table border=\"1\" class=\"dataframe\">\n  <thead>\n    <tr style=\"text-align: right;\">\n      <th></th>\n      <th>0</th>\n      <th>1</th>\n      <th>2</th>\n      <th>3</th>\n      <th>4</th>\n      <th>5</th>\n    </tr>\n  </thead>\n  <tbody>\n    <tr>\n      <th>0</th>\n      <td>0</td>\n      <td>0</td>\n      <td>0</td>\n      <td>0</td>\n      <td>0</td>\n      <td>0</td>\n    </tr>\n    <tr>\n      <th>1</th>\n      <td>0</td>\n      <td>0</td>\n      <td>0</td>\n      <td>0</td>\n      <td>0</td>\n      <td>0</td>\n    </tr>\n    <tr>\n      <th>2</th>\n      <td>0</td>\n      <td>0</td>\n      <td>0</td>\n      <td>0</td>\n      <td>0</td>\n      <td>0</td>\n    </tr>\n    <tr>\n      <th>3</th>\n      <td>0</td>\n      <td>0</td>\n      <td>0</td>\n      <td>0</td>\n      <td>0</td>\n      <td>0</td>\n    </tr>\n    <tr>\n      <th>4</th>\n      <td>0</td>\n      <td>0</td>\n      <td>0</td>\n      <td>0</td>\n      <td>0</td>\n      <td>0</td>\n    </tr>\n    <tr>\n      <th>5</th>\n      <td>0</td>\n      <td>0</td>\n      <td>0</td>\n      <td>0</td>\n      <td>0</td>\n      <td>0</td>\n    </tr>\n    <tr>\n      <th>6</th>\n      <td>0</td>\n      <td>0</td>\n      <td>0</td>\n      <td>0</td>\n      <td>0</td>\n      <td>0</td>\n    </tr>\n    <tr>\n      <th>7</th>\n      <td>0</td>\n      <td>0</td>\n      <td>0</td>\n      <td>0</td>\n      <td>0</td>\n      <td>0</td>\n    </tr>\n    <tr>\n      <th>8</th>\n      <td>0</td>\n      <td>0</td>\n      <td>0</td>\n      <td>0</td>\n      <td>0</td>\n      <td>0</td>\n    </tr>\n    <tr>\n      <th>9</th>\n      <td>162</td>\n      <td>0</td>\n      <td>0</td>\n      <td>0</td>\n      <td>0</td>\n      <td>0</td>\n    </tr>\n  </tbody>\n</table>\n</div>"
     },
     "metadata": {}
    },
    {
     "output_type": "stream",
     "name": "stdout",
     "text": [
      "Ocean frieght\n"
     ]
    },
    {
     "output_type": "display_data",
     "data": {
      "text/plain": "     0    1    2  3  4  5\n0    0    0   38  0  0  0\n1    0    0    0  0  0  0\n2    0   82  200  0  0  0\n3    0    0    0  0  0  0\n4    0    0    0  0  0  0\n5    0    0  154  0  0  0\n6    0    0    0  0  0  0\n7   61  168   32  0  0  0\n8    0    0   94  0  0  0\n9  200  154    0  0  0  0",
      "text/html": "<div>\n<style scoped>\n    .dataframe tbody tr th:only-of-type {\n        vertical-align: middle;\n    }\n\n    .dataframe tbody tr th {\n        vertical-align: top;\n    }\n\n    .dataframe thead th {\n        text-align: right;\n    }\n</style>\n<table border=\"1\" class=\"dataframe\">\n  <thead>\n    <tr style=\"text-align: right;\">\n      <th></th>\n      <th>0</th>\n      <th>1</th>\n      <th>2</th>\n      <th>3</th>\n      <th>4</th>\n      <th>5</th>\n    </tr>\n  </thead>\n  <tbody>\n    <tr>\n      <th>0</th>\n      <td>0</td>\n      <td>0</td>\n      <td>38</td>\n      <td>0</td>\n      <td>0</td>\n      <td>0</td>\n    </tr>\n    <tr>\n      <th>1</th>\n      <td>0</td>\n      <td>0</td>\n      <td>0</td>\n      <td>0</td>\n      <td>0</td>\n      <td>0</td>\n    </tr>\n    <tr>\n      <th>2</th>\n      <td>0</td>\n      <td>82</td>\n      <td>200</td>\n      <td>0</td>\n      <td>0</td>\n      <td>0</td>\n    </tr>\n    <tr>\n      <th>3</th>\n      <td>0</td>\n      <td>0</td>\n      <td>0</td>\n      <td>0</td>\n      <td>0</td>\n      <td>0</td>\n    </tr>\n    <tr>\n      <th>4</th>\n      <td>0</td>\n      <td>0</td>\n      <td>0</td>\n      <td>0</td>\n      <td>0</td>\n      <td>0</td>\n    </tr>\n    <tr>\n      <th>5</th>\n      <td>0</td>\n      <td>0</td>\n      <td>154</td>\n      <td>0</td>\n      <td>0</td>\n      <td>0</td>\n    </tr>\n    <tr>\n      <th>6</th>\n      <td>0</td>\n      <td>0</td>\n      <td>0</td>\n      <td>0</td>\n      <td>0</td>\n      <td>0</td>\n    </tr>\n    <tr>\n      <th>7</th>\n      <td>61</td>\n      <td>168</td>\n      <td>32</td>\n      <td>0</td>\n      <td>0</td>\n      <td>0</td>\n    </tr>\n    <tr>\n      <th>8</th>\n      <td>0</td>\n      <td>0</td>\n      <td>94</td>\n      <td>0</td>\n      <td>0</td>\n      <td>0</td>\n    </tr>\n    <tr>\n      <th>9</th>\n      <td>200</td>\n      <td>154</td>\n      <td>0</td>\n      <td>0</td>\n      <td>0</td>\n      <td>0</td>\n    </tr>\n  </tbody>\n</table>\n</div>"
     },
     "metadata": {}
    },
    {
     "output_type": "stream",
     "name": "stdout",
     "text": [
      "StockLevel\n"
     ]
    },
    {
     "output_type": "display_data",
     "data": {
      "text/plain": "       0      1      2      3      4    5\n0  662.0  607.0  435.0  241.0  147.0  0.0\n1  410.0  357.0  289.0  104.0   91.0  0.0\n2  346.0  167.0  166.0  117.0    0.0  0.0\n3  208.0  258.0  180.0   49.0    0.0  0.0\n4  365.0  303.0  220.0  130.0    0.0  0.0\n5  433.0  356.0  272.0  145.0   29.0  0.0\n6  348.0  212.0  238.0  122.0    3.0  0.0\n7  181.0   26.0   16.0    0.0    0.0  0.0\n8  565.0  489.0  335.0  159.0   78.0  0.0\n9  154.0    0.0    0.0    0.0    0.0  0.0",
      "text/html": "<div>\n<style scoped>\n    .dataframe tbody tr th:only-of-type {\n        vertical-align: middle;\n    }\n\n    .dataframe tbody tr th {\n        vertical-align: top;\n    }\n\n    .dataframe thead th {\n        text-align: right;\n    }\n</style>\n<table border=\"1\" class=\"dataframe\">\n  <thead>\n    <tr style=\"text-align: right;\">\n      <th></th>\n      <th>0</th>\n      <th>1</th>\n      <th>2</th>\n      <th>3</th>\n      <th>4</th>\n      <th>5</th>\n    </tr>\n  </thead>\n  <tbody>\n    <tr>\n      <th>0</th>\n      <td>662.0</td>\n      <td>607.0</td>\n      <td>435.0</td>\n      <td>241.0</td>\n      <td>147.0</td>\n      <td>0.0</td>\n    </tr>\n    <tr>\n      <th>1</th>\n      <td>410.0</td>\n      <td>357.0</td>\n      <td>289.0</td>\n      <td>104.0</td>\n      <td>91.0</td>\n      <td>0.0</td>\n    </tr>\n    <tr>\n      <th>2</th>\n      <td>346.0</td>\n      <td>167.0</td>\n      <td>166.0</td>\n      <td>117.0</td>\n      <td>0.0</td>\n      <td>0.0</td>\n    </tr>\n    <tr>\n      <th>3</th>\n      <td>208.0</td>\n      <td>258.0</td>\n      <td>180.0</td>\n      <td>49.0</td>\n      <td>0.0</td>\n      <td>0.0</td>\n    </tr>\n    <tr>\n      <th>4</th>\n      <td>365.0</td>\n      <td>303.0</td>\n      <td>220.0</td>\n      <td>130.0</td>\n      <td>0.0</td>\n      <td>0.0</td>\n    </tr>\n    <tr>\n      <th>5</th>\n      <td>433.0</td>\n      <td>356.0</td>\n      <td>272.0</td>\n      <td>145.0</td>\n      <td>29.0</td>\n      <td>0.0</td>\n    </tr>\n    <tr>\n      <th>6</th>\n      <td>348.0</td>\n      <td>212.0</td>\n      <td>238.0</td>\n      <td>122.0</td>\n      <td>3.0</td>\n      <td>0.0</td>\n    </tr>\n    <tr>\n      <th>7</th>\n      <td>181.0</td>\n      <td>26.0</td>\n      <td>16.0</td>\n      <td>0.0</td>\n      <td>0.0</td>\n      <td>0.0</td>\n    </tr>\n    <tr>\n      <th>8</th>\n      <td>565.0</td>\n      <td>489.0</td>\n      <td>335.0</td>\n      <td>159.0</td>\n      <td>78.0</td>\n      <td>0.0</td>\n    </tr>\n    <tr>\n      <th>9</th>\n      <td>154.0</td>\n      <td>0.0</td>\n      <td>0.0</td>\n      <td>0.0</td>\n      <td>0.0</td>\n      <td>0.0</td>\n    </tr>\n  </tbody>\n</table>\n</div>"
     },
     "metadata": {}
    },
    {
     "output_type": "stream",
     "name": "stdout",
     "text": [
      "Shortage\n"
     ]
    },
    {
     "output_type": "display_data",
     "data": {
      "text/plain": "     0    1    2    3     4      5\n0  0.0  0.0  0.0  0.0   0.0    0.0\n1  0.0  0.0  0.0  0.0   0.0   45.0\n2  0.0  0.0  0.0  0.0   0.0    0.0\n3  0.0  0.0  0.0  0.0  97.0  252.0\n4  0.0  0.0  0.0  0.0  67.0  116.0\n5  0.0  0.0  0.0  0.0   0.0    0.0\n6  0.0  0.0  0.0  0.0   0.0  172.0\n7  0.0  0.0  0.0  0.0   0.0    0.0\n8  0.0  0.0  0.0  0.0   0.0    0.0\n9  0.0  0.0  0.0  0.0   0.0  199.0",
      "text/html": "<div>\n<style scoped>\n    .dataframe tbody tr th:only-of-type {\n        vertical-align: middle;\n    }\n\n    .dataframe tbody tr th {\n        vertical-align: top;\n    }\n\n    .dataframe thead th {\n        text-align: right;\n    }\n</style>\n<table border=\"1\" class=\"dataframe\">\n  <thead>\n    <tr style=\"text-align: right;\">\n      <th></th>\n      <th>0</th>\n      <th>1</th>\n      <th>2</th>\n      <th>3</th>\n      <th>4</th>\n      <th>5</th>\n    </tr>\n  </thead>\n  <tbody>\n    <tr>\n      <th>0</th>\n      <td>0.0</td>\n      <td>0.0</td>\n      <td>0.0</td>\n      <td>0.0</td>\n      <td>0.0</td>\n      <td>0.0</td>\n    </tr>\n    <tr>\n      <th>1</th>\n      <td>0.0</td>\n      <td>0.0</td>\n      <td>0.0</td>\n      <td>0.0</td>\n      <td>0.0</td>\n      <td>45.0</td>\n    </tr>\n    <tr>\n      <th>2</th>\n      <td>0.0</td>\n      <td>0.0</td>\n      <td>0.0</td>\n      <td>0.0</td>\n      <td>0.0</td>\n      <td>0.0</td>\n    </tr>\n    <tr>\n      <th>3</th>\n      <td>0.0</td>\n      <td>0.0</td>\n      <td>0.0</td>\n      <td>0.0</td>\n      <td>97.0</td>\n      <td>252.0</td>\n    </tr>\n    <tr>\n      <th>4</th>\n      <td>0.0</td>\n      <td>0.0</td>\n      <td>0.0</td>\n      <td>0.0</td>\n      <td>67.0</td>\n      <td>116.0</td>\n    </tr>\n    <tr>\n      <th>5</th>\n      <td>0.0</td>\n      <td>0.0</td>\n      <td>0.0</td>\n      <td>0.0</td>\n      <td>0.0</td>\n      <td>0.0</td>\n    </tr>\n    <tr>\n      <th>6</th>\n      <td>0.0</td>\n      <td>0.0</td>\n      <td>0.0</td>\n      <td>0.0</td>\n      <td>0.0</td>\n      <td>172.0</td>\n    </tr>\n    <tr>\n      <th>7</th>\n      <td>0.0</td>\n      <td>0.0</td>\n      <td>0.0</td>\n      <td>0.0</td>\n      <td>0.0</td>\n      <td>0.0</td>\n    </tr>\n    <tr>\n      <th>8</th>\n      <td>0.0</td>\n      <td>0.0</td>\n      <td>0.0</td>\n      <td>0.0</td>\n      <td>0.0</td>\n      <td>0.0</td>\n    </tr>\n    <tr>\n      <th>9</th>\n      <td>0.0</td>\n      <td>0.0</td>\n      <td>0.0</td>\n      <td>0.0</td>\n      <td>0.0</td>\n      <td>199.0</td>\n    </tr>\n  </tbody>\n</table>\n</div>"
     },
     "metadata": {}
    }
   ],
   "source": [
    "print('Express delivery')\n",
    "with pd.ExcelWriter(solution_file_path, engine='xlsxwriter') as writer:\n",
    "    df1 = pd.DataFrame([[int(x[i,j,0].x) for j in range(M)] for i in range(N)], columns=range(M))\n",
    "    display(df1)\n",
    "    df1.to_excel(writer, sheet_name='Express delivery')\n",
    "    print('Air frieght')\n",
    "    df2 = pd.DataFrame([[int(x[i,j,1].x) for j in range(M)] for i in range(N)], columns=range(M))\n",
    "    display(df2)\n",
    "    df2.to_excel(writer, sheet_name='Air frieght')\n",
    "    print('Ocean frieght')\n",
    "    df3 = pd.DataFrame([[int(x[i,j,2].x) for j in range(M)] for i in range(N)], columns=range(M))\n",
    "    display(df3)\n",
    "    df3.to_excel(writer, sheet_name='Ocean frieght')\n",
    "    print('StockLevel')\n",
    "    df = pd.DataFrame([[StockLevel[i,j].x for j in range(M)] for i in range(N)], columns=range(M))\n",
    "    display(df)\n",
    "    df.to_excel(writer, sheet_name='StockLevel')\n",
    "    print('Shortage')\n",
    "    df = pd.DataFrame([[Shortage[i,j].x for j in range(M)] for i in range(N)], columns=range(M))\n",
    "    display(df)\n",
    "    df.to_excel(writer, sheet_name='Shortage')"
   ]
  },
  {
   "cell_type": "code",
   "execution_count": 33,
   "metadata": {},
   "outputs": [
    {
     "output_type": "stream",
     "name": "stdout",
     "text": [
      "purchaseCost: 10045000.0\nFixedCost: 330.0\nVariableCost: 4416.0\nInventoryCost: 1256400.0\nallContainerCost: 0.0\nBackOrderCost: 578321.0\nLostSaleCost: 1683180.0\nObj: 13567647.0\n"
     ]
    }
   ],
   "source": [
    "print(f'purchaseCost: {purchaseCostExpr.getValue()}')\n",
    "print(f'FixedCost: {FixedCostExpr.getValue()}')\n",
    "print(f'VariableCost: {VariableCostExpr.getValue()}')\n",
    "print(f'InventoryCost: {InventoryCostExpr.getValue()}')\n",
    "print(f'allContainerCost: {allContainerCostExpr.getValue()}')\n",
    "print(f'BackOrderCost: {BackOrderCostExpr.getValue()}')\n",
    "print(f'LostSaleCost: {LostSaleCostExpr.getValue()}')\n",
    "print(f'Obj: { m.objVal}')"
   ]
  }
 ]
}