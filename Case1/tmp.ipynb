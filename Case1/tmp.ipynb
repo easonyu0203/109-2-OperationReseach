{
 "metadata": {
  "language_info": {
   "codemirror_mode": {
    "name": "ipython",
    "version": 3
   },
   "file_extension": ".py",
   "mimetype": "text/x-python",
   "name": "python",
   "nbconvert_exporter": "python",
   "pygments_lexer": "ipython3",
   "version": "3.9.2-final"
  },
  "orig_nbformat": 2,
  "kernelspec": {
   "name": "python38264bitada118f4dec34775b8d47a233c54e9d1",
   "display_name": "Python 3.9.2 64-bit"
  },
  "metadata": {
   "interpreter": {
    "hash": "aee8b7b246df8f9039afb4144a1f6fd8d2ca17a180786b69acc140d282b71a49"
   }
  }
 },
 "nbformat": 4,
 "nbformat_minor": 2,
 "cells": [
  {
   "cell_type": "code",
   "execution_count": 1,
   "metadata": {},
   "outputs": [],
   "source": [
    "import gurobipy as gb\n",
    "from gurobipy import GRB\n",
    "from gurobipy import quicksum\n",
    "import pandas as pd\n",
    "import numpy as np"
   ]
  },
  {
   "cell_type": "code",
   "execution_count": 2,
   "metadata": {},
   "outputs": [],
   "source": [
    "J = 15\n",
    "M = 3\n",
    "P = [7,4,6,9,12,8,10,11,8,7,6,8,15,14,3]\n",
    "Conflict_sets = [(2-1,5-1,8-1), (6-1,9-1), (7-1,10-1), (11-1,15-1)]"
   ]
  },
  {
   "cell_type": "code",
   "execution_count": 3,
   "metadata": {},
   "outputs": [
    {
     "output_type": "stream",
     "name": "stdout",
     "text": [
      "Academic license - for non-commercial use only - expires 2021-05-20\n",
      "Using license file /Users/eason/gurobi.lic\n"
     ]
    }
   ],
   "source": [
    "model = gb.Model('p1')"
   ]
  },
  {
   "source": [
    "x = []\n",
    "for j in range(J):\n",
    "    tmp = []\n",
    "    for m in range(M):\n",
    "        tmp.append(model.addVar(vtype=GRB.BINARY, name=f'x[{j}, {m}]'))\n",
    "    x.append(tmp)\n",
    "\n",
    "w = model.addVar(lb=0, vtype=GRB.CONTINUOUS, name='w')"
   ],
   "cell_type": "code",
   "metadata": {},
   "execution_count": 4,
   "outputs": []
  },
  {
   "cell_type": "code",
   "execution_count": 5,
   "metadata": {},
   "outputs": [],
   "source": [
    "model.setObjective(w, GRB.MINIMIZE)"
   ]
  },
  {
   "cell_type": "code",
   "execution_count": 6,
   "metadata": {},
   "outputs": [],
   "source": [
    "_ = model.addConstrs(\n",
    "    quicksum(x[j][m] for m in range(M)) == 1\n",
    "for j in range(J))\n",
    "\n",
    "_ = model.addConstrs(\n",
    "quicksum(x[j][m] for j in con_set) <= 1\n",
    "for m in range(M)\n",
    "for con_set in Conflict_sets)\n",
    "\n",
    "_ = model.addConstrs(\n",
    "    quicksum(P[j] * x[j][m] for j in range(J)) <= w \n",
    "for m in range(M))"
   ]
  },
  {
   "cell_type": "code",
   "execution_count": 7,
   "metadata": {},
   "outputs": [
    {
     "output_type": "stream",
     "name": "stdout",
     "text": [
      "Gurobi Optimizer version 9.1.1 build v9.1.1rc0 (mac64)\n",
      "Thread count: 4 physical cores, 8 logical processors, using up to 8 threads\n",
      "Optimize a model with 30 rows, 46 columns and 120 nonzeros\n",
      "Model fingerprint: 0xb569022c\n",
      "Variable types: 1 continuous, 45 integer (45 binary)\n",
      "Coefficient statistics:\n",
      "  Matrix range     [1e+00, 2e+01]\n",
      "  Objective range  [1e+00, 1e+00]\n",
      "  Bounds range     [1e+00, 1e+00]\n",
      "  RHS range        [1e+00, 1e+00]\n",
      "Found heuristic solution: objective 72.0000000\n",
      "Presolve time: 0.00s\n",
      "Presolved: 30 rows, 46 columns, 120 nonzeros\n",
      "Variable types: 0 continuous, 46 integer (45 binary)\n",
      "\n",
      "Root relaxation: objective 4.266667e+01, 25 iterations, 0.00 seconds\n",
      "\n",
      "    Nodes    |    Current Node    |     Objective Bounds      |     Work\n",
      " Expl Unexpl |  Obj  Depth IntInf | Incumbent    BestBd   Gap | It/Node Time\n",
      "\n",
      "     0     0   42.66667    0    5   72.00000   42.66667  40.7%     -    0s\n",
      "H    0     0                      45.0000000   42.66667  5.19%     -    0s\n",
      "H    0     0                      44.0000000   42.66667  3.03%     -    0s\n",
      "H    0     0                      43.0000000   42.66667  0.78%     -    0s\n",
      "\n",
      "Cutting planes:\n",
      "  Gomory: 1\n",
      "  MIR: 1\n",
      "  StrongCG: 1\n",
      "  GUB cover: 2\n",
      "  RLT: 2\n",
      "  Relax-and-lift: 1\n",
      "\n",
      "Explored 1 nodes (25 simplex iterations) in 0.05 seconds\n",
      "Thread count was 8 (of 8 available processors)\n",
      "\n",
      "Solution count 4: 43 44 45 72 \n",
      "\n",
      "Optimal solution found (tolerance 1.00e-04)\n",
      "Best objective 4.300000000000e+01, best bound 4.300000000000e+01, gap 0.0000%\n"
     ]
    }
   ],
   "source": [
    "model.optimize()"
   ]
  },
  {
   "cell_type": "code",
   "execution_count": 8,
   "metadata": {},
   "outputs": [
    {
     "output_type": "stream",
     "name": "stdout",
     "text": [
      "x[0, 0]: 1\nx[0, 1]: 0\nx[0, 2]: 0\nx[1, 0]: 0\nx[1, 1]: 0\nx[1, 2]: 1\nx[2, 0]: 0\nx[2, 1]: 0\nx[2, 2]: 1\nx[3, 0]: 0\nx[3, 1]: 0\nx[3, 2]: 1\nx[4, 0]: 1\nx[4, 1]: 0\nx[4, 2]: 0\nx[5, 0]: 0\nx[5, 1]: 1\nx[5, 2]: 0\nx[6, 0]: 0\nx[6, 1]: 1\nx[6, 2]: 0\nx[7, 0]: 0\nx[7, 1]: 1\nx[7, 2]: 0\nx[8, 0]: 0\nx[8, 1]: 0\nx[8, 2]: 1\nx[9, 0]: 1\nx[9, 1]: 0\nx[9, 2]: 0\nx[10, 0]: 0\nx[10, 1]: 1\nx[10, 2]: 0\nx[11, 0]: 0\nx[11, 1]: 1\nx[11, 2]: 0\nx[12, 0]: 0\nx[12, 1]: 0\nx[12, 2]: 1\nx[13, 0]: 1\nx[13, 1]: 0\nx[13, 2]: 0\nx[14, 0]: 1\nx[14, 1]: 0\nx[14, 2]: 0\nw: 43\nObj value: 43.00000\n"
     ]
    }
   ],
   "source": [
    "for v in model.getVars():\n",
    "    print(f'{v.varName}: {int(v.x)}')\n",
    "print(f'Obj value: {model.ObjVal:.5f}')"
   ]
  },
  {
   "cell_type": "code",
   "execution_count": 9,
   "metadata": {},
   "outputs": [],
   "source": [
    "L = [\n",
    "[0,\t3,\t4,\t6,\t8,\t9,\t8,\t10],\n",
    "[3,\t0,\t5,\t4,\t8,  6,\t12,\t9],\n",
    "[4,\t5,\t0,\t2,\t2,\t3,\t5,\t7],\n",
    "[6,\t4,\t2,\t0,\t3,\t2,\t5,\t4],\n",
    "[8,\t8,\t2,\t3,\t0,\t2,\t2,\t4],\n",
    "[9,\t6,\t3,\t2,\t2,\t0,\t3,\t2],\n",
    "[8,\t12,\t5,\t5,\t2,\t3,\t0,\t2],\n",
    "[10, 9,\t7,\t4,\t4,\t2,\t2,\t0],\n",
    "]\n",
    "P = [40, 30, 35, 20, 15, 50, 45, 60]\n",
    "D = 8\n",
    "M = 3"
   ]
  },
  {
   "cell_type": "code",
   "execution_count": 10,
   "metadata": {},
   "outputs": [
    {
     "output_type": "stream",
     "name": "stdout",
     "text": [
      "[{0}, {1}, {2}, {3}, {4}, {5}, {6}, {7}]\n[600 540 420 240 320 360 360 400]\n3\n[{0, 3}, {1, 3}, {2, 3}, {3}, {3, 4}, {3, 5}, {3, 6}, {3, 7}]\n[240 240 240 240 240 240 240 240]\n0\n[{0, 3}, {0, 1, 3}, {0, 2, 3}, {0, 3}, {0, 3, 4}, {0, 3, 5}, {0, 3, 6}, {0, 3, 7}]\n[240 240 240 240 240 135 120 100]\n7\n100\n"
     ]
    }
   ],
   "source": [
    "def get_max_weighted(have_car_set):\n",
    "    have_car_list = [0,0,0,0,0,0,0,0]\n",
    "    for i in have_car_set: have_car_list[i] = 1\n",
    "    dist = [L[i] for i in range(D) if have_car_list[i] == 1]\n",
    "    dist = [min(i) for i in zip(*dist)]\n",
    "    weighted = [i*j for i, j in zip(dist, P)]\n",
    "    # print(weighted)\n",
    "    return max(weighted)\n",
    "\n",
    "have_car_set = set()\n",
    "for m in range(3):\n",
    "    try_sets = [set(have_car_set) for _ in range(D)]\n",
    "    for i, _set in enumerate(try_sets): _set.add(i)\n",
    "    print(try_sets)\n",
    "    print(np.array([get_max_weighted(_set) for _set in try_sets]))\n",
    "    index = np.argmin(np.array([get_max_weighted(_set) for _set in try_sets]))\n",
    "    print(index)\n",
    "    have_car_set.add(index)\n",
    "print(get_max_weighted(have_car_set))\n"
   ]
  },
  {
   "cell_type": "code",
   "execution_count": 11,
   "metadata": {},
   "outputs": [
    {
     "output_type": "execute_result",
     "data": {
      "text/plain": [
       "[{1, 5}, {2, 5}, {3, 5}]"
      ]
     },
     "metadata": {},
     "execution_count": 11
    }
   ],
   "source": [
    "a = [{1},{2},{3}]\n",
    "for i in a:\n",
    "    i.add(5)\n",
    "a"
   ]
  },
  {
   "cell_type": "code",
   "execution_count": 12,
   "metadata": {},
   "outputs": [],
   "source": [
    "model2 = gb.Model('P2')"
   ]
  },
  {
   "cell_type": "code",
   "execution_count": 13,
   "metadata": {},
   "outputs": [],
   "source": [
    "x = model2.addVars(D, vtype=GRB.BINARY, name='x')\n",
    "y = model2.addVars(D, D, vtype=GRB.BINARY, name='y')\n",
    "w = model2.addVars(D, vtype=GRB.CONTINUOUS, name='w')\n",
    "omega = model2.addVar(vtype=GRB.CONTINUOUS, name='omega')"
   ]
  },
  {
   "cell_type": "code",
   "execution_count": 14,
   "metadata": {},
   "outputs": [],
   "source": [
    "model2.setObjective(\n",
    "    omega,\n",
    "    GRB.MINIMIZE\n",
    ")"
   ]
  },
  {
   "cell_type": "code",
   "execution_count": 15,
   "metadata": {},
   "outputs": [],
   "source": [
    "_ = model2.addConstrs(\n",
    "    w[i] * P[i] <= omega\n",
    "for i in range(D)\n",
    "for j in range(D))\n",
    "\n",
    "_ = model2.addConstr(\n",
    "    quicksum(x[i] for i in range(D)) == M\n",
    ")\n",
    "\n",
    "_ = model2.addConstrs(\n",
    "    y[i,j] <= x[j]\n",
    "for i in range(D)\n",
    "for j in range(D))\n",
    "\n",
    "_ = model2.addConstrs(\n",
    "    quicksum(y[i,j] for j in range(D)) == 1\n",
    "for i in range(D))\n",
    "\n",
    "_ = model2.addConstrs(\n",
    "    w[i] == quicksum(L[i][j] * y[i,j] for j in range(D))\n",
    "for i in range(D))\n",
    "\n"
   ]
  },
  {
   "cell_type": "code",
   "execution_count": 16,
   "metadata": {},
   "outputs": [
    {
     "output_type": "stream",
     "name": "stdout",
     "text": [
      "Gurobi Optimizer version 9.1.1 build v9.1.1rc0 (mac64)\n",
      "Thread count: 4 physical cores, 8 logical processors, using up to 8 threads\n",
      "Optimize a model with 145 rows, 81 columns and 392 nonzeros\n",
      "Model fingerprint: 0x1d879426\n",
      "Variable types: 9 continuous, 72 integer (72 binary)\n",
      "Coefficient statistics:\n",
      "  Matrix range     [1e+00, 6e+01]\n",
      "  Objective range  [1e+00, 1e+00]\n",
      "  Bounds range     [1e+00, 1e+00]\n",
      "  RHS range        [1e+00, 3e+00]\n",
      "Found heuristic solution: objective 240.0000000\n",
      "Presolve removed 78 rows and 22 columns\n",
      "Presolve time: 0.00s\n",
      "Presolved: 67 rows, 59 columns, 208 nonzeros\n",
      "Variable types: 0 continuous, 59 integer (58 binary)\n",
      "\n",
      "Root relaxation: objective 5.137139e+01, 34 iterations, 0.00 seconds\n",
      "\n",
      "    Nodes    |    Current Node    |     Objective Bounds      |     Work\n",
      " Expl Unexpl |  Obj  Depth IntInf | Incumbent    BestBd   Gap | It/Node Time\n",
      "\n",
      "     0     0   51.37139    0   26  240.00000   51.37139  78.6%     -    0s\n",
      "H    0     0                     100.0000000   51.37139  48.6%     -    0s\n",
      "     0     0   51.37139    0   26  100.00000   51.37139  48.6%     -    0s\n",
      "\n",
      "Explored 1 nodes (49 simplex iterations) in 0.04 seconds\n",
      "Thread count was 8 (of 8 available processors)\n",
      "\n",
      "Solution count 2: 100 240 \n",
      "\n",
      "Optimal solution found (tolerance 1.00e-04)\n",
      "Best objective 1.000000000000e+02, best bound 1.000000000000e+02, gap 0.0000%\n"
     ]
    }
   ],
   "source": [
    "model2.optimize()"
   ]
  },
  {
   "cell_type": "code",
   "execution_count": 17,
   "metadata": {},
   "outputs": [
    {
     "output_type": "stream",
     "name": "stdout",
     "text": [
      "x[0]: 1\n",
      "x[1]: 0\n",
      "x[2]: 1\n",
      "x[3]: 0\n",
      "x[4]: 0\n",
      "x[5]: 0\n",
      "x[6]: 0\n",
      "x[7]: 1\n",
      "y[0,0]: 1\n",
      "y[0,1]: 0\n",
      "y[0,2]: 0\n",
      "y[0,3]: 0\n",
      "y[0,4]: 0\n",
      "y[0,5]: 0\n",
      "y[0,6]: 0\n",
      "y[0,7]: 0\n",
      "y[1,0]: 1\n",
      "y[1,1]: 0\n",
      "y[1,2]: 0\n",
      "y[1,3]: 0\n",
      "y[1,4]: 0\n",
      "y[1,5]: 0\n",
      "y[1,6]: 0\n",
      "y[1,7]: 0\n",
      "y[2,0]: 0\n",
      "y[2,1]: 0\n",
      "y[2,2]: 1\n",
      "y[2,3]: 0\n",
      "y[2,4]: 0\n",
      "y[2,5]: 0\n",
      "y[2,6]: 0\n",
      "y[2,7]: 0\n",
      "y[3,0]: 0\n",
      "y[3,1]: 0\n",
      "y[3,2]: 1\n",
      "y[3,3]: 0\n",
      "y[3,4]: 0\n",
      "y[3,5]: 0\n",
      "y[3,6]: 0\n",
      "y[3,7]: 0\n",
      "y[4,0]: 0\n",
      "y[4,1]: 0\n",
      "y[4,2]: 1\n",
      "y[4,3]: 0\n",
      "y[4,4]: 0\n",
      "y[4,5]: 0\n",
      "y[4,6]: 0\n",
      "y[4,7]: 0\n",
      "y[5,0]: 0\n",
      "y[5,1]: 0\n",
      "y[5,2]: 0\n",
      "y[5,3]: 0\n",
      "y[5,4]: 0\n",
      "y[5,5]: 0\n",
      "y[5,6]: 0\n",
      "y[5,7]: 1\n",
      "y[6,0]: 0\n",
      "y[6,1]: 0\n",
      "y[6,2]: 0\n",
      "y[6,3]: 0\n",
      "y[6,4]: 0\n",
      "y[6,5]: 0\n",
      "y[6,6]: 0\n",
      "y[6,7]: 1\n",
      "y[7,0]: 0\n",
      "y[7,1]: 0\n",
      "y[7,2]: 0\n",
      "y[7,3]: 0\n",
      "y[7,4]: 0\n",
      "y[7,5]: 0\n",
      "y[7,6]: 0\n",
      "y[7,7]: 1\n",
      "w[0]: 0\n",
      "w[1]: 3\n",
      "w[2]: 0\n",
      "w[3]: 2\n",
      "w[4]: 2\n",
      "w[5]: 2\n",
      "w[6]: 2\n",
      "w[7]: 0\n",
      "omega: 100\n",
      "Obj value: 100.00000\n"
     ]
    }
   ],
   "source": [
    "for v in model2.getVars():\n",
    "    print(f'{v.varName}: {int(v.x)}')\n",
    "print(f'Obj value: {model2.ObjVal:.5f}')"
   ]
  },
  {
   "cell_type": "code",
   "execution_count": null,
   "metadata": {},
   "outputs": [],
   "source": []
  }
 ]
}